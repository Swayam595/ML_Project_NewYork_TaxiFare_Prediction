{
 "cells": [
  {
   "cell_type": "code",
   "execution_count": 1,
   "metadata": {
    "scrolled": false
   },
   "outputs": [],
   "source": [
    "import numpy as np\n",
    "import pandas as pd\n",
    "import matplotlib.pyplot as plt\n",
    "from sklearn.svm import SVR\n",
    "import seaborn as sns\n",
    "\n",
    "sns.set()\n",
    "\n",
    "data = pd.read_csv('D:\\\\Projects\\Data\\\\train.csv',nrows = 10000000)       # Contains the first 10 million data from \n",
    "                                                    # where we are going to select 1 million ramdom data for training and\n",
    "                                                    # ten thousand data for deveopment \n"
   ]
  },
  {
   "cell_type": "code",
   "execution_count": 2,
   "metadata": {},
   "outputs": [],
   "source": [
    "# Creation of training set , development set and test set \n",
    "training_set = data.sample(n = 1000000 , replace = False)    # 1 million random data from same distribution\n",
    "dev_set = data.sample(n = 10000 , replace = False)           # 10000 random data from same distribution\n",
    "test_set =  pd.read_csv('D:\\\\Projects\\\\Data\\\\test.csv')      # Actual test data must be used to check only after getting \n",
    "                                                             # a good final hypothesis"
   ]
  },
  {
   "cell_type": "markdown",
   "metadata": {},
   "source": [
    "# Shape, data type, data sample and descriptive statistics of Training Set"
   ]
  },
  {
   "cell_type": "markdown",
   "metadata": {},
   "source": [
    "### Shape"
   ]
  },
  {
   "cell_type": "code",
   "execution_count": 3,
   "metadata": {},
   "outputs": [
    {
     "data": {
      "text/plain": [
       "(1000000, 8)"
      ]
     },
     "execution_count": 3,
     "metadata": {},
     "output_type": "execute_result"
    }
   ],
   "source": [
    "training_set.shape"
   ]
  },
  {
   "cell_type": "markdown",
   "metadata": {},
   "source": [
    "### Data Type"
   ]
  },
  {
   "cell_type": "code",
   "execution_count": 4,
   "metadata": {},
   "outputs": [
    {
     "data": {
      "text/plain": [
       "key                   object\n",
       "fare_amount          float64\n",
       "pickup_datetime       object\n",
       "pickup_longitude     float64\n",
       "pickup_latitude      float64\n",
       "dropoff_longitude    float64\n",
       "dropoff_latitude     float64\n",
       "passenger_count        int64\n",
       "dtype: object"
      ]
     },
     "execution_count": 4,
     "metadata": {},
     "output_type": "execute_result"
    }
   ],
   "source": [
    "training_set.dtypes"
   ]
  },
  {
   "cell_type": "markdown",
   "metadata": {},
   "source": [
    "### Data Sample"
   ]
  },
  {
   "cell_type": "code",
   "execution_count": 5,
   "metadata": {},
   "outputs": [
    {
     "data": {
      "text/html": [
       "<div>\n",
       "<style scoped>\n",
       "    .dataframe tbody tr th:only-of-type {\n",
       "        vertical-align: middle;\n",
       "    }\n",
       "\n",
       "    .dataframe tbody tr th {\n",
       "        vertical-align: top;\n",
       "    }\n",
       "\n",
       "    .dataframe thead th {\n",
       "        text-align: right;\n",
       "    }\n",
       "</style>\n",
       "<table border=\"1\" class=\"dataframe\">\n",
       "  <thead>\n",
       "    <tr style=\"text-align: right;\">\n",
       "      <th></th>\n",
       "      <th>key</th>\n",
       "      <th>fare_amount</th>\n",
       "      <th>pickup_datetime</th>\n",
       "      <th>pickup_longitude</th>\n",
       "      <th>pickup_latitude</th>\n",
       "      <th>dropoff_longitude</th>\n",
       "      <th>dropoff_latitude</th>\n",
       "      <th>passenger_count</th>\n",
       "    </tr>\n",
       "  </thead>\n",
       "  <tbody>\n",
       "    <tr>\n",
       "      <th>855090</th>\n",
       "      <td>2012-01-02 01:54:04.0000002</td>\n",
       "      <td>10.1</td>\n",
       "      <td>2012-01-02 01:54:04 UTC</td>\n",
       "      <td>-73.984661</td>\n",
       "      <td>40.763839</td>\n",
       "      <td>-73.950463</td>\n",
       "      <td>40.776449</td>\n",
       "      <td>1</td>\n",
       "    </tr>\n",
       "    <tr>\n",
       "      <th>9971457</th>\n",
       "      <td>2012-07-21 16:47:19.0000004</td>\n",
       "      <td>16.5</td>\n",
       "      <td>2012-07-21 16:47:19 UTC</td>\n",
       "      <td>-73.955019</td>\n",
       "      <td>40.769497</td>\n",
       "      <td>-73.961001</td>\n",
       "      <td>40.719281</td>\n",
       "      <td>1</td>\n",
       "    </tr>\n",
       "    <tr>\n",
       "      <th>3654940</th>\n",
       "      <td>2009-03-28 23:50:00.000000197</td>\n",
       "      <td>4.5</td>\n",
       "      <td>2009-03-28 23:50:00 UTC</td>\n",
       "      <td>-73.982275</td>\n",
       "      <td>40.731617</td>\n",
       "      <td>-73.974527</td>\n",
       "      <td>40.742427</td>\n",
       "      <td>2</td>\n",
       "    </tr>\n",
       "    <tr>\n",
       "      <th>9693586</th>\n",
       "      <td>2013-07-18 20:46:00.000000139</td>\n",
       "      <td>10.0</td>\n",
       "      <td>2013-07-18 20:46:00 UTC</td>\n",
       "      <td>-73.993910</td>\n",
       "      <td>40.761937</td>\n",
       "      <td>-74.003985</td>\n",
       "      <td>40.742045</td>\n",
       "      <td>1</td>\n",
       "    </tr>\n",
       "    <tr>\n",
       "      <th>10945</th>\n",
       "      <td>2011-10-21 13:01:35.0000005</td>\n",
       "      <td>4.9</td>\n",
       "      <td>2011-10-21 13:01:35 UTC</td>\n",
       "      <td>-73.983456</td>\n",
       "      <td>40.744779</td>\n",
       "      <td>-73.998862</td>\n",
       "      <td>40.738509</td>\n",
       "      <td>1</td>\n",
       "    </tr>\n",
       "  </tbody>\n",
       "</table>\n",
       "</div>"
      ],
      "text/plain": [
       "                                   key  fare_amount          pickup_datetime  \\\n",
       "855090     2012-01-02 01:54:04.0000002         10.1  2012-01-02 01:54:04 UTC   \n",
       "9971457    2012-07-21 16:47:19.0000004         16.5  2012-07-21 16:47:19 UTC   \n",
       "3654940  2009-03-28 23:50:00.000000197          4.5  2009-03-28 23:50:00 UTC   \n",
       "9693586  2013-07-18 20:46:00.000000139         10.0  2013-07-18 20:46:00 UTC   \n",
       "10945      2011-10-21 13:01:35.0000005          4.9  2011-10-21 13:01:35 UTC   \n",
       "\n",
       "         pickup_longitude  pickup_latitude  dropoff_longitude  \\\n",
       "855090         -73.984661        40.763839         -73.950463   \n",
       "9971457        -73.955019        40.769497         -73.961001   \n",
       "3654940        -73.982275        40.731617         -73.974527   \n",
       "9693586        -73.993910        40.761937         -74.003985   \n",
       "10945          -73.983456        40.744779         -73.998862   \n",
       "\n",
       "         dropoff_latitude  passenger_count  \n",
       "855090          40.776449                1  \n",
       "9971457         40.719281                1  \n",
       "3654940         40.742427                2  \n",
       "9693586         40.742045                1  \n",
       "10945           40.738509                1  "
      ]
     },
     "execution_count": 5,
     "metadata": {},
     "output_type": "execute_result"
    }
   ],
   "source": [
    "training_set.head()"
   ]
  },
  {
   "cell_type": "markdown",
   "metadata": {},
   "source": [
    "### Descriptive statistics "
   ]
  },
  {
   "cell_type": "code",
   "execution_count": 6,
   "metadata": {},
   "outputs": [
    {
     "data": {
      "text/html": [
       "<div>\n",
       "<style scoped>\n",
       "    .dataframe tbody tr th:only-of-type {\n",
       "        vertical-align: middle;\n",
       "    }\n",
       "\n",
       "    .dataframe tbody tr th {\n",
       "        vertical-align: top;\n",
       "    }\n",
       "\n",
       "    .dataframe thead th {\n",
       "        text-align: right;\n",
       "    }\n",
       "</style>\n",
       "<table border=\"1\" class=\"dataframe\">\n",
       "  <thead>\n",
       "    <tr style=\"text-align: right;\">\n",
       "      <th></th>\n",
       "      <th>fare_amount</th>\n",
       "      <th>pickup_longitude</th>\n",
       "      <th>pickup_latitude</th>\n",
       "      <th>dropoff_longitude</th>\n",
       "      <th>dropoff_latitude</th>\n",
       "      <th>passenger_count</th>\n",
       "    </tr>\n",
       "  </thead>\n",
       "  <tbody>\n",
       "    <tr>\n",
       "      <th>count</th>\n",
       "      <td>1000000.000000</td>\n",
       "      <td>1000000.000000</td>\n",
       "      <td>1000000.000000</td>\n",
       "      <td>999997.000000</td>\n",
       "      <td>999997.000000</td>\n",
       "      <td>1000000.000000</td>\n",
       "    </tr>\n",
       "    <tr>\n",
       "      <th>mean</th>\n",
       "      <td>11.348336</td>\n",
       "      <td>-72.522261</td>\n",
       "      <td>39.915717</td>\n",
       "      <td>-72.513593</td>\n",
       "      <td>39.922887</td>\n",
       "      <td>1.684712</td>\n",
       "    </tr>\n",
       "    <tr>\n",
       "      <th>std</th>\n",
       "      <td>9.812035</td>\n",
       "      <td>14.364761</td>\n",
       "      <td>9.627374</td>\n",
       "      <td>13.165044</td>\n",
       "      <td>9.773479</td>\n",
       "      <td>1.308746</td>\n",
       "    </tr>\n",
       "    <tr>\n",
       "      <th>min</th>\n",
       "      <td>-107.750000</td>\n",
       "      <td>-3384.693027</td>\n",
       "      <td>-3457.346617</td>\n",
       "      <td>-3018.391810</td>\n",
       "      <td>-2452.082942</td>\n",
       "      <td>0.000000</td>\n",
       "    </tr>\n",
       "    <tr>\n",
       "      <th>25%</th>\n",
       "      <td>6.000000</td>\n",
       "      <td>-73.992073</td>\n",
       "      <td>40.734885</td>\n",
       "      <td>-73.991399</td>\n",
       "      <td>40.733990</td>\n",
       "      <td>1.000000</td>\n",
       "    </tr>\n",
       "    <tr>\n",
       "      <th>50%</th>\n",
       "      <td>8.500000</td>\n",
       "      <td>-73.981806</td>\n",
       "      <td>40.752608</td>\n",
       "      <td>-73.980160</td>\n",
       "      <td>40.753093</td>\n",
       "      <td>1.000000</td>\n",
       "    </tr>\n",
       "    <tr>\n",
       "      <th>75%</th>\n",
       "      <td>12.500000</td>\n",
       "      <td>-73.967116</td>\n",
       "      <td>40.767135</td>\n",
       "      <td>-73.963659</td>\n",
       "      <td>40.768054</td>\n",
       "      <td>2.000000</td>\n",
       "    </tr>\n",
       "    <tr>\n",
       "      <th>max</th>\n",
       "      <td>698.160000</td>\n",
       "      <td>2816.000388</td>\n",
       "      <td>2977.030610</td>\n",
       "      <td>2820.124643</td>\n",
       "      <td>3320.686797</td>\n",
       "      <td>49.000000</td>\n",
       "    </tr>\n",
       "  </tbody>\n",
       "</table>\n",
       "</div>"
      ],
      "text/plain": [
       "          fare_amount  pickup_longitude  pickup_latitude  dropoff_longitude  \\\n",
       "count  1000000.000000    1000000.000000   1000000.000000      999997.000000   \n",
       "mean        11.348336        -72.522261        39.915717         -72.513593   \n",
       "std          9.812035         14.364761         9.627374          13.165044   \n",
       "min       -107.750000      -3384.693027     -3457.346617       -3018.391810   \n",
       "25%          6.000000        -73.992073        40.734885         -73.991399   \n",
       "50%          8.500000        -73.981806        40.752608         -73.980160   \n",
       "75%         12.500000        -73.967116        40.767135         -73.963659   \n",
       "max        698.160000       2816.000388      2977.030610        2820.124643   \n",
       "\n",
       "       dropoff_latitude  passenger_count  \n",
       "count     999997.000000   1000000.000000  \n",
       "mean          39.922887         1.684712  \n",
       "std            9.773479         1.308746  \n",
       "min        -2452.082942         0.000000  \n",
       "25%           40.733990         1.000000  \n",
       "50%           40.753093         1.000000  \n",
       "75%           40.768054         2.000000  \n",
       "max         3320.686797        49.000000  "
      ]
     },
     "execution_count": 6,
     "metadata": {},
     "output_type": "execute_result"
    }
   ],
   "source": [
    "training_set.describe()"
   ]
  },
  {
   "cell_type": "markdown",
   "metadata": {},
   "source": [
    "# Shape, data type, data sample and descriptive statistics of Development Set"
   ]
  },
  {
   "cell_type": "markdown",
   "metadata": {},
   "source": [
    "### Shape"
   ]
  },
  {
   "cell_type": "code",
   "execution_count": 7,
   "metadata": {},
   "outputs": [
    {
     "data": {
      "text/plain": [
       "(10000, 8)"
      ]
     },
     "execution_count": 7,
     "metadata": {},
     "output_type": "execute_result"
    }
   ],
   "source": [
    "dev_set.shape"
   ]
  },
  {
   "cell_type": "markdown",
   "metadata": {},
   "source": [
    "### Data Type"
   ]
  },
  {
   "cell_type": "code",
   "execution_count": 8,
   "metadata": {},
   "outputs": [
    {
     "data": {
      "text/plain": [
       "key                   object\n",
       "fare_amount          float64\n",
       "pickup_datetime       object\n",
       "pickup_longitude     float64\n",
       "pickup_latitude      float64\n",
       "dropoff_longitude    float64\n",
       "dropoff_latitude     float64\n",
       "passenger_count        int64\n",
       "dtype: object"
      ]
     },
     "execution_count": 8,
     "metadata": {},
     "output_type": "execute_result"
    }
   ],
   "source": [
    "dev_set.dtypes"
   ]
  },
  {
   "cell_type": "markdown",
   "metadata": {},
   "source": [
    "### Data Sample"
   ]
  },
  {
   "cell_type": "code",
   "execution_count": 9,
   "metadata": {},
   "outputs": [
    {
     "data": {
      "text/html": [
       "<div>\n",
       "<style scoped>\n",
       "    .dataframe tbody tr th:only-of-type {\n",
       "        vertical-align: middle;\n",
       "    }\n",
       "\n",
       "    .dataframe tbody tr th {\n",
       "        vertical-align: top;\n",
       "    }\n",
       "\n",
       "    .dataframe thead th {\n",
       "        text-align: right;\n",
       "    }\n",
       "</style>\n",
       "<table border=\"1\" class=\"dataframe\">\n",
       "  <thead>\n",
       "    <tr style=\"text-align: right;\">\n",
       "      <th></th>\n",
       "      <th>key</th>\n",
       "      <th>fare_amount</th>\n",
       "      <th>pickup_datetime</th>\n",
       "      <th>pickup_longitude</th>\n",
       "      <th>pickup_latitude</th>\n",
       "      <th>dropoff_longitude</th>\n",
       "      <th>dropoff_latitude</th>\n",
       "      <th>passenger_count</th>\n",
       "    </tr>\n",
       "  </thead>\n",
       "  <tbody>\n",
       "    <tr>\n",
       "      <th>5244569</th>\n",
       "      <td>2010-02-09 16:35:00.000000166</td>\n",
       "      <td>5.7</td>\n",
       "      <td>2010-02-09 16:35:00 UTC</td>\n",
       "      <td>-74.003492</td>\n",
       "      <td>40.732592</td>\n",
       "      <td>-74.007947</td>\n",
       "      <td>40.746337</td>\n",
       "      <td>5</td>\n",
       "    </tr>\n",
       "    <tr>\n",
       "      <th>295180</th>\n",
       "      <td>2014-04-11 22:08:00.000000209</td>\n",
       "      <td>17.0</td>\n",
       "      <td>2014-04-11 22:08:00 UTC</td>\n",
       "      <td>-74.008712</td>\n",
       "      <td>40.704240</td>\n",
       "      <td>-73.991392</td>\n",
       "      <td>40.765097</td>\n",
       "      <td>1</td>\n",
       "    </tr>\n",
       "    <tr>\n",
       "      <th>2945732</th>\n",
       "      <td>2015-05-30 09:30:28.0000005</td>\n",
       "      <td>8.0</td>\n",
       "      <td>2015-05-30 09:30:28 UTC</td>\n",
       "      <td>0.000000</td>\n",
       "      <td>0.000000</td>\n",
       "      <td>0.000000</td>\n",
       "      <td>0.000000</td>\n",
       "      <td>1</td>\n",
       "    </tr>\n",
       "    <tr>\n",
       "      <th>8714204</th>\n",
       "      <td>2010-10-29 08:35:22.0000005</td>\n",
       "      <td>14.9</td>\n",
       "      <td>2010-10-29 08:35:22 UTC</td>\n",
       "      <td>-73.953303</td>\n",
       "      <td>40.770056</td>\n",
       "      <td>-73.996696</td>\n",
       "      <td>40.752987</td>\n",
       "      <td>1</td>\n",
       "    </tr>\n",
       "    <tr>\n",
       "      <th>8187288</th>\n",
       "      <td>2013-01-30 14:44:15.0000004</td>\n",
       "      <td>11.0</td>\n",
       "      <td>2013-01-30 14:44:15 UTC</td>\n",
       "      <td>-74.006202</td>\n",
       "      <td>40.745421</td>\n",
       "      <td>-73.970428</td>\n",
       "      <td>40.767823</td>\n",
       "      <td>2</td>\n",
       "    </tr>\n",
       "  </tbody>\n",
       "</table>\n",
       "</div>"
      ],
      "text/plain": [
       "                                   key  fare_amount          pickup_datetime  \\\n",
       "5244569  2010-02-09 16:35:00.000000166          5.7  2010-02-09 16:35:00 UTC   \n",
       "295180   2014-04-11 22:08:00.000000209         17.0  2014-04-11 22:08:00 UTC   \n",
       "2945732    2015-05-30 09:30:28.0000005          8.0  2015-05-30 09:30:28 UTC   \n",
       "8714204    2010-10-29 08:35:22.0000005         14.9  2010-10-29 08:35:22 UTC   \n",
       "8187288    2013-01-30 14:44:15.0000004         11.0  2013-01-30 14:44:15 UTC   \n",
       "\n",
       "         pickup_longitude  pickup_latitude  dropoff_longitude  \\\n",
       "5244569        -74.003492        40.732592         -74.007947   \n",
       "295180         -74.008712        40.704240         -73.991392   \n",
       "2945732          0.000000         0.000000           0.000000   \n",
       "8714204        -73.953303        40.770056         -73.996696   \n",
       "8187288        -74.006202        40.745421         -73.970428   \n",
       "\n",
       "         dropoff_latitude  passenger_count  \n",
       "5244569         40.746337                5  \n",
       "295180          40.765097                1  \n",
       "2945732          0.000000                1  \n",
       "8714204         40.752987                1  \n",
       "8187288         40.767823                2  "
      ]
     },
     "execution_count": 9,
     "metadata": {},
     "output_type": "execute_result"
    }
   ],
   "source": [
    "dev_set.head()"
   ]
  },
  {
   "cell_type": "markdown",
   "metadata": {},
   "source": [
    "### Descriptive statistics "
   ]
  },
  {
   "cell_type": "code",
   "execution_count": 10,
   "metadata": {},
   "outputs": [
    {
     "data": {
      "text/html": [
       "<div>\n",
       "<style scoped>\n",
       "    .dataframe tbody tr th:only-of-type {\n",
       "        vertical-align: middle;\n",
       "    }\n",
       "\n",
       "    .dataframe tbody tr th {\n",
       "        vertical-align: top;\n",
       "    }\n",
       "\n",
       "    .dataframe thead th {\n",
       "        text-align: right;\n",
       "    }\n",
       "</style>\n",
       "<table border=\"1\" class=\"dataframe\">\n",
       "  <thead>\n",
       "    <tr style=\"text-align: right;\">\n",
       "      <th></th>\n",
       "      <th>fare_amount</th>\n",
       "      <th>pickup_longitude</th>\n",
       "      <th>pickup_latitude</th>\n",
       "      <th>dropoff_longitude</th>\n",
       "      <th>dropoff_latitude</th>\n",
       "      <th>passenger_count</th>\n",
       "    </tr>\n",
       "  </thead>\n",
       "  <tbody>\n",
       "    <tr>\n",
       "      <th>count</th>\n",
       "      <td>10000.000000</td>\n",
       "      <td>10000.000000</td>\n",
       "      <td>10000.000000</td>\n",
       "      <td>10000.000000</td>\n",
       "      <td>10000.000000</td>\n",
       "      <td>10000.000000</td>\n",
       "    </tr>\n",
       "    <tr>\n",
       "      <th>mean</th>\n",
       "      <td>11.264614</td>\n",
       "      <td>-72.346512</td>\n",
       "      <td>39.830728</td>\n",
       "      <td>-72.389374</td>\n",
       "      <td>39.851452</td>\n",
       "      <td>1.668300</td>\n",
       "    </tr>\n",
       "    <tr>\n",
       "      <th>std</th>\n",
       "      <td>9.803225</td>\n",
       "      <td>10.982678</td>\n",
       "      <td>6.462518</td>\n",
       "      <td>10.837367</td>\n",
       "      <td>6.400837</td>\n",
       "      <td>1.295161</td>\n",
       "    </tr>\n",
       "    <tr>\n",
       "      <th>min</th>\n",
       "      <td>2.500000</td>\n",
       "      <td>-74.689831</td>\n",
       "      <td>-73.991782</td>\n",
       "      <td>-74.689831</td>\n",
       "      <td>-73.990025</td>\n",
       "      <td>0.000000</td>\n",
       "    </tr>\n",
       "    <tr>\n",
       "      <th>25%</th>\n",
       "      <td>6.000000</td>\n",
       "      <td>-73.991707</td>\n",
       "      <td>40.734783</td>\n",
       "      <td>-73.991078</td>\n",
       "      <td>40.735098</td>\n",
       "      <td>1.000000</td>\n",
       "    </tr>\n",
       "    <tr>\n",
       "      <th>50%</th>\n",
       "      <td>8.500000</td>\n",
       "      <td>-73.981553</td>\n",
       "      <td>40.752913</td>\n",
       "      <td>-73.979336</td>\n",
       "      <td>40.753637</td>\n",
       "      <td>1.000000</td>\n",
       "    </tr>\n",
       "    <tr>\n",
       "      <th>75%</th>\n",
       "      <td>12.500000</td>\n",
       "      <td>-73.966913</td>\n",
       "      <td>40.767293</td>\n",
       "      <td>-73.962580</td>\n",
       "      <td>40.768377</td>\n",
       "      <td>2.000000</td>\n",
       "    </tr>\n",
       "    <tr>\n",
       "      <th>max</th>\n",
       "      <td>220.000000</td>\n",
       "      <td>40.788180</td>\n",
       "      <td>42.092885</td>\n",
       "      <td>40.798935</td>\n",
       "      <td>42.082682</td>\n",
       "      <td>6.000000</td>\n",
       "    </tr>\n",
       "  </tbody>\n",
       "</table>\n",
       "</div>"
      ],
      "text/plain": [
       "        fare_amount  pickup_longitude  pickup_latitude  dropoff_longitude  \\\n",
       "count  10000.000000      10000.000000     10000.000000       10000.000000   \n",
       "mean      11.264614        -72.346512        39.830728         -72.389374   \n",
       "std        9.803225         10.982678         6.462518          10.837367   \n",
       "min        2.500000        -74.689831       -73.991782         -74.689831   \n",
       "25%        6.000000        -73.991707        40.734783         -73.991078   \n",
       "50%        8.500000        -73.981553        40.752913         -73.979336   \n",
       "75%       12.500000        -73.966913        40.767293         -73.962580   \n",
       "max      220.000000         40.788180        42.092885          40.798935   \n",
       "\n",
       "       dropoff_latitude  passenger_count  \n",
       "count      10000.000000     10000.000000  \n",
       "mean          39.851452         1.668300  \n",
       "std            6.400837         1.295161  \n",
       "min          -73.990025         0.000000  \n",
       "25%           40.735098         1.000000  \n",
       "50%           40.753637         1.000000  \n",
       "75%           40.768377         2.000000  \n",
       "max           42.082682         6.000000  "
      ]
     },
     "execution_count": 10,
     "metadata": {},
     "output_type": "execute_result"
    }
   ],
   "source": [
    "dev_set.describe()"
   ]
  },
  {
   "cell_type": "markdown",
   "metadata": {},
   "source": [
    "# Shape, data type, data sample and descriptive statistics of Test Set\n",
    "\n"
   ]
  },
  {
   "cell_type": "markdown",
   "metadata": {},
   "source": [
    "### Shape"
   ]
  },
  {
   "cell_type": "code",
   "execution_count": 11,
   "metadata": {},
   "outputs": [
    {
     "data": {
      "text/plain": [
       "(9914, 7)"
      ]
     },
     "execution_count": 11,
     "metadata": {},
     "output_type": "execute_result"
    }
   ],
   "source": [
    "test_set.shape"
   ]
  },
  {
   "cell_type": "markdown",
   "metadata": {},
   "source": [
    "### Data Type"
   ]
  },
  {
   "cell_type": "code",
   "execution_count": 12,
   "metadata": {},
   "outputs": [
    {
     "data": {
      "text/plain": [
       "key                   object\n",
       "pickup_datetime       object\n",
       "pickup_longitude     float64\n",
       "pickup_latitude      float64\n",
       "dropoff_longitude    float64\n",
       "dropoff_latitude     float64\n",
       "passenger_count        int64\n",
       "dtype: object"
      ]
     },
     "execution_count": 12,
     "metadata": {},
     "output_type": "execute_result"
    }
   ],
   "source": [
    "test_set.dtypes"
   ]
  },
  {
   "cell_type": "markdown",
   "metadata": {},
   "source": [
    "### Data Sample"
   ]
  },
  {
   "cell_type": "code",
   "execution_count": 13,
   "metadata": {},
   "outputs": [
    {
     "data": {
      "text/html": [
       "<div>\n",
       "<style scoped>\n",
       "    .dataframe tbody tr th:only-of-type {\n",
       "        vertical-align: middle;\n",
       "    }\n",
       "\n",
       "    .dataframe tbody tr th {\n",
       "        vertical-align: top;\n",
       "    }\n",
       "\n",
       "    .dataframe thead th {\n",
       "        text-align: right;\n",
       "    }\n",
       "</style>\n",
       "<table border=\"1\" class=\"dataframe\">\n",
       "  <thead>\n",
       "    <tr style=\"text-align: right;\">\n",
       "      <th></th>\n",
       "      <th>key</th>\n",
       "      <th>pickup_datetime</th>\n",
       "      <th>pickup_longitude</th>\n",
       "      <th>pickup_latitude</th>\n",
       "      <th>dropoff_longitude</th>\n",
       "      <th>dropoff_latitude</th>\n",
       "      <th>passenger_count</th>\n",
       "    </tr>\n",
       "  </thead>\n",
       "  <tbody>\n",
       "    <tr>\n",
       "      <th>0</th>\n",
       "      <td>2015-01-27 13:08:24.0000002</td>\n",
       "      <td>2015-01-27 13:08:24 UTC</td>\n",
       "      <td>-73.973320</td>\n",
       "      <td>40.763805</td>\n",
       "      <td>-73.981430</td>\n",
       "      <td>40.743835</td>\n",
       "      <td>1</td>\n",
       "    </tr>\n",
       "    <tr>\n",
       "      <th>1</th>\n",
       "      <td>2015-01-27 13:08:24.0000003</td>\n",
       "      <td>2015-01-27 13:08:24 UTC</td>\n",
       "      <td>-73.986862</td>\n",
       "      <td>40.719383</td>\n",
       "      <td>-73.998886</td>\n",
       "      <td>40.739201</td>\n",
       "      <td>1</td>\n",
       "    </tr>\n",
       "    <tr>\n",
       "      <th>2</th>\n",
       "      <td>2011-10-08 11:53:44.0000002</td>\n",
       "      <td>2011-10-08 11:53:44 UTC</td>\n",
       "      <td>-73.982524</td>\n",
       "      <td>40.751260</td>\n",
       "      <td>-73.979654</td>\n",
       "      <td>40.746139</td>\n",
       "      <td>1</td>\n",
       "    </tr>\n",
       "    <tr>\n",
       "      <th>3</th>\n",
       "      <td>2012-12-01 21:12:12.0000002</td>\n",
       "      <td>2012-12-01 21:12:12 UTC</td>\n",
       "      <td>-73.981160</td>\n",
       "      <td>40.767807</td>\n",
       "      <td>-73.990448</td>\n",
       "      <td>40.751635</td>\n",
       "      <td>1</td>\n",
       "    </tr>\n",
       "    <tr>\n",
       "      <th>4</th>\n",
       "      <td>2012-12-01 21:12:12.0000003</td>\n",
       "      <td>2012-12-01 21:12:12 UTC</td>\n",
       "      <td>-73.966046</td>\n",
       "      <td>40.789775</td>\n",
       "      <td>-73.988565</td>\n",
       "      <td>40.744427</td>\n",
       "      <td>1</td>\n",
       "    </tr>\n",
       "  </tbody>\n",
       "</table>\n",
       "</div>"
      ],
      "text/plain": [
       "                           key          pickup_datetime  pickup_longitude  \\\n",
       "0  2015-01-27 13:08:24.0000002  2015-01-27 13:08:24 UTC        -73.973320   \n",
       "1  2015-01-27 13:08:24.0000003  2015-01-27 13:08:24 UTC        -73.986862   \n",
       "2  2011-10-08 11:53:44.0000002  2011-10-08 11:53:44 UTC        -73.982524   \n",
       "3  2012-12-01 21:12:12.0000002  2012-12-01 21:12:12 UTC        -73.981160   \n",
       "4  2012-12-01 21:12:12.0000003  2012-12-01 21:12:12 UTC        -73.966046   \n",
       "\n",
       "   pickup_latitude  dropoff_longitude  dropoff_latitude  passenger_count  \n",
       "0        40.763805         -73.981430         40.743835                1  \n",
       "1        40.719383         -73.998886         40.739201                1  \n",
       "2        40.751260         -73.979654         40.746139                1  \n",
       "3        40.767807         -73.990448         40.751635                1  \n",
       "4        40.789775         -73.988565         40.744427                1  "
      ]
     },
     "execution_count": 13,
     "metadata": {},
     "output_type": "execute_result"
    }
   ],
   "source": [
    "test_set.head()"
   ]
  },
  {
   "cell_type": "markdown",
   "metadata": {},
   "source": [
    "### Descriptive statistics "
   ]
  },
  {
   "cell_type": "code",
   "execution_count": 14,
   "metadata": {},
   "outputs": [
    {
     "data": {
      "text/html": [
       "<div>\n",
       "<style scoped>\n",
       "    .dataframe tbody tr th:only-of-type {\n",
       "        vertical-align: middle;\n",
       "    }\n",
       "\n",
       "    .dataframe tbody tr th {\n",
       "        vertical-align: top;\n",
       "    }\n",
       "\n",
       "    .dataframe thead th {\n",
       "        text-align: right;\n",
       "    }\n",
       "</style>\n",
       "<table border=\"1\" class=\"dataframe\">\n",
       "  <thead>\n",
       "    <tr style=\"text-align: right;\">\n",
       "      <th></th>\n",
       "      <th>pickup_longitude</th>\n",
       "      <th>pickup_latitude</th>\n",
       "      <th>dropoff_longitude</th>\n",
       "      <th>dropoff_latitude</th>\n",
       "      <th>passenger_count</th>\n",
       "    </tr>\n",
       "  </thead>\n",
       "  <tbody>\n",
       "    <tr>\n",
       "      <th>count</th>\n",
       "      <td>9914.000000</td>\n",
       "      <td>9914.000000</td>\n",
       "      <td>9914.000000</td>\n",
       "      <td>9914.000000</td>\n",
       "      <td>9914.000000</td>\n",
       "    </tr>\n",
       "    <tr>\n",
       "      <th>mean</th>\n",
       "      <td>-73.974722</td>\n",
       "      <td>40.751041</td>\n",
       "      <td>-73.973657</td>\n",
       "      <td>40.751743</td>\n",
       "      <td>1.671273</td>\n",
       "    </tr>\n",
       "    <tr>\n",
       "      <th>std</th>\n",
       "      <td>0.042774</td>\n",
       "      <td>0.033541</td>\n",
       "      <td>0.039072</td>\n",
       "      <td>0.035435</td>\n",
       "      <td>1.278747</td>\n",
       "    </tr>\n",
       "    <tr>\n",
       "      <th>min</th>\n",
       "      <td>-74.252193</td>\n",
       "      <td>40.573143</td>\n",
       "      <td>-74.263242</td>\n",
       "      <td>40.568973</td>\n",
       "      <td>1.000000</td>\n",
       "    </tr>\n",
       "    <tr>\n",
       "      <th>25%</th>\n",
       "      <td>-73.992501</td>\n",
       "      <td>40.736125</td>\n",
       "      <td>-73.991247</td>\n",
       "      <td>40.735254</td>\n",
       "      <td>1.000000</td>\n",
       "    </tr>\n",
       "    <tr>\n",
       "      <th>50%</th>\n",
       "      <td>-73.982326</td>\n",
       "      <td>40.753051</td>\n",
       "      <td>-73.980015</td>\n",
       "      <td>40.754065</td>\n",
       "      <td>1.000000</td>\n",
       "    </tr>\n",
       "    <tr>\n",
       "      <th>75%</th>\n",
       "      <td>-73.968013</td>\n",
       "      <td>40.767113</td>\n",
       "      <td>-73.964059</td>\n",
       "      <td>40.768757</td>\n",
       "      <td>2.000000</td>\n",
       "    </tr>\n",
       "    <tr>\n",
       "      <th>max</th>\n",
       "      <td>-72.986532</td>\n",
       "      <td>41.709555</td>\n",
       "      <td>-72.990963</td>\n",
       "      <td>41.696683</td>\n",
       "      <td>6.000000</td>\n",
       "    </tr>\n",
       "  </tbody>\n",
       "</table>\n",
       "</div>"
      ],
      "text/plain": [
       "       pickup_longitude  pickup_latitude  dropoff_longitude  dropoff_latitude  \\\n",
       "count       9914.000000      9914.000000        9914.000000       9914.000000   \n",
       "mean         -73.974722        40.751041         -73.973657         40.751743   \n",
       "std            0.042774         0.033541           0.039072          0.035435   \n",
       "min          -74.252193        40.573143         -74.263242         40.568973   \n",
       "25%          -73.992501        40.736125         -73.991247         40.735254   \n",
       "50%          -73.982326        40.753051         -73.980015         40.754065   \n",
       "75%          -73.968013        40.767113         -73.964059         40.768757   \n",
       "max          -72.986532        41.709555         -72.990963         41.696683   \n",
       "\n",
       "       passenger_count  \n",
       "count      9914.000000  \n",
       "mean          1.671273  \n",
       "std           1.278747  \n",
       "min           1.000000  \n",
       "25%           1.000000  \n",
       "50%           1.000000  \n",
       "75%           2.000000  \n",
       "max           6.000000  "
      ]
     },
     "execution_count": 14,
     "metadata": {},
     "output_type": "execute_result"
    }
   ],
   "source": [
    "test_set.describe()"
   ]
  },
  {
   "cell_type": "markdown",
   "metadata": {},
   "source": [
    "# Data Cleansing"
   ]
  },
  {
   "cell_type": "markdown",
   "metadata": {},
   "source": [
    "## Removing Null values from the datasets"
   ]
  },
  {
   "cell_type": "code",
   "execution_count": 15,
   "metadata": {},
   "outputs": [
    {
     "data": {
      "text/plain": [
       "dropoff_latitude     3\n",
       "dropoff_longitude    3\n",
       "passenger_count      0\n",
       "pickup_latitude      0\n",
       "pickup_longitude     0\n",
       "pickup_datetime      0\n",
       "fare_amount          0\n",
       "key                  0\n",
       "dtype: int64"
      ]
     },
     "execution_count": 15,
     "metadata": {},
     "output_type": "execute_result"
    }
   ],
   "source": [
    "training_set.isnull().sum().sort_values(ascending = False)"
   ]
  },
  {
   "cell_type": "code",
   "execution_count": 16,
   "metadata": {},
   "outputs": [
    {
     "data": {
      "text/plain": [
       "passenger_count      0\n",
       "dropoff_latitude     0\n",
       "dropoff_longitude    0\n",
       "pickup_latitude      0\n",
       "pickup_longitude     0\n",
       "pickup_datetime      0\n",
       "fare_amount          0\n",
       "key                  0\n",
       "dtype: int64"
      ]
     },
     "execution_count": 16,
     "metadata": {},
     "output_type": "execute_result"
    }
   ],
   "source": [
    "dev_set.isnull().sum().sort_values(ascending = False)"
   ]
  },
  {
   "cell_type": "code",
   "execution_count": 17,
   "metadata": {},
   "outputs": [
    {
     "data": {
      "text/plain": [
       "passenger_count      0\n",
       "dropoff_latitude     0\n",
       "dropoff_longitude    0\n",
       "pickup_latitude      0\n",
       "pickup_longitude     0\n",
       "pickup_datetime      0\n",
       "key                  0\n",
       "dtype: int64"
      ]
     },
     "execution_count": 17,
     "metadata": {},
     "output_type": "execute_result"
    }
   ],
   "source": [
    "test_set.isnull().sum().sort_values(ascending = False)"
   ]
  },
  {
   "cell_type": "code",
   "execution_count": 18,
   "metadata": {},
   "outputs": [
    {
     "data": {
      "text/plain": [
       "(999997, 8)"
      ]
     },
     "execution_count": 18,
     "metadata": {},
     "output_type": "execute_result"
    }
   ],
   "source": [
    "training_set = training_set.drop(training_set[training_set.isnull().any(1)].index , axis = 0)\n",
    "training_set.shape"
   ]
  },
  {
   "cell_type": "code",
   "execution_count": null,
   "metadata": {},
   "outputs": [
    {
     "data": {
      "text/plain": [
       "(10000, 8)"
      ]
     },
     "execution_count": 19,
     "metadata": {},
     "output_type": "execute_result"
    }
   ],
   "source": [
    "dev_set = dev_set.drop(dev_set[dev_set.isnull().any(1)].index , axis = 0)\n",
    "dev_set.shape"
   ]
  },
  {
   "cell_type": "code",
   "execution_count": null,
   "metadata": {},
   "outputs": [
    {
     "data": {
      "text/plain": [
       "(9914, 7)"
      ]
     },
     "execution_count": 20,
     "metadata": {},
     "output_type": "execute_result"
    }
   ],
   "source": [
    "test_set = test_set.drop(test_set[test_set.isnull().any(1)].index , axis = 0)\n",
    "test_set.shape"
   ]
  },
  {
   "cell_type": "markdown",
   "metadata": {},
   "source": [
    "## Removing rows from the dataset having invalid data "
   ]
  },
  {
   "cell_type": "code",
   "execution_count": null,
   "metadata": {},
   "outputs": [
    {
     "data": {
      "text/html": [
       "<div>\n",
       "<style scoped>\n",
       "    .dataframe tbody tr th:only-of-type {\n",
       "        vertical-align: middle;\n",
       "    }\n",
       "\n",
       "    .dataframe tbody tr th {\n",
       "        vertical-align: top;\n",
       "    }\n",
       "\n",
       "    .dataframe thead th {\n",
       "        text-align: right;\n",
       "    }\n",
       "</style>\n",
       "<table border=\"1\" class=\"dataframe\">\n",
       "  <thead>\n",
       "    <tr style=\"text-align: right;\">\n",
       "      <th></th>\n",
       "      <th>fare_amount</th>\n",
       "      <th>pickup_longitude</th>\n",
       "      <th>pickup_latitude</th>\n",
       "      <th>dropoff_longitude</th>\n",
       "      <th>dropoff_latitude</th>\n",
       "      <th>passenger_count</th>\n",
       "    </tr>\n",
       "  </thead>\n",
       "  <tbody>\n",
       "    <tr>\n",
       "      <th>count</th>\n",
       "      <td>999997.000000</td>\n",
       "      <td>999997.000000</td>\n",
       "      <td>999997.000000</td>\n",
       "      <td>999997.000000</td>\n",
       "      <td>999997.000000</td>\n",
       "      <td>999997.000000</td>\n",
       "    </tr>\n",
       "    <tr>\n",
       "      <th>mean</th>\n",
       "      <td>11.348311</td>\n",
       "      <td>-72.522257</td>\n",
       "      <td>39.915715</td>\n",
       "      <td>-72.513593</td>\n",
       "      <td>39.922887</td>\n",
       "      <td>1.684717</td>\n",
       "    </tr>\n",
       "    <tr>\n",
       "      <th>std</th>\n",
       "      <td>9.812034</td>\n",
       "      <td>14.364782</td>\n",
       "      <td>9.627389</td>\n",
       "      <td>13.165044</td>\n",
       "      <td>9.773479</td>\n",
       "      <td>1.308745</td>\n",
       "    </tr>\n",
       "    <tr>\n",
       "      <th>min</th>\n",
       "      <td>-107.750000</td>\n",
       "      <td>-3384.693027</td>\n",
       "      <td>-3457.346617</td>\n",
       "      <td>-3018.391810</td>\n",
       "      <td>-2452.082942</td>\n",
       "      <td>0.000000</td>\n",
       "    </tr>\n",
       "    <tr>\n",
       "      <th>25%</th>\n",
       "      <td>6.000000</td>\n",
       "      <td>-73.992073</td>\n",
       "      <td>40.734885</td>\n",
       "      <td>-73.991399</td>\n",
       "      <td>40.733990</td>\n",
       "      <td>1.000000</td>\n",
       "    </tr>\n",
       "    <tr>\n",
       "      <th>50%</th>\n",
       "      <td>8.500000</td>\n",
       "      <td>-73.981806</td>\n",
       "      <td>40.752608</td>\n",
       "      <td>-73.980160</td>\n",
       "      <td>40.753093</td>\n",
       "      <td>1.000000</td>\n",
       "    </tr>\n",
       "    <tr>\n",
       "      <th>75%</th>\n",
       "      <td>12.500000</td>\n",
       "      <td>-73.967116</td>\n",
       "      <td>40.767135</td>\n",
       "      <td>-73.963659</td>\n",
       "      <td>40.768054</td>\n",
       "      <td>2.000000</td>\n",
       "    </tr>\n",
       "    <tr>\n",
       "      <th>max</th>\n",
       "      <td>698.160000</td>\n",
       "      <td>2816.000388</td>\n",
       "      <td>2977.030610</td>\n",
       "      <td>2820.124643</td>\n",
       "      <td>3320.686797</td>\n",
       "      <td>49.000000</td>\n",
       "    </tr>\n",
       "  </tbody>\n",
       "</table>\n",
       "</div>"
      ],
      "text/plain": [
       "         fare_amount  pickup_longitude  pickup_latitude  dropoff_longitude  \\\n",
       "count  999997.000000     999997.000000    999997.000000      999997.000000   \n",
       "mean       11.348311        -72.522257        39.915715         -72.513593   \n",
       "std         9.812034         14.364782         9.627389          13.165044   \n",
       "min      -107.750000      -3384.693027     -3457.346617       -3018.391810   \n",
       "25%         6.000000        -73.992073        40.734885         -73.991399   \n",
       "50%         8.500000        -73.981806        40.752608         -73.980160   \n",
       "75%        12.500000        -73.967116        40.767135         -73.963659   \n",
       "max       698.160000       2816.000388      2977.030610        2820.124643   \n",
       "\n",
       "       dropoff_latitude  passenger_count  \n",
       "count     999997.000000    999997.000000  \n",
       "mean          39.922887         1.684717  \n",
       "std            9.773479         1.308745  \n",
       "min        -2452.082942         0.000000  \n",
       "25%           40.733990         1.000000  \n",
       "50%           40.753093         1.000000  \n",
       "75%           40.768054         2.000000  \n",
       "max         3320.686797        49.000000  "
      ]
     },
     "execution_count": 21,
     "metadata": {},
     "output_type": "execute_result"
    }
   ],
   "source": [
    "training_set.describe()"
   ]
  },
  {
   "cell_type": "code",
   "execution_count": null,
   "metadata": {},
   "outputs": [
    {
     "data": {
      "text/plain": [
       "count    999997.000000\n",
       "mean         11.348311\n",
       "std           9.812034\n",
       "min        -107.750000\n",
       "25%           6.000000\n",
       "50%           8.500000\n",
       "75%          12.500000\n",
       "max         698.160000\n",
       "Name: fare_amount, dtype: float64"
      ]
     },
     "execution_count": 22,
     "metadata": {},
     "output_type": "execute_result"
    }
   ],
   "source": [
    "training_set['fare_amount'].describe()"
   ]
  },
  {
   "cell_type": "markdown",
   "metadata": {},
   "source": [
    "### Training_set is having negative value fare so we will remove those rows"
   ]
  },
  {
   "cell_type": "code",
   "execution_count": null,
   "metadata": {},
   "outputs": [
    {
     "data": {
      "text/plain": [
       "Counter({False: 999946, True: 51})"
      ]
     },
     "execution_count": 23,
     "metadata": {},
     "output_type": "execute_result"
    }
   ],
   "source": [
    "from collections import Counter\n",
    "Counter(training_set['fare_amount']<0)"
   ]
  },
  {
   "cell_type": "code",
   "execution_count": null,
   "metadata": {},
   "outputs": [
    {
     "data": {
      "text/plain": [
       "(999946, 8)"
      ]
     },
     "execution_count": 24,
     "metadata": {},
     "output_type": "execute_result"
    }
   ],
   "source": [
    "training_set = training_set.drop(training_set[training_set['fare_amount']<0].index, axis=0)\n",
    "training_set.shape"
   ]
  },
  {
   "cell_type": "code",
   "execution_count": null,
   "metadata": {},
   "outputs": [
    {
     "data": {
      "text/plain": [
       "count    999946.000000\n",
       "mean         11.349589\n",
       "std           9.809648\n",
       "min           0.000000\n",
       "25%           6.000000\n",
       "50%           8.500000\n",
       "75%          12.500000\n",
       "max         698.160000\n",
       "Name: fare_amount, dtype: float64"
      ]
     },
     "execution_count": 25,
     "metadata": {},
     "output_type": "execute_result"
    }
   ],
   "source": [
    "training_set['fare_amount'].describe()"
   ]
  },
  {
   "cell_type": "markdown",
   "metadata": {},
   "source": [
    "### Passenger count is greater than  7"
   ]
  },
  {
   "cell_type": "code",
   "execution_count": null,
   "metadata": {},
   "outputs": [
    {
     "data": {
      "text/plain": [
       "count    999946.000000\n",
       "mean          1.684680\n",
       "std           1.308714\n",
       "min           0.000000\n",
       "25%           1.000000\n",
       "50%           1.000000\n",
       "75%           2.000000\n",
       "max          49.000000\n",
       "Name: passenger_count, dtype: float64"
      ]
     },
     "execution_count": 26,
     "metadata": {},
     "output_type": "execute_result"
    }
   ],
   "source": [
    "training_set['passenger_count'].describe()"
   ]
  },
  {
   "cell_type": "code",
   "execution_count": null,
   "metadata": {},
   "outputs": [],
   "source": [
    "#len(training_set[training_set['passenger_count']>7])"
   ]
  },
  {
   "cell_type": "code",
   "execution_count": null,
   "metadata": {},
   "outputs": [
    {
     "data": {
      "text/plain": [
       "Counter({False: 999945, True: 1})"
      ]
     },
     "execution_count": 28,
     "metadata": {},
     "output_type": "execute_result"
    }
   ],
   "source": [
    "#### Since we are restricting to yellow cabs or medallion taxi. So we are considering \n",
    "#### a maximum of 7 passengers can operate in a taxi at a time.\n",
    "Counter(training_set['passenger_count']>8)"
   ]
  },
  {
   "cell_type": "code",
   "execution_count": null,
   "metadata": {},
   "outputs": [
    {
     "data": {
      "text/html": [
       "<div>\n",
       "<style scoped>\n",
       "    .dataframe tbody tr th:only-of-type {\n",
       "        vertical-align: middle;\n",
       "    }\n",
       "\n",
       "    .dataframe tbody tr th {\n",
       "        vertical-align: top;\n",
       "    }\n",
       "\n",
       "    .dataframe thead th {\n",
       "        text-align: right;\n",
       "    }\n",
       "</style>\n",
       "<table border=\"1\" class=\"dataframe\">\n",
       "  <thead>\n",
       "    <tr style=\"text-align: right;\">\n",
       "      <th></th>\n",
       "      <th>fare_amount</th>\n",
       "      <th>pickup_longitude</th>\n",
       "      <th>pickup_latitude</th>\n",
       "      <th>dropoff_longitude</th>\n",
       "      <th>dropoff_latitude</th>\n",
       "      <th>passenger_count</th>\n",
       "    </tr>\n",
       "  </thead>\n",
       "  <tbody>\n",
       "    <tr>\n",
       "      <th>count</th>\n",
       "      <td>999945.000000</td>\n",
       "      <td>999945.000000</td>\n",
       "      <td>999945.000000</td>\n",
       "      <td>999945.000000</td>\n",
       "      <td>999945.000000</td>\n",
       "      <td>999945.000000</td>\n",
       "    </tr>\n",
       "    <tr>\n",
       "      <th>mean</th>\n",
       "      <td>11.349597</td>\n",
       "      <td>-72.522552</td>\n",
       "      <td>39.915875</td>\n",
       "      <td>-72.513813</td>\n",
       "      <td>39.923007</td>\n",
       "      <td>1.684633</td>\n",
       "    </tr>\n",
       "    <tr>\n",
       "      <th>std</th>\n",
       "      <td>9.809649</td>\n",
       "      <td>14.364237</td>\n",
       "      <td>9.627223</td>\n",
       "      <td>13.164584</td>\n",
       "      <td>9.773405</td>\n",
       "      <td>1.307859</td>\n",
       "    </tr>\n",
       "    <tr>\n",
       "      <th>min</th>\n",
       "      <td>0.000000</td>\n",
       "      <td>-3384.693027</td>\n",
       "      <td>-3457.346617</td>\n",
       "      <td>-3018.391810</td>\n",
       "      <td>-2452.082942</td>\n",
       "      <td>0.000000</td>\n",
       "    </tr>\n",
       "    <tr>\n",
       "      <th>25%</th>\n",
       "      <td>6.000000</td>\n",
       "      <td>-73.992073</td>\n",
       "      <td>40.734885</td>\n",
       "      <td>-73.991399</td>\n",
       "      <td>40.733990</td>\n",
       "      <td>1.000000</td>\n",
       "    </tr>\n",
       "    <tr>\n",
       "      <th>50%</th>\n",
       "      <td>8.500000</td>\n",
       "      <td>-73.981806</td>\n",
       "      <td>40.752608</td>\n",
       "      <td>-73.980161</td>\n",
       "      <td>40.753093</td>\n",
       "      <td>1.000000</td>\n",
       "    </tr>\n",
       "    <tr>\n",
       "      <th>75%</th>\n",
       "      <td>12.500000</td>\n",
       "      <td>-73.967117</td>\n",
       "      <td>40.767135</td>\n",
       "      <td>-73.963660</td>\n",
       "      <td>40.768054</td>\n",
       "      <td>2.000000</td>\n",
       "    </tr>\n",
       "    <tr>\n",
       "      <th>max</th>\n",
       "      <td>698.160000</td>\n",
       "      <td>2816.000388</td>\n",
       "      <td>2977.030610</td>\n",
       "      <td>2820.124643</td>\n",
       "      <td>3320.686797</td>\n",
       "      <td>6.000000</td>\n",
       "    </tr>\n",
       "  </tbody>\n",
       "</table>\n",
       "</div>"
      ],
      "text/plain": [
       "         fare_amount  pickup_longitude  pickup_latitude  dropoff_longitude  \\\n",
       "count  999945.000000     999945.000000    999945.000000      999945.000000   \n",
       "mean       11.349597        -72.522552        39.915875         -72.513813   \n",
       "std         9.809649         14.364237         9.627223          13.164584   \n",
       "min         0.000000      -3384.693027     -3457.346617       -3018.391810   \n",
       "25%         6.000000        -73.992073        40.734885         -73.991399   \n",
       "50%         8.500000        -73.981806        40.752608         -73.980161   \n",
       "75%        12.500000        -73.967117        40.767135         -73.963660   \n",
       "max       698.160000       2816.000388      2977.030610        2820.124643   \n",
       "\n",
       "       dropoff_latitude  passenger_count  \n",
       "count     999945.000000    999945.000000  \n",
       "mean          39.923007         1.684633  \n",
       "std            9.773405         1.307859  \n",
       "min        -2452.082942         0.000000  \n",
       "25%           40.733990         1.000000  \n",
       "50%           40.753093         1.000000  \n",
       "75%           40.768054         2.000000  \n",
       "max         3320.686797         6.000000  "
      ]
     },
     "execution_count": 29,
     "metadata": {},
     "output_type": "execute_result"
    }
   ],
   "source": [
    "training_set = training_set.drop(training_set[training_set['passenger_count']>8].index, axis = 0)\n",
    "training_set.describe()"
   ]
  },
  {
   "cell_type": "markdown",
   "metadata": {},
   "source": [
    "### Removing invalid Longitude and Latitude "
   ]
  },
  {
   "cell_type": "code",
   "execution_count": null,
   "metadata": {},
   "outputs": [
    {
     "data": {
      "text/html": [
       "<div>\n",
       "<style scoped>\n",
       "    .dataframe tbody tr th:only-of-type {\n",
       "        vertical-align: middle;\n",
       "    }\n",
       "\n",
       "    .dataframe tbody tr th {\n",
       "        vertical-align: top;\n",
       "    }\n",
       "\n",
       "    .dataframe thead th {\n",
       "        text-align: right;\n",
       "    }\n",
       "</style>\n",
       "<table border=\"1\" class=\"dataframe\">\n",
       "  <thead>\n",
       "    <tr style=\"text-align: right;\">\n",
       "      <th></th>\n",
       "      <th>pickup_longitude</th>\n",
       "      <th>pickup_latitude</th>\n",
       "    </tr>\n",
       "  </thead>\n",
       "  <tbody>\n",
       "    <tr>\n",
       "      <th>count</th>\n",
       "      <td>999945.000000</td>\n",
       "      <td>999945.000000</td>\n",
       "    </tr>\n",
       "    <tr>\n",
       "      <th>mean</th>\n",
       "      <td>-72.522552</td>\n",
       "      <td>39.915875</td>\n",
       "    </tr>\n",
       "    <tr>\n",
       "      <th>std</th>\n",
       "      <td>14.364237</td>\n",
       "      <td>9.627223</td>\n",
       "    </tr>\n",
       "    <tr>\n",
       "      <th>min</th>\n",
       "      <td>-3384.693027</td>\n",
       "      <td>-3457.346617</td>\n",
       "    </tr>\n",
       "    <tr>\n",
       "      <th>25%</th>\n",
       "      <td>-73.992073</td>\n",
       "      <td>40.734885</td>\n",
       "    </tr>\n",
       "    <tr>\n",
       "      <th>50%</th>\n",
       "      <td>-73.981806</td>\n",
       "      <td>40.752608</td>\n",
       "    </tr>\n",
       "    <tr>\n",
       "      <th>75%</th>\n",
       "      <td>-73.967117</td>\n",
       "      <td>40.767135</td>\n",
       "    </tr>\n",
       "    <tr>\n",
       "      <th>max</th>\n",
       "      <td>2816.000388</td>\n",
       "      <td>2977.030610</td>\n",
       "    </tr>\n",
       "  </tbody>\n",
       "</table>\n",
       "</div>"
      ],
      "text/plain": [
       "       pickup_longitude  pickup_latitude\n",
       "count     999945.000000    999945.000000\n",
       "mean         -72.522552        39.915875\n",
       "std           14.364237         9.627223\n",
       "min        -3384.693027     -3457.346617\n",
       "25%          -73.992073        40.734885\n",
       "50%          -73.981806        40.752608\n",
       "75%          -73.967117        40.767135\n",
       "max         2816.000388      2977.030610"
      ]
     },
     "execution_count": 30,
     "metadata": {},
     "output_type": "execute_result"
    }
   ],
   "source": [
    "training_set[['pickup_longitude','pickup_latitude']].describe()"
   ]
  },
  {
   "cell_type": "code",
   "execution_count": null,
   "metadata": {},
   "outputs": [
    {
     "data": {
      "text/html": [
       "<div>\n",
       "<style scoped>\n",
       "    .dataframe tbody tr th:only-of-type {\n",
       "        vertical-align: middle;\n",
       "    }\n",
       "\n",
       "    .dataframe tbody tr th {\n",
       "        vertical-align: top;\n",
       "    }\n",
       "\n",
       "    .dataframe thead th {\n",
       "        text-align: right;\n",
       "    }\n",
       "</style>\n",
       "<table border=\"1\" class=\"dataframe\">\n",
       "  <thead>\n",
       "    <tr style=\"text-align: right;\">\n",
       "      <th></th>\n",
       "      <th>dropoff_longitude</th>\n",
       "      <th>dropoff_latitude</th>\n",
       "    </tr>\n",
       "  </thead>\n",
       "  <tbody>\n",
       "    <tr>\n",
       "      <th>count</th>\n",
       "      <td>999945.000000</td>\n",
       "      <td>999945.000000</td>\n",
       "    </tr>\n",
       "    <tr>\n",
       "      <th>mean</th>\n",
       "      <td>-72.513813</td>\n",
       "      <td>39.923007</td>\n",
       "    </tr>\n",
       "    <tr>\n",
       "      <th>std</th>\n",
       "      <td>13.164584</td>\n",
       "      <td>9.773405</td>\n",
       "    </tr>\n",
       "    <tr>\n",
       "      <th>min</th>\n",
       "      <td>-3018.391810</td>\n",
       "      <td>-2452.082942</td>\n",
       "    </tr>\n",
       "    <tr>\n",
       "      <th>25%</th>\n",
       "      <td>-73.991399</td>\n",
       "      <td>40.733990</td>\n",
       "    </tr>\n",
       "    <tr>\n",
       "      <th>50%</th>\n",
       "      <td>-73.980161</td>\n",
       "      <td>40.753093</td>\n",
       "    </tr>\n",
       "    <tr>\n",
       "      <th>75%</th>\n",
       "      <td>-73.963660</td>\n",
       "      <td>40.768054</td>\n",
       "    </tr>\n",
       "    <tr>\n",
       "      <th>max</th>\n",
       "      <td>2820.124643</td>\n",
       "      <td>3320.686797</td>\n",
       "    </tr>\n",
       "  </tbody>\n",
       "</table>\n",
       "</div>"
      ],
      "text/plain": [
       "       dropoff_longitude  dropoff_latitude\n",
       "count      999945.000000     999945.000000\n",
       "mean          -72.513813         39.923007\n",
       "std            13.164584          9.773405\n",
       "min         -3018.391810      -2452.082942\n",
       "25%           -73.991399         40.733990\n",
       "50%           -73.980161         40.753093\n",
       "75%           -73.963660         40.768054\n",
       "max          2820.124643       3320.686797"
      ]
     },
     "execution_count": 31,
     "metadata": {},
     "output_type": "execute_result"
    }
   ],
   "source": [
    "training_set[['dropoff_longitude','dropoff_latitude']].describe()"
   ]
  },
  {
   "cell_type": "markdown",
   "metadata": {},
   "source": [
    "#### Valid Longitude value = -180 to 180\n",
    "#### Valid Latitude value = -90 to 90\n",
    "#### Remove pickup cordinates and drop off cordinates which dont fall in this range "
   ]
  },
  {
   "cell_type": "markdown",
   "metadata": {},
   "source": [
    "##### Remove invalid pickup cordinates "
   ]
  },
  {
   "cell_type": "code",
   "execution_count": null,
   "metadata": {},
   "outputs": [
    {
     "name": "stdout",
     "output_type": "stream",
     "text": [
      "Number of invalid pickup cordinates =  31\n"
     ]
    }
   ],
   "source": [
    "print(\"Number of invalid pickup cordinates = \",len((training_set[training_set['pickup_latitude']<-90])|(training_set[training_set['pickup_latitude']>90])|(training_set[training_set['pickup_longitude']<-180])|(training_set[training_set['pickup_longitude']>180])))"
   ]
  },
  {
   "cell_type": "code",
   "execution_count": null,
   "metadata": {
    "scrolled": true
   },
   "outputs": [
    {
     "data": {
      "text/plain": [
       "(999914, 8)"
      ]
     },
     "execution_count": 33,
     "metadata": {},
     "output_type": "execute_result"
    }
   ],
   "source": [
    "training_set = training_set.drop(((training_set[training_set['pickup_latitude']<-90])|(training_set[training_set['pickup_latitude']>90])|(training_set[training_set['pickup_longitude']<-180])|(training_set[training_set['pickup_longitude']>180])).index, axis=0)\n",
    "training_set.shape"
   ]
  },
  {
   "cell_type": "markdown",
   "metadata": {},
   "source": [
    "##### Remove invalid drop off cordinates  "
   ]
  },
  {
   "cell_type": "code",
   "execution_count": null,
   "metadata": {},
   "outputs": [
    {
     "name": "stdout",
     "output_type": "stream",
     "text": [
      "Number of invalid drop off cordinates =  16\n"
     ]
    }
   ],
   "source": [
    "print(\"Number of invalid drop off cordinates = \",len((training_set[training_set['dropoff_latitude']<-90])|(training_set[training_set['dropoff_latitude']>90])|(training_set[training_set['dropoff_longitude']<-180])|(training_set[training_set['dropoff_longitude']>180])))"
   ]
  },
  {
   "cell_type": "code",
   "execution_count": null,
   "metadata": {},
   "outputs": [
    {
     "data": {
      "text/plain": [
       "(999898, 8)"
      ]
     },
     "execution_count": 35,
     "metadata": {},
     "output_type": "execute_result"
    }
   ],
   "source": [
    "training_set = training_set.drop(((training_set[training_set['dropoff_latitude']<-90])|(training_set[training_set['dropoff_latitude']>90])|(training_set[training_set['dropoff_longitude']<-180])|(training_set[training_set['dropoff_longitude']>180])).index, axis=0)\n",
    "training_set.shape"
   ]
  },
  {
   "cell_type": "code",
   "execution_count": null,
   "metadata": {},
   "outputs": [
    {
     "data": {
      "text/html": [
       "<div>\n",
       "<style scoped>\n",
       "    .dataframe tbody tr th:only-of-type {\n",
       "        vertical-align: middle;\n",
       "    }\n",
       "\n",
       "    .dataframe tbody tr th {\n",
       "        vertical-align: top;\n",
       "    }\n",
       "\n",
       "    .dataframe thead th {\n",
       "        text-align: right;\n",
       "    }\n",
       "</style>\n",
       "<table border=\"1\" class=\"dataframe\">\n",
       "  <thead>\n",
       "    <tr style=\"text-align: right;\">\n",
       "      <th></th>\n",
       "      <th>fare_amount</th>\n",
       "      <th>pickup_longitude</th>\n",
       "      <th>pickup_latitude</th>\n",
       "      <th>dropoff_longitude</th>\n",
       "      <th>dropoff_latitude</th>\n",
       "      <th>passenger_count</th>\n",
       "    </tr>\n",
       "  </thead>\n",
       "  <tbody>\n",
       "    <tr>\n",
       "      <th>count</th>\n",
       "      <td>999898.000000</td>\n",
       "      <td>999898.000000</td>\n",
       "      <td>999898.000000</td>\n",
       "      <td>999898.000000</td>\n",
       "      <td>999898.000000</td>\n",
       "      <td>999898.000000</td>\n",
       "    </tr>\n",
       "    <tr>\n",
       "      <th>mean</th>\n",
       "      <td>11.349522</td>\n",
       "      <td>-72.502160</td>\n",
       "      <td>39.917967</td>\n",
       "      <td>-72.501077</td>\n",
       "      <td>39.917432</td>\n",
       "      <td>1.684637</td>\n",
       "    </tr>\n",
       "    <tr>\n",
       "      <th>std</th>\n",
       "      <td>9.809585</td>\n",
       "      <td>10.449922</td>\n",
       "      <td>6.133895</td>\n",
       "      <td>10.451032</td>\n",
       "      <td>6.136519</td>\n",
       "      <td>1.307861</td>\n",
       "    </tr>\n",
       "    <tr>\n",
       "      <th>min</th>\n",
       "      <td>0.000000</td>\n",
       "      <td>-121.915237</td>\n",
       "      <td>-74.016132</td>\n",
       "      <td>-121.915237</td>\n",
       "      <td>-74.024062</td>\n",
       "      <td>0.000000</td>\n",
       "    </tr>\n",
       "    <tr>\n",
       "      <th>25%</th>\n",
       "      <td>6.000000</td>\n",
       "      <td>-73.992073</td>\n",
       "      <td>40.734886</td>\n",
       "      <td>-73.991398</td>\n",
       "      <td>40.733990</td>\n",
       "      <td>1.000000</td>\n",
       "    </tr>\n",
       "    <tr>\n",
       "      <th>50%</th>\n",
       "      <td>8.500000</td>\n",
       "      <td>-73.981806</td>\n",
       "      <td>40.752609</td>\n",
       "      <td>-73.980160</td>\n",
       "      <td>40.753092</td>\n",
       "      <td>1.000000</td>\n",
       "    </tr>\n",
       "    <tr>\n",
       "      <th>75%</th>\n",
       "      <td>12.500000</td>\n",
       "      <td>-73.967117</td>\n",
       "      <td>40.767135</td>\n",
       "      <td>-73.963660</td>\n",
       "      <td>40.768053</td>\n",
       "      <td>2.000000</td>\n",
       "    </tr>\n",
       "    <tr>\n",
       "      <th>max</th>\n",
       "      <td>698.160000</td>\n",
       "      <td>40.848542</td>\n",
       "      <td>74.007413</td>\n",
       "      <td>45.581619</td>\n",
       "      <td>73.960608</td>\n",
       "      <td>6.000000</td>\n",
       "    </tr>\n",
       "  </tbody>\n",
       "</table>\n",
       "</div>"
      ],
      "text/plain": [
       "         fare_amount  pickup_longitude  pickup_latitude  dropoff_longitude  \\\n",
       "count  999898.000000     999898.000000    999898.000000      999898.000000   \n",
       "mean       11.349522        -72.502160        39.917967         -72.501077   \n",
       "std         9.809585         10.449922         6.133895          10.451032   \n",
       "min         0.000000       -121.915237       -74.016132        -121.915237   \n",
       "25%         6.000000        -73.992073        40.734886         -73.991398   \n",
       "50%         8.500000        -73.981806        40.752609         -73.980160   \n",
       "75%        12.500000        -73.967117        40.767135         -73.963660   \n",
       "max       698.160000         40.848542        74.007413          45.581619   \n",
       "\n",
       "       dropoff_latitude  passenger_count  \n",
       "count     999898.000000    999898.000000  \n",
       "mean          39.917432         1.684637  \n",
       "std            6.136519         1.307861  \n",
       "min          -74.024062         0.000000  \n",
       "25%           40.733990         1.000000  \n",
       "50%           40.753092         1.000000  \n",
       "75%           40.768053         2.000000  \n",
       "max           73.960608         6.000000  "
      ]
     },
     "execution_count": 36,
     "metadata": {},
     "output_type": "execute_result"
    }
   ],
   "source": [
    "training_set.describe()"
   ]
  },
  {
   "cell_type": "markdown",
   "metadata": {},
   "source": [
    "## Distance between pick up location and drop off location\n",
    "#### The distance in a sphere can be calculated when latitudes and longitudes are given by Haversine formula\n",
    "#### haversine(θ) = sin²(θ/2)\n",
    "\n",
    "#### φ is latitude, λ is longitude, R is earth’s radius (mean radius = 6,371km) to include latitude and longitude coordinates (A and B in this case).\n",
    "\n",
    "#### a = sin²((φB - φA)/2) + cos φA . cos φB . sin²((λB - λA)/2)\n",
    "\n",
    "#### c = 2 * atan2( √a, √(1−a) )\n",
    "\n",
    "#### d = R ⋅ c\n",
    "\n",
    "#### d = Haversine distance"
   ]
  },
  {
   "cell_type": "code",
   "execution_count": null,
   "metadata": {},
   "outputs": [],
   "source": [
    "def haversine_distance(data):\n",
    "    R = 6371        # Radius of earth in Kilo Meter\n",
    "    \n",
    "    pickup_data = data[['pickup_longitude','pickup_latitude']]\n",
    "    dropoff_data = data[['dropoff_longitude','dropoff_latitude']]\n",
    "    \n",
    "    phi1 = np.radians(pickup_data['pickup_latitude'])\n",
    "    phi2 = np.radians(dropoff_data['dropoff_latitude'])\n",
    "    \n",
    "    delta_phi = np.radians(dropoff_data['dropoff_latitude'] - pickup_data['pickup_latitude'])\n",
    "    delta_lambda = np.radians(dropoff_data['dropoff_longitude'] - pickup_data['pickup_longitude'])\n",
    "    \n",
    "    #a = sin²((φB - φA)/2) + cos φA . cos φB . sin²((λB - λA)/2)\n",
    "    a = np.sin((delta_phi)/2)**2 + np.cos(phi1)*np.cos(phi2)*np.sin(delta_lambda/2)**2\n",
    "    \n",
    "    #c = 2 * atan2( √a, √(1−a) )\n",
    "    c = 2 * np.arctan2(np.sqrt(a),np.sqrt(1-a))\n",
    "    d = R * c\n",
    "    \n",
    "    return d\n",
    "    "
   ]
  },
  {
   "cell_type": "code",
   "execution_count": null,
   "metadata": {
    "scrolled": false
   },
   "outputs": [],
   "source": [
    "training_set_distance = pd.DataFrame(haversine_distance(training_set) , columns=['Distance'])\n",
    "training_set = pd.concat([training_set , training_set_distance] , axis = 1)"
   ]
  },
  {
   "cell_type": "code",
   "execution_count": null,
   "metadata": {
    "scrolled": true
   },
   "outputs": [
    {
     "data": {
      "text/html": [
       "<div>\n",
       "<style scoped>\n",
       "    .dataframe tbody tr th:only-of-type {\n",
       "        vertical-align: middle;\n",
       "    }\n",
       "\n",
       "    .dataframe tbody tr th {\n",
       "        vertical-align: top;\n",
       "    }\n",
       "\n",
       "    .dataframe thead th {\n",
       "        text-align: right;\n",
       "    }\n",
       "</style>\n",
       "<table border=\"1\" class=\"dataframe\">\n",
       "  <thead>\n",
       "    <tr style=\"text-align: right;\">\n",
       "      <th></th>\n",
       "      <th>key</th>\n",
       "      <th>fare_amount</th>\n",
       "      <th>pickup_datetime</th>\n",
       "      <th>pickup_longitude</th>\n",
       "      <th>pickup_latitude</th>\n",
       "      <th>dropoff_longitude</th>\n",
       "      <th>dropoff_latitude</th>\n",
       "      <th>passenger_count</th>\n",
       "      <th>Distance</th>\n",
       "    </tr>\n",
       "  </thead>\n",
       "  <tbody>\n",
       "    <tr>\n",
       "      <th>855090</th>\n",
       "      <td>2012-01-02 01:54:04.0000002</td>\n",
       "      <td>10.1</td>\n",
       "      <td>2012-01-02 01:54:04 UTC</td>\n",
       "      <td>-73.984661</td>\n",
       "      <td>40.763839</td>\n",
       "      <td>-73.950463</td>\n",
       "      <td>40.776449</td>\n",
       "      <td>1</td>\n",
       "      <td>3.203087</td>\n",
       "    </tr>\n",
       "    <tr>\n",
       "      <th>9971457</th>\n",
       "      <td>2012-07-21 16:47:19.0000004</td>\n",
       "      <td>16.5</td>\n",
       "      <td>2012-07-21 16:47:19 UTC</td>\n",
       "      <td>-73.955019</td>\n",
       "      <td>40.769497</td>\n",
       "      <td>-73.961001</td>\n",
       "      <td>40.719281</td>\n",
       "      <td>1</td>\n",
       "      <td>5.606460</td>\n",
       "    </tr>\n",
       "    <tr>\n",
       "      <th>3654940</th>\n",
       "      <td>2009-03-28 23:50:00.000000197</td>\n",
       "      <td>4.5</td>\n",
       "      <td>2009-03-28 23:50:00 UTC</td>\n",
       "      <td>-73.982275</td>\n",
       "      <td>40.731617</td>\n",
       "      <td>-73.974527</td>\n",
       "      <td>40.742427</td>\n",
       "      <td>2</td>\n",
       "      <td>1.367842</td>\n",
       "    </tr>\n",
       "    <tr>\n",
       "      <th>9693586</th>\n",
       "      <td>2013-07-18 20:46:00.000000139</td>\n",
       "      <td>10.0</td>\n",
       "      <td>2013-07-18 20:46:00 UTC</td>\n",
       "      <td>-73.993910</td>\n",
       "      <td>40.761937</td>\n",
       "      <td>-74.003985</td>\n",
       "      <td>40.742045</td>\n",
       "      <td>1</td>\n",
       "      <td>2.369112</td>\n",
       "    </tr>\n",
       "    <tr>\n",
       "      <th>10945</th>\n",
       "      <td>2011-10-21 13:01:35.0000005</td>\n",
       "      <td>4.9</td>\n",
       "      <td>2011-10-21 13:01:35 UTC</td>\n",
       "      <td>-73.983456</td>\n",
       "      <td>40.744779</td>\n",
       "      <td>-73.998862</td>\n",
       "      <td>40.738509</td>\n",
       "      <td>1</td>\n",
       "      <td>1.473324</td>\n",
       "    </tr>\n",
       "  </tbody>\n",
       "</table>\n",
       "</div>"
      ],
      "text/plain": [
       "                                   key  fare_amount          pickup_datetime  \\\n",
       "855090     2012-01-02 01:54:04.0000002         10.1  2012-01-02 01:54:04 UTC   \n",
       "9971457    2012-07-21 16:47:19.0000004         16.5  2012-07-21 16:47:19 UTC   \n",
       "3654940  2009-03-28 23:50:00.000000197          4.5  2009-03-28 23:50:00 UTC   \n",
       "9693586  2013-07-18 20:46:00.000000139         10.0  2013-07-18 20:46:00 UTC   \n",
       "10945      2011-10-21 13:01:35.0000005          4.9  2011-10-21 13:01:35 UTC   \n",
       "\n",
       "         pickup_longitude  pickup_latitude  dropoff_longitude  \\\n",
       "855090         -73.984661        40.763839         -73.950463   \n",
       "9971457        -73.955019        40.769497         -73.961001   \n",
       "3654940        -73.982275        40.731617         -73.974527   \n",
       "9693586        -73.993910        40.761937         -74.003985   \n",
       "10945          -73.983456        40.744779         -73.998862   \n",
       "\n",
       "         dropoff_latitude  passenger_count  Distance  \n",
       "855090          40.776449                1  3.203087  \n",
       "9971457         40.719281                1  5.606460  \n",
       "3654940         40.742427                2  1.367842  \n",
       "9693586         40.742045                1  2.369112  \n",
       "10945           40.738509                1  1.473324  "
      ]
     },
     "execution_count": 39,
     "metadata": {},
     "output_type": "execute_result"
    }
   ],
   "source": [
    "training_set.head()"
   ]
  },
  {
   "cell_type": "code",
   "execution_count": null,
   "metadata": {},
   "outputs": [
    {
     "data": {
      "text/html": [
       "<div>\n",
       "<style scoped>\n",
       "    .dataframe tbody tr th:only-of-type {\n",
       "        vertical-align: middle;\n",
       "    }\n",
       "\n",
       "    .dataframe tbody tr th {\n",
       "        vertical-align: top;\n",
       "    }\n",
       "\n",
       "    .dataframe thead th {\n",
       "        text-align: right;\n",
       "    }\n",
       "</style>\n",
       "<table border=\"1\" class=\"dataframe\">\n",
       "  <thead>\n",
       "    <tr style=\"text-align: right;\">\n",
       "      <th></th>\n",
       "      <th>fare_amount</th>\n",
       "      <th>pickup_longitude</th>\n",
       "      <th>pickup_latitude</th>\n",
       "      <th>dropoff_longitude</th>\n",
       "      <th>dropoff_latitude</th>\n",
       "      <th>passenger_count</th>\n",
       "      <th>Distance</th>\n",
       "    </tr>\n",
       "  </thead>\n",
       "  <tbody>\n",
       "    <tr>\n",
       "      <th>count</th>\n",
       "      <td>999898.000000</td>\n",
       "      <td>999898.000000</td>\n",
       "      <td>999898.000000</td>\n",
       "      <td>999898.000000</td>\n",
       "      <td>999898.000000</td>\n",
       "      <td>999898.000000</td>\n",
       "      <td>999898.000000</td>\n",
       "    </tr>\n",
       "    <tr>\n",
       "      <th>mean</th>\n",
       "      <td>11.349522</td>\n",
       "      <td>-72.502160</td>\n",
       "      <td>39.917967</td>\n",
       "      <td>-72.501077</td>\n",
       "      <td>39.917432</td>\n",
       "      <td>1.684637</td>\n",
       "      <td>19.803618</td>\n",
       "    </tr>\n",
       "    <tr>\n",
       "      <th>std</th>\n",
       "      <td>9.809585</td>\n",
       "      <td>10.449922</td>\n",
       "      <td>6.133895</td>\n",
       "      <td>10.451032</td>\n",
       "      <td>6.136519</td>\n",
       "      <td>1.307861</td>\n",
       "      <td>370.636095</td>\n",
       "    </tr>\n",
       "    <tr>\n",
       "      <th>min</th>\n",
       "      <td>0.000000</td>\n",
       "      <td>-121.915237</td>\n",
       "      <td>-74.016132</td>\n",
       "      <td>-121.915237</td>\n",
       "      <td>-74.024062</td>\n",
       "      <td>0.000000</td>\n",
       "      <td>0.000000</td>\n",
       "    </tr>\n",
       "    <tr>\n",
       "      <th>25%</th>\n",
       "      <td>6.000000</td>\n",
       "      <td>-73.992073</td>\n",
       "      <td>40.734886</td>\n",
       "      <td>-73.991398</td>\n",
       "      <td>40.733990</td>\n",
       "      <td>1.000000</td>\n",
       "      <td>1.211971</td>\n",
       "    </tr>\n",
       "    <tr>\n",
       "      <th>50%</th>\n",
       "      <td>8.500000</td>\n",
       "      <td>-73.981806</td>\n",
       "      <td>40.752609</td>\n",
       "      <td>-73.980160</td>\n",
       "      <td>40.753092</td>\n",
       "      <td>1.000000</td>\n",
       "      <td>2.117716</td>\n",
       "    </tr>\n",
       "    <tr>\n",
       "      <th>75%</th>\n",
       "      <td>12.500000</td>\n",
       "      <td>-73.967117</td>\n",
       "      <td>40.767135</td>\n",
       "      <td>-73.963660</td>\n",
       "      <td>40.768053</td>\n",
       "      <td>2.000000</td>\n",
       "      <td>3.881004</td>\n",
       "    </tr>\n",
       "    <tr>\n",
       "      <th>max</th>\n",
       "      <td>698.160000</td>\n",
       "      <td>40.848542</td>\n",
       "      <td>74.007413</td>\n",
       "      <td>45.581619</td>\n",
       "      <td>73.960608</td>\n",
       "      <td>6.000000</td>\n",
       "      <td>12594.704725</td>\n",
       "    </tr>\n",
       "  </tbody>\n",
       "</table>\n",
       "</div>"
      ],
      "text/plain": [
       "         fare_amount  pickup_longitude  pickup_latitude  dropoff_longitude  \\\n",
       "count  999898.000000     999898.000000    999898.000000      999898.000000   \n",
       "mean       11.349522        -72.502160        39.917967         -72.501077   \n",
       "std         9.809585         10.449922         6.133895          10.451032   \n",
       "min         0.000000       -121.915237       -74.016132        -121.915237   \n",
       "25%         6.000000        -73.992073        40.734886         -73.991398   \n",
       "50%         8.500000        -73.981806        40.752609         -73.980160   \n",
       "75%        12.500000        -73.967117        40.767135         -73.963660   \n",
       "max       698.160000         40.848542        74.007413          45.581619   \n",
       "\n",
       "       dropoff_latitude  passenger_count       Distance  \n",
       "count     999898.000000    999898.000000  999898.000000  \n",
       "mean          39.917432         1.684637      19.803618  \n",
       "std            6.136519         1.307861     370.636095  \n",
       "min          -74.024062         0.000000       0.000000  \n",
       "25%           40.733990         1.000000       1.211971  \n",
       "50%           40.753092         1.000000       2.117716  \n",
       "75%           40.768053         2.000000       3.881004  \n",
       "max           73.960608         6.000000   12594.704725  "
      ]
     },
     "execution_count": 40,
     "metadata": {},
     "output_type": "execute_result"
    }
   ],
   "source": [
    "training_set.describe()"
   ]
  },
  {
   "cell_type": "code",
   "execution_count": null,
   "metadata": {},
   "outputs": [
    {
     "data": {
      "image/png": "[encoded data removed]",
      "text/plain": [
       "<Figure size 432x288 with 1 Axes>"
      ]
     },
     "metadata": {
      "needs_background": "light"
     },
     "output_type": "display_data"
    }
   ],
   "source": [
    "plt.scatter(training_set['Distance'] , training_set['fare_amount'] , c = 'r' , marker = 'x')\n",
    "plt.title('Distance Vs Fare Amount',size = 20)\n",
    "plt.xlabel('Distance (meters)',size = 14)\n",
    "plt.ylabel('Fare Amount ($)',size = 14)\n",
    "plt.show()"
   ]
  },
  {
   "cell_type": "markdown",
   "metadata": {},
   "source": [
    "## Support Vector Regression on Feature Distance "
   ]
  },
  {
   "cell_type": "code",
   "execution_count": null,
   "metadata": {},
   "outputs": [],
   "source": [
    "data = training_set.sample(n = 100 , replace = False)\n",
    "X = np.array(data['Distance']).reshape(len(data),1)\n",
    "y = np.array(data['fare_amount'])\n"
   ]
  },
  {
   "cell_type": "code",
   "execution_count": null,
   "metadata": {},
   "outputs": [],
   "source": [
    "svr_rbf = SVR(kernel='rbf', C=100, gamma=0.1, epsilon=.1)\n",
    "svr_lin = SVR(kernel='linear', C=100, gamma='auto')\n",
    "svr_poly = SVR(kernel='poly', C=100, gamma='auto', degree=3, epsilon=.1, coef0=1)\n",
    "y_rbf = svr_rbf.fit(X, y).predict(X)\n",
    "y_lin = svr_lin.fit(X, y).predict(X)\n",
    "y_poly = svr_poly.fit(X, y).predict(X)"
   ]
  },
  {
   "cell_type": "code",
   "execution_count": null,
   "metadata": {},
   "outputs": [],
   "source": [
    "lw = 2\n",
    "svrs = [svr_rbf, svr_lin, svr_poly]\n",
    "kernel_label = ['RBF', 'Linear', 'Polynomial']\n",
    "model_color = ['m', 'c', 'g']\n",
    "fig, axes = plt.subplots(nrows=1, ncols=3, figsize=(15, 10), sharey=True)\n",
    "\n",
    "for ix, svr in enumerate(svrs):\n",
    "    axes[ix].plot(X, svr.fit(X, y).predict(X), color=model_color[ix], lw=lw,\n",
    "                  label='{} model'.format(kernel_label[ix]))\n",
    "    axes[ix].scatter(X[svr.support_], y[svr.support_], facecolor=\"none\",\n",
    "                     edgecolor=model_color[ix], s=50,\n",
    "                     label='{} support vectors'.format(kernel_label[ix]))\n",
    "    axes[ix].scatter(X[np.setdiff1d(np.arange(len(X)), svr.support_)],\n",
    "                     y[np.setdiff1d(np.arange(len(X)), svr.support_)],\n",
    "                     facecolor=\"none\", edgecolor=\"k\", s=50,\n",
    "                     label='other training data')\n",
    "    axes[ix].legend(loc='upper center', bbox_to_anchor=(0.5, 1.1),\n",
    "                    ncol=1, fancybox=True, shadow=True)\n",
    "\n",
    "fig.text(0.5, 0.04, 'data', ha='center', va='center')\n",
    "fig.text(0.06, 0.5, 'target', ha='center', va='center', rotation='vertical')\n",
    "fig.suptitle(\"Support Vector Regression\", fontsize=14)\n",
    "plt.show()\n"
   ]
  },
  {
   "cell_type": "code",
   "execution_count": null,
   "metadata": {},
   "outputs": [],
   "source": []
  }
 ],
 "metadata": {
  "kernelspec": {
   "display_name": "Python 3",
   "language": "python",
   "name": "python3"
  },
  "language_info": {
   "codemirror_mode": {
    "name": "ipython",
    "version": 3
   },
   "file_extension": ".py",
   "mimetype": "text/x-python",
   "name": "python",
   "nbconvert_exporter": "python",
   "pygments_lexer": "ipython3",
   "version": "3.7.1"
  }
 },
 "nbformat": 4,
 "nbformat_minor": 2
}
