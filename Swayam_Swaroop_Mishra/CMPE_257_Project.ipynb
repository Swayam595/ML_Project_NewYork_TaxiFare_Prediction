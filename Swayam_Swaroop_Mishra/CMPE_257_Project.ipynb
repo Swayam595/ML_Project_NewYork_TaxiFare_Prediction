{
 "cells": [
  {
   "cell_type": "code",
   "execution_count": 1,
   "metadata": {
    "scrolled": false
   },
   "outputs": [],
   "source": [
    "import numpy as np\n",
    "import pandas as pd\n",
    "import matplotlib.pyplot as plt\n",
    "from sklearn.svm import SVR\n",
    "import seaborn as sns\n",
    "\n",
    "sns.set()\n",
    "\n",
    "#data = pd.read_csv('D:\\\\Projects\\Data\\\\train.csv',nrows = 10000000)       # Contains the first 10 million data from \n",
    "                                                    # where we are going to select 1 million ramdom data for training and\n",
    "                                                    # ten thousand data for deveopment \n"
   ]
  },
  {
   "cell_type": "code",
   "execution_count": 2,
   "metadata": {},
   "outputs": [],
   "source": [
    "# Creation of training set , development set and test set \n",
    "#training_set = data.sample(n = 1000000 , replace = False)    # 1 million random data from same distribution\n",
    "#dev_set = data.sample(n = 10000 , replace = False)           # 10000 random data from same distribution\n",
    "\n",
    "training_set = pd.read_csv('D:\\\\Projects\\\\Data\\\\training_set.csv')\n",
    "dev_set = pd.read_csv('D:\\\\Projects\\\\Data\\\\dev_set.csv')\n",
    "test_set =  pd.read_csv('D:\\\\Projects\\\\Data\\\\test.csv')      # Actual test data must be used to check only after getting \n",
    "                                                             # a good final hypothesis"
   ]
  },
  {
   "cell_type": "markdown",
   "metadata": {},
   "source": [
    "# Shape, data type, data sample and descriptive statistics of Training Set"
   ]
  },
  {
   "cell_type": "markdown",
   "metadata": {},
   "source": [
    "### Shape"
   ]
  },
  {
   "cell_type": "code",
   "execution_count": 3,
   "metadata": {},
   "outputs": [
    {
     "data": {
      "text/plain": [
       "(1000000, 9)"
      ]
     },
     "execution_count": 3,
     "metadata": {},
     "output_type": "execute_result"
    }
   ],
   "source": [
    "training_set.shape"
   ]
  },
  {
   "cell_type": "markdown",
   "metadata": {},
   "source": [
    "### Data Type"
   ]
  },
  {
   "cell_type": "code",
   "execution_count": 4,
   "metadata": {},
   "outputs": [
    {
     "data": {
      "text/plain": [
       "Unnamed: 0             int64\n",
       "key                   object\n",
       "fare_amount          float64\n",
       "pickup_datetime       object\n",
       "pickup_longitude     float64\n",
       "pickup_latitude      float64\n",
       "dropoff_longitude    float64\n",
       "dropoff_latitude     float64\n",
       "passenger_count        int64\n",
       "dtype: object"
      ]
     },
     "execution_count": 4,
     "metadata": {},
     "output_type": "execute_result"
    }
   ],
   "source": [
    "training_set.dtypes"
   ]
  },
  {
   "cell_type": "markdown",
   "metadata": {},
   "source": [
    "### Data Sample"
   ]
  },
  {
   "cell_type": "code",
   "execution_count": 5,
   "metadata": {},
   "outputs": [
    {
     "data": {
      "text/html": [
       "<div>\n",
       "<style scoped>\n",
       "    .dataframe tbody tr th:only-of-type {\n",
       "        vertical-align: middle;\n",
       "    }\n",
       "\n",
       "    .dataframe tbody tr th {\n",
       "        vertical-align: top;\n",
       "    }\n",
       "\n",
       "    .dataframe thead th {\n",
       "        text-align: right;\n",
       "    }\n",
       "</style>\n",
       "<table border=\"1\" class=\"dataframe\">\n",
       "  <thead>\n",
       "    <tr style=\"text-align: right;\">\n",
       "      <th></th>\n",
       "      <th>Unnamed: 0</th>\n",
       "      <th>key</th>\n",
       "      <th>fare_amount</th>\n",
       "      <th>pickup_datetime</th>\n",
       "      <th>pickup_longitude</th>\n",
       "      <th>pickup_latitude</th>\n",
       "      <th>dropoff_longitude</th>\n",
       "      <th>dropoff_latitude</th>\n",
       "      <th>passenger_count</th>\n",
       "    </tr>\n",
       "  </thead>\n",
       "  <tbody>\n",
       "    <tr>\n",
       "      <th>0</th>\n",
       "      <td>4269478</td>\n",
       "      <td>2009-09-16 18:30:43.0000003</td>\n",
       "      <td>10.5</td>\n",
       "      <td>2009-09-16 18:30:43 UTC</td>\n",
       "      <td>-73.956166</td>\n",
       "      <td>40.780095</td>\n",
       "      <td>-73.991168</td>\n",
       "      <td>40.760530</td>\n",
       "      <td>1</td>\n",
       "    </tr>\n",
       "    <tr>\n",
       "      <th>1</th>\n",
       "      <td>6753615</td>\n",
       "      <td>2014-08-12 19:51:00.00000058</td>\n",
       "      <td>5.5</td>\n",
       "      <td>2014-08-12 19:51:00 UTC</td>\n",
       "      <td>-73.988327</td>\n",
       "      <td>40.755127</td>\n",
       "      <td>-73.998407</td>\n",
       "      <td>40.743605</td>\n",
       "      <td>4</td>\n",
       "    </tr>\n",
       "    <tr>\n",
       "      <th>2</th>\n",
       "      <td>638871</td>\n",
       "      <td>2010-01-03 17:13:00.000000176</td>\n",
       "      <td>45.0</td>\n",
       "      <td>2010-01-03 17:13:00 UTC</td>\n",
       "      <td>-73.928602</td>\n",
       "      <td>40.736587</td>\n",
       "      <td>-73.989305</td>\n",
       "      <td>40.741353</td>\n",
       "      <td>1</td>\n",
       "    </tr>\n",
       "    <tr>\n",
       "      <th>3</th>\n",
       "      <td>7919773</td>\n",
       "      <td>2015-04-25 08:09:21.0000002</td>\n",
       "      <td>13.5</td>\n",
       "      <td>2015-04-25 08:09:21 UTC</td>\n",
       "      <td>-73.993828</td>\n",
       "      <td>40.766972</td>\n",
       "      <td>-73.988037</td>\n",
       "      <td>40.733788</td>\n",
       "      <td>1</td>\n",
       "    </tr>\n",
       "    <tr>\n",
       "      <th>4</th>\n",
       "      <td>9894903</td>\n",
       "      <td>2012-08-30 20:25:00.000000140</td>\n",
       "      <td>4.1</td>\n",
       "      <td>2012-08-30 20:25:00 UTC</td>\n",
       "      <td>-73.973805</td>\n",
       "      <td>40.749402</td>\n",
       "      <td>-73.976080</td>\n",
       "      <td>40.745798</td>\n",
       "      <td>2</td>\n",
       "    </tr>\n",
       "  </tbody>\n",
       "</table>\n",
       "</div>"
      ],
      "text/plain": [
       "   Unnamed: 0                            key  fare_amount  \\\n",
       "0     4269478    2009-09-16 18:30:43.0000003         10.5   \n",
       "1     6753615   2014-08-12 19:51:00.00000058          5.5   \n",
       "2      638871  2010-01-03 17:13:00.000000176         45.0   \n",
       "3     7919773    2015-04-25 08:09:21.0000002         13.5   \n",
       "4     9894903  2012-08-30 20:25:00.000000140          4.1   \n",
       "\n",
       "           pickup_datetime  pickup_longitude  pickup_latitude  \\\n",
       "0  2009-09-16 18:30:43 UTC        -73.956166        40.780095   \n",
       "1  2014-08-12 19:51:00 UTC        -73.988327        40.755127   \n",
       "2  2010-01-03 17:13:00 UTC        -73.928602        40.736587   \n",
       "3  2015-04-25 08:09:21 UTC        -73.993828        40.766972   \n",
       "4  2012-08-30 20:25:00 UTC        -73.973805        40.749402   \n",
       "\n",
       "   dropoff_longitude  dropoff_latitude  passenger_count  \n",
       "0         -73.991168         40.760530                1  \n",
       "1         -73.998407         40.743605                4  \n",
       "2         -73.989305         40.741353                1  \n",
       "3         -73.988037         40.733788                1  \n",
       "4         -73.976080         40.745798                2  "
      ]
     },
     "execution_count": 5,
     "metadata": {},
     "output_type": "execute_result"
    }
   ],
   "source": [
    "training_set.head()"
   ]
  },
  {
   "cell_type": "markdown",
   "metadata": {},
   "source": [
    "### Descriptive statistics "
   ]
  },
  {
   "cell_type": "code",
   "execution_count": 6,
   "metadata": {},
   "outputs": [
    {
     "data": {
      "text/html": [
       "<div>\n",
       "<style scoped>\n",
       "    .dataframe tbody tr th:only-of-type {\n",
       "        vertical-align: middle;\n",
       "    }\n",
       "\n",
       "    .dataframe tbody tr th {\n",
       "        vertical-align: top;\n",
       "    }\n",
       "\n",
       "    .dataframe thead th {\n",
       "        text-align: right;\n",
       "    }\n",
       "</style>\n",
       "<table border=\"1\" class=\"dataframe\">\n",
       "  <thead>\n",
       "    <tr style=\"text-align: right;\">\n",
       "      <th></th>\n",
       "      <th>Unnamed: 0</th>\n",
       "      <th>fare_amount</th>\n",
       "      <th>pickup_longitude</th>\n",
       "      <th>pickup_latitude</th>\n",
       "      <th>dropoff_longitude</th>\n",
       "      <th>dropoff_latitude</th>\n",
       "      <th>passenger_count</th>\n",
       "    </tr>\n",
       "  </thead>\n",
       "  <tbody>\n",
       "    <tr>\n",
       "      <th>count</th>\n",
       "      <td>1.000000e+06</td>\n",
       "      <td>1000000.000000</td>\n",
       "      <td>1000000.000000</td>\n",
       "      <td>1000000.000000</td>\n",
       "      <td>999990.000000</td>\n",
       "      <td>999990.000000</td>\n",
       "      <td>1000000.000000</td>\n",
       "    </tr>\n",
       "    <tr>\n",
       "      <th>mean</th>\n",
       "      <td>4.998092e+06</td>\n",
       "      <td>11.327224</td>\n",
       "      <td>-72.510856</td>\n",
       "      <td>39.922976</td>\n",
       "      <td>-72.524769</td>\n",
       "      <td>39.929467</td>\n",
       "      <td>1.687086</td>\n",
       "    </tr>\n",
       "    <tr>\n",
       "      <th>std</th>\n",
       "      <td>2.887434e+06</td>\n",
       "      <td>9.801694</td>\n",
       "      <td>12.799880</td>\n",
       "      <td>9.821773</td>\n",
       "      <td>13.494402</td>\n",
       "      <td>9.013604</td>\n",
       "      <td>1.310834</td>\n",
       "    </tr>\n",
       "    <tr>\n",
       "      <th>min</th>\n",
       "      <td>5.000000e+00</td>\n",
       "      <td>-62.000000</td>\n",
       "      <td>-3007.205450</td>\n",
       "      <td>-3258.765613</td>\n",
       "      <td>-3426.600617</td>\n",
       "      <td>-2864.471003</td>\n",
       "      <td>0.000000</td>\n",
       "    </tr>\n",
       "    <tr>\n",
       "      <th>25%</th>\n",
       "      <td>2.496564e+06</td>\n",
       "      <td>6.000000</td>\n",
       "      <td>-73.992075</td>\n",
       "      <td>40.734953</td>\n",
       "      <td>-73.991394</td>\n",
       "      <td>40.734068</td>\n",
       "      <td>1.000000</td>\n",
       "    </tr>\n",
       "    <tr>\n",
       "      <th>50%</th>\n",
       "      <td>4.992960e+06</td>\n",
       "      <td>8.500000</td>\n",
       "      <td>-73.981834</td>\n",
       "      <td>40.752617</td>\n",
       "      <td>-73.980186</td>\n",
       "      <td>40.753142</td>\n",
       "      <td>1.000000</td>\n",
       "    </tr>\n",
       "    <tr>\n",
       "      <th>75%</th>\n",
       "      <td>7.499348e+06</td>\n",
       "      <td>12.500000</td>\n",
       "      <td>-73.967073</td>\n",
       "      <td>40.767123</td>\n",
       "      <td>-73.963725</td>\n",
       "      <td>40.768071</td>\n",
       "      <td>2.000000</td>\n",
       "    </tr>\n",
       "    <tr>\n",
       "      <th>max</th>\n",
       "      <td>9.999998e+06</td>\n",
       "      <td>952.000000</td>\n",
       "      <td>2522.271325</td>\n",
       "      <td>3001.930510</td>\n",
       "      <td>2497.105768</td>\n",
       "      <td>2950.087992</td>\n",
       "      <td>9.000000</td>\n",
       "    </tr>\n",
       "  </tbody>\n",
       "</table>\n",
       "</div>"
      ],
      "text/plain": [
       "         Unnamed: 0     fare_amount  pickup_longitude  pickup_latitude  \\\n",
       "count  1.000000e+06  1000000.000000    1000000.000000   1000000.000000   \n",
       "mean   4.998092e+06       11.327224        -72.510856        39.922976   \n",
       "std    2.887434e+06        9.801694         12.799880         9.821773   \n",
       "min    5.000000e+00      -62.000000      -3007.205450     -3258.765613   \n",
       "25%    2.496564e+06        6.000000        -73.992075        40.734953   \n",
       "50%    4.992960e+06        8.500000        -73.981834        40.752617   \n",
       "75%    7.499348e+06       12.500000        -73.967073        40.767123   \n",
       "max    9.999998e+06      952.000000       2522.271325      3001.930510   \n",
       "\n",
       "       dropoff_longitude  dropoff_latitude  passenger_count  \n",
       "count      999990.000000     999990.000000   1000000.000000  \n",
       "mean          -72.524769         39.929467         1.687086  \n",
       "std            13.494402          9.013604         1.310834  \n",
       "min         -3426.600617      -2864.471003         0.000000  \n",
       "25%           -73.991394         40.734068         1.000000  \n",
       "50%           -73.980186         40.753142         1.000000  \n",
       "75%           -73.963725         40.768071         2.000000  \n",
       "max          2497.105768       2950.087992         9.000000  "
      ]
     },
     "execution_count": 6,
     "metadata": {},
     "output_type": "execute_result"
    }
   ],
   "source": [
    "training_set.describe()"
   ]
  },
  {
   "cell_type": "markdown",
   "metadata": {},
   "source": [
    "# Shape, data type, data sample and descriptive statistics of Development Set"
   ]
  },
  {
   "cell_type": "markdown",
   "metadata": {},
   "source": [
    "### Shape"
   ]
  },
  {
   "cell_type": "code",
   "execution_count": 7,
   "metadata": {},
   "outputs": [
    {
     "data": {
      "text/plain": [
       "(10000, 9)"
      ]
     },
     "execution_count": 7,
     "metadata": {},
     "output_type": "execute_result"
    }
   ],
   "source": [
    "dev_set.shape"
   ]
  },
  {
   "cell_type": "markdown",
   "metadata": {},
   "source": [
    "### Data Type"
   ]
  },
  {
   "cell_type": "code",
   "execution_count": 8,
   "metadata": {},
   "outputs": [
    {
     "data": {
      "text/plain": [
       "Unnamed: 0             int64\n",
       "key                   object\n",
       "fare_amount          float64\n",
       "pickup_datetime       object\n",
       "pickup_longitude     float64\n",
       "pickup_latitude      float64\n",
       "dropoff_longitude    float64\n",
       "dropoff_latitude     float64\n",
       "passenger_count        int64\n",
       "dtype: object"
      ]
     },
     "execution_count": 8,
     "metadata": {},
     "output_type": "execute_result"
    }
   ],
   "source": [
    "dev_set.dtypes"
   ]
  },
  {
   "cell_type": "markdown",
   "metadata": {},
   "source": [
    "### Data Sample"
   ]
  },
  {
   "cell_type": "code",
   "execution_count": 9,
   "metadata": {},
   "outputs": [
    {
     "data": {
      "text/html": [
       "<div>\n",
       "<style scoped>\n",
       "    .dataframe tbody tr th:only-of-type {\n",
       "        vertical-align: middle;\n",
       "    }\n",
       "\n",
       "    .dataframe tbody tr th {\n",
       "        vertical-align: top;\n",
       "    }\n",
       "\n",
       "    .dataframe thead th {\n",
       "        text-align: right;\n",
       "    }\n",
       "</style>\n",
       "<table border=\"1\" class=\"dataframe\">\n",
       "  <thead>\n",
       "    <tr style=\"text-align: right;\">\n",
       "      <th></th>\n",
       "      <th>Unnamed: 0</th>\n",
       "      <th>key</th>\n",
       "      <th>fare_amount</th>\n",
       "      <th>pickup_datetime</th>\n",
       "      <th>pickup_longitude</th>\n",
       "      <th>pickup_latitude</th>\n",
       "      <th>dropoff_longitude</th>\n",
       "      <th>dropoff_latitude</th>\n",
       "      <th>passenger_count</th>\n",
       "    </tr>\n",
       "  </thead>\n",
       "  <tbody>\n",
       "    <tr>\n",
       "      <th>0</th>\n",
       "      <td>5406611</td>\n",
       "      <td>2012-11-18 18:24:00.000000116</td>\n",
       "      <td>8.5</td>\n",
       "      <td>2012-11-18 18:24:00 UTC</td>\n",
       "      <td>-73.961455</td>\n",
       "      <td>40.765132</td>\n",
       "      <td>-73.976322</td>\n",
       "      <td>40.744262</td>\n",
       "      <td>1</td>\n",
       "    </tr>\n",
       "    <tr>\n",
       "      <th>1</th>\n",
       "      <td>6747269</td>\n",
       "      <td>2009-06-03 21:22:00.0000003</td>\n",
       "      <td>6.1</td>\n",
       "      <td>2009-06-03 21:22:00 UTC</td>\n",
       "      <td>-73.952222</td>\n",
       "      <td>40.787170</td>\n",
       "      <td>-73.963823</td>\n",
       "      <td>40.769275</td>\n",
       "      <td>1</td>\n",
       "    </tr>\n",
       "    <tr>\n",
       "      <th>2</th>\n",
       "      <td>327803</td>\n",
       "      <td>2010-10-23 23:45:50.0000003</td>\n",
       "      <td>20.1</td>\n",
       "      <td>2010-10-23 23:45:50 UTC</td>\n",
       "      <td>-74.004992</td>\n",
       "      <td>40.741375</td>\n",
       "      <td>-73.983108</td>\n",
       "      <td>40.670276</td>\n",
       "      <td>1</td>\n",
       "    </tr>\n",
       "    <tr>\n",
       "      <th>3</th>\n",
       "      <td>862905</td>\n",
       "      <td>2013-09-15 15:03:59.0000001</td>\n",
       "      <td>8.0</td>\n",
       "      <td>2013-09-15 15:03:59 UTC</td>\n",
       "      <td>-74.012050</td>\n",
       "      <td>40.715985</td>\n",
       "      <td>-74.012362</td>\n",
       "      <td>40.720336</td>\n",
       "      <td>2</td>\n",
       "    </tr>\n",
       "    <tr>\n",
       "      <th>4</th>\n",
       "      <td>9942124</td>\n",
       "      <td>2014-03-27 17:59:00.00000093</td>\n",
       "      <td>4.5</td>\n",
       "      <td>2014-03-27 17:59:00 UTC</td>\n",
       "      <td>-73.961375</td>\n",
       "      <td>40.760622</td>\n",
       "      <td>-73.954577</td>\n",
       "      <td>40.765732</td>\n",
       "      <td>1</td>\n",
       "    </tr>\n",
       "  </tbody>\n",
       "</table>\n",
       "</div>"
      ],
      "text/plain": [
       "   Unnamed: 0                            key  fare_amount  \\\n",
       "0     5406611  2012-11-18 18:24:00.000000116          8.5   \n",
       "1     6747269    2009-06-03 21:22:00.0000003          6.1   \n",
       "2      327803    2010-10-23 23:45:50.0000003         20.1   \n",
       "3      862905    2013-09-15 15:03:59.0000001          8.0   \n",
       "4     9942124   2014-03-27 17:59:00.00000093          4.5   \n",
       "\n",
       "           pickup_datetime  pickup_longitude  pickup_latitude  \\\n",
       "0  2012-11-18 18:24:00 UTC        -73.961455        40.765132   \n",
       "1  2009-06-03 21:22:00 UTC        -73.952222        40.787170   \n",
       "2  2010-10-23 23:45:50 UTC        -74.004992        40.741375   \n",
       "3  2013-09-15 15:03:59 UTC        -74.012050        40.715985   \n",
       "4  2014-03-27 17:59:00 UTC        -73.961375        40.760622   \n",
       "\n",
       "   dropoff_longitude  dropoff_latitude  passenger_count  \n",
       "0         -73.976322         40.744262                1  \n",
       "1         -73.963823         40.769275                1  \n",
       "2         -73.983108         40.670276                1  \n",
       "3         -74.012362         40.720336                2  \n",
       "4         -73.954577         40.765732                1  "
      ]
     },
     "execution_count": 9,
     "metadata": {},
     "output_type": "execute_result"
    }
   ],
   "source": [
    "dev_set.head()"
   ]
  },
  {
   "cell_type": "markdown",
   "metadata": {},
   "source": [
    "### Descriptive statistics "
   ]
  },
  {
   "cell_type": "code",
   "execution_count": 10,
   "metadata": {},
   "outputs": [
    {
     "data": {
      "text/html": [
       "<div>\n",
       "<style scoped>\n",
       "    .dataframe tbody tr th:only-of-type {\n",
       "        vertical-align: middle;\n",
       "    }\n",
       "\n",
       "    .dataframe tbody tr th {\n",
       "        vertical-align: top;\n",
       "    }\n",
       "\n",
       "    .dataframe thead th {\n",
       "        text-align: right;\n",
       "    }\n",
       "</style>\n",
       "<table border=\"1\" class=\"dataframe\">\n",
       "  <thead>\n",
       "    <tr style=\"text-align: right;\">\n",
       "      <th></th>\n",
       "      <th>Unnamed: 0</th>\n",
       "      <th>fare_amount</th>\n",
       "      <th>pickup_longitude</th>\n",
       "      <th>pickup_latitude</th>\n",
       "      <th>dropoff_longitude</th>\n",
       "      <th>dropoff_latitude</th>\n",
       "      <th>passenger_count</th>\n",
       "    </tr>\n",
       "  </thead>\n",
       "  <tbody>\n",
       "    <tr>\n",
       "      <th>count</th>\n",
       "      <td>1.000000e+04</td>\n",
       "      <td>10000.000000</td>\n",
       "      <td>10000.000000</td>\n",
       "      <td>10000.000000</td>\n",
       "      <td>10000.000000</td>\n",
       "      <td>10000.000000</td>\n",
       "      <td>10000.000000</td>\n",
       "    </tr>\n",
       "    <tr>\n",
       "      <th>mean</th>\n",
       "      <td>5.035986e+06</td>\n",
       "      <td>11.476045</td>\n",
       "      <td>-72.470719</td>\n",
       "      <td>39.891178</td>\n",
       "      <td>-72.486662</td>\n",
       "      <td>39.903932</td>\n",
       "      <td>1.688500</td>\n",
       "    </tr>\n",
       "    <tr>\n",
       "      <th>std</th>\n",
       "      <td>2.884860e+06</td>\n",
       "      <td>10.124174</td>\n",
       "      <td>10.573926</td>\n",
       "      <td>6.275024</td>\n",
       "      <td>10.519467</td>\n",
       "      <td>6.237804</td>\n",
       "      <td>1.292453</td>\n",
       "    </tr>\n",
       "    <tr>\n",
       "      <th>min</th>\n",
       "      <td>2.840000e+02</td>\n",
       "      <td>0.010000</td>\n",
       "      <td>-75.338380</td>\n",
       "      <td>-74.010755</td>\n",
       "      <td>-78.562860</td>\n",
       "      <td>-74.002347</td>\n",
       "      <td>0.000000</td>\n",
       "    </tr>\n",
       "    <tr>\n",
       "      <th>25%</th>\n",
       "      <td>2.536053e+06</td>\n",
       "      <td>6.000000</td>\n",
       "      <td>-73.991816</td>\n",
       "      <td>40.734031</td>\n",
       "      <td>-73.991257</td>\n",
       "      <td>40.734249</td>\n",
       "      <td>1.000000</td>\n",
       "    </tr>\n",
       "    <tr>\n",
       "      <th>50%</th>\n",
       "      <td>5.044119e+06</td>\n",
       "      <td>8.500000</td>\n",
       "      <td>-73.981706</td>\n",
       "      <td>40.752599</td>\n",
       "      <td>-73.979504</td>\n",
       "      <td>40.753197</td>\n",
       "      <td>1.000000</td>\n",
       "    </tr>\n",
       "    <tr>\n",
       "      <th>75%</th>\n",
       "      <td>7.540420e+06</td>\n",
       "      <td>12.500000</td>\n",
       "      <td>-73.966705</td>\n",
       "      <td>40.767076</td>\n",
       "      <td>-73.963210</td>\n",
       "      <td>40.768144</td>\n",
       "      <td>2.000000</td>\n",
       "    </tr>\n",
       "    <tr>\n",
       "      <th>max</th>\n",
       "      <td>9.997197e+06</td>\n",
       "      <td>124.100000</td>\n",
       "      <td>40.770792</td>\n",
       "      <td>41.366138</td>\n",
       "      <td>40.778532</td>\n",
       "      <td>47.065774</td>\n",
       "      <td>6.000000</td>\n",
       "    </tr>\n",
       "  </tbody>\n",
       "</table>\n",
       "</div>"
      ],
      "text/plain": [
       "         Unnamed: 0   fare_amount  pickup_longitude  pickup_latitude  \\\n",
       "count  1.000000e+04  10000.000000      10000.000000     10000.000000   \n",
       "mean   5.035986e+06     11.476045        -72.470719        39.891178   \n",
       "std    2.884860e+06     10.124174         10.573926         6.275024   \n",
       "min    2.840000e+02      0.010000        -75.338380       -74.010755   \n",
       "25%    2.536053e+06      6.000000        -73.991816        40.734031   \n",
       "50%    5.044119e+06      8.500000        -73.981706        40.752599   \n",
       "75%    7.540420e+06     12.500000        -73.966705        40.767076   \n",
       "max    9.997197e+06    124.100000         40.770792        41.366138   \n",
       "\n",
       "       dropoff_longitude  dropoff_latitude  passenger_count  \n",
       "count       10000.000000      10000.000000     10000.000000  \n",
       "mean          -72.486662         39.903932         1.688500  \n",
       "std            10.519467          6.237804         1.292453  \n",
       "min           -78.562860        -74.002347         0.000000  \n",
       "25%           -73.991257         40.734249         1.000000  \n",
       "50%           -73.979504         40.753197         1.000000  \n",
       "75%           -73.963210         40.768144         2.000000  \n",
       "max            40.778532         47.065774         6.000000  "
      ]
     },
     "execution_count": 10,
     "metadata": {},
     "output_type": "execute_result"
    }
   ],
   "source": [
    "dev_set.describe()"
   ]
  },
  {
   "cell_type": "markdown",
   "metadata": {},
   "source": [
    "# Shape, data type, data sample and descriptive statistics of Test Set\n",
    "\n"
   ]
  },
  {
   "cell_type": "markdown",
   "metadata": {},
   "source": [
    "### Shape"
   ]
  },
  {
   "cell_type": "code",
   "execution_count": 11,
   "metadata": {},
   "outputs": [
    {
     "data": {
      "text/plain": [
       "(9914, 7)"
      ]
     },
     "execution_count": 11,
     "metadata": {},
     "output_type": "execute_result"
    }
   ],
   "source": [
    "test_set.shape"
   ]
  },
  {
   "cell_type": "markdown",
   "metadata": {},
   "source": [
    "### Data Type"
   ]
  },
  {
   "cell_type": "code",
   "execution_count": 12,
   "metadata": {},
   "outputs": [
    {
     "data": {
      "text/plain": [
       "key                   object\n",
       "pickup_datetime       object\n",
       "pickup_longitude     float64\n",
       "pickup_latitude      float64\n",
       "dropoff_longitude    float64\n",
       "dropoff_latitude     float64\n",
       "passenger_count        int64\n",
       "dtype: object"
      ]
     },
     "execution_count": 12,
     "metadata": {},
     "output_type": "execute_result"
    }
   ],
   "source": [
    "test_set.dtypes"
   ]
  },
  {
   "cell_type": "markdown",
   "metadata": {},
   "source": [
    "### Data Sample"
   ]
  },
  {
   "cell_type": "code",
   "execution_count": 13,
   "metadata": {},
   "outputs": [
    {
     "data": {
      "text/html": [
       "<div>\n",
       "<style scoped>\n",
       "    .dataframe tbody tr th:only-of-type {\n",
       "        vertical-align: middle;\n",
       "    }\n",
       "\n",
       "    .dataframe tbody tr th {\n",
       "        vertical-align: top;\n",
       "    }\n",
       "\n",
       "    .dataframe thead th {\n",
       "        text-align: right;\n",
       "    }\n",
       "</style>\n",
       "<table border=\"1\" class=\"dataframe\">\n",
       "  <thead>\n",
       "    <tr style=\"text-align: right;\">\n",
       "      <th></th>\n",
       "      <th>key</th>\n",
       "      <th>pickup_datetime</th>\n",
       "      <th>pickup_longitude</th>\n",
       "      <th>pickup_latitude</th>\n",
       "      <th>dropoff_longitude</th>\n",
       "      <th>dropoff_latitude</th>\n",
       "      <th>passenger_count</th>\n",
       "    </tr>\n",
       "  </thead>\n",
       "  <tbody>\n",
       "    <tr>\n",
       "      <th>0</th>\n",
       "      <td>2015-01-27 13:08:24.0000002</td>\n",
       "      <td>2015-01-27 13:08:24 UTC</td>\n",
       "      <td>-73.973320</td>\n",
       "      <td>40.763805</td>\n",
       "      <td>-73.981430</td>\n",
       "      <td>40.743835</td>\n",
       "      <td>1</td>\n",
       "    </tr>\n",
       "    <tr>\n",
       "      <th>1</th>\n",
       "      <td>2015-01-27 13:08:24.0000003</td>\n",
       "      <td>2015-01-27 13:08:24 UTC</td>\n",
       "      <td>-73.986862</td>\n",
       "      <td>40.719383</td>\n",
       "      <td>-73.998886</td>\n",
       "      <td>40.739201</td>\n",
       "      <td>1</td>\n",
       "    </tr>\n",
       "    <tr>\n",
       "      <th>2</th>\n",
       "      <td>2011-10-08 11:53:44.0000002</td>\n",
       "      <td>2011-10-08 11:53:44 UTC</td>\n",
       "      <td>-73.982524</td>\n",
       "      <td>40.751260</td>\n",
       "      <td>-73.979654</td>\n",
       "      <td>40.746139</td>\n",
       "      <td>1</td>\n",
       "    </tr>\n",
       "    <tr>\n",
       "      <th>3</th>\n",
       "      <td>2012-12-01 21:12:12.0000002</td>\n",
       "      <td>2012-12-01 21:12:12 UTC</td>\n",
       "      <td>-73.981160</td>\n",
       "      <td>40.767807</td>\n",
       "      <td>-73.990448</td>\n",
       "      <td>40.751635</td>\n",
       "      <td>1</td>\n",
       "    </tr>\n",
       "    <tr>\n",
       "      <th>4</th>\n",
       "      <td>2012-12-01 21:12:12.0000003</td>\n",
       "      <td>2012-12-01 21:12:12 UTC</td>\n",
       "      <td>-73.966046</td>\n",
       "      <td>40.789775</td>\n",
       "      <td>-73.988565</td>\n",
       "      <td>40.744427</td>\n",
       "      <td>1</td>\n",
       "    </tr>\n",
       "  </tbody>\n",
       "</table>\n",
       "</div>"
      ],
      "text/plain": [
       "                           key          pickup_datetime  pickup_longitude  \\\n",
       "0  2015-01-27 13:08:24.0000002  2015-01-27 13:08:24 UTC        -73.973320   \n",
       "1  2015-01-27 13:08:24.0000003  2015-01-27 13:08:24 UTC        -73.986862   \n",
       "2  2011-10-08 11:53:44.0000002  2011-10-08 11:53:44 UTC        -73.982524   \n",
       "3  2012-12-01 21:12:12.0000002  2012-12-01 21:12:12 UTC        -73.981160   \n",
       "4  2012-12-01 21:12:12.0000003  2012-12-01 21:12:12 UTC        -73.966046   \n",
       "\n",
       "   pickup_latitude  dropoff_longitude  dropoff_latitude  passenger_count  \n",
       "0        40.763805         -73.981430         40.743835                1  \n",
       "1        40.719383         -73.998886         40.739201                1  \n",
       "2        40.751260         -73.979654         40.746139                1  \n",
       "3        40.767807         -73.990448         40.751635                1  \n",
       "4        40.789775         -73.988565         40.744427                1  "
      ]
     },
     "execution_count": 13,
     "metadata": {},
     "output_type": "execute_result"
    }
   ],
   "source": [
    "test_set.head()"
   ]
  },
  {
   "cell_type": "markdown",
   "metadata": {},
   "source": [
    "### Descriptive statistics "
   ]
  },
  {
   "cell_type": "code",
   "execution_count": 14,
   "metadata": {},
   "outputs": [
    {
     "data": {
      "text/html": [
       "<div>\n",
       "<style scoped>\n",
       "    .dataframe tbody tr th:only-of-type {\n",
       "        vertical-align: middle;\n",
       "    }\n",
       "\n",
       "    .dataframe tbody tr th {\n",
       "        vertical-align: top;\n",
       "    }\n",
       "\n",
       "    .dataframe thead th {\n",
       "        text-align: right;\n",
       "    }\n",
       "</style>\n",
       "<table border=\"1\" class=\"dataframe\">\n",
       "  <thead>\n",
       "    <tr style=\"text-align: right;\">\n",
       "      <th></th>\n",
       "      <th>pickup_longitude</th>\n",
       "      <th>pickup_latitude</th>\n",
       "      <th>dropoff_longitude</th>\n",
       "      <th>dropoff_latitude</th>\n",
       "      <th>passenger_count</th>\n",
       "    </tr>\n",
       "  </thead>\n",
       "  <tbody>\n",
       "    <tr>\n",
       "      <th>count</th>\n",
       "      <td>9914.000000</td>\n",
       "      <td>9914.000000</td>\n",
       "      <td>9914.000000</td>\n",
       "      <td>9914.000000</td>\n",
       "      <td>9914.000000</td>\n",
       "    </tr>\n",
       "    <tr>\n",
       "      <th>mean</th>\n",
       "      <td>-73.974722</td>\n",
       "      <td>40.751041</td>\n",
       "      <td>-73.973657</td>\n",
       "      <td>40.751743</td>\n",
       "      <td>1.671273</td>\n",
       "    </tr>\n",
       "    <tr>\n",
       "      <th>std</th>\n",
       "      <td>0.042774</td>\n",
       "      <td>0.033541</td>\n",
       "      <td>0.039072</td>\n",
       "      <td>0.035435</td>\n",
       "      <td>1.278747</td>\n",
       "    </tr>\n",
       "    <tr>\n",
       "      <th>min</th>\n",
       "      <td>-74.252193</td>\n",
       "      <td>40.573143</td>\n",
       "      <td>-74.263242</td>\n",
       "      <td>40.568973</td>\n",
       "      <td>1.000000</td>\n",
       "    </tr>\n",
       "    <tr>\n",
       "      <th>25%</th>\n",
       "      <td>-73.992501</td>\n",
       "      <td>40.736125</td>\n",
       "      <td>-73.991247</td>\n",
       "      <td>40.735254</td>\n",
       "      <td>1.000000</td>\n",
       "    </tr>\n",
       "    <tr>\n",
       "      <th>50%</th>\n",
       "      <td>-73.982326</td>\n",
       "      <td>40.753051</td>\n",
       "      <td>-73.980015</td>\n",
       "      <td>40.754065</td>\n",
       "      <td>1.000000</td>\n",
       "    </tr>\n",
       "    <tr>\n",
       "      <th>75%</th>\n",
       "      <td>-73.968013</td>\n",
       "      <td>40.767113</td>\n",
       "      <td>-73.964059</td>\n",
       "      <td>40.768757</td>\n",
       "      <td>2.000000</td>\n",
       "    </tr>\n",
       "    <tr>\n",
       "      <th>max</th>\n",
       "      <td>-72.986532</td>\n",
       "      <td>41.709555</td>\n",
       "      <td>-72.990963</td>\n",
       "      <td>41.696683</td>\n",
       "      <td>6.000000</td>\n",
       "    </tr>\n",
       "  </tbody>\n",
       "</table>\n",
       "</div>"
      ],
      "text/plain": [
       "       pickup_longitude  pickup_latitude  dropoff_longitude  dropoff_latitude  \\\n",
       "count       9914.000000      9914.000000        9914.000000       9914.000000   \n",
       "mean         -73.974722        40.751041         -73.973657         40.751743   \n",
       "std            0.042774         0.033541           0.039072          0.035435   \n",
       "min          -74.252193        40.573143         -74.263242         40.568973   \n",
       "25%          -73.992501        40.736125         -73.991247         40.735254   \n",
       "50%          -73.982326        40.753051         -73.980015         40.754065   \n",
       "75%          -73.968013        40.767113         -73.964059         40.768757   \n",
       "max          -72.986532        41.709555         -72.990963         41.696683   \n",
       "\n",
       "       passenger_count  \n",
       "count      9914.000000  \n",
       "mean          1.671273  \n",
       "std           1.278747  \n",
       "min           1.000000  \n",
       "25%           1.000000  \n",
       "50%           1.000000  \n",
       "75%           2.000000  \n",
       "max           6.000000  "
      ]
     },
     "execution_count": 14,
     "metadata": {},
     "output_type": "execute_result"
    }
   ],
   "source": [
    "test_set.describe()"
   ]
  },
  {
   "cell_type": "markdown",
   "metadata": {},
   "source": [
    "# Data Cleansing"
   ]
  },
  {
   "cell_type": "markdown",
   "metadata": {},
   "source": [
    "## Removing Null values from the datasets"
   ]
  },
  {
   "cell_type": "code",
   "execution_count": 15,
   "metadata": {},
   "outputs": [
    {
     "data": {
      "text/plain": [
       "dropoff_latitude     10\n",
       "dropoff_longitude    10\n",
       "passenger_count       0\n",
       "pickup_latitude       0\n",
       "pickup_longitude      0\n",
       "pickup_datetime       0\n",
       "fare_amount           0\n",
       "key                   0\n",
       "Unnamed: 0            0\n",
       "dtype: int64"
      ]
     },
     "execution_count": 15,
     "metadata": {},
     "output_type": "execute_result"
    }
   ],
   "source": [
    "training_set.isnull().sum().sort_values(ascending = False)"
   ]
  },
  {
   "cell_type": "code",
   "execution_count": 16,
   "metadata": {},
   "outputs": [
    {
     "data": {
      "text/plain": [
       "passenger_count      0\n",
       "dropoff_latitude     0\n",
       "dropoff_longitude    0\n",
       "pickup_latitude      0\n",
       "pickup_longitude     0\n",
       "pickup_datetime      0\n",
       "fare_amount          0\n",
       "key                  0\n",
       "Unnamed: 0           0\n",
       "dtype: int64"
      ]
     },
     "execution_count": 16,
     "metadata": {},
     "output_type": "execute_result"
    }
   ],
   "source": [
    "dev_set.isnull().sum().sort_values(ascending = False)"
   ]
  },
  {
   "cell_type": "code",
   "execution_count": 17,
   "metadata": {},
   "outputs": [
    {
     "data": {
      "text/plain": [
       "passenger_count      0\n",
       "dropoff_latitude     0\n",
       "dropoff_longitude    0\n",
       "pickup_latitude      0\n",
       "pickup_longitude     0\n",
       "pickup_datetime      0\n",
       "key                  0\n",
       "dtype: int64"
      ]
     },
     "execution_count": 17,
     "metadata": {},
     "output_type": "execute_result"
    }
   ],
   "source": [
    "test_set.isnull().sum().sort_values(ascending = False)"
   ]
  },
  {
   "cell_type": "code",
   "execution_count": 18,
   "metadata": {},
   "outputs": [
    {
     "data": {
      "text/plain": [
       "(999990, 9)"
      ]
     },
     "execution_count": 18,
     "metadata": {},
     "output_type": "execute_result"
    }
   ],
   "source": [
    "training_set = training_set.drop(training_set[training_set.isnull().any(1)].index , axis = 0)\n",
    "training_set.shape"
   ]
  },
  {
   "cell_type": "code",
   "execution_count": 19,
   "metadata": {},
   "outputs": [
    {
     "data": {
      "text/plain": [
       "(10000, 9)"
      ]
     },
     "execution_count": 19,
     "metadata": {},
     "output_type": "execute_result"
    }
   ],
   "source": [
    "dev_set = dev_set.drop(dev_set[dev_set.isnull().any(1)].index , axis = 0)\n",
    "dev_set.shape"
   ]
  },
  {
   "cell_type": "code",
   "execution_count": 20,
   "metadata": {},
   "outputs": [
    {
     "data": {
      "text/plain": [
       "(9914, 7)"
      ]
     },
     "execution_count": 20,
     "metadata": {},
     "output_type": "execute_result"
    }
   ],
   "source": [
    "test_set = test_set.drop(test_set[test_set.isnull().any(1)].index , axis = 0)\n",
    "test_set.shape"
   ]
  },
  {
   "cell_type": "markdown",
   "metadata": {},
   "source": [
    "## Removing rows from the dataset having invalid data "
   ]
  },
  {
   "cell_type": "code",
   "execution_count": 21,
   "metadata": {},
   "outputs": [
    {
     "data": {
      "text/html": [
       "<div>\n",
       "<style scoped>\n",
       "    .dataframe tbody tr th:only-of-type {\n",
       "        vertical-align: middle;\n",
       "    }\n",
       "\n",
       "    .dataframe tbody tr th {\n",
       "        vertical-align: top;\n",
       "    }\n",
       "\n",
       "    .dataframe thead th {\n",
       "        text-align: right;\n",
       "    }\n",
       "</style>\n",
       "<table border=\"1\" class=\"dataframe\">\n",
       "  <thead>\n",
       "    <tr style=\"text-align: right;\">\n",
       "      <th></th>\n",
       "      <th>Unnamed: 0</th>\n",
       "      <th>fare_amount</th>\n",
       "      <th>pickup_longitude</th>\n",
       "      <th>pickup_latitude</th>\n",
       "      <th>dropoff_longitude</th>\n",
       "      <th>dropoff_latitude</th>\n",
       "      <th>passenger_count</th>\n",
       "    </tr>\n",
       "  </thead>\n",
       "  <tbody>\n",
       "    <tr>\n",
       "      <th>count</th>\n",
       "      <td>9.999900e+05</td>\n",
       "      <td>999990.000000</td>\n",
       "      <td>999990.000000</td>\n",
       "      <td>999990.000000</td>\n",
       "      <td>999990.000000</td>\n",
       "      <td>999990.000000</td>\n",
       "      <td>999990.000000</td>\n",
       "    </tr>\n",
       "    <tr>\n",
       "      <th>mean</th>\n",
       "      <td>4.998108e+06</td>\n",
       "      <td>11.327083</td>\n",
       "      <td>-72.510916</td>\n",
       "      <td>39.923008</td>\n",
       "      <td>-72.524769</td>\n",
       "      <td>39.929467</td>\n",
       "      <td>1.687103</td>\n",
       "    </tr>\n",
       "    <tr>\n",
       "      <th>std</th>\n",
       "      <td>2.887434e+06</td>\n",
       "      <td>9.801195</td>\n",
       "      <td>12.799738</td>\n",
       "      <td>9.821741</td>\n",
       "      <td>13.494402</td>\n",
       "      <td>9.013604</td>\n",
       "      <td>1.310829</td>\n",
       "    </tr>\n",
       "    <tr>\n",
       "      <th>min</th>\n",
       "      <td>5.000000e+00</td>\n",
       "      <td>-62.000000</td>\n",
       "      <td>-3007.205450</td>\n",
       "      <td>-3258.765613</td>\n",
       "      <td>-3426.600617</td>\n",
       "      <td>-2864.471003</td>\n",
       "      <td>0.000000</td>\n",
       "    </tr>\n",
       "    <tr>\n",
       "      <th>25%</th>\n",
       "      <td>2.496570e+06</td>\n",
       "      <td>6.000000</td>\n",
       "      <td>-73.992075</td>\n",
       "      <td>40.734953</td>\n",
       "      <td>-73.991394</td>\n",
       "      <td>40.734068</td>\n",
       "      <td>1.000000</td>\n",
       "    </tr>\n",
       "    <tr>\n",
       "      <th>50%</th>\n",
       "      <td>4.993066e+06</td>\n",
       "      <td>8.500000</td>\n",
       "      <td>-73.981834</td>\n",
       "      <td>40.752616</td>\n",
       "      <td>-73.980186</td>\n",
       "      <td>40.753142</td>\n",
       "      <td>1.000000</td>\n",
       "    </tr>\n",
       "    <tr>\n",
       "      <th>75%</th>\n",
       "      <td>7.499362e+06</td>\n",
       "      <td>12.500000</td>\n",
       "      <td>-73.967073</td>\n",
       "      <td>40.767123</td>\n",
       "      <td>-73.963725</td>\n",
       "      <td>40.768071</td>\n",
       "      <td>2.000000</td>\n",
       "    </tr>\n",
       "    <tr>\n",
       "      <th>max</th>\n",
       "      <td>9.999998e+06</td>\n",
       "      <td>952.000000</td>\n",
       "      <td>2522.271325</td>\n",
       "      <td>3001.930510</td>\n",
       "      <td>2497.105768</td>\n",
       "      <td>2950.087992</td>\n",
       "      <td>9.000000</td>\n",
       "    </tr>\n",
       "  </tbody>\n",
       "</table>\n",
       "</div>"
      ],
      "text/plain": [
       "         Unnamed: 0    fare_amount  pickup_longitude  pickup_latitude  \\\n",
       "count  9.999900e+05  999990.000000     999990.000000    999990.000000   \n",
       "mean   4.998108e+06      11.327083        -72.510916        39.923008   \n",
       "std    2.887434e+06       9.801195         12.799738         9.821741   \n",
       "min    5.000000e+00     -62.000000      -3007.205450     -3258.765613   \n",
       "25%    2.496570e+06       6.000000        -73.992075        40.734953   \n",
       "50%    4.993066e+06       8.500000        -73.981834        40.752616   \n",
       "75%    7.499362e+06      12.500000        -73.967073        40.767123   \n",
       "max    9.999998e+06     952.000000       2522.271325      3001.930510   \n",
       "\n",
       "       dropoff_longitude  dropoff_latitude  passenger_count  \n",
       "count      999990.000000     999990.000000    999990.000000  \n",
       "mean          -72.524769         39.929467         1.687103  \n",
       "std            13.494402          9.013604         1.310829  \n",
       "min         -3426.600617      -2864.471003         0.000000  \n",
       "25%           -73.991394         40.734068         1.000000  \n",
       "50%           -73.980186         40.753142         1.000000  \n",
       "75%           -73.963725         40.768071         2.000000  \n",
       "max          2497.105768       2950.087992         9.000000  "
      ]
     },
     "execution_count": 21,
     "metadata": {},
     "output_type": "execute_result"
    }
   ],
   "source": [
    "training_set.describe()"
   ]
  },
  {
   "cell_type": "code",
   "execution_count": 22,
   "metadata": {},
   "outputs": [
    {
     "data": {
      "text/plain": [
       "count    999990.000000\n",
       "mean         11.327083\n",
       "std           9.801195\n",
       "min         -62.000000\n",
       "25%           6.000000\n",
       "50%           8.500000\n",
       "75%          12.500000\n",
       "max         952.000000\n",
       "Name: fare_amount, dtype: float64"
      ]
     },
     "execution_count": 22,
     "metadata": {},
     "output_type": "execute_result"
    }
   ],
   "source": [
    "training_set['fare_amount'].describe()"
   ]
  },
  {
   "cell_type": "markdown",
   "metadata": {},
   "source": [
    "### Training_set is having negative value fare so we will remove those rows"
   ]
  },
  {
   "cell_type": "code",
   "execution_count": 23,
   "metadata": {},
   "outputs": [
    {
     "data": {
      "text/plain": [
       "Counter({False: 999945, True: 45})"
      ]
     },
     "execution_count": 23,
     "metadata": {},
     "output_type": "execute_result"
    }
   ],
   "source": [
    "from collections import Counter\n",
    "Counter(training_set['fare_amount']<0)"
   ]
  },
  {
   "cell_type": "code",
   "execution_count": 24,
   "metadata": {},
   "outputs": [
    {
     "data": {
      "text/plain": [
       "(999945, 9)"
      ]
     },
     "execution_count": 24,
     "metadata": {},
     "output_type": "execute_result"
    }
   ],
   "source": [
    "training_set = training_set.drop(training_set[training_set['fare_amount']<0].index, axis=0)\n",
    "training_set.shape"
   ]
  },
  {
   "cell_type": "code",
   "execution_count": 25,
   "metadata": {},
   "outputs": [
    {
     "data": {
      "text/plain": [
       "count    999945.000000\n",
       "mean         11.327963\n",
       "std           9.800163\n",
       "min           0.000000\n",
       "25%           6.000000\n",
       "50%           8.500000\n",
       "75%          12.500000\n",
       "max         952.000000\n",
       "Name: fare_amount, dtype: float64"
      ]
     },
     "execution_count": 25,
     "metadata": {},
     "output_type": "execute_result"
    }
   ],
   "source": [
    "training_set['fare_amount'].describe()"
   ]
  },
  {
   "cell_type": "markdown",
   "metadata": {},
   "source": [
    "### Passenger count is greater than  7"
   ]
  },
  {
   "cell_type": "code",
   "execution_count": 26,
   "metadata": {},
   "outputs": [
    {
     "data": {
      "text/plain": [
       "count    999945.000000\n",
       "mean          1.687108\n",
       "std           1.310844\n",
       "min           0.000000\n",
       "25%           1.000000\n",
       "50%           1.000000\n",
       "75%           2.000000\n",
       "max           9.000000\n",
       "Name: passenger_count, dtype: float64"
      ]
     },
     "execution_count": 26,
     "metadata": {},
     "output_type": "execute_result"
    }
   ],
   "source": [
    "training_set['passenger_count'].describe()"
   ]
  },
  {
   "cell_type": "code",
   "execution_count": 27,
   "metadata": {},
   "outputs": [],
   "source": [
    "#len(training_set[training_set['passenger_count']>7])"
   ]
  },
  {
   "cell_type": "code",
   "execution_count": 28,
   "metadata": {},
   "outputs": [
    {
     "data": {
      "text/plain": [
       "Counter({False: 999943, True: 2})"
      ]
     },
     "execution_count": 28,
     "metadata": {},
     "output_type": "execute_result"
    }
   ],
   "source": [
    "#### Since we are restricting to yellow cabs or medallion taxi. So we are considering \n",
    "#### a maximum of 7 passengers can operate in a taxi at a time.\n",
    "Counter(training_set['passenger_count']>8)"
   ]
  },
  {
   "cell_type": "code",
   "execution_count": 29,
   "metadata": {},
   "outputs": [
    {
     "data": {
      "text/html": [
       "<div>\n",
       "<style scoped>\n",
       "    .dataframe tbody tr th:only-of-type {\n",
       "        vertical-align: middle;\n",
       "    }\n",
       "\n",
       "    .dataframe tbody tr th {\n",
       "        vertical-align: top;\n",
       "    }\n",
       "\n",
       "    .dataframe thead th {\n",
       "        text-align: right;\n",
       "    }\n",
       "</style>\n",
       "<table border=\"1\" class=\"dataframe\">\n",
       "  <thead>\n",
       "    <tr style=\"text-align: right;\">\n",
       "      <th></th>\n",
       "      <th>Unnamed: 0</th>\n",
       "      <th>fare_amount</th>\n",
       "      <th>pickup_longitude</th>\n",
       "      <th>pickup_latitude</th>\n",
       "      <th>dropoff_longitude</th>\n",
       "      <th>dropoff_latitude</th>\n",
       "      <th>passenger_count</th>\n",
       "    </tr>\n",
       "  </thead>\n",
       "  <tbody>\n",
       "    <tr>\n",
       "      <th>count</th>\n",
       "      <td>9.999430e+05</td>\n",
       "      <td>999943.000000</td>\n",
       "      <td>999943.000000</td>\n",
       "      <td>999943.000000</td>\n",
       "      <td>999943.000000</td>\n",
       "      <td>999943.000000</td>\n",
       "      <td>999943.000000</td>\n",
       "    </tr>\n",
       "    <tr>\n",
       "      <th>mean</th>\n",
       "      <td>4.998137e+06</td>\n",
       "      <td>11.327845</td>\n",
       "      <td>-72.510921</td>\n",
       "      <td>39.923010</td>\n",
       "      <td>-72.524923</td>\n",
       "      <td>39.929551</td>\n",
       "      <td>1.687093</td>\n",
       "    </tr>\n",
       "    <tr>\n",
       "      <th>std</th>\n",
       "      <td>2.887433e+06</td>\n",
       "      <td>9.799701</td>\n",
       "      <td>12.799829</td>\n",
       "      <td>9.821889</td>\n",
       "      <td>13.494131</td>\n",
       "      <td>9.013549</td>\n",
       "      <td>1.310804</td>\n",
       "    </tr>\n",
       "    <tr>\n",
       "      <th>min</th>\n",
       "      <td>5.000000e+00</td>\n",
       "      <td>0.000000</td>\n",
       "      <td>-3007.205450</td>\n",
       "      <td>-3258.765613</td>\n",
       "      <td>-3426.600617</td>\n",
       "      <td>-2864.471003</td>\n",
       "      <td>0.000000</td>\n",
       "    </tr>\n",
       "    <tr>\n",
       "      <th>25%</th>\n",
       "      <td>2.496576e+06</td>\n",
       "      <td>6.000000</td>\n",
       "      <td>-73.992075</td>\n",
       "      <td>40.734953</td>\n",
       "      <td>-73.991394</td>\n",
       "      <td>40.734068</td>\n",
       "      <td>1.000000</td>\n",
       "    </tr>\n",
       "    <tr>\n",
       "      <th>50%</th>\n",
       "      <td>4.993116e+06</td>\n",
       "      <td>8.500000</td>\n",
       "      <td>-73.981834</td>\n",
       "      <td>40.752617</td>\n",
       "      <td>-73.980186</td>\n",
       "      <td>40.753143</td>\n",
       "      <td>1.000000</td>\n",
       "    </tr>\n",
       "    <tr>\n",
       "      <th>75%</th>\n",
       "      <td>7.499394e+06</td>\n",
       "      <td>12.500000</td>\n",
       "      <td>-73.967073</td>\n",
       "      <td>40.767123</td>\n",
       "      <td>-73.963725</td>\n",
       "      <td>40.768072</td>\n",
       "      <td>2.000000</td>\n",
       "    </tr>\n",
       "    <tr>\n",
       "      <th>max</th>\n",
       "      <td>9.999998e+06</td>\n",
       "      <td>952.000000</td>\n",
       "      <td>2522.271325</td>\n",
       "      <td>3001.930510</td>\n",
       "      <td>2497.105768</td>\n",
       "      <td>2950.087992</td>\n",
       "      <td>6.000000</td>\n",
       "    </tr>\n",
       "  </tbody>\n",
       "</table>\n",
       "</div>"
      ],
      "text/plain": [
       "         Unnamed: 0    fare_amount  pickup_longitude  pickup_latitude  \\\n",
       "count  9.999430e+05  999943.000000     999943.000000    999943.000000   \n",
       "mean   4.998137e+06      11.327845        -72.510921        39.923010   \n",
       "std    2.887433e+06       9.799701         12.799829         9.821889   \n",
       "min    5.000000e+00       0.000000      -3007.205450     -3258.765613   \n",
       "25%    2.496576e+06       6.000000        -73.992075        40.734953   \n",
       "50%    4.993116e+06       8.500000        -73.981834        40.752617   \n",
       "75%    7.499394e+06      12.500000        -73.967073        40.767123   \n",
       "max    9.999998e+06     952.000000       2522.271325      3001.930510   \n",
       "\n",
       "       dropoff_longitude  dropoff_latitude  passenger_count  \n",
       "count      999943.000000     999943.000000    999943.000000  \n",
       "mean          -72.524923         39.929551         1.687093  \n",
       "std            13.494131          9.013549         1.310804  \n",
       "min         -3426.600617      -2864.471003         0.000000  \n",
       "25%           -73.991394         40.734068         1.000000  \n",
       "50%           -73.980186         40.753143         1.000000  \n",
       "75%           -73.963725         40.768072         2.000000  \n",
       "max          2497.105768       2950.087992         6.000000  "
      ]
     },
     "execution_count": 29,
     "metadata": {},
     "output_type": "execute_result"
    }
   ],
   "source": [
    "training_set = training_set.drop(training_set[training_set['passenger_count']>8].index, axis = 0)\n",
    "training_set.describe()"
   ]
  },
  {
   "cell_type": "markdown",
   "metadata": {},
   "source": [
    "### Removing invalid Longitude and Latitude "
   ]
  },
  {
   "cell_type": "code",
   "execution_count": 30,
   "metadata": {},
   "outputs": [
    {
     "data": {
      "text/html": [
       "<div>\n",
       "<style scoped>\n",
       "    .dataframe tbody tr th:only-of-type {\n",
       "        vertical-align: middle;\n",
       "    }\n",
       "\n",
       "    .dataframe tbody tr th {\n",
       "        vertical-align: top;\n",
       "    }\n",
       "\n",
       "    .dataframe thead th {\n",
       "        text-align: right;\n",
       "    }\n",
       "</style>\n",
       "<table border=\"1\" class=\"dataframe\">\n",
       "  <thead>\n",
       "    <tr style=\"text-align: right;\">\n",
       "      <th></th>\n",
       "      <th>pickup_longitude</th>\n",
       "      <th>pickup_latitude</th>\n",
       "    </tr>\n",
       "  </thead>\n",
       "  <tbody>\n",
       "    <tr>\n",
       "      <th>count</th>\n",
       "      <td>999943.000000</td>\n",
       "      <td>999943.000000</td>\n",
       "    </tr>\n",
       "    <tr>\n",
       "      <th>mean</th>\n",
       "      <td>-72.510921</td>\n",
       "      <td>39.923010</td>\n",
       "    </tr>\n",
       "    <tr>\n",
       "      <th>std</th>\n",
       "      <td>12.799829</td>\n",
       "      <td>9.821889</td>\n",
       "    </tr>\n",
       "    <tr>\n",
       "      <th>min</th>\n",
       "      <td>-3007.205450</td>\n",
       "      <td>-3258.765613</td>\n",
       "    </tr>\n",
       "    <tr>\n",
       "      <th>25%</th>\n",
       "      <td>-73.992075</td>\n",
       "      <td>40.734953</td>\n",
       "    </tr>\n",
       "    <tr>\n",
       "      <th>50%</th>\n",
       "      <td>-73.981834</td>\n",
       "      <td>40.752617</td>\n",
       "    </tr>\n",
       "    <tr>\n",
       "      <th>75%</th>\n",
       "      <td>-73.967073</td>\n",
       "      <td>40.767123</td>\n",
       "    </tr>\n",
       "    <tr>\n",
       "      <th>max</th>\n",
       "      <td>2522.271325</td>\n",
       "      <td>3001.930510</td>\n",
       "    </tr>\n",
       "  </tbody>\n",
       "</table>\n",
       "</div>"
      ],
      "text/plain": [
       "       pickup_longitude  pickup_latitude\n",
       "count     999943.000000    999943.000000\n",
       "mean         -72.510921        39.923010\n",
       "std           12.799829         9.821889\n",
       "min        -3007.205450     -3258.765613\n",
       "25%          -73.992075        40.734953\n",
       "50%          -73.981834        40.752617\n",
       "75%          -73.967073        40.767123\n",
       "max         2522.271325      3001.930510"
      ]
     },
     "execution_count": 30,
     "metadata": {},
     "output_type": "execute_result"
    }
   ],
   "source": [
    "training_set[['pickup_longitude','pickup_latitude']].describe()"
   ]
  },
  {
   "cell_type": "code",
   "execution_count": 31,
   "metadata": {},
   "outputs": [
    {
     "data": {
      "text/html": [
       "<div>\n",
       "<style scoped>\n",
       "    .dataframe tbody tr th:only-of-type {\n",
       "        vertical-align: middle;\n",
       "    }\n",
       "\n",
       "    .dataframe tbody tr th {\n",
       "        vertical-align: top;\n",
       "    }\n",
       "\n",
       "    .dataframe thead th {\n",
       "        text-align: right;\n",
       "    }\n",
       "</style>\n",
       "<table border=\"1\" class=\"dataframe\">\n",
       "  <thead>\n",
       "    <tr style=\"text-align: right;\">\n",
       "      <th></th>\n",
       "      <th>dropoff_longitude</th>\n",
       "      <th>dropoff_latitude</th>\n",
       "    </tr>\n",
       "  </thead>\n",
       "  <tbody>\n",
       "    <tr>\n",
       "      <th>count</th>\n",
       "      <td>999943.000000</td>\n",
       "      <td>999943.000000</td>\n",
       "    </tr>\n",
       "    <tr>\n",
       "      <th>mean</th>\n",
       "      <td>-72.524923</td>\n",
       "      <td>39.929551</td>\n",
       "    </tr>\n",
       "    <tr>\n",
       "      <th>std</th>\n",
       "      <td>13.494131</td>\n",
       "      <td>9.013549</td>\n",
       "    </tr>\n",
       "    <tr>\n",
       "      <th>min</th>\n",
       "      <td>-3426.600617</td>\n",
       "      <td>-2864.471003</td>\n",
       "    </tr>\n",
       "    <tr>\n",
       "      <th>25%</th>\n",
       "      <td>-73.991394</td>\n",
       "      <td>40.734068</td>\n",
       "    </tr>\n",
       "    <tr>\n",
       "      <th>50%</th>\n",
       "      <td>-73.980186</td>\n",
       "      <td>40.753143</td>\n",
       "    </tr>\n",
       "    <tr>\n",
       "      <th>75%</th>\n",
       "      <td>-73.963725</td>\n",
       "      <td>40.768072</td>\n",
       "    </tr>\n",
       "    <tr>\n",
       "      <th>max</th>\n",
       "      <td>2497.105768</td>\n",
       "      <td>2950.087992</td>\n",
       "    </tr>\n",
       "  </tbody>\n",
       "</table>\n",
       "</div>"
      ],
      "text/plain": [
       "       dropoff_longitude  dropoff_latitude\n",
       "count      999943.000000     999943.000000\n",
       "mean          -72.524923         39.929551\n",
       "std            13.494131          9.013549\n",
       "min         -3426.600617      -2864.471003\n",
       "25%           -73.991394         40.734068\n",
       "50%           -73.980186         40.753143\n",
       "75%           -73.963725         40.768072\n",
       "max          2497.105768       2950.087992"
      ]
     },
     "execution_count": 31,
     "metadata": {},
     "output_type": "execute_result"
    }
   ],
   "source": [
    "training_set[['dropoff_longitude','dropoff_latitude']].describe()"
   ]
  },
  {
   "cell_type": "markdown",
   "metadata": {},
   "source": [
    "#### Valid Longitude value = -180 to 180\n",
    "#### Valid Latitude value = -90 to 90\n",
    "#### Remove pickup cordinates and drop off cordinates which dont fall in this range "
   ]
  },
  {
   "cell_type": "markdown",
   "metadata": {},
   "source": [
    "##### Remove invalid pickup cordinates "
   ]
  },
  {
   "cell_type": "code",
   "execution_count": 32,
   "metadata": {},
   "outputs": [
    {
     "name": "stdout",
     "output_type": "stream",
     "text": [
      "Number of invalid pickup cordinates =  23\n"
     ]
    }
   ],
   "source": [
    "print(\"Number of invalid pickup cordinates = \",len((training_set[training_set['pickup_latitude']<-90])|(training_set[training_set['pickup_latitude']>90])|(training_set[training_set['pickup_longitude']<-180])|(training_set[training_set['pickup_longitude']>180])))"
   ]
  },
  {
   "cell_type": "code",
   "execution_count": 33,
   "metadata": {
    "scrolled": true
   },
   "outputs": [
    {
     "data": {
      "text/plain": [
       "(999920, 9)"
      ]
     },
     "execution_count": 33,
     "metadata": {},
     "output_type": "execute_result"
    }
   ],
   "source": [
    "training_set = training_set.drop(((training_set[training_set['pickup_latitude']<-90])|(training_set[training_set['pickup_latitude']>90])|(training_set[training_set['pickup_longitude']<-180])|(training_set[training_set['pickup_longitude']>180])).index, axis=0)\n",
    "training_set.shape"
   ]
  },
  {
   "cell_type": "markdown",
   "metadata": {},
   "source": [
    "##### Remove invalid drop off cordinates  "
   ]
  },
  {
   "cell_type": "code",
   "execution_count": 34,
   "metadata": {},
   "outputs": [
    {
     "name": "stdout",
     "output_type": "stream",
     "text": [
      "Number of invalid drop off cordinates =  11\n"
     ]
    }
   ],
   "source": [
    "print(\"Number of invalid drop off cordinates = \",len((training_set[training_set['dropoff_latitude']<-90])|(training_set[training_set['dropoff_latitude']>90])|(training_set[training_set['dropoff_longitude']<-180])|(training_set[training_set['dropoff_longitude']>180])))"
   ]
  },
  {
   "cell_type": "code",
   "execution_count": 35,
   "metadata": {},
   "outputs": [
    {
     "data": {
      "text/plain": [
       "(999909, 9)"
      ]
     },
     "execution_count": 35,
     "metadata": {},
     "output_type": "execute_result"
    }
   ],
   "source": [
    "training_set = training_set.drop(((training_set[training_set['dropoff_latitude']<-90])|(training_set[training_set['dropoff_latitude']>90])|(training_set[training_set['dropoff_longitude']<-180])|(training_set[training_set['dropoff_longitude']>180])).index, axis=0)\n",
    "training_set.shape"
   ]
  },
  {
   "cell_type": "code",
   "execution_count": 36,
   "metadata": {},
   "outputs": [
    {
     "data": {
      "text/html": [
       "<div>\n",
       "<style scoped>\n",
       "    .dataframe tbody tr th:only-of-type {\n",
       "        vertical-align: middle;\n",
       "    }\n",
       "\n",
       "    .dataframe tbody tr th {\n",
       "        vertical-align: top;\n",
       "    }\n",
       "\n",
       "    .dataframe thead th {\n",
       "        text-align: right;\n",
       "    }\n",
       "</style>\n",
       "<table border=\"1\" class=\"dataframe\">\n",
       "  <thead>\n",
       "    <tr style=\"text-align: right;\">\n",
       "      <th></th>\n",
       "      <th>Unnamed: 0</th>\n",
       "      <th>fare_amount</th>\n",
       "      <th>pickup_longitude</th>\n",
       "      <th>pickup_latitude</th>\n",
       "      <th>dropoff_longitude</th>\n",
       "      <th>dropoff_latitude</th>\n",
       "      <th>passenger_count</th>\n",
       "    </tr>\n",
       "  </thead>\n",
       "  <tbody>\n",
       "    <tr>\n",
       "      <th>count</th>\n",
       "      <td>9.999090e+05</td>\n",
       "      <td>999909.000000</td>\n",
       "      <td>999909.000000</td>\n",
       "      <td>999909.000000</td>\n",
       "      <td>999909.000000</td>\n",
       "      <td>999909.000000</td>\n",
       "      <td>999909.000000</td>\n",
       "    </tr>\n",
       "    <tr>\n",
       "      <th>mean</th>\n",
       "      <td>4.998146e+06</td>\n",
       "      <td>11.327908</td>\n",
       "      <td>-72.503139</td>\n",
       "      <td>39.919426</td>\n",
       "      <td>-72.505035</td>\n",
       "      <td>39.920396</td>\n",
       "      <td>1.687096</td>\n",
       "    </tr>\n",
       "    <tr>\n",
       "      <th>std</th>\n",
       "      <td>2.887442e+06</td>\n",
       "      <td>9.799757</td>\n",
       "      <td>10.441545</td>\n",
       "      <td>6.116109</td>\n",
       "      <td>10.432292</td>\n",
       "      <td>6.112700</td>\n",
       "      <td>1.310799</td>\n",
       "    </tr>\n",
       "    <tr>\n",
       "      <th>min</th>\n",
       "      <td>5.000000e+00</td>\n",
       "      <td>0.000000</td>\n",
       "      <td>-90.433333</td>\n",
       "      <td>-74.824164</td>\n",
       "      <td>-99.465398</td>\n",
       "      <td>-74.034587</td>\n",
       "      <td>0.000000</td>\n",
       "    </tr>\n",
       "    <tr>\n",
       "      <th>25%</th>\n",
       "      <td>2.496569e+06</td>\n",
       "      <td>6.000000</td>\n",
       "      <td>-73.992075</td>\n",
       "      <td>40.734953</td>\n",
       "      <td>-73.991394</td>\n",
       "      <td>40.734068</td>\n",
       "      <td>1.000000</td>\n",
       "    </tr>\n",
       "    <tr>\n",
       "      <th>50%</th>\n",
       "      <td>4.993116e+06</td>\n",
       "      <td>8.500000</td>\n",
       "      <td>-73.981834</td>\n",
       "      <td>40.752617</td>\n",
       "      <td>-73.980186</td>\n",
       "      <td>40.753142</td>\n",
       "      <td>1.000000</td>\n",
       "    </tr>\n",
       "    <tr>\n",
       "      <th>75%</th>\n",
       "      <td>7.499429e+06</td>\n",
       "      <td>12.500000</td>\n",
       "      <td>-73.967075</td>\n",
       "      <td>40.767123</td>\n",
       "      <td>-73.963725</td>\n",
       "      <td>40.768071</td>\n",
       "      <td>2.000000</td>\n",
       "    </tr>\n",
       "    <tr>\n",
       "      <th>max</th>\n",
       "      <td>9.999998e+06</td>\n",
       "      <td>952.000000</td>\n",
       "      <td>40.814712</td>\n",
       "      <td>89.742163</td>\n",
       "      <td>40.851582</td>\n",
       "      <td>81.545448</td>\n",
       "      <td>6.000000</td>\n",
       "    </tr>\n",
       "  </tbody>\n",
       "</table>\n",
       "</div>"
      ],
      "text/plain": [
       "         Unnamed: 0    fare_amount  pickup_longitude  pickup_latitude  \\\n",
       "count  9.999090e+05  999909.000000     999909.000000    999909.000000   \n",
       "mean   4.998146e+06      11.327908        -72.503139        39.919426   \n",
       "std    2.887442e+06       9.799757         10.441545         6.116109   \n",
       "min    5.000000e+00       0.000000        -90.433333       -74.824164   \n",
       "25%    2.496569e+06       6.000000        -73.992075        40.734953   \n",
       "50%    4.993116e+06       8.500000        -73.981834        40.752617   \n",
       "75%    7.499429e+06      12.500000        -73.967075        40.767123   \n",
       "max    9.999998e+06     952.000000         40.814712        89.742163   \n",
       "\n",
       "       dropoff_longitude  dropoff_latitude  passenger_count  \n",
       "count      999909.000000     999909.000000    999909.000000  \n",
       "mean          -72.505035         39.920396         1.687096  \n",
       "std            10.432292          6.112700         1.310799  \n",
       "min           -99.465398        -74.034587         0.000000  \n",
       "25%           -73.991394         40.734068         1.000000  \n",
       "50%           -73.980186         40.753142         1.000000  \n",
       "75%           -73.963725         40.768071         2.000000  \n",
       "max            40.851582         81.545448         6.000000  "
      ]
     },
     "execution_count": 36,
     "metadata": {},
     "output_type": "execute_result"
    }
   ],
   "source": [
    "training_set.describe()"
   ]
  },
  {
   "cell_type": "markdown",
   "metadata": {},
   "source": [
    "## Distance between pick up location and drop off location\n",
    "#### The distance in a sphere can be calculated when latitudes and longitudes are given by Haversine formula\n",
    "#### haversine(θ) = sin²(θ/2)\n",
    "\n",
    "#### φ is latitude, λ is longitude, R is earth’s radius (mean radius = 6,371km) to include latitude and longitude coordinates (A and B in this case).\n",
    "\n",
    "#### a = sin²((φB - φA)/2) + cos φA . cos φB . sin²((λB - λA)/2)\n",
    "\n",
    "#### c = 2 * atan2( √a, √(1−a) )\n",
    "\n",
    "#### d = R ⋅ c\n",
    "\n",
    "#### d = Haversine distance"
   ]
  },
  {
   "cell_type": "code",
   "execution_count": 37,
   "metadata": {},
   "outputs": [],
   "source": [
    "def haversine_distance(data):\n",
    "    R = 6371        # Radius of earth in Kilo Meter\n",
    "    \n",
    "    pickup_data = data[['pickup_longitude','pickup_latitude']]\n",
    "    dropoff_data = data[['dropoff_longitude','dropoff_latitude']]\n",
    "    \n",
    "    phi1 = np.radians(pickup_data['pickup_latitude'])\n",
    "    phi2 = np.radians(dropoff_data['dropoff_latitude'])\n",
    "    \n",
    "    delta_phi = np.radians(dropoff_data['dropoff_latitude'] - pickup_data['pickup_latitude'])\n",
    "    delta_lambda = np.radians(dropoff_data['dropoff_longitude'] - pickup_data['pickup_longitude'])\n",
    "    \n",
    "    #a = sin²((φB - φA)/2) + cos φA . cos φB . sin²((λB - λA)/2)\n",
    "    a = np.sin((delta_phi)/2)**2 + np.cos(phi1)*np.cos(phi2)*np.sin(delta_lambda/2)**2\n",
    "    \n",
    "    #c = 2 * atan2( √a, √(1−a) )\n",
    "    c = 2 * np.arctan2(np.sqrt(a),np.sqrt(1-a))\n",
    "    d = R * c\n",
    "    \n",
    "    return d\n",
    "    "
   ]
  },
  {
   "cell_type": "code",
   "execution_count": 38,
   "metadata": {
    "scrolled": false
   },
   "outputs": [],
   "source": [
    "training_set_distance = pd.DataFrame(haversine_distance(training_set) , columns=['Distance'])\n",
    "training_set = pd.concat([training_set , training_set_distance] , axis = 1)"
   ]
  },
  {
   "cell_type": "code",
   "execution_count": 39,
   "metadata": {
    "scrolled": true
   },
   "outputs": [
    {
     "data": {
      "text/html": [
       "<div>\n",
       "<style scoped>\n",
       "    .dataframe tbody tr th:only-of-type {\n",
       "        vertical-align: middle;\n",
       "    }\n",
       "\n",
       "    .dataframe tbody tr th {\n",
       "        vertical-align: top;\n",
       "    }\n",
       "\n",
       "    .dataframe thead th {\n",
       "        text-align: right;\n",
       "    }\n",
       "</style>\n",
       "<table border=\"1\" class=\"dataframe\">\n",
       "  <thead>\n",
       "    <tr style=\"text-align: right;\">\n",
       "      <th></th>\n",
       "      <th>Unnamed: 0</th>\n",
       "      <th>key</th>\n",
       "      <th>fare_amount</th>\n",
       "      <th>pickup_datetime</th>\n",
       "      <th>pickup_longitude</th>\n",
       "      <th>pickup_latitude</th>\n",
       "      <th>dropoff_longitude</th>\n",
       "      <th>dropoff_latitude</th>\n",
       "      <th>passenger_count</th>\n",
       "      <th>Distance</th>\n",
       "    </tr>\n",
       "  </thead>\n",
       "  <tbody>\n",
       "    <tr>\n",
       "      <th>0</th>\n",
       "      <td>4269478</td>\n",
       "      <td>2009-09-16 18:30:43.0000003</td>\n",
       "      <td>10.5</td>\n",
       "      <td>2009-09-16 18:30:43 UTC</td>\n",
       "      <td>-73.956166</td>\n",
       "      <td>40.780095</td>\n",
       "      <td>-73.991168</td>\n",
       "      <td>40.760530</td>\n",
       "      <td>1</td>\n",
       "      <td>3.663486</td>\n",
       "    </tr>\n",
       "    <tr>\n",
       "      <th>1</th>\n",
       "      <td>6753615</td>\n",
       "      <td>2014-08-12 19:51:00.00000058</td>\n",
       "      <td>5.5</td>\n",
       "      <td>2014-08-12 19:51:00 UTC</td>\n",
       "      <td>-73.988327</td>\n",
       "      <td>40.755127</td>\n",
       "      <td>-73.998407</td>\n",
       "      <td>40.743605</td>\n",
       "      <td>4</td>\n",
       "      <td>1.537026</td>\n",
       "    </tr>\n",
       "    <tr>\n",
       "      <th>2</th>\n",
       "      <td>638871</td>\n",
       "      <td>2010-01-03 17:13:00.000000176</td>\n",
       "      <td>45.0</td>\n",
       "      <td>2010-01-03 17:13:00 UTC</td>\n",
       "      <td>-73.928602</td>\n",
       "      <td>40.736587</td>\n",
       "      <td>-73.989305</td>\n",
       "      <td>40.741353</td>\n",
       "      <td>1</td>\n",
       "      <td>5.141694</td>\n",
       "    </tr>\n",
       "    <tr>\n",
       "      <th>3</th>\n",
       "      <td>7919773</td>\n",
       "      <td>2015-04-25 08:09:21.0000002</td>\n",
       "      <td>13.5</td>\n",
       "      <td>2015-04-25 08:09:21 UTC</td>\n",
       "      <td>-73.993828</td>\n",
       "      <td>40.766972</td>\n",
       "      <td>-73.988037</td>\n",
       "      <td>40.733788</td>\n",
       "      <td>1</td>\n",
       "      <td>3.722001</td>\n",
       "    </tr>\n",
       "    <tr>\n",
       "      <th>4</th>\n",
       "      <td>9894903</td>\n",
       "      <td>2012-08-30 20:25:00.000000140</td>\n",
       "      <td>4.1</td>\n",
       "      <td>2012-08-30 20:25:00 UTC</td>\n",
       "      <td>-73.973805</td>\n",
       "      <td>40.749402</td>\n",
       "      <td>-73.976080</td>\n",
       "      <td>40.745798</td>\n",
       "      <td>2</td>\n",
       "      <td>0.444214</td>\n",
       "    </tr>\n",
       "  </tbody>\n",
       "</table>\n",
       "</div>"
      ],
      "text/plain": [
       "   Unnamed: 0                            key  fare_amount  \\\n",
       "0     4269478    2009-09-16 18:30:43.0000003         10.5   \n",
       "1     6753615   2014-08-12 19:51:00.00000058          5.5   \n",
       "2      638871  2010-01-03 17:13:00.000000176         45.0   \n",
       "3     7919773    2015-04-25 08:09:21.0000002         13.5   \n",
       "4     9894903  2012-08-30 20:25:00.000000140          4.1   \n",
       "\n",
       "           pickup_datetime  pickup_longitude  pickup_latitude  \\\n",
       "0  2009-09-16 18:30:43 UTC        -73.956166        40.780095   \n",
       "1  2014-08-12 19:51:00 UTC        -73.988327        40.755127   \n",
       "2  2010-01-03 17:13:00 UTC        -73.928602        40.736587   \n",
       "3  2015-04-25 08:09:21 UTC        -73.993828        40.766972   \n",
       "4  2012-08-30 20:25:00 UTC        -73.973805        40.749402   \n",
       "\n",
       "   dropoff_longitude  dropoff_latitude  passenger_count  Distance  \n",
       "0         -73.991168         40.760530                1  3.663486  \n",
       "1         -73.998407         40.743605                4  1.537026  \n",
       "2         -73.989305         40.741353                1  5.141694  \n",
       "3         -73.988037         40.733788                1  3.722001  \n",
       "4         -73.976080         40.745798                2  0.444214  "
      ]
     },
     "execution_count": 39,
     "metadata": {},
     "output_type": "execute_result"
    }
   ],
   "source": [
    "training_set.head()"
   ]
  },
  {
   "cell_type": "code",
   "execution_count": 40,
   "metadata": {},
   "outputs": [
    {
     "data": {
      "text/html": [
       "<div>\n",
       "<style scoped>\n",
       "    .dataframe tbody tr th:only-of-type {\n",
       "        vertical-align: middle;\n",
       "    }\n",
       "\n",
       "    .dataframe tbody tr th {\n",
       "        vertical-align: top;\n",
       "    }\n",
       "\n",
       "    .dataframe thead th {\n",
       "        text-align: right;\n",
       "    }\n",
       "</style>\n",
       "<table border=\"1\" class=\"dataframe\">\n",
       "  <thead>\n",
       "    <tr style=\"text-align: right;\">\n",
       "      <th></th>\n",
       "      <th>Unnamed: 0</th>\n",
       "      <th>fare_amount</th>\n",
       "      <th>pickup_longitude</th>\n",
       "      <th>pickup_latitude</th>\n",
       "      <th>dropoff_longitude</th>\n",
       "      <th>dropoff_latitude</th>\n",
       "      <th>passenger_count</th>\n",
       "      <th>Distance</th>\n",
       "    </tr>\n",
       "  </thead>\n",
       "  <tbody>\n",
       "    <tr>\n",
       "      <th>count</th>\n",
       "      <td>9.999090e+05</td>\n",
       "      <td>999909.000000</td>\n",
       "      <td>999909.000000</td>\n",
       "      <td>999909.000000</td>\n",
       "      <td>999909.000000</td>\n",
       "      <td>999909.000000</td>\n",
       "      <td>999909.000000</td>\n",
       "      <td>999909.000000</td>\n",
       "    </tr>\n",
       "    <tr>\n",
       "      <th>mean</th>\n",
       "      <td>4.998146e+06</td>\n",
       "      <td>11.327908</td>\n",
       "      <td>-72.503139</td>\n",
       "      <td>39.919426</td>\n",
       "      <td>-72.505035</td>\n",
       "      <td>39.920396</td>\n",
       "      <td>1.687096</td>\n",
       "      <td>19.694480</td>\n",
       "    </tr>\n",
       "    <tr>\n",
       "      <th>std</th>\n",
       "      <td>2.887442e+06</td>\n",
       "      <td>9.799757</td>\n",
       "      <td>10.441545</td>\n",
       "      <td>6.116109</td>\n",
       "      <td>10.432292</td>\n",
       "      <td>6.112700</td>\n",
       "      <td>1.310799</td>\n",
       "      <td>369.542398</td>\n",
       "    </tr>\n",
       "    <tr>\n",
       "      <th>min</th>\n",
       "      <td>5.000000e+00</td>\n",
       "      <td>0.000000</td>\n",
       "      <td>-90.433333</td>\n",
       "      <td>-74.824164</td>\n",
       "      <td>-99.465398</td>\n",
       "      <td>-74.034587</td>\n",
       "      <td>0.000000</td>\n",
       "      <td>0.000000</td>\n",
       "    </tr>\n",
       "    <tr>\n",
       "      <th>25%</th>\n",
       "      <td>2.496569e+06</td>\n",
       "      <td>6.000000</td>\n",
       "      <td>-73.992075</td>\n",
       "      <td>40.734953</td>\n",
       "      <td>-73.991394</td>\n",
       "      <td>40.734068</td>\n",
       "      <td>1.000000</td>\n",
       "      <td>1.210914</td>\n",
       "    </tr>\n",
       "    <tr>\n",
       "      <th>50%</th>\n",
       "      <td>4.993116e+06</td>\n",
       "      <td>8.500000</td>\n",
       "      <td>-73.981834</td>\n",
       "      <td>40.752617</td>\n",
       "      <td>-73.980186</td>\n",
       "      <td>40.753142</td>\n",
       "      <td>1.000000</td>\n",
       "      <td>2.113957</td>\n",
       "    </tr>\n",
       "    <tr>\n",
       "      <th>75%</th>\n",
       "      <td>7.499429e+06</td>\n",
       "      <td>12.500000</td>\n",
       "      <td>-73.967075</td>\n",
       "      <td>40.767123</td>\n",
       "      <td>-73.963725</td>\n",
       "      <td>40.768071</td>\n",
       "      <td>2.000000</td>\n",
       "      <td>3.874114</td>\n",
       "    </tr>\n",
       "    <tr>\n",
       "      <th>max</th>\n",
       "      <td>9.999998e+06</td>\n",
       "      <td>952.000000</td>\n",
       "      <td>40.814712</td>\n",
       "      <td>89.742163</td>\n",
       "      <td>40.851582</td>\n",
       "      <td>81.545448</td>\n",
       "      <td>6.000000</td>\n",
       "      <td>12851.756269</td>\n",
       "    </tr>\n",
       "  </tbody>\n",
       "</table>\n",
       "</div>"
      ],
      "text/plain": [
       "         Unnamed: 0    fare_amount  pickup_longitude  pickup_latitude  \\\n",
       "count  9.999090e+05  999909.000000     999909.000000    999909.000000   \n",
       "mean   4.998146e+06      11.327908        -72.503139        39.919426   \n",
       "std    2.887442e+06       9.799757         10.441545         6.116109   \n",
       "min    5.000000e+00       0.000000        -90.433333       -74.824164   \n",
       "25%    2.496569e+06       6.000000        -73.992075        40.734953   \n",
       "50%    4.993116e+06       8.500000        -73.981834        40.752617   \n",
       "75%    7.499429e+06      12.500000        -73.967075        40.767123   \n",
       "max    9.999998e+06     952.000000         40.814712        89.742163   \n",
       "\n",
       "       dropoff_longitude  dropoff_latitude  passenger_count       Distance  \n",
       "count      999909.000000     999909.000000    999909.000000  999909.000000  \n",
       "mean          -72.505035         39.920396         1.687096      19.694480  \n",
       "std            10.432292          6.112700         1.310799     369.542398  \n",
       "min           -99.465398        -74.034587         0.000000       0.000000  \n",
       "25%           -73.991394         40.734068         1.000000       1.210914  \n",
       "50%           -73.980186         40.753142         1.000000       2.113957  \n",
       "75%           -73.963725         40.768071         2.000000       3.874114  \n",
       "max            40.851582         81.545448         6.000000   12851.756269  "
      ]
     },
     "execution_count": 40,
     "metadata": {},
     "output_type": "execute_result"
    }
   ],
   "source": [
    "training_set.describe()"
   ]
  },
  {
   "cell_type": "code",
   "execution_count": 41,
   "metadata": {},
   "outputs": [
    {
     "data": {
      "image/png": "[encoded data removed]",
      "text/plain": [
       "<Figure size 432x288 with 1 Axes>"
      ]
     },
     "metadata": {
      "needs_background": "light"
     },
     "output_type": "display_data"
    }
   ],
   "source": [
    "plt.scatter(training_set['Distance'] , training_set['fare_amount'] , c = 'r' , marker = 'x')\n",
    "plt.title('Distance Vs Fare Amount',size = 20)\n",
    "plt.xlabel('Distance (meters)',size = 14)\n",
    "plt.ylabel('Fare Amount ($)',size = 14)\n",
    "plt.show()"
   ]
  },
  {
   "cell_type": "markdown",
   "metadata": {},
   "source": [
    "## Support Vector Regression on Feature Distance "
   ]
  },
  {
   "cell_type": "code",
   "execution_count": 52,
   "metadata": {},
   "outputs": [],
   "source": [
    "data = training_set.sample(n = 100 , replace = False)\n",
    "X = np.array(data['Distance']).reshape(len(data),1)\n",
    "y = np.array(data['fare_amount'])\n"
   ]
  },
  {
   "cell_type": "code",
   "execution_count": 53,
   "metadata": {},
   "outputs": [],
   "source": [
    "def svr_linear(X,y):\n",
    "    svr_lin = SVR(kernel='linear', C=100, gamma='auto')\n",
    "    y_lin = svr_lin.fit(X, y).predict(X)\n",
    "    \n",
    "    return svr_lin\n",
    "\n",
    "def svr_polynomial(X,y):\n",
    "    svr_poly = SVR(kernel='poly', C=100, gamma='auto', degree=3, epsilon=.1, coef0=1)\n",
    "    y_poly = svr_poly.fit(X, y).predict(X)\n",
    "\n",
    "    return svr_poly\n",
    "\n",
    "def svr_RBF(X,y):\n",
    "    svr_rbf = SVR(kernel='rbf', C=100, gamma=0.1, epsilon=.1)\n",
    "    y_rbf = svr_rbf.fit(X, y).predict(X)\n",
    "    \n",
    "    return svr_rbf"
   ]
  },
  {
   "cell_type": "code",
   "execution_count": 54,
   "metadata": {},
   "outputs": [],
   "source": [
    "from multiprocessing.pool import ThreadPool\n",
    "pool = ThreadPool(processes=1)\n",
    "\n",
    "t1 = pool.apply_async(svr_polynomial,(X,y,)) \n",
    "t2 = pool.apply_async(svr_RBF, (X,y,)) \n",
    "t3 = pool.apply_async(svr_linear, (X,y,)) \n",
    "\n",
    "svr_poly = t1.get()\n",
    "svr_rbf = t2.get()\n",
    "svr_lin = t3.get()"
   ]
  },
  {
   "cell_type": "code",
   "execution_count": 55,
   "metadata": {},
   "outputs": [
    {
     "data": {
      "image/png": "[encoded data removed]",
      "text/plain": [
       "<Figure size 1080x720 with 3 Axes>"
      ]
     },
     "metadata": {
      "needs_background": "light"
     },
     "output_type": "display_data"
    }
   ],
   "source": [
    "lw = 2\n",
    "svrs = [svr_rbf, svr_lin, svr_poly]\n",
    "kernel_label = ['RBF', 'Linear', 'Polynomial']\n",
    "model_color = ['m', 'c', 'g']\n",
    "fig, axes = plt.subplots(nrows=1, ncols=3, figsize=(15, 10), sharey=True)\n",
    "\n",
    "for ix, svr in enumerate(svrs):\n",
    "    axes[ix].plot(X, svr.fit(X, y).predict(X), color=model_color[ix], lw=lw,\n",
    "                  label='{} model'.format(kernel_label[ix]))\n",
    "    axes[ix].scatter(X[svr.support_], y[svr.support_], facecolor=\"none\",\n",
    "                     edgecolor=model_color[ix], s=50,\n",
    "                     label='{} support vectors'.format(kernel_label[ix]))\n",
    "    axes[ix].scatter(X[np.setdiff1d(np.arange(len(X)), svr.support_)],\n",
    "                     y[np.setdiff1d(np.arange(len(X)), svr.support_)],\n",
    "                     facecolor=\"none\", edgecolor=\"k\", s=50,\n",
    "                     label='other training data')\n",
    "    axes[ix].legend(loc='upper center', bbox_to_anchor=(0.5, 1.1),\n",
    "                    ncol=1, fancybox=True, shadow=True)\n",
    "\n",
    "fig.text(0.5, 0.04, 'data', ha='center', va='center')\n",
    "fig.text(0.06, 0.5, 'target', ha='center', va='center', rotation='vertical')\n",
    "fig.suptitle(\"Support Vector Regression\", fontsize=14)\n",
    "plt.show()"
   ]
  },
  {
   "cell_type": "code",
   "execution_count": null,
   "metadata": {},
   "outputs": [],
   "source": []
  }
 ],
 "metadata": {
  "kernelspec": {
   "display_name": "Python 3",
   "language": "python",
   "name": "python3"
  },
  "language_info": {
   "codemirror_mode": {
    "name": "ipython",
    "version": 3
   },
   "file_extension": ".py",
   "mimetype": "text/x-python",
   "name": "python",
   "nbconvert_exporter": "python",
   "pygments_lexer": "ipython3",
   "version": "3.7.1"
  }
 },
 "nbformat": 4,
 "nbformat_minor": 2
}
