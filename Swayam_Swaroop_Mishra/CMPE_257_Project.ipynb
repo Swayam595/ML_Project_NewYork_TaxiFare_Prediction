{
  "nbformat": 4,
  "nbformat_minor": 0,
  "metadata": {
    "colab": {
      "name": "CMPE_257_Project (1).ipynb",
      "version": "0.3.2",
      "provenance": [],
      "collapsed_sections": [
        "aZ5_UpLVG-QY",
        "9JCPbjVrG-Q5",
        "gSKtvR_AG-RM",
        "_YqhU5ofG-Rj",
        "T0L-DdWfG-R_",
        "DVUYX7VuG-SX",
        "vC0sjijrG-Su",
        "lhTN8-KkG-Vj",
        "uNazvKKWG-WR",
        "KIlhc7LgG-XS",
        "vdgn1fslG-Xu",
        "0J_6JsE6G-Yl",
        "4v0_hPtVfGxM",
        "zBTlOuS8fyli",
        "Oh9ZoBbLiXyP",
        "nxBmoe66iY1V",
        "5QBpnu31jMrS",
        "6vjp1d7fkMYG",
        "dl2ayw8oknHy",
        "bTig0iRAvLUP",
        "fv7B-36pvRVs",
        "EEyzMJ4q8dtH",
        "yQccm7Vo9Gqb"
      ]
    },
    "language_info": {
      "codemirror_mode": {
        "name": "ipython",
        "version": 3
      },
      "file_extension": ".py",
      "mimetype": "text/x-python",
      "name": "python",
      "nbconvert_exporter": "python",
      "pygments_lexer": "ipython3",
      "version": "3.7.1"
    },
    "kernelspec": {
      "name": "python3",
      "display_name": "Python 3"
    },
    "accelerator": "GPU"
  },
  "cells": [
    {
      "cell_type": "code",
      "metadata": {
        "scrolled": false,
        "id": "c05kz5iWG-NH",
        "colab_type": "code",
        "colab": {}
      },
      "source": [
        "import numpy as np\n",
        "import pandas as pd\n",
        "import matplotlib.pyplot as plt\n",
        "import seaborn as sns\n",
        "from sklearn.svm import SVR\n",
        "from multiprocessing.pool import ThreadPool\n",
        "from sklearn.metrics import mean_squared_error\n",
        "import time\n",
        "from collections import Counter\n",
        "\n",
        "\n",
        "pool = ThreadPool(processes=1)\n",
        "\n",
        "sns.set()\n",
        "\n",
        "data = pd.read_csv('train.csv',nrows = 10000000)       # Contains the first 10 million data from                                                                       \n",
        "    \n",
        "training_set = data.sample(n = 1000000 , replace = False)    # 1 million random data from same distribution\n",
        "dev_set = data.sample(n = 10000 , replace = False)           # 10000 random data from same distribution"
      ],
      "execution_count": 0,
      "outputs": []
    },
    {
      "cell_type": "markdown",
      "metadata": {
        "id": "CDlG5wpsG-Nh",
        "colab_type": "text"
      },
      "source": [
        "# Shape, data type, data sample and descriptive statistics of Training Set"
      ]
    },
    {
      "cell_type": "markdown",
      "metadata": {
        "id": "AN-oW9GQG-Nl",
        "colab_type": "text"
      },
      "source": [
        "### Shape"
      ]
    },
    {
      "cell_type": "code",
      "metadata": {
        "id": "6Jku-iKGG-No",
        "colab_type": "code",
        "outputId": "0563fa33-019c-492a-97a6-a07574cd5afd",
        "colab": {
          "base_uri": "https://localhost:8080/",
          "height": 34
        }
      },
      "source": [
        "training_set.shape"
      ],
      "execution_count": 0,
      "outputs": [
        {
          "output_type": "execute_result",
          "data": {
            "text/plain": [
              "(1000000, 9)"
            ]
          },
          "metadata": {
            "tags": []
          },
          "execution_count": 59
        }
      ]
    },
    {
      "cell_type": "markdown",
      "metadata": {
        "id": "qrn8LvvzG-OQ",
        "colab_type": "text"
      },
      "source": [
        "### Data Type"
      ]
    },
    {
      "cell_type": "code",
      "metadata": {
        "id": "aKZNOVQOG-OV",
        "colab_type": "code",
        "outputId": "1bbb6ec4-382d-4ada-f00e-45e15d5fc805",
        "colab": {
          "base_uri": "https://localhost:8080/",
          "height": 194
        }
      },
      "source": [
        "training_set.dtypes"
      ],
      "execution_count": 0,
      "outputs": [
        {
          "output_type": "execute_result",
          "data": {
            "text/plain": [
              "Unnamed: 0             int64\n",
              "key                   object\n",
              "fare_amount          float64\n",
              "pickup_datetime       object\n",
              "pickup_longitude     float64\n",
              "pickup_latitude      float64\n",
              "dropoff_longitude    float64\n",
              "dropoff_latitude     float64\n",
              "passenger_count        int64\n",
              "dtype: object"
            ]
          },
          "metadata": {
            "tags": []
          },
          "execution_count": 60
        }
      ]
    },
    {
      "cell_type": "markdown",
      "metadata": {
        "id": "CjgCw2kZG-Om",
        "colab_type": "text"
      },
      "source": [
        "### Data Sample"
      ]
    },
    {
      "cell_type": "code",
      "metadata": {
        "id": "vQnGtWqCG-Oq",
        "colab_type": "code",
        "outputId": "a6ee564c-8e92-4613-e99b-f4b4d06f46da",
        "colab": {
          "base_uri": "https://localhost:8080/",
          "height": 197
        }
      },
      "source": [
        "training_set.head()"
      ],
      "execution_count": 0,
      "outputs": [
        {
          "output_type": "execute_result",
          "data": {
            "text/html": [
              "<div>\n",
              "<style scoped>\n",
              "    .dataframe tbody tr th:only-of-type {\n",
              "        vertical-align: middle;\n",
              "    }\n",
              "\n",
              "    .dataframe tbody tr th {\n",
              "        vertical-align: top;\n",
              "    }\n",
              "\n",
              "    .dataframe thead th {\n",
              "        text-align: right;\n",
              "    }\n",
              "</style>\n",
              "<table border=\"1\" class=\"dataframe\">\n",
              "  <thead>\n",
              "    <tr style=\"text-align: right;\">\n",
              "      <th></th>\n",
              "      <th>Unnamed: 0</th>\n",
              "      <th>key</th>\n",
              "      <th>fare_amount</th>\n",
              "      <th>pickup_datetime</th>\n",
              "      <th>pickup_longitude</th>\n",
              "      <th>pickup_latitude</th>\n",
              "      <th>dropoff_longitude</th>\n",
              "      <th>dropoff_latitude</th>\n",
              "      <th>passenger_count</th>\n",
              "    </tr>\n",
              "  </thead>\n",
              "  <tbody>\n",
              "    <tr>\n",
              "      <th>0</th>\n",
              "      <td>6846288</td>\n",
              "      <td>2014-08-14 01:36:34.0000001</td>\n",
              "      <td>6.5</td>\n",
              "      <td>2014-08-14 01:36:34 UTC</td>\n",
              "      <td>-73.975764</td>\n",
              "      <td>40.753898</td>\n",
              "      <td>-73.961381</td>\n",
              "      <td>40.769729</td>\n",
              "      <td>1</td>\n",
              "    </tr>\n",
              "    <tr>\n",
              "      <th>1</th>\n",
              "      <td>6026469</td>\n",
              "      <td>2015-02-24 09:56:15.0000005</td>\n",
              "      <td>6.0</td>\n",
              "      <td>2015-02-24 09:56:15 UTC</td>\n",
              "      <td>-73.974663</td>\n",
              "      <td>40.756310</td>\n",
              "      <td>-73.980339</td>\n",
              "      <td>40.760742</td>\n",
              "      <td>1</td>\n",
              "    </tr>\n",
              "    <tr>\n",
              "      <th>2</th>\n",
              "      <td>6472844</td>\n",
              "      <td>2014-01-14 20:12:06.0000001</td>\n",
              "      <td>5.5</td>\n",
              "      <td>2014-01-14 20:12:06 UTC</td>\n",
              "      <td>-73.970602</td>\n",
              "      <td>40.785972</td>\n",
              "      <td>-73.955813</td>\n",
              "      <td>40.783007</td>\n",
              "      <td>1</td>\n",
              "    </tr>\n",
              "    <tr>\n",
              "      <th>3</th>\n",
              "      <td>7672835</td>\n",
              "      <td>2012-04-06 07:02:34.0000001</td>\n",
              "      <td>8.1</td>\n",
              "      <td>2012-04-06 07:02:34 UTC</td>\n",
              "      <td>-74.007823</td>\n",
              "      <td>40.732122</td>\n",
              "      <td>-73.983278</td>\n",
              "      <td>40.761789</td>\n",
              "      <td>1</td>\n",
              "    </tr>\n",
              "    <tr>\n",
              "      <th>4</th>\n",
              "      <td>5340043</td>\n",
              "      <td>2009-03-29 20:33:54.0000002</td>\n",
              "      <td>7.4</td>\n",
              "      <td>2009-03-29 20:33:54 UTC</td>\n",
              "      <td>-73.996974</td>\n",
              "      <td>40.737093</td>\n",
              "      <td>-73.977298</td>\n",
              "      <td>40.729153</td>\n",
              "      <td>1</td>\n",
              "    </tr>\n",
              "  </tbody>\n",
              "</table>\n",
              "</div>"
            ],
            "text/plain": [
              "   Unnamed: 0                          key  fare_amount  \\\n",
              "0     6846288  2014-08-14 01:36:34.0000001          6.5   \n",
              "1     6026469  2015-02-24 09:56:15.0000005          6.0   \n",
              "2     6472844  2014-01-14 20:12:06.0000001          5.5   \n",
              "3     7672835  2012-04-06 07:02:34.0000001          8.1   \n",
              "4     5340043  2009-03-29 20:33:54.0000002          7.4   \n",
              "\n",
              "           pickup_datetime  pickup_longitude  pickup_latitude  \\\n",
              "0  2014-08-14 01:36:34 UTC        -73.975764        40.753898   \n",
              "1  2015-02-24 09:56:15 UTC        -73.974663        40.756310   \n",
              "2  2014-01-14 20:12:06 UTC        -73.970602        40.785972   \n",
              "3  2012-04-06 07:02:34 UTC        -74.007823        40.732122   \n",
              "4  2009-03-29 20:33:54 UTC        -73.996974        40.737093   \n",
              "\n",
              "   dropoff_longitude  dropoff_latitude  passenger_count  \n",
              "0         -73.961381         40.769729                1  \n",
              "1         -73.980339         40.760742                1  \n",
              "2         -73.955813         40.783007                1  \n",
              "3         -73.983278         40.761789                1  \n",
              "4         -73.977298         40.729153                1  "
            ]
          },
          "metadata": {
            "tags": []
          },
          "execution_count": 61
        }
      ]
    },
    {
      "cell_type": "markdown",
      "metadata": {
        "id": "lNd8dCk8G-O_",
        "colab_type": "text"
      },
      "source": [
        "### Descriptive statistics "
      ]
    },
    {
      "cell_type": "code",
      "metadata": {
        "id": "SJttRNKkG-PG",
        "colab_type": "code",
        "outputId": "8a0273f5-7214-4f50-f366-725049dace39",
        "colab": {
          "base_uri": "https://localhost:8080/",
          "height": 287
        }
      },
      "source": [
        "training_set.describe()"
      ],
      "execution_count": 0,
      "outputs": [
        {
          "output_type": "execute_result",
          "data": {
            "text/html": [
              "<div>\n",
              "<style scoped>\n",
              "    .dataframe tbody tr th:only-of-type {\n",
              "        vertical-align: middle;\n",
              "    }\n",
              "\n",
              "    .dataframe tbody tr th {\n",
              "        vertical-align: top;\n",
              "    }\n",
              "\n",
              "    .dataframe thead th {\n",
              "        text-align: right;\n",
              "    }\n",
              "</style>\n",
              "<table border=\"1\" class=\"dataframe\">\n",
              "  <thead>\n",
              "    <tr style=\"text-align: right;\">\n",
              "      <th></th>\n",
              "      <th>Unnamed: 0</th>\n",
              "      <th>fare_amount</th>\n",
              "      <th>pickup_longitude</th>\n",
              "      <th>pickup_latitude</th>\n",
              "      <th>dropoff_longitude</th>\n",
              "      <th>dropoff_latitude</th>\n",
              "      <th>passenger_count</th>\n",
              "    </tr>\n",
              "  </thead>\n",
              "  <tbody>\n",
              "    <tr>\n",
              "      <th>count</th>\n",
              "      <td>1.000000e+06</td>\n",
              "      <td>1000000.000000</td>\n",
              "      <td>1000000.000000</td>\n",
              "      <td>1000000.000000</td>\n",
              "      <td>999992.000000</td>\n",
              "      <td>999992.000000</td>\n",
              "      <td>1000000.000000</td>\n",
              "    </tr>\n",
              "    <tr>\n",
              "      <th>mean</th>\n",
              "      <td>4.998324e+06</td>\n",
              "      <td>11.361415</td>\n",
              "      <td>-72.495018</td>\n",
              "      <td>39.922878</td>\n",
              "      <td>-72.504531</td>\n",
              "      <td>39.911158</td>\n",
              "      <td>1.685234</td>\n",
              "    </tr>\n",
              "    <tr>\n",
              "      <th>std</th>\n",
              "      <td>2.885680e+06</td>\n",
              "      <td>9.893425</td>\n",
              "      <td>12.260718</td>\n",
              "      <td>9.391801</td>\n",
              "      <td>12.781010</td>\n",
              "      <td>9.858497</td>\n",
              "      <td>1.346792</td>\n",
              "    </tr>\n",
              "    <tr>\n",
              "      <th>min</th>\n",
              "      <td>5.000000e+00</td>\n",
              "      <td>-107.750000</td>\n",
              "      <td>-2404.643242</td>\n",
              "      <td>-2875.860745</td>\n",
              "      <td>-3004.395947</td>\n",
              "      <td>-3271.296725</td>\n",
              "      <td>0.000000</td>\n",
              "    </tr>\n",
              "    <tr>\n",
              "      <th>25%</th>\n",
              "      <td>2.500745e+06</td>\n",
              "      <td>6.000000</td>\n",
              "      <td>-73.992062</td>\n",
              "      <td>40.734936</td>\n",
              "      <td>-73.991390</td>\n",
              "      <td>40.734032</td>\n",
              "      <td>1.000000</td>\n",
              "    </tr>\n",
              "    <tr>\n",
              "      <th>50%</th>\n",
              "      <td>4.997443e+06</td>\n",
              "      <td>8.500000</td>\n",
              "      <td>-73.981785</td>\n",
              "      <td>40.752627</td>\n",
              "      <td>-73.980137</td>\n",
              "      <td>40.753186</td>\n",
              "      <td>1.000000</td>\n",
              "    </tr>\n",
              "    <tr>\n",
              "      <th>75%</th>\n",
              "      <td>7.498032e+06</td>\n",
              "      <td>12.500000</td>\n",
              "      <td>-73.967091</td>\n",
              "      <td>40.767121</td>\n",
              "      <td>-73.963633</td>\n",
              "      <td>40.768122</td>\n",
              "      <td>2.000000</td>\n",
              "    </tr>\n",
              "    <tr>\n",
              "      <th>max</th>\n",
              "      <td>9.999971e+06</td>\n",
              "      <td>952.000000</td>\n",
              "      <td>2417.411523</td>\n",
              "      <td>2977.030610</td>\n",
              "      <td>2889.997293</td>\n",
              "      <td>3305.291182</td>\n",
              "      <td>208.000000</td>\n",
              "    </tr>\n",
              "  </tbody>\n",
              "</table>\n",
              "</div>"
            ],
            "text/plain": [
              "         Unnamed: 0     fare_amount  pickup_longitude  pickup_latitude  \\\n",
              "count  1.000000e+06  1000000.000000    1000000.000000   1000000.000000   \n",
              "mean   4.998324e+06       11.361415        -72.495018        39.922878   \n",
              "std    2.885680e+06        9.893425         12.260718         9.391801   \n",
              "min    5.000000e+00     -107.750000      -2404.643242     -2875.860745   \n",
              "25%    2.500745e+06        6.000000        -73.992062        40.734936   \n",
              "50%    4.997443e+06        8.500000        -73.981785        40.752627   \n",
              "75%    7.498032e+06       12.500000        -73.967091        40.767121   \n",
              "max    9.999971e+06      952.000000       2417.411523      2977.030610   \n",
              "\n",
              "       dropoff_longitude  dropoff_latitude  passenger_count  \n",
              "count      999992.000000     999992.000000   1000000.000000  \n",
              "mean          -72.504531         39.911158         1.685234  \n",
              "std            12.781010          9.858497         1.346792  \n",
              "min         -3004.395947      -3271.296725         0.000000  \n",
              "25%           -73.991390         40.734032         1.000000  \n",
              "50%           -73.980137         40.753186         1.000000  \n",
              "75%           -73.963633         40.768122         2.000000  \n",
              "max          2889.997293       3305.291182       208.000000  "
            ]
          },
          "metadata": {
            "tags": []
          },
          "execution_count": 62
        }
      ]
    },
    {
      "cell_type": "markdown",
      "metadata": {
        "id": "ZhqbwzPaG-Pi",
        "colab_type": "text"
      },
      "source": [
        "# Shape, data type, data sample and descriptive statistics of Development Set"
      ]
    },
    {
      "cell_type": "markdown",
      "metadata": {
        "id": "kF_W4mlVG-Pq",
        "colab_type": "text"
      },
      "source": [
        "### Shape"
      ]
    },
    {
      "cell_type": "code",
      "metadata": {
        "id": "-3Cuz2_cG-Pw",
        "colab_type": "code",
        "outputId": "21399293-e2e4-44ff-b6e3-32bfa93529e1",
        "colab": {
          "base_uri": "https://localhost:8080/",
          "height": 34
        }
      },
      "source": [
        "dev_set.shape"
      ],
      "execution_count": 0,
      "outputs": [
        {
          "output_type": "execute_result",
          "data": {
            "text/plain": [
              "(10000, 9)"
            ]
          },
          "metadata": {
            "tags": []
          },
          "execution_count": 63
        }
      ]
    },
    {
      "cell_type": "markdown",
      "metadata": {
        "id": "aZ5_UpLVG-QY",
        "colab_type": "text"
      },
      "source": [
        "### Data Type"
      ]
    },
    {
      "cell_type": "code",
      "metadata": {
        "id": "ZGzGPKi_G-Qd",
        "colab_type": "code",
        "outputId": "570d5502-4eae-44cc-9cd8-cb824791aa64",
        "colab": {
          "base_uri": "https://localhost:8080/"
        }
      },
      "source": [
        "dev_set.dtypes"
      ],
      "execution_count": 0,
      "outputs": [
        {
          "output_type": "execute_result",
          "data": {
            "text/plain": [
              "Unnamed: 0             int64\n",
              "key                   object\n",
              "fare_amount          float64\n",
              "pickup_datetime       object\n",
              "pickup_longitude     float64\n",
              "pickup_latitude      float64\n",
              "dropoff_longitude    float64\n",
              "dropoff_latitude     float64\n",
              "passenger_count        int64\n",
              "dtype: object"
            ]
          },
          "metadata": {
            "tags": []
          },
          "execution_count": 64
        }
      ]
    },
    {
      "cell_type": "markdown",
      "metadata": {
        "id": "9JCPbjVrG-Q5",
        "colab_type": "text"
      },
      "source": [
        "### Data Sample"
      ]
    },
    {
      "cell_type": "code",
      "metadata": {
        "id": "TacXvjBcG-Q9",
        "colab_type": "code",
        "outputId": "3c3b2129-3ab5-40fc-ac26-33c877dd11e9",
        "colab": {
          "base_uri": "https://localhost:8080/"
        }
      },
      "source": [
        "dev_set.head()"
      ],
      "execution_count": 0,
      "outputs": [
        {
          "output_type": "execute_result",
          "data": {
            "text/html": [
              "<div>\n",
              "<style scoped>\n",
              "    .dataframe tbody tr th:only-of-type {\n",
              "        vertical-align: middle;\n",
              "    }\n",
              "\n",
              "    .dataframe tbody tr th {\n",
              "        vertical-align: top;\n",
              "    }\n",
              "\n",
              "    .dataframe thead th {\n",
              "        text-align: right;\n",
              "    }\n",
              "</style>\n",
              "<table border=\"1\" class=\"dataframe\">\n",
              "  <thead>\n",
              "    <tr style=\"text-align: right;\">\n",
              "      <th></th>\n",
              "      <th>Unnamed: 0</th>\n",
              "      <th>key</th>\n",
              "      <th>fare_amount</th>\n",
              "      <th>pickup_datetime</th>\n",
              "      <th>pickup_longitude</th>\n",
              "      <th>pickup_latitude</th>\n",
              "      <th>dropoff_longitude</th>\n",
              "      <th>dropoff_latitude</th>\n",
              "      <th>passenger_count</th>\n",
              "    </tr>\n",
              "  </thead>\n",
              "  <tbody>\n",
              "    <tr>\n",
              "      <th>0</th>\n",
              "      <td>5406611</td>\n",
              "      <td>2012-11-18 18:24:00.000000116</td>\n",
              "      <td>8.5</td>\n",
              "      <td>2012-11-18 18:24:00 UTC</td>\n",
              "      <td>-73.961455</td>\n",
              "      <td>40.765132</td>\n",
              "      <td>-73.976322</td>\n",
              "      <td>40.744262</td>\n",
              "      <td>1</td>\n",
              "    </tr>\n",
              "    <tr>\n",
              "      <th>1</th>\n",
              "      <td>6747269</td>\n",
              "      <td>2009-06-03 21:22:00.0000003</td>\n",
              "      <td>6.1</td>\n",
              "      <td>2009-06-03 21:22:00 UTC</td>\n",
              "      <td>-73.952222</td>\n",
              "      <td>40.787170</td>\n",
              "      <td>-73.963823</td>\n",
              "      <td>40.769275</td>\n",
              "      <td>1</td>\n",
              "    </tr>\n",
              "    <tr>\n",
              "      <th>2</th>\n",
              "      <td>327803</td>\n",
              "      <td>2010-10-23 23:45:50.0000003</td>\n",
              "      <td>20.1</td>\n",
              "      <td>2010-10-23 23:45:50 UTC</td>\n",
              "      <td>-74.004992</td>\n",
              "      <td>40.741375</td>\n",
              "      <td>-73.983108</td>\n",
              "      <td>40.670276</td>\n",
              "      <td>1</td>\n",
              "    </tr>\n",
              "    <tr>\n",
              "      <th>3</th>\n",
              "      <td>862905</td>\n",
              "      <td>2013-09-15 15:03:59.0000001</td>\n",
              "      <td>8.0</td>\n",
              "      <td>2013-09-15 15:03:59 UTC</td>\n",
              "      <td>-74.012050</td>\n",
              "      <td>40.715985</td>\n",
              "      <td>-74.012362</td>\n",
              "      <td>40.720336</td>\n",
              "      <td>2</td>\n",
              "    </tr>\n",
              "    <tr>\n",
              "      <th>4</th>\n",
              "      <td>9942124</td>\n",
              "      <td>2014-03-27 17:59:00.00000093</td>\n",
              "      <td>4.5</td>\n",
              "      <td>2014-03-27 17:59:00 UTC</td>\n",
              "      <td>-73.961375</td>\n",
              "      <td>40.760622</td>\n",
              "      <td>-73.954577</td>\n",
              "      <td>40.765732</td>\n",
              "      <td>1</td>\n",
              "    </tr>\n",
              "  </tbody>\n",
              "</table>\n",
              "</div>"
            ],
            "text/plain": [
              "   Unnamed: 0                            key  fare_amount  \\\n",
              "0     5406611  2012-11-18 18:24:00.000000116          8.5   \n",
              "1     6747269    2009-06-03 21:22:00.0000003          6.1   \n",
              "2      327803    2010-10-23 23:45:50.0000003         20.1   \n",
              "3      862905    2013-09-15 15:03:59.0000001          8.0   \n",
              "4     9942124   2014-03-27 17:59:00.00000093          4.5   \n",
              "\n",
              "           pickup_datetime  pickup_longitude  pickup_latitude  \\\n",
              "0  2012-11-18 18:24:00 UTC        -73.961455        40.765132   \n",
              "1  2009-06-03 21:22:00 UTC        -73.952222        40.787170   \n",
              "2  2010-10-23 23:45:50 UTC        -74.004992        40.741375   \n",
              "3  2013-09-15 15:03:59 UTC        -74.012050        40.715985   \n",
              "4  2014-03-27 17:59:00 UTC        -73.961375        40.760622   \n",
              "\n",
              "   dropoff_longitude  dropoff_latitude  passenger_count  \n",
              "0         -73.976322         40.744262                1  \n",
              "1         -73.963823         40.769275                1  \n",
              "2         -73.983108         40.670276                1  \n",
              "3         -74.012362         40.720336                2  \n",
              "4         -73.954577         40.765732                1  "
            ]
          },
          "metadata": {
            "tags": []
          },
          "execution_count": 65
        }
      ]
    },
    {
      "cell_type": "markdown",
      "metadata": {
        "id": "gSKtvR_AG-RM",
        "colab_type": "text"
      },
      "source": [
        "### Descriptive statistics "
      ]
    },
    {
      "cell_type": "code",
      "metadata": {
        "id": "tmYY-Sy2G-RP",
        "colab_type": "code",
        "outputId": "b0cbe8ee-926b-451a-a589-e4270490bf77",
        "colab": {
          "base_uri": "https://localhost:8080/"
        }
      },
      "source": [
        "dev_set.describe()"
      ],
      "execution_count": 0,
      "outputs": [
        {
          "output_type": "execute_result",
          "data": {
            "text/html": [
              "<div>\n",
              "<style scoped>\n",
              "    .dataframe tbody tr th:only-of-type {\n",
              "        vertical-align: middle;\n",
              "    }\n",
              "\n",
              "    .dataframe tbody tr th {\n",
              "        vertical-align: top;\n",
              "    }\n",
              "\n",
              "    .dataframe thead th {\n",
              "        text-align: right;\n",
              "    }\n",
              "</style>\n",
              "<table border=\"1\" class=\"dataframe\">\n",
              "  <thead>\n",
              "    <tr style=\"text-align: right;\">\n",
              "      <th></th>\n",
              "      <th>Unnamed: 0</th>\n",
              "      <th>fare_amount</th>\n",
              "      <th>pickup_longitude</th>\n",
              "      <th>pickup_latitude</th>\n",
              "      <th>dropoff_longitude</th>\n",
              "      <th>dropoff_latitude</th>\n",
              "      <th>passenger_count</th>\n",
              "    </tr>\n",
              "  </thead>\n",
              "  <tbody>\n",
              "    <tr>\n",
              "      <th>count</th>\n",
              "      <td>1.000000e+04</td>\n",
              "      <td>10000.000000</td>\n",
              "      <td>10000.000000</td>\n",
              "      <td>10000.000000</td>\n",
              "      <td>10000.000000</td>\n",
              "      <td>10000.000000</td>\n",
              "      <td>10000.000000</td>\n",
              "    </tr>\n",
              "    <tr>\n",
              "      <th>mean</th>\n",
              "      <td>5.035986e+06</td>\n",
              "      <td>11.476045</td>\n",
              "      <td>-72.470719</td>\n",
              "      <td>39.891178</td>\n",
              "      <td>-72.486662</td>\n",
              "      <td>39.903932</td>\n",
              "      <td>1.688500</td>\n",
              "    </tr>\n",
              "    <tr>\n",
              "      <th>std</th>\n",
              "      <td>2.884860e+06</td>\n",
              "      <td>10.124174</td>\n",
              "      <td>10.573926</td>\n",
              "      <td>6.275024</td>\n",
              "      <td>10.519467</td>\n",
              "      <td>6.237804</td>\n",
              "      <td>1.292453</td>\n",
              "    </tr>\n",
              "    <tr>\n",
              "      <th>min</th>\n",
              "      <td>2.840000e+02</td>\n",
              "      <td>0.010000</td>\n",
              "      <td>-75.338380</td>\n",
              "      <td>-74.010755</td>\n",
              "      <td>-78.562860</td>\n",
              "      <td>-74.002347</td>\n",
              "      <td>0.000000</td>\n",
              "    </tr>\n",
              "    <tr>\n",
              "      <th>25%</th>\n",
              "      <td>2.536053e+06</td>\n",
              "      <td>6.000000</td>\n",
              "      <td>-73.991816</td>\n",
              "      <td>40.734031</td>\n",
              "      <td>-73.991257</td>\n",
              "      <td>40.734249</td>\n",
              "      <td>1.000000</td>\n",
              "    </tr>\n",
              "    <tr>\n",
              "      <th>50%</th>\n",
              "      <td>5.044119e+06</td>\n",
              "      <td>8.500000</td>\n",
              "      <td>-73.981706</td>\n",
              "      <td>40.752599</td>\n",
              "      <td>-73.979504</td>\n",
              "      <td>40.753197</td>\n",
              "      <td>1.000000</td>\n",
              "    </tr>\n",
              "    <tr>\n",
              "      <th>75%</th>\n",
              "      <td>7.540420e+06</td>\n",
              "      <td>12.500000</td>\n",
              "      <td>-73.966705</td>\n",
              "      <td>40.767076</td>\n",
              "      <td>-73.963210</td>\n",
              "      <td>40.768144</td>\n",
              "      <td>2.000000</td>\n",
              "    </tr>\n",
              "    <tr>\n",
              "      <th>max</th>\n",
              "      <td>9.997197e+06</td>\n",
              "      <td>124.100000</td>\n",
              "      <td>40.770792</td>\n",
              "      <td>41.366138</td>\n",
              "      <td>40.778532</td>\n",
              "      <td>47.065774</td>\n",
              "      <td>6.000000</td>\n",
              "    </tr>\n",
              "  </tbody>\n",
              "</table>\n",
              "</div>"
            ],
            "text/plain": [
              "         Unnamed: 0   fare_amount  pickup_longitude  pickup_latitude  \\\n",
              "count  1.000000e+04  10000.000000      10000.000000     10000.000000   \n",
              "mean   5.035986e+06     11.476045        -72.470719        39.891178   \n",
              "std    2.884860e+06     10.124174         10.573926         6.275024   \n",
              "min    2.840000e+02      0.010000        -75.338380       -74.010755   \n",
              "25%    2.536053e+06      6.000000        -73.991816        40.734031   \n",
              "50%    5.044119e+06      8.500000        -73.981706        40.752599   \n",
              "75%    7.540420e+06     12.500000        -73.966705        40.767076   \n",
              "max    9.997197e+06    124.100000         40.770792        41.366138   \n",
              "\n",
              "       dropoff_longitude  dropoff_latitude  passenger_count  \n",
              "count       10000.000000      10000.000000     10000.000000  \n",
              "mean          -72.486662         39.903932         1.688500  \n",
              "std            10.519467          6.237804         1.292453  \n",
              "min           -78.562860        -74.002347         0.000000  \n",
              "25%           -73.991257         40.734249         1.000000  \n",
              "50%           -73.979504         40.753197         1.000000  \n",
              "75%           -73.963210         40.768144         2.000000  \n",
              "max            40.778532         47.065774         6.000000  "
            ]
          },
          "metadata": {
            "tags": []
          },
          "execution_count": 66
        }
      ]
    },
    {
      "cell_type": "markdown",
      "metadata": {
        "id": "5p5tXsY5G-Rf",
        "colab_type": "text"
      },
      "source": [
        "# Shape, data type, data sample and descriptive statistics of Test Set\n",
        "\n"
      ]
    },
    {
      "cell_type": "markdown",
      "metadata": {
        "id": "_YqhU5ofG-Rj",
        "colab_type": "text"
      },
      "source": [
        "### Shape"
      ]
    },
    {
      "cell_type": "code",
      "metadata": {
        "id": "-CMkxxPwG-Rm",
        "colab_type": "code",
        "outputId": "10b8e0bc-892a-4c6b-89fc-5ddaebd80b21",
        "colab": {
          "base_uri": "https://localhost:8080/"
        }
      },
      "source": [
        "test_set.shape"
      ],
      "execution_count": 0,
      "outputs": [
        {
          "output_type": "execute_result",
          "data": {
            "text/plain": [
              "(9914, 7)"
            ]
          },
          "metadata": {
            "tags": []
          },
          "execution_count": 67
        }
      ]
    },
    {
      "cell_type": "markdown",
      "metadata": {
        "id": "T0L-DdWfG-R_",
        "colab_type": "text"
      },
      "source": [
        "### Data Type"
      ]
    },
    {
      "cell_type": "code",
      "metadata": {
        "id": "Dxyfa-AKG-SH",
        "colab_type": "code",
        "outputId": "933a55ff-42a5-4d57-ca57-7e0affb238e6",
        "colab": {
          "base_uri": "https://localhost:8080/"
        }
      },
      "source": [
        "test_set.dtypes"
      ],
      "execution_count": 0,
      "outputs": [
        {
          "output_type": "execute_result",
          "data": {
            "text/plain": [
              "key                   object\n",
              "pickup_datetime       object\n",
              "pickup_longitude     float64\n",
              "pickup_latitude      float64\n",
              "dropoff_longitude    float64\n",
              "dropoff_latitude     float64\n",
              "passenger_count        int64\n",
              "dtype: object"
            ]
          },
          "metadata": {
            "tags": []
          },
          "execution_count": 68
        }
      ]
    },
    {
      "cell_type": "markdown",
      "metadata": {
        "id": "DVUYX7VuG-SX",
        "colab_type": "text"
      },
      "source": [
        "### Data Sample"
      ]
    },
    {
      "cell_type": "code",
      "metadata": {
        "id": "BDvFkXIKG-Sd",
        "colab_type": "code",
        "outputId": "959d3487-8045-4d40-e4de-1e688160f81e",
        "colab": {
          "base_uri": "https://localhost:8080/"
        }
      },
      "source": [
        "test_set.head()"
      ],
      "execution_count": 0,
      "outputs": [
        {
          "output_type": "execute_result",
          "data": {
            "text/html": [
              "<div>\n",
              "<style scoped>\n",
              "    .dataframe tbody tr th:only-of-type {\n",
              "        vertical-align: middle;\n",
              "    }\n",
              "\n",
              "    .dataframe tbody tr th {\n",
              "        vertical-align: top;\n",
              "    }\n",
              "\n",
              "    .dataframe thead th {\n",
              "        text-align: right;\n",
              "    }\n",
              "</style>\n",
              "<table border=\"1\" class=\"dataframe\">\n",
              "  <thead>\n",
              "    <tr style=\"text-align: right;\">\n",
              "      <th></th>\n",
              "      <th>key</th>\n",
              "      <th>pickup_datetime</th>\n",
              "      <th>pickup_longitude</th>\n",
              "      <th>pickup_latitude</th>\n",
              "      <th>dropoff_longitude</th>\n",
              "      <th>dropoff_latitude</th>\n",
              "      <th>passenger_count</th>\n",
              "    </tr>\n",
              "  </thead>\n",
              "  <tbody>\n",
              "    <tr>\n",
              "      <th>0</th>\n",
              "      <td>2015-01-27 13:08:24.0000002</td>\n",
              "      <td>2015-01-27 13:08:24 UTC</td>\n",
              "      <td>-73.973320</td>\n",
              "      <td>40.763805</td>\n",
              "      <td>-73.981430</td>\n",
              "      <td>40.743835</td>\n",
              "      <td>1</td>\n",
              "    </tr>\n",
              "    <tr>\n",
              "      <th>1</th>\n",
              "      <td>2015-01-27 13:08:24.0000003</td>\n",
              "      <td>2015-01-27 13:08:24 UTC</td>\n",
              "      <td>-73.986862</td>\n",
              "      <td>40.719383</td>\n",
              "      <td>-73.998886</td>\n",
              "      <td>40.739201</td>\n",
              "      <td>1</td>\n",
              "    </tr>\n",
              "    <tr>\n",
              "      <th>2</th>\n",
              "      <td>2011-10-08 11:53:44.0000002</td>\n",
              "      <td>2011-10-08 11:53:44 UTC</td>\n",
              "      <td>-73.982524</td>\n",
              "      <td>40.751260</td>\n",
              "      <td>-73.979654</td>\n",
              "      <td>40.746139</td>\n",
              "      <td>1</td>\n",
              "    </tr>\n",
              "    <tr>\n",
              "      <th>3</th>\n",
              "      <td>2012-12-01 21:12:12.0000002</td>\n",
              "      <td>2012-12-01 21:12:12 UTC</td>\n",
              "      <td>-73.981160</td>\n",
              "      <td>40.767807</td>\n",
              "      <td>-73.990448</td>\n",
              "      <td>40.751635</td>\n",
              "      <td>1</td>\n",
              "    </tr>\n",
              "    <tr>\n",
              "      <th>4</th>\n",
              "      <td>2012-12-01 21:12:12.0000003</td>\n",
              "      <td>2012-12-01 21:12:12 UTC</td>\n",
              "      <td>-73.966046</td>\n",
              "      <td>40.789775</td>\n",
              "      <td>-73.988565</td>\n",
              "      <td>40.744427</td>\n",
              "      <td>1</td>\n",
              "    </tr>\n",
              "  </tbody>\n",
              "</table>\n",
              "</div>"
            ],
            "text/plain": [
              "                           key          pickup_datetime  pickup_longitude  \\\n",
              "0  2015-01-27 13:08:24.0000002  2015-01-27 13:08:24 UTC        -73.973320   \n",
              "1  2015-01-27 13:08:24.0000003  2015-01-27 13:08:24 UTC        -73.986862   \n",
              "2  2011-10-08 11:53:44.0000002  2011-10-08 11:53:44 UTC        -73.982524   \n",
              "3  2012-12-01 21:12:12.0000002  2012-12-01 21:12:12 UTC        -73.981160   \n",
              "4  2012-12-01 21:12:12.0000003  2012-12-01 21:12:12 UTC        -73.966046   \n",
              "\n",
              "   pickup_latitude  dropoff_longitude  dropoff_latitude  passenger_count  \n",
              "0        40.763805         -73.981430         40.743835                1  \n",
              "1        40.719383         -73.998886         40.739201                1  \n",
              "2        40.751260         -73.979654         40.746139                1  \n",
              "3        40.767807         -73.990448         40.751635                1  \n",
              "4        40.789775         -73.988565         40.744427                1  "
            ]
          },
          "metadata": {
            "tags": []
          },
          "execution_count": 69
        }
      ]
    },
    {
      "cell_type": "markdown",
      "metadata": {
        "id": "vC0sjijrG-Su",
        "colab_type": "text"
      },
      "source": [
        "### Descriptive statistics "
      ]
    },
    {
      "cell_type": "code",
      "metadata": {
        "id": "YHVYDSB_G-S2",
        "colab_type": "code",
        "outputId": "ffa7f236-cea2-4825-b69f-69857ac07696",
        "colab": {
          "base_uri": "https://localhost:8080/"
        }
      },
      "source": [
        "test_set.describe()"
      ],
      "execution_count": 0,
      "outputs": [
        {
          "output_type": "execute_result",
          "data": {
            "text/html": [
              "<div>\n",
              "<style scoped>\n",
              "    .dataframe tbody tr th:only-of-type {\n",
              "        vertical-align: middle;\n",
              "    }\n",
              "\n",
              "    .dataframe tbody tr th {\n",
              "        vertical-align: top;\n",
              "    }\n",
              "\n",
              "    .dataframe thead th {\n",
              "        text-align: right;\n",
              "    }\n",
              "</style>\n",
              "<table border=\"1\" class=\"dataframe\">\n",
              "  <thead>\n",
              "    <tr style=\"text-align: right;\">\n",
              "      <th></th>\n",
              "      <th>pickup_longitude</th>\n",
              "      <th>pickup_latitude</th>\n",
              "      <th>dropoff_longitude</th>\n",
              "      <th>dropoff_latitude</th>\n",
              "      <th>passenger_count</th>\n",
              "    </tr>\n",
              "  </thead>\n",
              "  <tbody>\n",
              "    <tr>\n",
              "      <th>count</th>\n",
              "      <td>9914.000000</td>\n",
              "      <td>9914.000000</td>\n",
              "      <td>9914.000000</td>\n",
              "      <td>9914.000000</td>\n",
              "      <td>9914.000000</td>\n",
              "    </tr>\n",
              "    <tr>\n",
              "      <th>mean</th>\n",
              "      <td>-73.974722</td>\n",
              "      <td>40.751041</td>\n",
              "      <td>-73.973657</td>\n",
              "      <td>40.751743</td>\n",
              "      <td>1.671273</td>\n",
              "    </tr>\n",
              "    <tr>\n",
              "      <th>std</th>\n",
              "      <td>0.042774</td>\n",
              "      <td>0.033541</td>\n",
              "      <td>0.039072</td>\n",
              "      <td>0.035435</td>\n",
              "      <td>1.278747</td>\n",
              "    </tr>\n",
              "    <tr>\n",
              "      <th>min</th>\n",
              "      <td>-74.252193</td>\n",
              "      <td>40.573143</td>\n",
              "      <td>-74.263242</td>\n",
              "      <td>40.568973</td>\n",
              "      <td>1.000000</td>\n",
              "    </tr>\n",
              "    <tr>\n",
              "      <th>25%</th>\n",
              "      <td>-73.992501</td>\n",
              "      <td>40.736125</td>\n",
              "      <td>-73.991247</td>\n",
              "      <td>40.735254</td>\n",
              "      <td>1.000000</td>\n",
              "    </tr>\n",
              "    <tr>\n",
              "      <th>50%</th>\n",
              "      <td>-73.982326</td>\n",
              "      <td>40.753051</td>\n",
              "      <td>-73.980015</td>\n",
              "      <td>40.754065</td>\n",
              "      <td>1.000000</td>\n",
              "    </tr>\n",
              "    <tr>\n",
              "      <th>75%</th>\n",
              "      <td>-73.968013</td>\n",
              "      <td>40.767113</td>\n",
              "      <td>-73.964059</td>\n",
              "      <td>40.768757</td>\n",
              "      <td>2.000000</td>\n",
              "    </tr>\n",
              "    <tr>\n",
              "      <th>max</th>\n",
              "      <td>-72.986532</td>\n",
              "      <td>41.709555</td>\n",
              "      <td>-72.990963</td>\n",
              "      <td>41.696683</td>\n",
              "      <td>6.000000</td>\n",
              "    </tr>\n",
              "  </tbody>\n",
              "</table>\n",
              "</div>"
            ],
            "text/plain": [
              "       pickup_longitude  pickup_latitude  dropoff_longitude  dropoff_latitude  \\\n",
              "count       9914.000000      9914.000000        9914.000000       9914.000000   \n",
              "mean         -73.974722        40.751041         -73.973657         40.751743   \n",
              "std            0.042774         0.033541           0.039072          0.035435   \n",
              "min          -74.252193        40.573143         -74.263242         40.568973   \n",
              "25%          -73.992501        40.736125         -73.991247         40.735254   \n",
              "50%          -73.982326        40.753051         -73.980015         40.754065   \n",
              "75%          -73.968013        40.767113         -73.964059         40.768757   \n",
              "max          -72.986532        41.709555         -72.990963         41.696683   \n",
              "\n",
              "       passenger_count  \n",
              "count      9914.000000  \n",
              "mean          1.671273  \n",
              "std           1.278747  \n",
              "min           1.000000  \n",
              "25%           1.000000  \n",
              "50%           1.000000  \n",
              "75%           2.000000  \n",
              "max           6.000000  "
            ]
          },
          "metadata": {
            "tags": []
          },
          "execution_count": 70
        }
      ]
    },
    {
      "cell_type": "markdown",
      "metadata": {
        "id": "7VpkrbulG-TG",
        "colab_type": "text"
      },
      "source": [
        "# Data Cleansing"
      ]
    },
    {
      "cell_type": "markdown",
      "metadata": {
        "id": "WSUiVlyXG-TJ",
        "colab_type": "text"
      },
      "source": [
        "## Removing Null values from the datasets"
      ]
    },
    {
      "cell_type": "code",
      "metadata": {
        "id": "LsxI9LukG-TM",
        "colab_type": "code",
        "outputId": "f893cfb4-e5c8-4d4c-b9d8-a1e4ee0460e3",
        "colab": {
          "base_uri": "https://localhost:8080/",
          "height": 194
        }
      },
      "source": [
        "training_set.isnull().sum().sort_values(ascending = False)"
      ],
      "execution_count": 0,
      "outputs": [
        {
          "output_type": "execute_result",
          "data": {
            "text/plain": [
              "dropoff_latitude     8\n",
              "dropoff_longitude    8\n",
              "passenger_count      0\n",
              "pickup_latitude      0\n",
              "pickup_longitude     0\n",
              "pickup_datetime      0\n",
              "fare_amount          0\n",
              "key                  0\n",
              "Unnamed: 0           0\n",
              "dtype: int64"
            ]
          },
          "metadata": {
            "tags": []
          },
          "execution_count": 71
        }
      ]
    },
    {
      "cell_type": "code",
      "metadata": {
        "id": "GpXyU1o4G-Ta",
        "colab_type": "code",
        "outputId": "a745112c-8c1b-4668-95e6-ba82ccc972ce",
        "colab": {
          "base_uri": "https://localhost:8080/",
          "height": 194
        }
      },
      "source": [
        "dev_set.isnull().sum().sort_values(ascending = False)"
      ],
      "execution_count": 0,
      "outputs": [
        {
          "output_type": "execute_result",
          "data": {
            "text/plain": [
              "passenger_count      0\n",
              "dropoff_latitude     0\n",
              "dropoff_longitude    0\n",
              "pickup_latitude      0\n",
              "pickup_longitude     0\n",
              "pickup_datetime      0\n",
              "fare_amount          0\n",
              "key                  0\n",
              "Unnamed: 0           0\n",
              "dtype: int64"
            ]
          },
          "metadata": {
            "tags": []
          },
          "execution_count": 72
        }
      ]
    },
    {
      "cell_type": "code",
      "metadata": {
        "id": "brrwhRJFG-Tt",
        "colab_type": "code",
        "outputId": "8af50d33-b527-4ccf-d85c-40d5b680c8c3",
        "colab": {
          "base_uri": "https://localhost:8080/",
          "height": 158
        }
      },
      "source": [
        "test_set.isnull().sum().sort_values(ascending = False)"
      ],
      "execution_count": 0,
      "outputs": [
        {
          "output_type": "execute_result",
          "data": {
            "text/plain": [
              "passenger_count      0\n",
              "dropoff_latitude     0\n",
              "dropoff_longitude    0\n",
              "pickup_latitude      0\n",
              "pickup_longitude     0\n",
              "pickup_datetime      0\n",
              "key                  0\n",
              "dtype: int64"
            ]
          },
          "metadata": {
            "tags": []
          },
          "execution_count": 73
        }
      ]
    },
    {
      "cell_type": "code",
      "metadata": {
        "id": "ggyw-io1G-T-",
        "colab_type": "code",
        "outputId": "955cb5d4-fb94-4e76-cb7b-66269fb0c2ca",
        "colab": {
          "base_uri": "https://localhost:8080/",
          "height": 34
        }
      },
      "source": [
        "training_set = training_set.drop(training_set[training_set.isnull().any(1)].index , axis = 0)\n",
        "training_set.shape"
      ],
      "execution_count": 0,
      "outputs": [
        {
          "output_type": "execute_result",
          "data": {
            "text/plain": [
              "(999992, 9)"
            ]
          },
          "metadata": {
            "tags": []
          },
          "execution_count": 74
        }
      ]
    },
    {
      "cell_type": "code",
      "metadata": {
        "id": "fMDbTuoXG-UM",
        "colab_type": "code",
        "outputId": "c452689b-6215-48bf-b01c-7e0a1c310e03",
        "colab": {
          "base_uri": "https://localhost:8080/",
          "height": 34
        }
      },
      "source": [
        "dev_set = dev_set.drop(dev_set[dev_set.isnull().any(1)].index , axis = 0)\n",
        "dev_set.shape"
      ],
      "execution_count": 0,
      "outputs": [
        {
          "output_type": "execute_result",
          "data": {
            "text/plain": [
              "(10000, 9)"
            ]
          },
          "metadata": {
            "tags": []
          },
          "execution_count": 75
        }
      ]
    },
    {
      "cell_type": "code",
      "metadata": {
        "id": "tI5TDUJbG-Uc",
        "colab_type": "code",
        "outputId": "6022a0d5-6c71-4f3d-fa2f-f91d5429de03",
        "colab": {
          "base_uri": "https://localhost:8080/",
          "height": 34
        }
      },
      "source": [
        "test_set = test_set.drop(test_set[test_set.isnull().any(1)].index , axis = 0)\n",
        "test_set.shape"
      ],
      "execution_count": 0,
      "outputs": [
        {
          "output_type": "execute_result",
          "data": {
            "text/plain": [
              "(9914, 7)"
            ]
          },
          "metadata": {
            "tags": []
          },
          "execution_count": 76
        }
      ]
    },
    {
      "cell_type": "markdown",
      "metadata": {
        "id": "EQQGCokGG-Uu",
        "colab_type": "text"
      },
      "source": [
        "## Removing rows from the dataset having invalid data "
      ]
    },
    {
      "cell_type": "code",
      "metadata": {
        "id": "65ap2m2GG-Ux",
        "colab_type": "code",
        "outputId": "52f405a3-a3f4-4fea-832a-288ecef610cd",
        "colab": {
          "base_uri": "https://localhost:8080/",
          "height": 287
        }
      },
      "source": [
        "training_set.describe()"
      ],
      "execution_count": 0,
      "outputs": [
        {
          "output_type": "execute_result",
          "data": {
            "text/html": [
              "<div>\n",
              "<style scoped>\n",
              "    .dataframe tbody tr th:only-of-type {\n",
              "        vertical-align: middle;\n",
              "    }\n",
              "\n",
              "    .dataframe tbody tr th {\n",
              "        vertical-align: top;\n",
              "    }\n",
              "\n",
              "    .dataframe thead th {\n",
              "        text-align: right;\n",
              "    }\n",
              "</style>\n",
              "<table border=\"1\" class=\"dataframe\">\n",
              "  <thead>\n",
              "    <tr style=\"text-align: right;\">\n",
              "      <th></th>\n",
              "      <th>Unnamed: 0</th>\n",
              "      <th>fare_amount</th>\n",
              "      <th>pickup_longitude</th>\n",
              "      <th>pickup_latitude</th>\n",
              "      <th>dropoff_longitude</th>\n",
              "      <th>dropoff_latitude</th>\n",
              "      <th>passenger_count</th>\n",
              "    </tr>\n",
              "  </thead>\n",
              "  <tbody>\n",
              "    <tr>\n",
              "      <th>count</th>\n",
              "      <td>9.999920e+05</td>\n",
              "      <td>999992.000000</td>\n",
              "      <td>999992.000000</td>\n",
              "      <td>999992.000000</td>\n",
              "      <td>999992.000000</td>\n",
              "      <td>999992.000000</td>\n",
              "      <td>999992.000000</td>\n",
              "    </tr>\n",
              "    <tr>\n",
              "      <th>mean</th>\n",
              "      <td>4.998340e+06</td>\n",
              "      <td>11.361356</td>\n",
              "      <td>-72.495006</td>\n",
              "      <td>39.922871</td>\n",
              "      <td>-72.504531</td>\n",
              "      <td>39.911158</td>\n",
              "      <td>1.685247</td>\n",
              "    </tr>\n",
              "    <tr>\n",
              "      <th>std</th>\n",
              "      <td>2.885675e+06</td>\n",
              "      <td>9.893396</td>\n",
              "      <td>12.260767</td>\n",
              "      <td>9.391838</td>\n",
              "      <td>12.781010</td>\n",
              "      <td>9.858497</td>\n",
              "      <td>1.346789</td>\n",
              "    </tr>\n",
              "    <tr>\n",
              "      <th>min</th>\n",
              "      <td>5.000000e+00</td>\n",
              "      <td>-107.750000</td>\n",
              "      <td>-2404.643242</td>\n",
              "      <td>-2875.860745</td>\n",
              "      <td>-3004.395947</td>\n",
              "      <td>-3271.296725</td>\n",
              "      <td>0.000000</td>\n",
              "    </tr>\n",
              "    <tr>\n",
              "      <th>25%</th>\n",
              "      <td>2.500768e+06</td>\n",
              "      <td>6.000000</td>\n",
              "      <td>-73.992062</td>\n",
              "      <td>40.734936</td>\n",
              "      <td>-73.991390</td>\n",
              "      <td>40.734032</td>\n",
              "      <td>1.000000</td>\n",
              "    </tr>\n",
              "    <tr>\n",
              "      <th>50%</th>\n",
              "      <td>4.997454e+06</td>\n",
              "      <td>8.500000</td>\n",
              "      <td>-73.981785</td>\n",
              "      <td>40.752627</td>\n",
              "      <td>-73.980137</td>\n",
              "      <td>40.753186</td>\n",
              "      <td>1.000000</td>\n",
              "    </tr>\n",
              "    <tr>\n",
              "      <th>75%</th>\n",
              "      <td>7.498037e+06</td>\n",
              "      <td>12.500000</td>\n",
              "      <td>-73.967091</td>\n",
              "      <td>40.767121</td>\n",
              "      <td>-73.963633</td>\n",
              "      <td>40.768122</td>\n",
              "      <td>2.000000</td>\n",
              "    </tr>\n",
              "    <tr>\n",
              "      <th>max</th>\n",
              "      <td>9.999971e+06</td>\n",
              "      <td>952.000000</td>\n",
              "      <td>2417.411523</td>\n",
              "      <td>2977.030610</td>\n",
              "      <td>2889.997293</td>\n",
              "      <td>3305.291182</td>\n",
              "      <td>208.000000</td>\n",
              "    </tr>\n",
              "  </tbody>\n",
              "</table>\n",
              "</div>"
            ],
            "text/plain": [
              "         Unnamed: 0    fare_amount  pickup_longitude  pickup_latitude  \\\n",
              "count  9.999920e+05  999992.000000     999992.000000    999992.000000   \n",
              "mean   4.998340e+06      11.361356        -72.495006        39.922871   \n",
              "std    2.885675e+06       9.893396         12.260767         9.391838   \n",
              "min    5.000000e+00    -107.750000      -2404.643242     -2875.860745   \n",
              "25%    2.500768e+06       6.000000        -73.992062        40.734936   \n",
              "50%    4.997454e+06       8.500000        -73.981785        40.752627   \n",
              "75%    7.498037e+06      12.500000        -73.967091        40.767121   \n",
              "max    9.999971e+06     952.000000       2417.411523      2977.030610   \n",
              "\n",
              "       dropoff_longitude  dropoff_latitude  passenger_count  \n",
              "count      999992.000000     999992.000000    999992.000000  \n",
              "mean          -72.504531         39.911158         1.685247  \n",
              "std            12.781010          9.858497         1.346789  \n",
              "min         -3004.395947      -3271.296725         0.000000  \n",
              "25%           -73.991390         40.734032         1.000000  \n",
              "50%           -73.980137         40.753186         1.000000  \n",
              "75%           -73.963633         40.768122         2.000000  \n",
              "max          2889.997293       3305.291182       208.000000  "
            ]
          },
          "metadata": {
            "tags": []
          },
          "execution_count": 77
        }
      ]
    },
    {
      "cell_type": "code",
      "metadata": {
        "id": "FuBd7O9cG-VS",
        "colab_type": "code",
        "outputId": "d4dbde2b-660e-4caf-8a0c-376ded74da15",
        "colab": {
          "base_uri": "https://localhost:8080/",
          "height": 176
        }
      },
      "source": [
        "training_set['fare_amount'].describe()"
      ],
      "execution_count": 0,
      "outputs": [
        {
          "output_type": "execute_result",
          "data": {
            "text/plain": [
              "count    999992.000000\n",
              "mean         11.361356\n",
              "std           9.893396\n",
              "min        -107.750000\n",
              "25%           6.000000\n",
              "50%           8.500000\n",
              "75%          12.500000\n",
              "max         952.000000\n",
              "Name: fare_amount, dtype: float64"
            ]
          },
          "metadata": {
            "tags": []
          },
          "execution_count": 78
        }
      ]
    },
    {
      "cell_type": "markdown",
      "metadata": {
        "id": "lhTN8-KkG-Vj",
        "colab_type": "text"
      },
      "source": [
        "### Training_set is having negative value fare so we will remove those rows"
      ]
    },
    {
      "cell_type": "code",
      "metadata": {
        "id": "K2ofXPzVG-Vq",
        "colab_type": "code",
        "outputId": "390d8023-2dda-4cfd-cec2-d3fc8a8bde1e",
        "colab": {
          "base_uri": "https://localhost:8080/"
        }
      },
      "source": [
        "Counter(training_set['fare_amount']<=0)"
      ],
      "execution_count": 0,
      "outputs": [
        {
          "output_type": "execute_result",
          "data": {
            "text/plain": [
              "Counter({False: 999933, True: 59})"
            ]
          },
          "metadata": {
            "tags": []
          },
          "execution_count": 79
        }
      ]
    },
    {
      "cell_type": "code",
      "metadata": {
        "id": "yWNgCJy1G-V3",
        "colab_type": "code",
        "outputId": "79c6aa58-ea18-44ea-da48-220a492001cf",
        "colab": {
          "base_uri": "https://localhost:8080/"
        }
      },
      "source": [
        "training_set = training_set.drop(training_set[training_set['fare_amount']<=0].index, axis=0)\n",
        "training_set.shape"
      ],
      "execution_count": 0,
      "outputs": [
        {
          "output_type": "execute_result",
          "data": {
            "text/plain": [
              "(999933, 9)"
            ]
          },
          "metadata": {
            "tags": []
          },
          "execution_count": 80
        }
      ]
    },
    {
      "cell_type": "code",
      "metadata": {
        "id": "ZjqOCUlDG-WC",
        "colab_type": "code",
        "outputId": "9806f534-6cc3-4e9e-e336-d37cc0eca315",
        "colab": {
          "base_uri": "https://localhost:8080/"
        }
      },
      "source": [
        "training_set['fare_amount'].describe()"
      ],
      "execution_count": 0,
      "outputs": [
        {
          "output_type": "execute_result",
          "data": {
            "text/plain": [
              "count    999933.000000\n",
              "mean         11.362526\n",
              "std           9.891561\n",
              "min           0.010000\n",
              "25%           6.000000\n",
              "50%           8.500000\n",
              "75%          12.500000\n",
              "max         952.000000\n",
              "Name: fare_amount, dtype: float64"
            ]
          },
          "metadata": {
            "tags": []
          },
          "execution_count": 81
        }
      ]
    },
    {
      "cell_type": "markdown",
      "metadata": {
        "id": "uNazvKKWG-WR",
        "colab_type": "text"
      },
      "source": [
        "### Passenger count is greater than  7"
      ]
    },
    {
      "cell_type": "code",
      "metadata": {
        "id": "LJxHcxJoG-WW",
        "colab_type": "code",
        "outputId": "4b7c61ee-0ee3-48c1-bf0e-9255f0926814",
        "colab": {
          "base_uri": "https://localhost:8080/"
        }
      },
      "source": [
        "training_set['passenger_count'].describe()"
      ],
      "execution_count": 0,
      "outputs": [
        {
          "output_type": "execute_result",
          "data": {
            "text/plain": [
              "count    999933.000000\n",
              "mean          1.685269\n",
              "std           1.346816\n",
              "min           0.000000\n",
              "25%           1.000000\n",
              "50%           1.000000\n",
              "75%           2.000000\n",
              "max         208.000000\n",
              "Name: passenger_count, dtype: float64"
            ]
          },
          "metadata": {
            "tags": []
          },
          "execution_count": 82
        }
      ]
    },
    {
      "cell_type": "code",
      "metadata": {
        "id": "n0leXpu2G-Wx",
        "colab_type": "code",
        "colab": {}
      },
      "source": [
        "#len(training_set[training_set['passenger_count']>7])"
      ],
      "execution_count": 0,
      "outputs": []
    },
    {
      "cell_type": "code",
      "metadata": {
        "id": "m6LZUeCaG-W5",
        "colab_type": "code",
        "outputId": "ebcf03ff-62e5-4544-8c25-a96c2e50f2f5",
        "colab": {
          "base_uri": "https://localhost:8080/"
        }
      },
      "source": [
        "#### Since we are restricting to yellow cabs or medallion taxi. So we are considering \n",
        "#### a maximum of 7 passengers can operate in a taxi at a time.\n",
        "Counter(training_set['passenger_count']>8)"
      ],
      "execution_count": 0,
      "outputs": [
        {
          "output_type": "execute_result",
          "data": {
            "text/plain": [
              "Counter({False: 999930, True: 3})"
            ]
          },
          "metadata": {
            "tags": []
          },
          "execution_count": 84
        }
      ]
    },
    {
      "cell_type": "code",
      "metadata": {
        "id": "ti0d3FW3G-XE",
        "colab_type": "code",
        "outputId": "b1557f00-9309-410c-f7de-6b2f44d2dc8d",
        "colab": {
          "base_uri": "https://localhost:8080/"
        }
      },
      "source": [
        "training_set = training_set.drop(training_set[training_set['passenger_count']>8].index, axis = 0)\n",
        "training_set.describe()"
      ],
      "execution_count": 0,
      "outputs": [
        {
          "output_type": "execute_result",
          "data": {
            "text/html": [
              "<div>\n",
              "<style scoped>\n",
              "    .dataframe tbody tr th:only-of-type {\n",
              "        vertical-align: middle;\n",
              "    }\n",
              "\n",
              "    .dataframe tbody tr th {\n",
              "        vertical-align: top;\n",
              "    }\n",
              "\n",
              "    .dataframe thead th {\n",
              "        text-align: right;\n",
              "    }\n",
              "</style>\n",
              "<table border=\"1\" class=\"dataframe\">\n",
              "  <thead>\n",
              "    <tr style=\"text-align: right;\">\n",
              "      <th></th>\n",
              "      <th>Unnamed: 0</th>\n",
              "      <th>fare_amount</th>\n",
              "      <th>pickup_longitude</th>\n",
              "      <th>pickup_latitude</th>\n",
              "      <th>dropoff_longitude</th>\n",
              "      <th>dropoff_latitude</th>\n",
              "      <th>passenger_count</th>\n",
              "    </tr>\n",
              "  </thead>\n",
              "  <tbody>\n",
              "    <tr>\n",
              "      <th>count</th>\n",
              "      <td>9.999300e+05</td>\n",
              "      <td>999930.000000</td>\n",
              "      <td>999930.000000</td>\n",
              "      <td>999930.000000</td>\n",
              "      <td>999930.000000</td>\n",
              "      <td>999930.000000</td>\n",
              "      <td>999930.000000</td>\n",
              "    </tr>\n",
              "    <tr>\n",
              "      <th>mean</th>\n",
              "      <td>4.998321e+06</td>\n",
              "      <td>11.362544</td>\n",
              "      <td>-72.495358</td>\n",
              "      <td>39.923065</td>\n",
              "      <td>-72.505106</td>\n",
              "      <td>39.911473</td>\n",
              "      <td>1.684729</td>\n",
              "    </tr>\n",
              "    <tr>\n",
              "      <th>std</th>\n",
              "      <td>2.885693e+06</td>\n",
              "      <td>9.891570</td>\n",
              "      <td>12.259856</td>\n",
              "      <td>9.391618</td>\n",
              "      <td>12.779551</td>\n",
              "      <td>9.858073</td>\n",
              "      <td>1.308652</td>\n",
              "    </tr>\n",
              "    <tr>\n",
              "      <th>min</th>\n",
              "      <td>5.000000e+00</td>\n",
              "      <td>0.010000</td>\n",
              "      <td>-2404.643242</td>\n",
              "      <td>-2875.860745</td>\n",
              "      <td>-3004.395947</td>\n",
              "      <td>-3271.296725</td>\n",
              "      <td>0.000000</td>\n",
              "    </tr>\n",
              "    <tr>\n",
              "      <th>25%</th>\n",
              "      <td>2.500702e+06</td>\n",
              "      <td>6.000000</td>\n",
              "      <td>-73.992062</td>\n",
              "      <td>40.734937</td>\n",
              "      <td>-73.991390</td>\n",
              "      <td>40.734034</td>\n",
              "      <td>1.000000</td>\n",
              "    </tr>\n",
              "    <tr>\n",
              "      <th>50%</th>\n",
              "      <td>4.997437e+06</td>\n",
              "      <td>8.500000</td>\n",
              "      <td>-73.981785</td>\n",
              "      <td>40.752627</td>\n",
              "      <td>-73.980137</td>\n",
              "      <td>40.753187</td>\n",
              "      <td>1.000000</td>\n",
              "    </tr>\n",
              "    <tr>\n",
              "      <th>75%</th>\n",
              "      <td>7.498034e+06</td>\n",
              "      <td>12.500000</td>\n",
              "      <td>-73.967093</td>\n",
              "      <td>40.767122</td>\n",
              "      <td>-73.963635</td>\n",
              "      <td>40.768122</td>\n",
              "      <td>2.000000</td>\n",
              "    </tr>\n",
              "    <tr>\n",
              "      <th>max</th>\n",
              "      <td>9.999971e+06</td>\n",
              "      <td>952.000000</td>\n",
              "      <td>2417.411523</td>\n",
              "      <td>2977.030610</td>\n",
              "      <td>2889.997293</td>\n",
              "      <td>3305.291182</td>\n",
              "      <td>6.000000</td>\n",
              "    </tr>\n",
              "  </tbody>\n",
              "</table>\n",
              "</div>"
            ],
            "text/plain": [
              "         Unnamed: 0    fare_amount  pickup_longitude  pickup_latitude  \\\n",
              "count  9.999300e+05  999930.000000     999930.000000    999930.000000   \n",
              "mean   4.998321e+06      11.362544        -72.495358        39.923065   \n",
              "std    2.885693e+06       9.891570         12.259856         9.391618   \n",
              "min    5.000000e+00       0.010000      -2404.643242     -2875.860745   \n",
              "25%    2.500702e+06       6.000000        -73.992062        40.734937   \n",
              "50%    4.997437e+06       8.500000        -73.981785        40.752627   \n",
              "75%    7.498034e+06      12.500000        -73.967093        40.767122   \n",
              "max    9.999971e+06     952.000000       2417.411523      2977.030610   \n",
              "\n",
              "       dropoff_longitude  dropoff_latitude  passenger_count  \n",
              "count      999930.000000     999930.000000    999930.000000  \n",
              "mean          -72.505106         39.911473         1.684729  \n",
              "std            12.779551          9.858073         1.308652  \n",
              "min         -3004.395947      -3271.296725         0.000000  \n",
              "25%           -73.991390         40.734034         1.000000  \n",
              "50%           -73.980137         40.753187         1.000000  \n",
              "75%           -73.963635         40.768122         2.000000  \n",
              "max          2889.997293       3305.291182         6.000000  "
            ]
          },
          "metadata": {
            "tags": []
          },
          "execution_count": 85
        }
      ]
    },
    {
      "cell_type": "markdown",
      "metadata": {
        "id": "HBUJn5o1VkSJ",
        "colab_type": "text"
      },
      "source": [
        "## Removing fare amount less than $2.5 and greater than $$500"
      ]
    },
    {
      "cell_type": "code",
      "metadata": {
        "id": "OQFxpHeMTd1o",
        "colab_type": "code",
        "outputId": "00e1b156-4045-4b99-a890-4f86d151bed0",
        "colab": {
          "base_uri": "https://localhost:8080/",
          "height": 52
        }
      },
      "source": [
        "print('\\033[1m'+\"Fare amount < 2.5: \\n\",training_set['fare_amount'][(training_set.fare_amount<2.5)].count())"
      ],
      "execution_count": 0,
      "outputs": [
        {
          "output_type": "stream",
          "text": [
            "\u001b[1mFare amount < 2.5: \n",
            " 18\n"
          ],
          "name": "stdout"
        }
      ]
    },
    {
      "cell_type": "code",
      "metadata": {
        "colab_type": "code",
        "id": "ThZnQUDrTp5T",
        "outputId": "1781c75a-7eb2-4264-ed44-6ca8c245dae1",
        "colab": {
          "base_uri": "https://localhost:8080/",
          "height": 52
        }
      },
      "source": [
        "print('\\033[1m'+\"Fare amount > 500: \\n\",training_set['fare_amount'][(training_set.fare_amount>500)].count())"
      ],
      "execution_count": 0,
      "outputs": [
        {
          "output_type": "stream",
          "text": [
            "\u001b[1mFare amount > 500: \n",
            " 1\n"
          ],
          "name": "stdout"
        }
      ]
    },
    {
      "cell_type": "code",
      "metadata": {
        "id": "75T-PaoWUjDv",
        "colab_type": "code",
        "outputId": "61d43dbf-71c0-4258-ba01-f0d4d0097fe0",
        "colab": {
          "base_uri": "https://localhost:8080/",
          "height": 34
        }
      },
      "source": [
        "training_set = training_set.drop(training_set[training_set['fare_amount'] < 2.5].index, axis = 0)\n",
        "training_set = training_set.drop(training_set[training_set['fare_amount'] > 500].index, axis = 0)\n",
        "training_set.shape"
      ],
      "execution_count": 0,
      "outputs": [
        {
          "output_type": "execute_result",
          "data": {
            "text/plain": [
              "(999911, 9)"
            ]
          },
          "metadata": {
            "tags": []
          },
          "execution_count": 88
        }
      ]
    },
    {
      "cell_type": "code",
      "metadata": {
        "id": "pDxsIzVUWD80",
        "colab_type": "code",
        "outputId": "72c50e96-2105-47dd-b674-51b306368302",
        "colab": {
          "base_uri": "https://localhost:8080/",
          "height": 362
        }
      },
      "source": [
        "plt.figure(figsize=(5,5))\n",
        "plt.hist(training_set['passenger_count'], bins=15)\n",
        "plt.xlabel('No. of Passengers')\n",
        "plt.ylabel('Frequency')"
      ],
      "execution_count": 0,
      "outputs": [
        {
          "output_type": "execute_result",
          "data": {
            "text/plain": [
              "Text(0, 0.5, 'Frequency')"
            ]
          },
          "metadata": {
            "tags": []
          },
          "execution_count": 89
        },
        {
          "output_type": "display_data",
          "data": {
            "image/png": "[encoded data removed]",
            "text/plain": [
              "<Figure size 360x360 with 1 Axes>"
            ]
          },
          "metadata": {
            "tags": []
          }
        }
      ]
    },
    {
      "cell_type": "code",
      "metadata": {
        "id": "9Jo9N95WWRxC",
        "colab_type": "code",
        "colab": {}
      },
      "source": [
        ""
      ],
      "execution_count": 0,
      "outputs": []
    },
    {
      "cell_type": "code",
      "metadata": {
        "id": "J-UtHLZ3WcxT",
        "colab_type": "code",
        "outputId": "7428bee2-8e7e-4b26-d025-ee46c15de7f8",
        "colab": {
          "base_uri": "https://localhost:8080/",
          "height": 308
        }
      },
      "source": [
        "plt.scatter(x=training_set['passenger_count'], y=training_set['fare_amount'], c ='r' , marker = 'x')\n",
        "plt.xlabel('No. of Passengers')\n",
        "plt.ylabel('Fare')"
      ],
      "execution_count": 0,
      "outputs": [
        {
          "output_type": "execute_result",
          "data": {
            "text/plain": [
              "Text(0, 0.5, 'Fare')"
            ]
          },
          "metadata": {
            "tags": []
          },
          "execution_count": 90
        },
        {
          "output_type": "display_data",
          "data": {
            "image/png": "[encoded data removed]",
            "text/plain": [
              "<Figure size 432x288 with 1 Axes>"
            ]
          },
          "metadata": {
            "tags": []
          }
        }
      ]
    },
    {
      "cell_type": "markdown",
      "metadata": {
        "colab_type": "text",
        "id": "O5CyqvvBTmzm"
      },
      "source": [
        "### Removing invalid Longitude and Latitude "
      ]
    },
    {
      "cell_type": "code",
      "metadata": {
        "id": "jwGgwxhbG-XU",
        "colab_type": "code",
        "outputId": "3349e127-3c1a-4e7e-ec4e-189a3ffecccc",
        "colab": {
          "base_uri": "https://localhost:8080/",
          "height": 287
        }
      },
      "source": [
        "training_set[['pickup_longitude','pickup_latitude']].describe()"
      ],
      "execution_count": 0,
      "outputs": [
        {
          "output_type": "execute_result",
          "data": {
            "text/html": [
              "<div>\n",
              "<style scoped>\n",
              "    .dataframe tbody tr th:only-of-type {\n",
              "        vertical-align: middle;\n",
              "    }\n",
              "\n",
              "    .dataframe tbody tr th {\n",
              "        vertical-align: top;\n",
              "    }\n",
              "\n",
              "    .dataframe thead th {\n",
              "        text-align: right;\n",
              "    }\n",
              "</style>\n",
              "<table border=\"1\" class=\"dataframe\">\n",
              "  <thead>\n",
              "    <tr style=\"text-align: right;\">\n",
              "      <th></th>\n",
              "      <th>pickup_longitude</th>\n",
              "      <th>pickup_latitude</th>\n",
              "    </tr>\n",
              "  </thead>\n",
              "  <tbody>\n",
              "    <tr>\n",
              "      <th>count</th>\n",
              "      <td>999911.000000</td>\n",
              "      <td>999911.000000</td>\n",
              "    </tr>\n",
              "    <tr>\n",
              "      <th>mean</th>\n",
              "      <td>-72.495404</td>\n",
              "      <td>39.923090</td>\n",
              "    </tr>\n",
              "    <tr>\n",
              "      <th>std</th>\n",
              "      <td>12.259756</td>\n",
              "      <td>9.391622</td>\n",
              "    </tr>\n",
              "    <tr>\n",
              "      <th>min</th>\n",
              "      <td>-2404.643242</td>\n",
              "      <td>-2875.860745</td>\n",
              "    </tr>\n",
              "    <tr>\n",
              "      <th>25%</th>\n",
              "      <td>-73.992062</td>\n",
              "      <td>40.734937</td>\n",
              "    </tr>\n",
              "    <tr>\n",
              "      <th>50%</th>\n",
              "      <td>-73.981785</td>\n",
              "      <td>40.752627</td>\n",
              "    </tr>\n",
              "    <tr>\n",
              "      <th>75%</th>\n",
              "      <td>-73.967093</td>\n",
              "      <td>40.767122</td>\n",
              "    </tr>\n",
              "    <tr>\n",
              "      <th>max</th>\n",
              "      <td>2417.411523</td>\n",
              "      <td>2977.030610</td>\n",
              "    </tr>\n",
              "  </tbody>\n",
              "</table>\n",
              "</div>"
            ],
            "text/plain": [
              "       pickup_longitude  pickup_latitude\n",
              "count     999911.000000    999911.000000\n",
              "mean         -72.495404        39.923090\n",
              "std           12.259756         9.391622\n",
              "min        -2404.643242     -2875.860745\n",
              "25%          -73.992062        40.734937\n",
              "50%          -73.981785        40.752627\n",
              "75%          -73.967093        40.767122\n",
              "max         2417.411523      2977.030610"
            ]
          },
          "metadata": {
            "tags": []
          },
          "execution_count": 91
        }
      ]
    },
    {
      "cell_type": "code",
      "metadata": {
        "id": "KlvkQoRlG-Xi",
        "colab_type": "code",
        "outputId": "eb505b53-beab-4bae-9e15-cf9771fe1388",
        "colab": {
          "base_uri": "https://localhost:8080/",
          "height": 287
        }
      },
      "source": [
        "training_set[['dropoff_longitude','dropoff_latitude']].describe()"
      ],
      "execution_count": 0,
      "outputs": [
        {
          "output_type": "execute_result",
          "data": {
            "text/html": [
              "<div>\n",
              "<style scoped>\n",
              "    .dataframe tbody tr th:only-of-type {\n",
              "        vertical-align: middle;\n",
              "    }\n",
              "\n",
              "    .dataframe tbody tr th {\n",
              "        vertical-align: top;\n",
              "    }\n",
              "\n",
              "    .dataframe thead th {\n",
              "        text-align: right;\n",
              "    }\n",
              "</style>\n",
              "<table border=\"1\" class=\"dataframe\">\n",
              "  <thead>\n",
              "    <tr style=\"text-align: right;\">\n",
              "      <th></th>\n",
              "      <th>dropoff_longitude</th>\n",
              "      <th>dropoff_latitude</th>\n",
              "    </tr>\n",
              "  </thead>\n",
              "  <tbody>\n",
              "    <tr>\n",
              "      <th>count</th>\n",
              "      <td>999911.000000</td>\n",
              "      <td>999911.000000</td>\n",
              "    </tr>\n",
              "    <tr>\n",
              "      <th>mean</th>\n",
              "      <td>-72.505226</td>\n",
              "      <td>39.911539</td>\n",
              "    </tr>\n",
              "    <tr>\n",
              "      <th>std</th>\n",
              "      <td>12.779259</td>\n",
              "      <td>9.858005</td>\n",
              "    </tr>\n",
              "    <tr>\n",
              "      <th>min</th>\n",
              "      <td>-3004.395947</td>\n",
              "      <td>-3271.296725</td>\n",
              "    </tr>\n",
              "    <tr>\n",
              "      <th>25%</th>\n",
              "      <td>-73.991390</td>\n",
              "      <td>40.734034</td>\n",
              "    </tr>\n",
              "    <tr>\n",
              "      <th>50%</th>\n",
              "      <td>-73.980137</td>\n",
              "      <td>40.753187</td>\n",
              "    </tr>\n",
              "    <tr>\n",
              "      <th>75%</th>\n",
              "      <td>-73.963635</td>\n",
              "      <td>40.768122</td>\n",
              "    </tr>\n",
              "    <tr>\n",
              "      <th>max</th>\n",
              "      <td>2889.997293</td>\n",
              "      <td>3305.291182</td>\n",
              "    </tr>\n",
              "  </tbody>\n",
              "</table>\n",
              "</div>"
            ],
            "text/plain": [
              "       dropoff_longitude  dropoff_latitude\n",
              "count      999911.000000     999911.000000\n",
              "mean          -72.505226         39.911539\n",
              "std            12.779259          9.858005\n",
              "min         -3004.395947      -3271.296725\n",
              "25%           -73.991390         40.734034\n",
              "50%           -73.980137         40.753187\n",
              "75%           -73.963635         40.768122\n",
              "max          2889.997293       3305.291182"
            ]
          },
          "metadata": {
            "tags": []
          },
          "execution_count": 92
        }
      ]
    },
    {
      "cell_type": "markdown",
      "metadata": {
        "id": "vdgn1fslG-Xu",
        "colab_type": "text"
      },
      "source": [
        "#### Valid Longitude value = -180 to 180\n",
        "#### Valid Latitude value = -90 to 90\n",
        "#### Remove pickup cordinates and drop off cordinates which dont fall in this range "
      ]
    },
    {
      "cell_type": "markdown",
      "metadata": {
        "id": "s8ufvnUDG-Xx",
        "colab_type": "text"
      },
      "source": [
        "##### Remove invalid pickup cordinates "
      ]
    },
    {
      "cell_type": "code",
      "metadata": {
        "id": "giQv_iiXG-Xz",
        "colab_type": "code",
        "colab": {}
      },
      "source": [
        "#print(\"Number of invalid pickup cordinates = \",len((training_set[training_set['pickup_latitude']<-90])|(training_set[training_set['pickup_latitude']>90])|(training_set[training_set['pickup_longitude']<-180])|(training_set[training_set['pickup_longitude']>180])))"
      ],
      "execution_count": 0,
      "outputs": []
    },
    {
      "cell_type": "code",
      "metadata": {
        "scrolled": true,
        "id": "uqXfGKvoG-YV",
        "colab_type": "code",
        "outputId": "1d6664fc-3af4-4963-c286-7e8a7f6050cd",
        "colab": {
          "base_uri": "https://localhost:8080/"
        }
      },
      "source": [
        "training_set = training_set.drop(training_set[training_set['pickup_latitude']<-90].index,axis = 0)\n",
        "training_set = training_set.drop(training_set[training_set['pickup_latitude']>90].index,axis = 0)\n",
        "training_set = training_set.drop(training_set[training_set['pickup_longitude']<-180].index,axis = 0)\n",
        "training_set = training_set.drop(training_set[training_set['pickup_longitude']>180].index, axis=0)\n",
        "training_set.shape"
      ],
      "execution_count": 0,
      "outputs": [
        {
          "output_type": "execute_result",
          "data": {
            "text/plain": [
              "(999883, 9)"
            ]
          },
          "metadata": {
            "tags": []
          },
          "execution_count": 94
        }
      ]
    },
    {
      "cell_type": "markdown",
      "metadata": {
        "id": "0J_6JsE6G-Yl",
        "colab_type": "text"
      },
      "source": [
        "#### Remove invalid drop off cordinates  "
      ]
    },
    {
      "cell_type": "code",
      "metadata": {
        "id": "3nRVo5jbG-Yo",
        "colab_type": "code",
        "colab": {}
      },
      "source": [
        "#print(\"Number of invalid drop off cordinates = \",len((training_set[training_set['dropoff_latitude']<-90])|(training_set[training_set['dropoff_latitude']>90])|(training_set[training_set['dropoff_longitude']<-180])|(training_set[training_set['dropoff_longitude']>180])))"
      ],
      "execution_count": 0,
      "outputs": []
    },
    {
      "cell_type": "code",
      "metadata": {
        "id": "CNH1XDQpG-Y-",
        "colab_type": "code",
        "outputId": "1660882c-2ed7-4af8-f4d2-18146969ff39",
        "colab": {
          "base_uri": "https://localhost:8080/"
        }
      },
      "source": [
        "training_set = training_set.drop(training_set[training_set['dropoff_latitude']<-90].index,axis = 0)\n",
        "training_set = training_set.drop(training_set[training_set['dropoff_latitude']>90].index,axis = 0)\n",
        "training_set = training_set.drop(training_set[training_set['dropoff_longitude']<-180].index,axis = 0)\n",
        "training_set = training_set.drop(training_set[training_set['dropoff_longitude']>180].index, axis=0)\n",
        "training_set.shape"
      ],
      "execution_count": 0,
      "outputs": [
        {
          "output_type": "execute_result",
          "data": {
            "text/plain": [
              "(999865, 9)"
            ]
          },
          "metadata": {
            "tags": []
          },
          "execution_count": 96
        }
      ]
    },
    {
      "cell_type": "code",
      "metadata": {
        "id": "TEtken1lG-ZZ",
        "colab_type": "code",
        "outputId": "d179f1e1-5862-429b-ab93-dca1c65b2029",
        "colab": {
          "base_uri": "https://localhost:8080/"
        }
      },
      "source": [
        "training_set.describe()"
      ],
      "execution_count": 0,
      "outputs": [
        {
          "output_type": "execute_result",
          "data": {
            "text/html": [
              "<div>\n",
              "<style scoped>\n",
              "    .dataframe tbody tr th:only-of-type {\n",
              "        vertical-align: middle;\n",
              "    }\n",
              "\n",
              "    .dataframe tbody tr th {\n",
              "        vertical-align: top;\n",
              "    }\n",
              "\n",
              "    .dataframe thead th {\n",
              "        text-align: right;\n",
              "    }\n",
              "</style>\n",
              "<table border=\"1\" class=\"dataframe\">\n",
              "  <thead>\n",
              "    <tr style=\"text-align: right;\">\n",
              "      <th></th>\n",
              "      <th>Unnamed: 0</th>\n",
              "      <th>fare_amount</th>\n",
              "      <th>pickup_longitude</th>\n",
              "      <th>pickup_latitude</th>\n",
              "      <th>dropoff_longitude</th>\n",
              "      <th>dropoff_latitude</th>\n",
              "      <th>passenger_count</th>\n",
              "    </tr>\n",
              "  </thead>\n",
              "  <tbody>\n",
              "    <tr>\n",
              "      <th>count</th>\n",
              "      <td>9.998650e+05</td>\n",
              "      <td>999865.000000</td>\n",
              "      <td>999865.000000</td>\n",
              "      <td>999865.000000</td>\n",
              "      <td>999865.000000</td>\n",
              "      <td>999865.000000</td>\n",
              "      <td>999865.000000</td>\n",
              "    </tr>\n",
              "    <tr>\n",
              "      <th>mean</th>\n",
              "      <td>4.998320e+06</td>\n",
              "      <td>11.361776</td>\n",
              "      <td>-72.490613</td>\n",
              "      <td>39.913277</td>\n",
              "      <td>-72.499757</td>\n",
              "      <td>39.917879</td>\n",
              "      <td>1.684753</td>\n",
              "    </tr>\n",
              "    <tr>\n",
              "      <th>std</th>\n",
              "      <td>2.885694e+06</td>\n",
              "      <td>9.846678</td>\n",
              "      <td>10.481198</td>\n",
              "      <td>6.126783</td>\n",
              "      <td>10.447667</td>\n",
              "      <td>6.113381</td>\n",
              "      <td>1.308676</td>\n",
              "    </tr>\n",
              "    <tr>\n",
              "      <th>min</th>\n",
              "      <td>5.000000e+00</td>\n",
              "      <td>2.500000</td>\n",
              "      <td>-121.285595</td>\n",
              "      <td>-74.824164</td>\n",
              "      <td>-121.285388</td>\n",
              "      <td>-74.178840</td>\n",
              "      <td>0.000000</td>\n",
              "    </tr>\n",
              "    <tr>\n",
              "      <th>25%</th>\n",
              "      <td>2.500700e+06</td>\n",
              "      <td>6.000000</td>\n",
              "      <td>-73.992061</td>\n",
              "      <td>40.734937</td>\n",
              "      <td>-73.991390</td>\n",
              "      <td>40.734035</td>\n",
              "      <td>1.000000</td>\n",
              "    </tr>\n",
              "    <tr>\n",
              "      <th>50%</th>\n",
              "      <td>4.997435e+06</td>\n",
              "      <td>8.500000</td>\n",
              "      <td>-73.981785</td>\n",
              "      <td>40.752627</td>\n",
              "      <td>-73.980137</td>\n",
              "      <td>40.753187</td>\n",
              "      <td>1.000000</td>\n",
              "    </tr>\n",
              "    <tr>\n",
              "      <th>75%</th>\n",
              "      <td>7.498036e+06</td>\n",
              "      <td>12.500000</td>\n",
              "      <td>-73.967093</td>\n",
              "      <td>40.767120</td>\n",
              "      <td>-73.963635</td>\n",
              "      <td>40.768122</td>\n",
              "      <td>2.000000</td>\n",
              "    </tr>\n",
              "    <tr>\n",
              "      <th>max</th>\n",
              "      <td>9.999971e+06</td>\n",
              "      <td>500.000000</td>\n",
              "      <td>40.826712</td>\n",
              "      <td>73.979307</td>\n",
              "      <td>40.855685</td>\n",
              "      <td>73.992735</td>\n",
              "      <td>6.000000</td>\n",
              "    </tr>\n",
              "  </tbody>\n",
              "</table>\n",
              "</div>"
            ],
            "text/plain": [
              "         Unnamed: 0    fare_amount  pickup_longitude  pickup_latitude  \\\n",
              "count  9.998650e+05  999865.000000     999865.000000    999865.000000   \n",
              "mean   4.998320e+06      11.361776        -72.490613        39.913277   \n",
              "std    2.885694e+06       9.846678         10.481198         6.126783   \n",
              "min    5.000000e+00       2.500000       -121.285595       -74.824164   \n",
              "25%    2.500700e+06       6.000000        -73.992061        40.734937   \n",
              "50%    4.997435e+06       8.500000        -73.981785        40.752627   \n",
              "75%    7.498036e+06      12.500000        -73.967093        40.767120   \n",
              "max    9.999971e+06     500.000000         40.826712        73.979307   \n",
              "\n",
              "       dropoff_longitude  dropoff_latitude  passenger_count  \n",
              "count      999865.000000     999865.000000    999865.000000  \n",
              "mean          -72.499757         39.917879         1.684753  \n",
              "std            10.447667          6.113381         1.308676  \n",
              "min          -121.285388        -74.178840         0.000000  \n",
              "25%           -73.991390         40.734035         1.000000  \n",
              "50%           -73.980137         40.753187         1.000000  \n",
              "75%           -73.963635         40.768122         2.000000  \n",
              "max            40.855685         73.992735         6.000000  "
            ]
          },
          "metadata": {
            "tags": []
          },
          "execution_count": 97
        }
      ]
    },
    {
      "cell_type": "markdown",
      "metadata": {
        "id": "NqEDOhlLG-Z0",
        "colab_type": "text"
      },
      "source": [
        "## Distance between pick up location and drop off location\n",
        "#### The distance in a sphere can be calculated when latitudes and longitudes are given by Haversine formula\n",
        "#### haversine(θ) = sin²(θ/2)\n",
        "\n",
        "#### φ is latitude, λ is longitude, R is earth’s radius (mean radius = 6,371km) to include latitude and longitude coordinates (A and B in this case).\n",
        "\n",
        "#### a = sin²((φB - φA)/2) + cos φA . cos φB . sin²((λB - λA)/2)\n",
        "\n",
        "#### c = 2 * atan2( √a, √(1−a) )\n",
        "\n",
        "#### d = R ⋅ c\n",
        "\n",
        "#### d = Haversine distance"
      ]
    },
    {
      "cell_type": "code",
      "metadata": {
        "id": "PuDnSpMGG-Z3",
        "colab_type": "code",
        "colab": {}
      },
      "source": [
        "def haversine_distance(data):\n",
        "    R = 6371        # Radius of earth in Kilo Meter\n",
        "    \n",
        "    pickup_data = data[['pickup_longitude','pickup_latitude']]\n",
        "    dropoff_data = data[['dropoff_longitude','dropoff_latitude']]\n",
        "    \n",
        "    phi1 = np.radians(pickup_data['pickup_latitude'])\n",
        "    phi2 = np.radians(dropoff_data['dropoff_latitude'])\n",
        "    \n",
        "    delta_phi = np.radians(dropoff_data['dropoff_latitude'] - pickup_data['pickup_latitude'])\n",
        "    delta_lambda = np.radians(dropoff_data['dropoff_longitude'] - pickup_data['pickup_longitude'])\n",
        "    \n",
        "    #a = sin²((φB - φA)/2) + cos φA . cos φB . sin²((λB - λA)/2)\n",
        "    a = np.sin((delta_phi)/2)**2 + np.cos(phi1)*np.cos(phi2)*np.sin(delta_lambda/2)**2\n",
        "    \n",
        "    #c = 2 * atan2( √a, √(1−a) )\n",
        "    c = 2 * np.arctan2(np.sqrt(a),np.sqrt(1-a))\n",
        "    d = R * c\n",
        "    \n",
        "    return d\n",
        "    "
      ],
      "execution_count": 0,
      "outputs": []
    },
    {
      "cell_type": "markdown",
      "metadata": {
        "id": "4v0_hPtVfGxM",
        "colab_type": "text"
      },
      "source": [
        "### Finding Training set distance"
      ]
    },
    {
      "cell_type": "code",
      "metadata": {
        "scrolled": false,
        "id": "JZXzQDK_WbM9",
        "colab_type": "code",
        "colab": {}
      },
      "source": [
        "training_set_distance = pd.DataFrame(haversine_distance(training_set) , columns=['Distance'])\n",
        "training_set = pd.concat([training_set , training_set_distance] , axis = 1)"
      ],
      "execution_count": 0,
      "outputs": []
    },
    {
      "cell_type": "code",
      "metadata": {
        "scrolled": true,
        "id": "jbB_lsAYWbNB",
        "colab_type": "code",
        "outputId": "c792fef4-458d-440e-fa88-fef794483a9e",
        "colab": {
          "base_uri": "https://localhost:8080/",
          "height": 197
        }
      },
      "source": [
        "training_set.head()"
      ],
      "execution_count": 0,
      "outputs": [
        {
          "output_type": "execute_result",
          "data": {
            "text/html": [
              "<div>\n",
              "<style scoped>\n",
              "    .dataframe tbody tr th:only-of-type {\n",
              "        vertical-align: middle;\n",
              "    }\n",
              "\n",
              "    .dataframe tbody tr th {\n",
              "        vertical-align: top;\n",
              "    }\n",
              "\n",
              "    .dataframe thead th {\n",
              "        text-align: right;\n",
              "    }\n",
              "</style>\n",
              "<table border=\"1\" class=\"dataframe\">\n",
              "  <thead>\n",
              "    <tr style=\"text-align: right;\">\n",
              "      <th></th>\n",
              "      <th>Unnamed: 0</th>\n",
              "      <th>key</th>\n",
              "      <th>fare_amount</th>\n",
              "      <th>pickup_datetime</th>\n",
              "      <th>pickup_longitude</th>\n",
              "      <th>pickup_latitude</th>\n",
              "      <th>dropoff_longitude</th>\n",
              "      <th>dropoff_latitude</th>\n",
              "      <th>passenger_count</th>\n",
              "      <th>Distance</th>\n",
              "    </tr>\n",
              "  </thead>\n",
              "  <tbody>\n",
              "    <tr>\n",
              "      <th>0</th>\n",
              "      <td>6846288</td>\n",
              "      <td>2014-08-14 01:36:34.0000001</td>\n",
              "      <td>6.5</td>\n",
              "      <td>2014-08-14 01:36:34 UTC</td>\n",
              "      <td>-73.975764</td>\n",
              "      <td>40.753898</td>\n",
              "      <td>-73.961381</td>\n",
              "      <td>40.769729</td>\n",
              "      <td>1</td>\n",
              "      <td>2.136860</td>\n",
              "    </tr>\n",
              "    <tr>\n",
              "      <th>1</th>\n",
              "      <td>6026469</td>\n",
              "      <td>2015-02-24 09:56:15.0000005</td>\n",
              "      <td>6.0</td>\n",
              "      <td>2015-02-24 09:56:15 UTC</td>\n",
              "      <td>-73.974663</td>\n",
              "      <td>40.756310</td>\n",
              "      <td>-73.980339</td>\n",
              "      <td>40.760742</td>\n",
              "      <td>1</td>\n",
              "      <td>0.686669</td>\n",
              "    </tr>\n",
              "    <tr>\n",
              "      <th>2</th>\n",
              "      <td>6472844</td>\n",
              "      <td>2014-01-14 20:12:06.0000001</td>\n",
              "      <td>5.5</td>\n",
              "      <td>2014-01-14 20:12:06 UTC</td>\n",
              "      <td>-73.970602</td>\n",
              "      <td>40.785972</td>\n",
              "      <td>-73.955813</td>\n",
              "      <td>40.783007</td>\n",
              "      <td>1</td>\n",
              "      <td>1.288050</td>\n",
              "    </tr>\n",
              "    <tr>\n",
              "      <th>3</th>\n",
              "      <td>7672835</td>\n",
              "      <td>2012-04-06 07:02:34.0000001</td>\n",
              "      <td>8.1</td>\n",
              "      <td>2012-04-06 07:02:34 UTC</td>\n",
              "      <td>-74.007823</td>\n",
              "      <td>40.732122</td>\n",
              "      <td>-73.983278</td>\n",
              "      <td>40.761789</td>\n",
              "      <td>1</td>\n",
              "      <td>3.893276</td>\n",
              "    </tr>\n",
              "    <tr>\n",
              "      <th>4</th>\n",
              "      <td>5340043</td>\n",
              "      <td>2009-03-29 20:33:54.0000002</td>\n",
              "      <td>7.4</td>\n",
              "      <td>2009-03-29 20:33:54 UTC</td>\n",
              "      <td>-73.996974</td>\n",
              "      <td>40.737093</td>\n",
              "      <td>-73.977298</td>\n",
              "      <td>40.729153</td>\n",
              "      <td>1</td>\n",
              "      <td>1.878308</td>\n",
              "    </tr>\n",
              "  </tbody>\n",
              "</table>\n",
              "</div>"
            ],
            "text/plain": [
              "   Unnamed: 0                          key  fare_amount  \\\n",
              "0     6846288  2014-08-14 01:36:34.0000001          6.5   \n",
              "1     6026469  2015-02-24 09:56:15.0000005          6.0   \n",
              "2     6472844  2014-01-14 20:12:06.0000001          5.5   \n",
              "3     7672835  2012-04-06 07:02:34.0000001          8.1   \n",
              "4     5340043  2009-03-29 20:33:54.0000002          7.4   \n",
              "\n",
              "           pickup_datetime  pickup_longitude  pickup_latitude  \\\n",
              "0  2014-08-14 01:36:34 UTC        -73.975764        40.753898   \n",
              "1  2015-02-24 09:56:15 UTC        -73.974663        40.756310   \n",
              "2  2014-01-14 20:12:06 UTC        -73.970602        40.785972   \n",
              "3  2012-04-06 07:02:34 UTC        -74.007823        40.732122   \n",
              "4  2009-03-29 20:33:54 UTC        -73.996974        40.737093   \n",
              "\n",
              "   dropoff_longitude  dropoff_latitude  passenger_count  Distance  \n",
              "0         -73.961381         40.769729                1  2.136860  \n",
              "1         -73.980339         40.760742                1  0.686669  \n",
              "2         -73.955813         40.783007                1  1.288050  \n",
              "3         -73.983278         40.761789                1  3.893276  \n",
              "4         -73.977298         40.729153                1  1.878308  "
            ]
          },
          "metadata": {
            "tags": []
          },
          "execution_count": 100
        }
      ]
    },
    {
      "cell_type": "code",
      "metadata": {
        "id": "_w5HN3v1POQa",
        "colab_type": "code",
        "outputId": "e306e703-1d9c-40d3-ce16-2eceeebe6ddd",
        "colab": {
          "base_uri": "https://localhost:8080/",
          "height": 417
        }
      },
      "source": [
        "plt.figure(figsize=(14,6))\n",
        "plt.hist(training_set['Distance'], bins=40)\n",
        "plt.xlabel('Distance')\n",
        "plt.ylabel('Frequency')"
      ],
      "execution_count": 0,
      "outputs": [
        {
          "output_type": "execute_result",
          "data": {
            "text/plain": [
              "Text(0, 0.5, 'Frequency')"
            ]
          },
          "metadata": {
            "tags": []
          },
          "execution_count": 101
        },
        {
          "output_type": "display_data",
          "data": {
            "image/png": "[encoded data removed]",
            "text/plain": [
              "<Figure size 1008x432 with 1 Axes>"
            ]
          },
          "metadata": {
            "tags": []
          }
        }
      ]
    },
    {
      "cell_type": "code",
      "metadata": {
        "id": "XMfGs1k2WbNN",
        "colab_type": "code",
        "outputId": "51361859-b384-41f3-e628-0cafcb8272ed",
        "colab": {
          "base_uri": "https://localhost:8080/",
          "height": 287
        }
      },
      "source": [
        "training_set.describe()"
      ],
      "execution_count": 0,
      "outputs": [
        {
          "output_type": "execute_result",
          "data": {
            "text/html": [
              "<div>\n",
              "<style scoped>\n",
              "    .dataframe tbody tr th:only-of-type {\n",
              "        vertical-align: middle;\n",
              "    }\n",
              "\n",
              "    .dataframe tbody tr th {\n",
              "        vertical-align: top;\n",
              "    }\n",
              "\n",
              "    .dataframe thead th {\n",
              "        text-align: right;\n",
              "    }\n",
              "</style>\n",
              "<table border=\"1\" class=\"dataframe\">\n",
              "  <thead>\n",
              "    <tr style=\"text-align: right;\">\n",
              "      <th></th>\n",
              "      <th>Unnamed: 0</th>\n",
              "      <th>fare_amount</th>\n",
              "      <th>pickup_longitude</th>\n",
              "      <th>pickup_latitude</th>\n",
              "      <th>dropoff_longitude</th>\n",
              "      <th>dropoff_latitude</th>\n",
              "      <th>passenger_count</th>\n",
              "      <th>Distance</th>\n",
              "    </tr>\n",
              "  </thead>\n",
              "  <tbody>\n",
              "    <tr>\n",
              "      <th>count</th>\n",
              "      <td>9.998650e+05</td>\n",
              "      <td>999865.000000</td>\n",
              "      <td>999865.000000</td>\n",
              "      <td>999865.000000</td>\n",
              "      <td>999865.000000</td>\n",
              "      <td>999865.000000</td>\n",
              "      <td>999865.000000</td>\n",
              "      <td>999865.000000</td>\n",
              "    </tr>\n",
              "    <tr>\n",
              "      <th>mean</th>\n",
              "      <td>4.998320e+06</td>\n",
              "      <td>11.361776</td>\n",
              "      <td>-72.490613</td>\n",
              "      <td>39.913277</td>\n",
              "      <td>-72.499757</td>\n",
              "      <td>39.917879</td>\n",
              "      <td>1.684753</td>\n",
              "      <td>20.055550</td>\n",
              "    </tr>\n",
              "    <tr>\n",
              "      <th>std</th>\n",
              "      <td>2.885694e+06</td>\n",
              "      <td>9.846678</td>\n",
              "      <td>10.481198</td>\n",
              "      <td>6.126783</td>\n",
              "      <td>10.447667</td>\n",
              "      <td>6.113381</td>\n",
              "      <td>1.308676</td>\n",
              "      <td>373.382101</td>\n",
              "    </tr>\n",
              "    <tr>\n",
              "      <th>min</th>\n",
              "      <td>5.000000e+00</td>\n",
              "      <td>2.500000</td>\n",
              "      <td>-121.285595</td>\n",
              "      <td>-74.824164</td>\n",
              "      <td>-121.285388</td>\n",
              "      <td>-74.178840</td>\n",
              "      <td>0.000000</td>\n",
              "      <td>0.000000</td>\n",
              "    </tr>\n",
              "    <tr>\n",
              "      <th>25%</th>\n",
              "      <td>2.500700e+06</td>\n",
              "      <td>6.000000</td>\n",
              "      <td>-73.992061</td>\n",
              "      <td>40.734937</td>\n",
              "      <td>-73.991390</td>\n",
              "      <td>40.734035</td>\n",
              "      <td>1.000000</td>\n",
              "      <td>1.214251</td>\n",
              "    </tr>\n",
              "    <tr>\n",
              "      <th>50%</th>\n",
              "      <td>4.997435e+06</td>\n",
              "      <td>8.500000</td>\n",
              "      <td>-73.981785</td>\n",
              "      <td>40.752627</td>\n",
              "      <td>-73.980137</td>\n",
              "      <td>40.753187</td>\n",
              "      <td>1.000000</td>\n",
              "      <td>2.118853</td>\n",
              "    </tr>\n",
              "    <tr>\n",
              "      <th>75%</th>\n",
              "      <td>7.498036e+06</td>\n",
              "      <td>12.500000</td>\n",
              "      <td>-73.967093</td>\n",
              "      <td>40.767120</td>\n",
              "      <td>-73.963635</td>\n",
              "      <td>40.768122</td>\n",
              "      <td>2.000000</td>\n",
              "      <td>3.874906</td>\n",
              "    </tr>\n",
              "    <tr>\n",
              "      <th>max</th>\n",
              "      <td>9.999971e+06</td>\n",
              "      <td>500.000000</td>\n",
              "      <td>40.826712</td>\n",
              "      <td>73.979307</td>\n",
              "      <td>40.855685</td>\n",
              "      <td>73.992735</td>\n",
              "      <td>6.000000</td>\n",
              "      <td>12851.756269</td>\n",
              "    </tr>\n",
              "  </tbody>\n",
              "</table>\n",
              "</div>"
            ],
            "text/plain": [
              "         Unnamed: 0    fare_amount  pickup_longitude  pickup_latitude  \\\n",
              "count  9.998650e+05  999865.000000     999865.000000    999865.000000   \n",
              "mean   4.998320e+06      11.361776        -72.490613        39.913277   \n",
              "std    2.885694e+06       9.846678         10.481198         6.126783   \n",
              "min    5.000000e+00       2.500000       -121.285595       -74.824164   \n",
              "25%    2.500700e+06       6.000000        -73.992061        40.734937   \n",
              "50%    4.997435e+06       8.500000        -73.981785        40.752627   \n",
              "75%    7.498036e+06      12.500000        -73.967093        40.767120   \n",
              "max    9.999971e+06     500.000000         40.826712        73.979307   \n",
              "\n",
              "       dropoff_longitude  dropoff_latitude  passenger_count       Distance  \n",
              "count      999865.000000     999865.000000    999865.000000  999865.000000  \n",
              "mean          -72.499757         39.917879         1.684753      20.055550  \n",
              "std            10.447667          6.113381         1.308676     373.382101  \n",
              "min          -121.285388        -74.178840         0.000000       0.000000  \n",
              "25%           -73.991390         40.734035         1.000000       1.214251  \n",
              "50%           -73.980137         40.753187         1.000000       2.118853  \n",
              "75%           -73.963635         40.768122         2.000000       3.874906  \n",
              "max            40.855685         73.992735         6.000000   12851.756269  "
            ]
          },
          "metadata": {
            "tags": []
          },
          "execution_count": 102
        }
      ]
    },
    {
      "cell_type": "code",
      "metadata": {
        "id": "8LHsclYqWbNX",
        "colab_type": "code",
        "outputId": "134adf58-0a19-4ffd-e851-440d49b69acc",
        "colab": {
          "base_uri": "https://localhost:8080/",
          "height": 305
        }
      },
      "source": [
        "plt.scatter(training_set['Distance'] , training_set['fare_amount'] , c = 'r' , marker = 'x')\n",
        "plt.title('Training_set Distance Vs Fare Amount',size = 18)\n",
        "plt.xlabel('Distance (meters)',size = 14)\n",
        "plt.ylabel('Fare Amount ($)',size = 14)\n",
        "plt.show()"
      ],
      "execution_count": 0,
      "outputs": [
        {
          "output_type": "display_data",
          "data": {
            "image/png": "[encoded data removed]",
            "text/plain": [
              "<Figure size 432x288 with 1 Axes>"
            ]
          },
          "metadata": {
            "tags": []
          }
        }
      ]
    },
    {
      "cell_type": "markdown",
      "metadata": {
        "id": "zBTlOuS8fyli",
        "colab_type": "text"
      },
      "source": [
        "### Finding Dev set distance "
      ]
    },
    {
      "cell_type": "code",
      "metadata": {
        "scrolled": false,
        "colab_type": "code",
        "id": "W_xIcfoseM04",
        "colab": {}
      },
      "source": [
        "dev_set_distance = pd.DataFrame(haversine_distance(dev_set) , columns=['Distance'])\n",
        "dev_set = pd.concat([dev_set , dev_set_distance] , axis = 1)"
      ],
      "execution_count": 0,
      "outputs": []
    },
    {
      "cell_type": "code",
      "metadata": {
        "scrolled": true,
        "colab_type": "code",
        "id": "YAr-HfN7gEWP",
        "outputId": "13b39a77-bced-4c5d-d3b0-47fa9b953ede",
        "colab": {
          "base_uri": "https://localhost:8080/",
          "height": 297
        }
      },
      "source": [
        "dev_set.head()"
      ],
      "execution_count": 0,
      "outputs": [
        {
          "output_type": "execute_result",
          "data": {
            "text/html": [
              "<div>\n",
              "<style scoped>\n",
              "    .dataframe tbody tr th:only-of-type {\n",
              "        vertical-align: middle;\n",
              "    }\n",
              "\n",
              "    .dataframe tbody tr th {\n",
              "        vertical-align: top;\n",
              "    }\n",
              "\n",
              "    .dataframe thead th {\n",
              "        text-align: right;\n",
              "    }\n",
              "</style>\n",
              "<table border=\"1\" class=\"dataframe\">\n",
              "  <thead>\n",
              "    <tr style=\"text-align: right;\">\n",
              "      <th></th>\n",
              "      <th>Unnamed: 0</th>\n",
              "      <th>key</th>\n",
              "      <th>fare_amount</th>\n",
              "      <th>pickup_datetime</th>\n",
              "      <th>pickup_longitude</th>\n",
              "      <th>pickup_latitude</th>\n",
              "      <th>dropoff_longitude</th>\n",
              "      <th>dropoff_latitude</th>\n",
              "      <th>passenger_count</th>\n",
              "      <th>Distance</th>\n",
              "    </tr>\n",
              "  </thead>\n",
              "  <tbody>\n",
              "    <tr>\n",
              "      <th>0</th>\n",
              "      <td>5406611</td>\n",
              "      <td>2012-11-18 18:24:00.000000116</td>\n",
              "      <td>8.5</td>\n",
              "      <td>2012-11-18 18:24:00 UTC</td>\n",
              "      <td>-73.961455</td>\n",
              "      <td>40.765132</td>\n",
              "      <td>-73.976322</td>\n",
              "      <td>40.744262</td>\n",
              "      <td>1</td>\n",
              "      <td>2.636956</td>\n",
              "    </tr>\n",
              "    <tr>\n",
              "      <th>1</th>\n",
              "      <td>6747269</td>\n",
              "      <td>2009-06-03 21:22:00.0000003</td>\n",
              "      <td>6.1</td>\n",
              "      <td>2009-06-03 21:22:00 UTC</td>\n",
              "      <td>-73.952222</td>\n",
              "      <td>40.787170</td>\n",
              "      <td>-73.963823</td>\n",
              "      <td>40.769275</td>\n",
              "      <td>1</td>\n",
              "      <td>2.216669</td>\n",
              "    </tr>\n",
              "    <tr>\n",
              "      <th>2</th>\n",
              "      <td>327803</td>\n",
              "      <td>2010-10-23 23:45:50.0000003</td>\n",
              "      <td>20.1</td>\n",
              "      <td>2010-10-23 23:45:50 UTC</td>\n",
              "      <td>-74.004992</td>\n",
              "      <td>40.741375</td>\n",
              "      <td>-73.983108</td>\n",
              "      <td>40.670276</td>\n",
              "      <td>1</td>\n",
              "      <td>8.118205</td>\n",
              "    </tr>\n",
              "    <tr>\n",
              "      <th>3</th>\n",
              "      <td>862905</td>\n",
              "      <td>2013-09-15 15:03:59.0000001</td>\n",
              "      <td>8.0</td>\n",
              "      <td>2013-09-15 15:03:59 UTC</td>\n",
              "      <td>-74.012050</td>\n",
              "      <td>40.715985</td>\n",
              "      <td>-74.012362</td>\n",
              "      <td>40.720336</td>\n",
              "      <td>2</td>\n",
              "      <td>0.484523</td>\n",
              "    </tr>\n",
              "    <tr>\n",
              "      <th>4</th>\n",
              "      <td>9942124</td>\n",
              "      <td>2014-03-27 17:59:00.00000093</td>\n",
              "      <td>4.5</td>\n",
              "      <td>2014-03-27 17:59:00 UTC</td>\n",
              "      <td>-73.961375</td>\n",
              "      <td>40.760622</td>\n",
              "      <td>-73.954577</td>\n",
              "      <td>40.765732</td>\n",
              "      <td>1</td>\n",
              "      <td>0.806630</td>\n",
              "    </tr>\n",
              "  </tbody>\n",
              "</table>\n",
              "</div>"
            ],
            "text/plain": [
              "   Unnamed: 0                            key  fare_amount  \\\n",
              "0     5406611  2012-11-18 18:24:00.000000116          8.5   \n",
              "1     6747269    2009-06-03 21:22:00.0000003          6.1   \n",
              "2      327803    2010-10-23 23:45:50.0000003         20.1   \n",
              "3      862905    2013-09-15 15:03:59.0000001          8.0   \n",
              "4     9942124   2014-03-27 17:59:00.00000093          4.5   \n",
              "\n",
              "           pickup_datetime  pickup_longitude  pickup_latitude  \\\n",
              "0  2012-11-18 18:24:00 UTC        -73.961455        40.765132   \n",
              "1  2009-06-03 21:22:00 UTC        -73.952222        40.787170   \n",
              "2  2010-10-23 23:45:50 UTC        -74.004992        40.741375   \n",
              "3  2013-09-15 15:03:59 UTC        -74.012050        40.715985   \n",
              "4  2014-03-27 17:59:00 UTC        -73.961375        40.760622   \n",
              "\n",
              "   dropoff_longitude  dropoff_latitude  passenger_count  Distance  \n",
              "0         -73.976322         40.744262                1  2.636956  \n",
              "1         -73.963823         40.769275                1  2.216669  \n",
              "2         -73.983108         40.670276                1  8.118205  \n",
              "3         -74.012362         40.720336                2  0.484523  \n",
              "4         -73.954577         40.765732                1  0.806630  "
            ]
          },
          "metadata": {
            "tags": []
          },
          "execution_count": 105
        }
      ]
    },
    {
      "cell_type": "code",
      "metadata": {
        "id": "ltgYdRv7gGBt",
        "colab_type": "code",
        "outputId": "0b327160-5b6f-4044-a809-f492659c938b",
        "colab": {
          "base_uri": "https://localhost:8080/",
          "height": 287
        }
      },
      "source": [
        "dev_set.describe()"
      ],
      "execution_count": 0,
      "outputs": [
        {
          "output_type": "execute_result",
          "data": {
            "text/html": [
              "<div>\n",
              "<style scoped>\n",
              "    .dataframe tbody tr th:only-of-type {\n",
              "        vertical-align: middle;\n",
              "    }\n",
              "\n",
              "    .dataframe tbody tr th {\n",
              "        vertical-align: top;\n",
              "    }\n",
              "\n",
              "    .dataframe thead th {\n",
              "        text-align: right;\n",
              "    }\n",
              "</style>\n",
              "<table border=\"1\" class=\"dataframe\">\n",
              "  <thead>\n",
              "    <tr style=\"text-align: right;\">\n",
              "      <th></th>\n",
              "      <th>Unnamed: 0</th>\n",
              "      <th>fare_amount</th>\n",
              "      <th>pickup_longitude</th>\n",
              "      <th>pickup_latitude</th>\n",
              "      <th>dropoff_longitude</th>\n",
              "      <th>dropoff_latitude</th>\n",
              "      <th>passenger_count</th>\n",
              "      <th>Distance</th>\n",
              "    </tr>\n",
              "  </thead>\n",
              "  <tbody>\n",
              "    <tr>\n",
              "      <th>count</th>\n",
              "      <td>1.000000e+04</td>\n",
              "      <td>10000.000000</td>\n",
              "      <td>10000.000000</td>\n",
              "      <td>10000.000000</td>\n",
              "      <td>10000.000000</td>\n",
              "      <td>10000.000000</td>\n",
              "      <td>10000.000000</td>\n",
              "      <td>10000.000000</td>\n",
              "    </tr>\n",
              "    <tr>\n",
              "      <th>mean</th>\n",
              "      <td>5.035986e+06</td>\n",
              "      <td>11.476045</td>\n",
              "      <td>-72.470719</td>\n",
              "      <td>39.891178</td>\n",
              "      <td>-72.486662</td>\n",
              "      <td>39.903932</td>\n",
              "      <td>1.688500</td>\n",
              "      <td>17.085071</td>\n",
              "    </tr>\n",
              "    <tr>\n",
              "      <th>std</th>\n",
              "      <td>2.884860e+06</td>\n",
              "      <td>10.124174</td>\n",
              "      <td>10.573926</td>\n",
              "      <td>6.275024</td>\n",
              "      <td>10.519467</td>\n",
              "      <td>6.237804</td>\n",
              "      <td>1.292453</td>\n",
              "      <td>339.691819</td>\n",
              "    </tr>\n",
              "    <tr>\n",
              "      <th>min</th>\n",
              "      <td>2.840000e+02</td>\n",
              "      <td>0.010000</td>\n",
              "      <td>-75.338380</td>\n",
              "      <td>-74.010755</td>\n",
              "      <td>-78.562860</td>\n",
              "      <td>-74.002347</td>\n",
              "      <td>0.000000</td>\n",
              "      <td>0.000000</td>\n",
              "    </tr>\n",
              "    <tr>\n",
              "      <th>25%</th>\n",
              "      <td>2.536053e+06</td>\n",
              "      <td>6.000000</td>\n",
              "      <td>-73.991816</td>\n",
              "      <td>40.734031</td>\n",
              "      <td>-73.991257</td>\n",
              "      <td>40.734249</td>\n",
              "      <td>1.000000</td>\n",
              "      <td>1.193600</td>\n",
              "    </tr>\n",
              "    <tr>\n",
              "      <th>50%</th>\n",
              "      <td>5.044119e+06</td>\n",
              "      <td>8.500000</td>\n",
              "      <td>-73.981706</td>\n",
              "      <td>40.752599</td>\n",
              "      <td>-73.979504</td>\n",
              "      <td>40.753197</td>\n",
              "      <td>1.000000</td>\n",
              "      <td>2.119014</td>\n",
              "    </tr>\n",
              "    <tr>\n",
              "      <th>75%</th>\n",
              "      <td>7.540420e+06</td>\n",
              "      <td>12.500000</td>\n",
              "      <td>-73.966705</td>\n",
              "      <td>40.767076</td>\n",
              "      <td>-73.963210</td>\n",
              "      <td>40.768144</td>\n",
              "      <td>2.000000</td>\n",
              "      <td>3.932044</td>\n",
              "    </tr>\n",
              "    <tr>\n",
              "      <th>max</th>\n",
              "      <td>9.997197e+06</td>\n",
              "      <td>124.100000</td>\n",
              "      <td>40.770792</td>\n",
              "      <td>41.366138</td>\n",
              "      <td>40.778532</td>\n",
              "      <td>47.065774</td>\n",
              "      <td>6.000000</td>\n",
              "      <td>8667.819475</td>\n",
              "    </tr>\n",
              "  </tbody>\n",
              "</table>\n",
              "</div>"
            ],
            "text/plain": [
              "         Unnamed: 0   fare_amount  pickup_longitude  pickup_latitude  \\\n",
              "count  1.000000e+04  10000.000000      10000.000000     10000.000000   \n",
              "mean   5.035986e+06     11.476045        -72.470719        39.891178   \n",
              "std    2.884860e+06     10.124174         10.573926         6.275024   \n",
              "min    2.840000e+02      0.010000        -75.338380       -74.010755   \n",
              "25%    2.536053e+06      6.000000        -73.991816        40.734031   \n",
              "50%    5.044119e+06      8.500000        -73.981706        40.752599   \n",
              "75%    7.540420e+06     12.500000        -73.966705        40.767076   \n",
              "max    9.997197e+06    124.100000         40.770792        41.366138   \n",
              "\n",
              "       dropoff_longitude  dropoff_latitude  passenger_count      Distance  \n",
              "count       10000.000000      10000.000000     10000.000000  10000.000000  \n",
              "mean          -72.486662         39.903932         1.688500     17.085071  \n",
              "std            10.519467          6.237804         1.292453    339.691819  \n",
              "min           -78.562860        -74.002347         0.000000      0.000000  \n",
              "25%           -73.991257         40.734249         1.000000      1.193600  \n",
              "50%           -73.979504         40.753197         1.000000      2.119014  \n",
              "75%           -73.963210         40.768144         2.000000      3.932044  \n",
              "max            40.778532         47.065774         6.000000   8667.819475  "
            ]
          },
          "metadata": {
            "tags": []
          },
          "execution_count": 106
        }
      ]
    },
    {
      "cell_type": "code",
      "metadata": {
        "id": "lm8D4FALgH_I",
        "colab_type": "code",
        "outputId": "d4e2b137-96ee-442d-f690-6be1b557238e",
        "colab": {
          "base_uri": "https://localhost:8080/",
          "height": 305
        }
      },
      "source": [
        "plt.scatter(dev_set['Distance'] , dev_set['fare_amount'] , c = 'r' , marker = 'x')\n",
        "plt.title('Dev_set Distance Vs Fare Amount',size = 18)\n",
        "plt.xlabel('Distance (meters)',size = 14)\n",
        "plt.ylabel('Fare Amount ($)',size = 14)\n",
        "plt.show()"
      ],
      "execution_count": 0,
      "outputs": [
        {
          "output_type": "display_data",
          "data": {
            "image/png": "[encoded data removed]",
            "text/plain": [
              "<Figure size 432x288 with 1 Axes>"
            ]
          },
          "metadata": {
            "tags": []
          }
        }
      ]
    },
    {
      "cell_type": "markdown",
      "metadata": {
        "id": "_wv5ctwqG-bE",
        "colab_type": "text"
      },
      "source": [
        "## Support Vector Regression on Feature Distance "
      ]
    },
    {
      "cell_type": "code",
      "metadata": {
        "id": "AD4_b1FrG-bU",
        "colab_type": "code",
        "colab": {}
      },
      "source": [
        "def svr_linear(X,y):\n",
        "    start_time = time.time()\n",
        "    svr_lin = SVR(kernel='linear', C=7, gamma='auto')\n",
        "    y_lin = svr_lin.fit(X, y)\n",
        "    \n",
        "    return svr_lin, start_time\n",
        "\n",
        "def svr_RBF(X,y):\n",
        "    start_time = time.time()\n",
        "    svr_rbf = SVR(kernel='rbf', C=15, gamma=0.1, epsilon=.1)\n",
        "    y_rbf = svr_rbf.fit(X, y)\n",
        "    \n",
        "    return svr_rbf, start_time"
      ],
      "execution_count": 0,
      "outputs": []
    },
    {
      "cell_type": "code",
      "metadata": {
        "id": "im9Zk5eGSI-8",
        "colab_type": "code",
        "colab": {}
      },
      "source": [
        "train_data = training_set.sample(n = 10000 , replace = False)\n",
        "X = np.array(train_data['Distance']).reshape(len(train_data),1)\n",
        "y = np.array(train_data['fare_amount'])\n",
        "\n",
        "dev_data = dev_set.sample(n = 4256 , replace = False)\n",
        "X_predict = np.array(dev_data['Distance']).reshape(len(dev_data),1)\n",
        "y_predict = np.array(dev_data['fare_amount'])"
      ],
      "execution_count": 0,
      "outputs": []
    },
    {
      "cell_type": "code",
      "metadata": {
        "colab_type": "code",
        "id": "bAZcjk1K3JTt",
        "colab": {}
      },
      "source": [
        "t1 = pool.apply_async(svr_RBF, (X,y)) \n",
        "t2 = pool.apply_async(svr_linear, (X,y)) \n",
        "\n",
        "svr_rbf, rbf_start_time = t1.get()\n",
        "svr_lin, lin_start_time = t2.get()"
      ],
      "execution_count": 0,
      "outputs": []
    },
    {
      "cell_type": "code",
      "metadata": {
        "id": "xvlDpno2G-by",
        "colab_type": "code",
        "outputId": "fb8300f0-fdd6-4d6d-8fab-5adfa2f04d6c",
        "colab": {
          "base_uri": "https://localhost:8080/",
          "height": 123
        }
      },
      "source": [
        "SVR_RBF_predict = svr_rbf.predict(X_predict)\n",
        "SVR_Lin_predict = svr_lin.predict(X_predict)\n",
        "\n",
        "SVR_RBF_mse = mean_squared_error(y_predict, SVR_RBF_predict)\n",
        "SVR_Lin_mse = mean_squared_error(y_predict, SVR_Lin_predict)\n",
        "\n",
        "SVR_RBF_rmse = np.sqrt(SVR_RBF_mse)\n",
        "SVR_Lin_rmse = np.sqrt(SVR_Lin_mse)\n",
        "\n",
        "print(\"Size of training data Set = \", len(train_data) ,\"and size of validation data set = \", len(dev_data))\n",
        "print(\"RMSE of Linear support vector regressor = \" , SVR_Lin_rmse)\n",
        "print(\"Run time of Linear support vector regressor = \" , time.time() - lin_start_time  , \"seconds\")\n",
        "print(\"\\nRMSE of RBF support vector regressor = \" , SVR_RBF_rmse)\n",
        "print(\"Run time of RBF support vector regressor = \" , time.time() - rbf_start_time , \"seconds\")"
      ],
      "execution_count": 0,
      "outputs": [
        {
          "output_type": "stream",
          "text": [
            "Size of training data Set =  10000 and size of validation data set =  4256\n",
            "RMSE of Linear support vector regressor =  10.34886987612164\n",
            "Run time of Linear support vector regressor =  141.01330637931824 seconds\n",
            "\n",
            "RMSE of RBF support vector regressor =  5.140391089045284\n",
            "Run time of RBF support vector regressor =  149.12658262252808 seconds\n"
          ],
          "name": "stdout"
        }
      ]
    },
    {
      "cell_type": "markdown",
      "metadata": {
        "id": "EwPRjzjWh9gg",
        "colab_type": "text"
      },
      "source": [
        "## From the above experiment we observed that the taxi fare doesn't depend only on distance. So, we need to add other features. "
      ]
    },
    {
      "cell_type": "markdown",
      "metadata": {
        "colab_type": "text",
        "id": "Oh9ZoBbLiXyP"
      },
      "source": [
        "### Checking data types of each column"
      ]
    },
    {
      "cell_type": "code",
      "metadata": {
        "id": "ZNktz71_h7Ag",
        "colab_type": "code",
        "outputId": "7d9cdbc0-38e7-4a67-e097-19dfdbdea909",
        "colab": {
          "base_uri": "https://localhost:8080/"
        }
      },
      "source": [
        "training_set.dtypes"
      ],
      "execution_count": 0,
      "outputs": [
        {
          "output_type": "execute_result",
          "data": {
            "text/plain": [
              "Unnamed: 0             int64\n",
              "key                   object\n",
              "fare_amount          float64\n",
              "pickup_datetime       object\n",
              "pickup_longitude     float64\n",
              "pickup_latitude      float64\n",
              "dropoff_longitude    float64\n",
              "dropoff_latitude     float64\n",
              "passenger_count        int64\n",
              "Distance             float64\n",
              "dtype: object"
            ]
          },
          "metadata": {
            "tags": []
          },
          "execution_count": 112
        }
      ]
    },
    {
      "cell_type": "markdown",
      "metadata": {
        "id": "nxBmoe66iY1V",
        "colab_type": "text"
      },
      "source": [
        "### Considering traffic role in calculating fare amount i.e. at what time/day the taxi was hired will say us about that"
      ]
    },
    {
      "cell_type": "markdown",
      "metadata": {
        "id": "5QBpnu31jMrS",
        "colab_type": "text"
      },
      "source": [
        "### Key and pickup_datetime are datetime columns which are in object format. Convert them to datetime format"
      ]
    },
    {
      "cell_type": "markdown",
      "metadata": {
        "id": "6vjp1d7fkMYG",
        "colab_type": "text"
      },
      "source": [
        "#### Converting Training set key and pickup_datetime to datetime"
      ]
    },
    {
      "cell_type": "code",
      "metadata": {
        "colab_type": "code",
        "id": "5rlTujVBlVK2",
        "colab": {}
      },
      "source": [
        "training_set['key'] = pd.to_datetime(training_set['key'])\n",
        "training_set['pickup_datetime']  = pd.to_datetime(training_set['pickup_datetime'])"
      ],
      "execution_count": 0,
      "outputs": []
    },
    {
      "cell_type": "code",
      "metadata": {
        "id": "qkAyeeJ6lW50",
        "colab_type": "code",
        "outputId": "6f08c2ff-ec95-45d7-cdd6-d8b676e09748",
        "colab": {
          "base_uri": "https://localhost:8080/",
          "height": 212
        }
      },
      "source": [
        "training_set.dtypes"
      ],
      "execution_count": 0,
      "outputs": [
        {
          "output_type": "execute_result",
          "data": {
            "text/plain": [
              "Unnamed: 0                         int64\n",
              "key                       datetime64[ns]\n",
              "fare_amount                      float64\n",
              "pickup_datetime      datetime64[ns, UTC]\n",
              "pickup_longitude                 float64\n",
              "pickup_latitude                  float64\n",
              "dropoff_longitude                float64\n",
              "dropoff_latitude                 float64\n",
              "passenger_count                    int64\n",
              "Distance                         float64\n",
              "dtype: object"
            ]
          },
          "metadata": {
            "tags": []
          },
          "execution_count": 114
        }
      ]
    },
    {
      "cell_type": "code",
      "metadata": {
        "id": "PHxD0L9QljKF",
        "colab_type": "code",
        "outputId": "cf56b3f7-c922-4f71-a01b-b5c7f85cd805",
        "colab": {
          "base_uri": "https://localhost:8080/",
          "height": 297
        }
      },
      "source": [
        "training_set.head()"
      ],
      "execution_count": 0,
      "outputs": [
        {
          "output_type": "execute_result",
          "data": {
            "text/html": [
              "<div>\n",
              "<style scoped>\n",
              "    .dataframe tbody tr th:only-of-type {\n",
              "        vertical-align: middle;\n",
              "    }\n",
              "\n",
              "    .dataframe tbody tr th {\n",
              "        vertical-align: top;\n",
              "    }\n",
              "\n",
              "    .dataframe thead th {\n",
              "        text-align: right;\n",
              "    }\n",
              "</style>\n",
              "<table border=\"1\" class=\"dataframe\">\n",
              "  <thead>\n",
              "    <tr style=\"text-align: right;\">\n",
              "      <th></th>\n",
              "      <th>Unnamed: 0</th>\n",
              "      <th>key</th>\n",
              "      <th>fare_amount</th>\n",
              "      <th>pickup_datetime</th>\n",
              "      <th>pickup_longitude</th>\n",
              "      <th>pickup_latitude</th>\n",
              "      <th>dropoff_longitude</th>\n",
              "      <th>dropoff_latitude</th>\n",
              "      <th>passenger_count</th>\n",
              "      <th>Distance</th>\n",
              "    </tr>\n",
              "  </thead>\n",
              "  <tbody>\n",
              "    <tr>\n",
              "      <th>0</th>\n",
              "      <td>6846288</td>\n",
              "      <td>2014-08-14 01:36:34.000000100</td>\n",
              "      <td>6.5</td>\n",
              "      <td>2014-08-14 01:36:34+00:00</td>\n",
              "      <td>-73.975764</td>\n",
              "      <td>40.753898</td>\n",
              "      <td>-73.961381</td>\n",
              "      <td>40.769729</td>\n",
              "      <td>1</td>\n",
              "      <td>2.136860</td>\n",
              "    </tr>\n",
              "    <tr>\n",
              "      <th>1</th>\n",
              "      <td>6026469</td>\n",
              "      <td>2015-02-24 09:56:15.000000500</td>\n",
              "      <td>6.0</td>\n",
              "      <td>2015-02-24 09:56:15+00:00</td>\n",
              "      <td>-73.974663</td>\n",
              "      <td>40.756310</td>\n",
              "      <td>-73.980339</td>\n",
              "      <td>40.760742</td>\n",
              "      <td>1</td>\n",
              "      <td>0.686669</td>\n",
              "    </tr>\n",
              "    <tr>\n",
              "      <th>2</th>\n",
              "      <td>6472844</td>\n",
              "      <td>2014-01-14 20:12:06.000000100</td>\n",
              "      <td>5.5</td>\n",
              "      <td>2014-01-14 20:12:06+00:00</td>\n",
              "      <td>-73.970602</td>\n",
              "      <td>40.785972</td>\n",
              "      <td>-73.955813</td>\n",
              "      <td>40.783007</td>\n",
              "      <td>1</td>\n",
              "      <td>1.288050</td>\n",
              "    </tr>\n",
              "    <tr>\n",
              "      <th>3</th>\n",
              "      <td>7672835</td>\n",
              "      <td>2012-04-06 07:02:34.000000100</td>\n",
              "      <td>8.1</td>\n",
              "      <td>2012-04-06 07:02:34+00:00</td>\n",
              "      <td>-74.007823</td>\n",
              "      <td>40.732122</td>\n",
              "      <td>-73.983278</td>\n",
              "      <td>40.761789</td>\n",
              "      <td>1</td>\n",
              "      <td>3.893276</td>\n",
              "    </tr>\n",
              "    <tr>\n",
              "      <th>4</th>\n",
              "      <td>5340043</td>\n",
              "      <td>2009-03-29 20:33:54.000000200</td>\n",
              "      <td>7.4</td>\n",
              "      <td>2009-03-29 20:33:54+00:00</td>\n",
              "      <td>-73.996974</td>\n",
              "      <td>40.737093</td>\n",
              "      <td>-73.977298</td>\n",
              "      <td>40.729153</td>\n",
              "      <td>1</td>\n",
              "      <td>1.878308</td>\n",
              "    </tr>\n",
              "  </tbody>\n",
              "</table>\n",
              "</div>"
            ],
            "text/plain": [
              "   Unnamed: 0                           key  fare_amount  \\\n",
              "0     6846288 2014-08-14 01:36:34.000000100          6.5   \n",
              "1     6026469 2015-02-24 09:56:15.000000500          6.0   \n",
              "2     6472844 2014-01-14 20:12:06.000000100          5.5   \n",
              "3     7672835 2012-04-06 07:02:34.000000100          8.1   \n",
              "4     5340043 2009-03-29 20:33:54.000000200          7.4   \n",
              "\n",
              "            pickup_datetime  pickup_longitude  pickup_latitude  \\\n",
              "0 2014-08-14 01:36:34+00:00        -73.975764        40.753898   \n",
              "1 2015-02-24 09:56:15+00:00        -73.974663        40.756310   \n",
              "2 2014-01-14 20:12:06+00:00        -73.970602        40.785972   \n",
              "3 2012-04-06 07:02:34+00:00        -74.007823        40.732122   \n",
              "4 2009-03-29 20:33:54+00:00        -73.996974        40.737093   \n",
              "\n",
              "   dropoff_longitude  dropoff_latitude  passenger_count  Distance  \n",
              "0         -73.961381         40.769729                1  2.136860  \n",
              "1         -73.980339         40.760742                1  0.686669  \n",
              "2         -73.955813         40.783007                1  1.288050  \n",
              "3         -73.983278         40.761789                1  3.893276  \n",
              "4         -73.977298         40.729153                1  1.878308  "
            ]
          },
          "metadata": {
            "tags": []
          },
          "execution_count": 115
        }
      ]
    },
    {
      "cell_type": "markdown",
      "metadata": {
        "id": "dl2ayw8oknHy",
        "colab_type": "text"
      },
      "source": [
        "#### Converting Dev set key and pickup_datetime to datetime"
      ]
    },
    {
      "cell_type": "code",
      "metadata": {
        "colab_type": "code",
        "id": "AJF_PvIVlOkK",
        "colab": {}
      },
      "source": [
        "dev_set['key'] = pd.to_datetime(dev_set['key'])\n",
        "dev_set['pickup_datetime']  = pd.to_datetime(dev_set['pickup_datetime'])"
      ],
      "execution_count": 0,
      "outputs": []
    },
    {
      "cell_type": "code",
      "metadata": {
        "id": "MmBov-M1lQ2i",
        "colab_type": "code",
        "outputId": "d054e19d-fb09-4831-a87f-7bb579513bae",
        "colab": {
          "base_uri": "https://localhost:8080/",
          "height": 212
        }
      },
      "source": [
        "dev_set.dtypes"
      ],
      "execution_count": 0,
      "outputs": [
        {
          "output_type": "execute_result",
          "data": {
            "text/plain": [
              "Unnamed: 0                         int64\n",
              "key                       datetime64[ns]\n",
              "fare_amount                      float64\n",
              "pickup_datetime      datetime64[ns, UTC]\n",
              "pickup_longitude                 float64\n",
              "pickup_latitude                  float64\n",
              "dropoff_longitude                float64\n",
              "dropoff_latitude                 float64\n",
              "passenger_count                    int64\n",
              "Distance                         float64\n",
              "dtype: object"
            ]
          },
          "metadata": {
            "tags": []
          },
          "execution_count": 117
        }
      ]
    },
    {
      "cell_type": "code",
      "metadata": {
        "id": "GyqTkriWlwbe",
        "colab_type": "code",
        "outputId": "008a34b3-45d7-4232-d3ae-5e09345472a5",
        "colab": {
          "base_uri": "https://localhost:8080/",
          "height": 297
        }
      },
      "source": [
        "dev_set.head()"
      ],
      "execution_count": 0,
      "outputs": [
        {
          "output_type": "execute_result",
          "data": {
            "text/html": [
              "<div>\n",
              "<style scoped>\n",
              "    .dataframe tbody tr th:only-of-type {\n",
              "        vertical-align: middle;\n",
              "    }\n",
              "\n",
              "    .dataframe tbody tr th {\n",
              "        vertical-align: top;\n",
              "    }\n",
              "\n",
              "    .dataframe thead th {\n",
              "        text-align: right;\n",
              "    }\n",
              "</style>\n",
              "<table border=\"1\" class=\"dataframe\">\n",
              "  <thead>\n",
              "    <tr style=\"text-align: right;\">\n",
              "      <th></th>\n",
              "      <th>Unnamed: 0</th>\n",
              "      <th>key</th>\n",
              "      <th>fare_amount</th>\n",
              "      <th>pickup_datetime</th>\n",
              "      <th>pickup_longitude</th>\n",
              "      <th>pickup_latitude</th>\n",
              "      <th>dropoff_longitude</th>\n",
              "      <th>dropoff_latitude</th>\n",
              "      <th>passenger_count</th>\n",
              "      <th>Distance</th>\n",
              "    </tr>\n",
              "  </thead>\n",
              "  <tbody>\n",
              "    <tr>\n",
              "      <th>0</th>\n",
              "      <td>5406611</td>\n",
              "      <td>2012-11-18 18:24:00.000000116</td>\n",
              "      <td>8.5</td>\n",
              "      <td>2012-11-18 18:24:00+00:00</td>\n",
              "      <td>-73.961455</td>\n",
              "      <td>40.765132</td>\n",
              "      <td>-73.976322</td>\n",
              "      <td>40.744262</td>\n",
              "      <td>1</td>\n",
              "      <td>2.636956</td>\n",
              "    </tr>\n",
              "    <tr>\n",
              "      <th>1</th>\n",
              "      <td>6747269</td>\n",
              "      <td>2009-06-03 21:22:00.000000300</td>\n",
              "      <td>6.1</td>\n",
              "      <td>2009-06-03 21:22:00+00:00</td>\n",
              "      <td>-73.952222</td>\n",
              "      <td>40.787170</td>\n",
              "      <td>-73.963823</td>\n",
              "      <td>40.769275</td>\n",
              "      <td>1</td>\n",
              "      <td>2.216669</td>\n",
              "    </tr>\n",
              "    <tr>\n",
              "      <th>2</th>\n",
              "      <td>327803</td>\n",
              "      <td>2010-10-23 23:45:50.000000300</td>\n",
              "      <td>20.1</td>\n",
              "      <td>2010-10-23 23:45:50+00:00</td>\n",
              "      <td>-74.004992</td>\n",
              "      <td>40.741375</td>\n",
              "      <td>-73.983108</td>\n",
              "      <td>40.670276</td>\n",
              "      <td>1</td>\n",
              "      <td>8.118205</td>\n",
              "    </tr>\n",
              "    <tr>\n",
              "      <th>3</th>\n",
              "      <td>862905</td>\n",
              "      <td>2013-09-15 15:03:59.000000100</td>\n",
              "      <td>8.0</td>\n",
              "      <td>2013-09-15 15:03:59+00:00</td>\n",
              "      <td>-74.012050</td>\n",
              "      <td>40.715985</td>\n",
              "      <td>-74.012362</td>\n",
              "      <td>40.720336</td>\n",
              "      <td>2</td>\n",
              "      <td>0.484523</td>\n",
              "    </tr>\n",
              "    <tr>\n",
              "      <th>4</th>\n",
              "      <td>9942124</td>\n",
              "      <td>2014-03-27 17:59:00.000000930</td>\n",
              "      <td>4.5</td>\n",
              "      <td>2014-03-27 17:59:00+00:00</td>\n",
              "      <td>-73.961375</td>\n",
              "      <td>40.760622</td>\n",
              "      <td>-73.954577</td>\n",
              "      <td>40.765732</td>\n",
              "      <td>1</td>\n",
              "      <td>0.806630</td>\n",
              "    </tr>\n",
              "  </tbody>\n",
              "</table>\n",
              "</div>"
            ],
            "text/plain": [
              "   Unnamed: 0                           key  fare_amount  \\\n",
              "0     5406611 2012-11-18 18:24:00.000000116          8.5   \n",
              "1     6747269 2009-06-03 21:22:00.000000300          6.1   \n",
              "2      327803 2010-10-23 23:45:50.000000300         20.1   \n",
              "3      862905 2013-09-15 15:03:59.000000100          8.0   \n",
              "4     9942124 2014-03-27 17:59:00.000000930          4.5   \n",
              "\n",
              "            pickup_datetime  pickup_longitude  pickup_latitude  \\\n",
              "0 2012-11-18 18:24:00+00:00        -73.961455        40.765132   \n",
              "1 2009-06-03 21:22:00+00:00        -73.952222        40.787170   \n",
              "2 2010-10-23 23:45:50+00:00        -74.004992        40.741375   \n",
              "3 2013-09-15 15:03:59+00:00        -74.012050        40.715985   \n",
              "4 2014-03-27 17:59:00+00:00        -73.961375        40.760622   \n",
              "\n",
              "   dropoff_longitude  dropoff_latitude  passenger_count  Distance  \n",
              "0         -73.976322         40.744262                1  2.636956  \n",
              "1         -73.963823         40.769275                1  2.216669  \n",
              "2         -73.983108         40.670276                1  8.118205  \n",
              "3         -74.012362         40.720336                2  0.484523  \n",
              "4         -73.954577         40.765732                1  0.806630  "
            ]
          },
          "metadata": {
            "tags": []
          },
          "execution_count": 118
        }
      ]
    },
    {
      "cell_type": "markdown",
      "metadata": {
        "id": "spBgLiYwmvH-",
        "colab_type": "text"
      },
      "source": [
        "## Spliting the datetime field 'pickup_datetime' to the following -\n",
        "\n",
        "\n",
        "*   year\n",
        "*   month\n",
        "*   date\n",
        "*   hour\n",
        "*   day of week\n",
        "\n",
        "## Using these we shall calculate the day of the week"
      ]
    },
    {
      "cell_type": "code",
      "metadata": {
        "id": "bzoDaV5XleOH",
        "colab_type": "code",
        "colab": {}
      },
      "source": [
        "def date_time_conversion(data):\n",
        "  time_data = data['pickup_datetime']\n",
        "  \n",
        "  year = time_data.dt.year\n",
        "  month = time_data.dt.month\n",
        "  date = time_data.dt.day\n",
        "  hour = time_data.dt.hour\n",
        "  day_of_week = time_data.dt.dayofweek\n",
        "  \n",
        "  values = {'year' : year , 'month' : month , 'date' : date , 'hour' : hour , 'day_of_week' : day_of_week} \n",
        "  \n",
        "  return pd.DataFrame(data=values)"
      ],
      "execution_count": 0,
      "outputs": []
    },
    {
      "cell_type": "markdown",
      "metadata": {
        "id": "bTig0iRAvLUP",
        "colab_type": "text"
      },
      "source": [
        "### Finding datetime for training set"
      ]
    },
    {
      "cell_type": "code",
      "metadata": {
        "id": "sH3Y29V4p_sJ",
        "colab_type": "code",
        "colab": {}
      },
      "source": [
        "training_set_time_value = date_time_conversion(training_set)\n",
        "training_set = pd.concat([training_set , training_set_time_value] , axis = 1)"
      ],
      "execution_count": 0,
      "outputs": []
    },
    {
      "cell_type": "code",
      "metadata": {
        "id": "QmQrozzNutZf",
        "colab_type": "code",
        "outputId": "9439953d-8728-4125-8779-f6d23160b21d",
        "colab": {
          "base_uri": "https://localhost:8080/",
          "height": 317
        }
      },
      "source": [
        "training_set.head()"
      ],
      "execution_count": 0,
      "outputs": [
        {
          "output_type": "execute_result",
          "data": {
            "text/html": [
              "<div>\n",
              "<style scoped>\n",
              "    .dataframe tbody tr th:only-of-type {\n",
              "        vertical-align: middle;\n",
              "    }\n",
              "\n",
              "    .dataframe tbody tr th {\n",
              "        vertical-align: top;\n",
              "    }\n",
              "\n",
              "    .dataframe thead th {\n",
              "        text-align: right;\n",
              "    }\n",
              "</style>\n",
              "<table border=\"1\" class=\"dataframe\">\n",
              "  <thead>\n",
              "    <tr style=\"text-align: right;\">\n",
              "      <th></th>\n",
              "      <th>Unnamed: 0</th>\n",
              "      <th>key</th>\n",
              "      <th>fare_amount</th>\n",
              "      <th>pickup_datetime</th>\n",
              "      <th>pickup_longitude</th>\n",
              "      <th>pickup_latitude</th>\n",
              "      <th>dropoff_longitude</th>\n",
              "      <th>dropoff_latitude</th>\n",
              "      <th>passenger_count</th>\n",
              "      <th>Distance</th>\n",
              "      <th>year</th>\n",
              "      <th>month</th>\n",
              "      <th>date</th>\n",
              "      <th>hour</th>\n",
              "      <th>day_of_week</th>\n",
              "    </tr>\n",
              "  </thead>\n",
              "  <tbody>\n",
              "    <tr>\n",
              "      <th>0</th>\n",
              "      <td>6846288</td>\n",
              "      <td>2014-08-14 01:36:34.000000100</td>\n",
              "      <td>6.5</td>\n",
              "      <td>2014-08-14 01:36:34+00:00</td>\n",
              "      <td>-73.975764</td>\n",
              "      <td>40.753898</td>\n",
              "      <td>-73.961381</td>\n",
              "      <td>40.769729</td>\n",
              "      <td>1</td>\n",
              "      <td>2.136860</td>\n",
              "      <td>2014</td>\n",
              "      <td>8</td>\n",
              "      <td>14</td>\n",
              "      <td>1</td>\n",
              "      <td>3</td>\n",
              "    </tr>\n",
              "    <tr>\n",
              "      <th>1</th>\n",
              "      <td>6026469</td>\n",
              "      <td>2015-02-24 09:56:15.000000500</td>\n",
              "      <td>6.0</td>\n",
              "      <td>2015-02-24 09:56:15+00:00</td>\n",
              "      <td>-73.974663</td>\n",
              "      <td>40.756310</td>\n",
              "      <td>-73.980339</td>\n",
              "      <td>40.760742</td>\n",
              "      <td>1</td>\n",
              "      <td>0.686669</td>\n",
              "      <td>2015</td>\n",
              "      <td>2</td>\n",
              "      <td>24</td>\n",
              "      <td>9</td>\n",
              "      <td>1</td>\n",
              "    </tr>\n",
              "    <tr>\n",
              "      <th>2</th>\n",
              "      <td>6472844</td>\n",
              "      <td>2014-01-14 20:12:06.000000100</td>\n",
              "      <td>5.5</td>\n",
              "      <td>2014-01-14 20:12:06+00:00</td>\n",
              "      <td>-73.970602</td>\n",
              "      <td>40.785972</td>\n",
              "      <td>-73.955813</td>\n",
              "      <td>40.783007</td>\n",
              "      <td>1</td>\n",
              "      <td>1.288050</td>\n",
              "      <td>2014</td>\n",
              "      <td>1</td>\n",
              "      <td>14</td>\n",
              "      <td>20</td>\n",
              "      <td>1</td>\n",
              "    </tr>\n",
              "    <tr>\n",
              "      <th>3</th>\n",
              "      <td>7672835</td>\n",
              "      <td>2012-04-06 07:02:34.000000100</td>\n",
              "      <td>8.1</td>\n",
              "      <td>2012-04-06 07:02:34+00:00</td>\n",
              "      <td>-74.007823</td>\n",
              "      <td>40.732122</td>\n",
              "      <td>-73.983278</td>\n",
              "      <td>40.761789</td>\n",
              "      <td>1</td>\n",
              "      <td>3.893276</td>\n",
              "      <td>2012</td>\n",
              "      <td>4</td>\n",
              "      <td>6</td>\n",
              "      <td>7</td>\n",
              "      <td>4</td>\n",
              "    </tr>\n",
              "    <tr>\n",
              "      <th>4</th>\n",
              "      <td>5340043</td>\n",
              "      <td>2009-03-29 20:33:54.000000200</td>\n",
              "      <td>7.4</td>\n",
              "      <td>2009-03-29 20:33:54+00:00</td>\n",
              "      <td>-73.996974</td>\n",
              "      <td>40.737093</td>\n",
              "      <td>-73.977298</td>\n",
              "      <td>40.729153</td>\n",
              "      <td>1</td>\n",
              "      <td>1.878308</td>\n",
              "      <td>2009</td>\n",
              "      <td>3</td>\n",
              "      <td>29</td>\n",
              "      <td>20</td>\n",
              "      <td>6</td>\n",
              "    </tr>\n",
              "  </tbody>\n",
              "</table>\n",
              "</div>"
            ],
            "text/plain": [
              "   Unnamed: 0                           key  fare_amount  \\\n",
              "0     6846288 2014-08-14 01:36:34.000000100          6.5   \n",
              "1     6026469 2015-02-24 09:56:15.000000500          6.0   \n",
              "2     6472844 2014-01-14 20:12:06.000000100          5.5   \n",
              "3     7672835 2012-04-06 07:02:34.000000100          8.1   \n",
              "4     5340043 2009-03-29 20:33:54.000000200          7.4   \n",
              "\n",
              "            pickup_datetime  pickup_longitude  pickup_latitude  \\\n",
              "0 2014-08-14 01:36:34+00:00        -73.975764        40.753898   \n",
              "1 2015-02-24 09:56:15+00:00        -73.974663        40.756310   \n",
              "2 2014-01-14 20:12:06+00:00        -73.970602        40.785972   \n",
              "3 2012-04-06 07:02:34+00:00        -74.007823        40.732122   \n",
              "4 2009-03-29 20:33:54+00:00        -73.996974        40.737093   \n",
              "\n",
              "   dropoff_longitude  dropoff_latitude  passenger_count  Distance  year  \\\n",
              "0         -73.961381         40.769729                1  2.136860  2014   \n",
              "1         -73.980339         40.760742                1  0.686669  2015   \n",
              "2         -73.955813         40.783007                1  1.288050  2014   \n",
              "3         -73.983278         40.761789                1  3.893276  2012   \n",
              "4         -73.977298         40.729153                1  1.878308  2009   \n",
              "\n",
              "   month  date  hour  day_of_week  \n",
              "0      8    14     1            3  \n",
              "1      2    24     9            1  \n",
              "2      1    14    20            1  \n",
              "3      4     6     7            4  \n",
              "4      3    29    20            6  "
            ]
          },
          "metadata": {
            "tags": []
          },
          "execution_count": 121
        }
      ]
    },
    {
      "cell_type": "code",
      "metadata": {
        "id": "R8XCPdkIrt76",
        "colab_type": "code",
        "outputId": "27b7e128-c5b0-4168-9635-173db7ffb4ef",
        "colab": {
          "base_uri": "https://localhost:8080/",
          "height": 307
        }
      },
      "source": [
        "training_set.describe()"
      ],
      "execution_count": 0,
      "outputs": [
        {
          "output_type": "execute_result",
          "data": {
            "text/html": [
              "<div>\n",
              "<style scoped>\n",
              "    .dataframe tbody tr th:only-of-type {\n",
              "        vertical-align: middle;\n",
              "    }\n",
              "\n",
              "    .dataframe tbody tr th {\n",
              "        vertical-align: top;\n",
              "    }\n",
              "\n",
              "    .dataframe thead th {\n",
              "        text-align: right;\n",
              "    }\n",
              "</style>\n",
              "<table border=\"1\" class=\"dataframe\">\n",
              "  <thead>\n",
              "    <tr style=\"text-align: right;\">\n",
              "      <th></th>\n",
              "      <th>Unnamed: 0</th>\n",
              "      <th>fare_amount</th>\n",
              "      <th>pickup_longitude</th>\n",
              "      <th>pickup_latitude</th>\n",
              "      <th>dropoff_longitude</th>\n",
              "      <th>dropoff_latitude</th>\n",
              "      <th>passenger_count</th>\n",
              "      <th>Distance</th>\n",
              "      <th>year</th>\n",
              "      <th>month</th>\n",
              "      <th>date</th>\n",
              "      <th>hour</th>\n",
              "      <th>day_of_week</th>\n",
              "    </tr>\n",
              "  </thead>\n",
              "  <tbody>\n",
              "    <tr>\n",
              "      <th>count</th>\n",
              "      <td>9.998650e+05</td>\n",
              "      <td>999865.000000</td>\n",
              "      <td>999865.000000</td>\n",
              "      <td>999865.000000</td>\n",
              "      <td>999865.000000</td>\n",
              "      <td>999865.000000</td>\n",
              "      <td>999865.000000</td>\n",
              "      <td>999865.000000</td>\n",
              "      <td>999865.000000</td>\n",
              "      <td>999865.000000</td>\n",
              "      <td>999865.000000</td>\n",
              "      <td>999865.000000</td>\n",
              "      <td>999865.000000</td>\n",
              "    </tr>\n",
              "    <tr>\n",
              "      <th>mean</th>\n",
              "      <td>4.998320e+06</td>\n",
              "      <td>11.361776</td>\n",
              "      <td>-72.490613</td>\n",
              "      <td>39.913277</td>\n",
              "      <td>-72.499757</td>\n",
              "      <td>39.917879</td>\n",
              "      <td>1.684753</td>\n",
              "      <td>20.055550</td>\n",
              "      <td>2011.738549</td>\n",
              "      <td>6.264642</td>\n",
              "      <td>15.704057</td>\n",
              "      <td>13.507170</td>\n",
              "      <td>3.041121</td>\n",
              "    </tr>\n",
              "    <tr>\n",
              "      <th>std</th>\n",
              "      <td>2.885694e+06</td>\n",
              "      <td>9.846678</td>\n",
              "      <td>10.481198</td>\n",
              "      <td>6.126783</td>\n",
              "      <td>10.447667</td>\n",
              "      <td>6.113381</td>\n",
              "      <td>1.308676</td>\n",
              "      <td>373.382101</td>\n",
              "      <td>1.860891</td>\n",
              "      <td>3.433971</td>\n",
              "      <td>8.685325</td>\n",
              "      <td>6.514752</td>\n",
              "      <td>1.949901</td>\n",
              "    </tr>\n",
              "    <tr>\n",
              "      <th>min</th>\n",
              "      <td>5.000000e+00</td>\n",
              "      <td>2.500000</td>\n",
              "      <td>-121.285595</td>\n",
              "      <td>-74.824164</td>\n",
              "      <td>-121.285388</td>\n",
              "      <td>-74.178840</td>\n",
              "      <td>0.000000</td>\n",
              "      <td>0.000000</td>\n",
              "      <td>2009.000000</td>\n",
              "      <td>1.000000</td>\n",
              "      <td>1.000000</td>\n",
              "      <td>0.000000</td>\n",
              "      <td>0.000000</td>\n",
              "    </tr>\n",
              "    <tr>\n",
              "      <th>25%</th>\n",
              "      <td>2.500700e+06</td>\n",
              "      <td>6.000000</td>\n",
              "      <td>-73.992061</td>\n",
              "      <td>40.734937</td>\n",
              "      <td>-73.991390</td>\n",
              "      <td>40.734035</td>\n",
              "      <td>1.000000</td>\n",
              "      <td>1.214251</td>\n",
              "      <td>2010.000000</td>\n",
              "      <td>3.000000</td>\n",
              "      <td>8.000000</td>\n",
              "      <td>9.000000</td>\n",
              "      <td>1.000000</td>\n",
              "    </tr>\n",
              "    <tr>\n",
              "      <th>50%</th>\n",
              "      <td>4.997435e+06</td>\n",
              "      <td>8.500000</td>\n",
              "      <td>-73.981785</td>\n",
              "      <td>40.752627</td>\n",
              "      <td>-73.980137</td>\n",
              "      <td>40.753187</td>\n",
              "      <td>1.000000</td>\n",
              "      <td>2.118853</td>\n",
              "      <td>2012.000000</td>\n",
              "      <td>6.000000</td>\n",
              "      <td>16.000000</td>\n",
              "      <td>14.000000</td>\n",
              "      <td>3.000000</td>\n",
              "    </tr>\n",
              "    <tr>\n",
              "      <th>75%</th>\n",
              "      <td>7.498036e+06</td>\n",
              "      <td>12.500000</td>\n",
              "      <td>-73.967093</td>\n",
              "      <td>40.767120</td>\n",
              "      <td>-73.963635</td>\n",
              "      <td>40.768122</td>\n",
              "      <td>2.000000</td>\n",
              "      <td>3.874906</td>\n",
              "      <td>2013.000000</td>\n",
              "      <td>9.000000</td>\n",
              "      <td>23.000000</td>\n",
              "      <td>19.000000</td>\n",
              "      <td>5.000000</td>\n",
              "    </tr>\n",
              "    <tr>\n",
              "      <th>max</th>\n",
              "      <td>9.999971e+06</td>\n",
              "      <td>500.000000</td>\n",
              "      <td>40.826712</td>\n",
              "      <td>73.979307</td>\n",
              "      <td>40.855685</td>\n",
              "      <td>73.992735</td>\n",
              "      <td>6.000000</td>\n",
              "      <td>12851.756269</td>\n",
              "      <td>2015.000000</td>\n",
              "      <td>12.000000</td>\n",
              "      <td>31.000000</td>\n",
              "      <td>23.000000</td>\n",
              "      <td>6.000000</td>\n",
              "    </tr>\n",
              "  </tbody>\n",
              "</table>\n",
              "</div>"
            ],
            "text/plain": [
              "         Unnamed: 0    fare_amount  pickup_longitude  pickup_latitude  \\\n",
              "count  9.998650e+05  999865.000000     999865.000000    999865.000000   \n",
              "mean   4.998320e+06      11.361776        -72.490613        39.913277   \n",
              "std    2.885694e+06       9.846678         10.481198         6.126783   \n",
              "min    5.000000e+00       2.500000       -121.285595       -74.824164   \n",
              "25%    2.500700e+06       6.000000        -73.992061        40.734937   \n",
              "50%    4.997435e+06       8.500000        -73.981785        40.752627   \n",
              "75%    7.498036e+06      12.500000        -73.967093        40.767120   \n",
              "max    9.999971e+06     500.000000         40.826712        73.979307   \n",
              "\n",
              "       dropoff_longitude  dropoff_latitude  passenger_count       Distance  \\\n",
              "count      999865.000000     999865.000000    999865.000000  999865.000000   \n",
              "mean          -72.499757         39.917879         1.684753      20.055550   \n",
              "std            10.447667          6.113381         1.308676     373.382101   \n",
              "min          -121.285388        -74.178840         0.000000       0.000000   \n",
              "25%           -73.991390         40.734035         1.000000       1.214251   \n",
              "50%           -73.980137         40.753187         1.000000       2.118853   \n",
              "75%           -73.963635         40.768122         2.000000       3.874906   \n",
              "max            40.855685         73.992735         6.000000   12851.756269   \n",
              "\n",
              "                year          month           date           hour  \\\n",
              "count  999865.000000  999865.000000  999865.000000  999865.000000   \n",
              "mean     2011.738549       6.264642      15.704057      13.507170   \n",
              "std         1.860891       3.433971       8.685325       6.514752   \n",
              "min      2009.000000       1.000000       1.000000       0.000000   \n",
              "25%      2010.000000       3.000000       8.000000       9.000000   \n",
              "50%      2012.000000       6.000000      16.000000      14.000000   \n",
              "75%      2013.000000       9.000000      23.000000      19.000000   \n",
              "max      2015.000000      12.000000      31.000000      23.000000   \n",
              "\n",
              "         day_of_week  \n",
              "count  999865.000000  \n",
              "mean        3.041121  \n",
              "std         1.949901  \n",
              "min         0.000000  \n",
              "25%         1.000000  \n",
              "50%         3.000000  \n",
              "75%         5.000000  \n",
              "max         6.000000  "
            ]
          },
          "metadata": {
            "tags": []
          },
          "execution_count": 122
        }
      ]
    },
    {
      "cell_type": "markdown",
      "metadata": {
        "id": "fv7B-36pvRVs",
        "colab_type": "text"
      },
      "source": [
        "### Finding datetime of dev set"
      ]
    },
    {
      "cell_type": "code",
      "metadata": {
        "colab_type": "code",
        "id": "xI32QnVIwRQ5",
        "colab": {}
      },
      "source": [
        "dev_set_time_value = date_time_conversion(dev_set)\n",
        "dev_set = pd.concat([dev_set , dev_set_time_value] , axis = 1)"
      ],
      "execution_count": 0,
      "outputs": []
    },
    {
      "cell_type": "code",
      "metadata": {
        "id": "VTXlFBDtwc9u",
        "colab_type": "code",
        "outputId": "b84930a5-f9f7-4865-87c3-764822da96de",
        "colab": {
          "base_uri": "https://localhost:8080/",
          "height": 317
        }
      },
      "source": [
        "dev_set.head()"
      ],
      "execution_count": 0,
      "outputs": [
        {
          "output_type": "execute_result",
          "data": {
            "text/html": [
              "<div>\n",
              "<style scoped>\n",
              "    .dataframe tbody tr th:only-of-type {\n",
              "        vertical-align: middle;\n",
              "    }\n",
              "\n",
              "    .dataframe tbody tr th {\n",
              "        vertical-align: top;\n",
              "    }\n",
              "\n",
              "    .dataframe thead th {\n",
              "        text-align: right;\n",
              "    }\n",
              "</style>\n",
              "<table border=\"1\" class=\"dataframe\">\n",
              "  <thead>\n",
              "    <tr style=\"text-align: right;\">\n",
              "      <th></th>\n",
              "      <th>Unnamed: 0</th>\n",
              "      <th>key</th>\n",
              "      <th>fare_amount</th>\n",
              "      <th>pickup_datetime</th>\n",
              "      <th>pickup_longitude</th>\n",
              "      <th>pickup_latitude</th>\n",
              "      <th>dropoff_longitude</th>\n",
              "      <th>dropoff_latitude</th>\n",
              "      <th>passenger_count</th>\n",
              "      <th>Distance</th>\n",
              "      <th>year</th>\n",
              "      <th>month</th>\n",
              "      <th>date</th>\n",
              "      <th>hour</th>\n",
              "      <th>day_of_week</th>\n",
              "    </tr>\n",
              "  </thead>\n",
              "  <tbody>\n",
              "    <tr>\n",
              "      <th>0</th>\n",
              "      <td>5406611</td>\n",
              "      <td>2012-11-18 18:24:00.000000116</td>\n",
              "      <td>8.5</td>\n",
              "      <td>2012-11-18 18:24:00+00:00</td>\n",
              "      <td>-73.961455</td>\n",
              "      <td>40.765132</td>\n",
              "      <td>-73.976322</td>\n",
              "      <td>40.744262</td>\n",
              "      <td>1</td>\n",
              "      <td>2.636956</td>\n",
              "      <td>2012</td>\n",
              "      <td>11</td>\n",
              "      <td>18</td>\n",
              "      <td>18</td>\n",
              "      <td>6</td>\n",
              "    </tr>\n",
              "    <tr>\n",
              "      <th>1</th>\n",
              "      <td>6747269</td>\n",
              "      <td>2009-06-03 21:22:00.000000300</td>\n",
              "      <td>6.1</td>\n",
              "      <td>2009-06-03 21:22:00+00:00</td>\n",
              "      <td>-73.952222</td>\n",
              "      <td>40.787170</td>\n",
              "      <td>-73.963823</td>\n",
              "      <td>40.769275</td>\n",
              "      <td>1</td>\n",
              "      <td>2.216669</td>\n",
              "      <td>2009</td>\n",
              "      <td>6</td>\n",
              "      <td>3</td>\n",
              "      <td>21</td>\n",
              "      <td>2</td>\n",
              "    </tr>\n",
              "    <tr>\n",
              "      <th>2</th>\n",
              "      <td>327803</td>\n",
              "      <td>2010-10-23 23:45:50.000000300</td>\n",
              "      <td>20.1</td>\n",
              "      <td>2010-10-23 23:45:50+00:00</td>\n",
              "      <td>-74.004992</td>\n",
              "      <td>40.741375</td>\n",
              "      <td>-73.983108</td>\n",
              "      <td>40.670276</td>\n",
              "      <td>1</td>\n",
              "      <td>8.118205</td>\n",
              "      <td>2010</td>\n",
              "      <td>10</td>\n",
              "      <td>23</td>\n",
              "      <td>23</td>\n",
              "      <td>5</td>\n",
              "    </tr>\n",
              "    <tr>\n",
              "      <th>3</th>\n",
              "      <td>862905</td>\n",
              "      <td>2013-09-15 15:03:59.000000100</td>\n",
              "      <td>8.0</td>\n",
              "      <td>2013-09-15 15:03:59+00:00</td>\n",
              "      <td>-74.012050</td>\n",
              "      <td>40.715985</td>\n",
              "      <td>-74.012362</td>\n",
              "      <td>40.720336</td>\n",
              "      <td>2</td>\n",
              "      <td>0.484523</td>\n",
              "      <td>2013</td>\n",
              "      <td>9</td>\n",
              "      <td>15</td>\n",
              "      <td>15</td>\n",
              "      <td>6</td>\n",
              "    </tr>\n",
              "    <tr>\n",
              "      <th>4</th>\n",
              "      <td>9942124</td>\n",
              "      <td>2014-03-27 17:59:00.000000930</td>\n",
              "      <td>4.5</td>\n",
              "      <td>2014-03-27 17:59:00+00:00</td>\n",
              "      <td>-73.961375</td>\n",
              "      <td>40.760622</td>\n",
              "      <td>-73.954577</td>\n",
              "      <td>40.765732</td>\n",
              "      <td>1</td>\n",
              "      <td>0.806630</td>\n",
              "      <td>2014</td>\n",
              "      <td>3</td>\n",
              "      <td>27</td>\n",
              "      <td>17</td>\n",
              "      <td>3</td>\n",
              "    </tr>\n",
              "  </tbody>\n",
              "</table>\n",
              "</div>"
            ],
            "text/plain": [
              "   Unnamed: 0                           key  fare_amount  \\\n",
              "0     5406611 2012-11-18 18:24:00.000000116          8.5   \n",
              "1     6747269 2009-06-03 21:22:00.000000300          6.1   \n",
              "2      327803 2010-10-23 23:45:50.000000300         20.1   \n",
              "3      862905 2013-09-15 15:03:59.000000100          8.0   \n",
              "4     9942124 2014-03-27 17:59:00.000000930          4.5   \n",
              "\n",
              "            pickup_datetime  pickup_longitude  pickup_latitude  \\\n",
              "0 2012-11-18 18:24:00+00:00        -73.961455        40.765132   \n",
              "1 2009-06-03 21:22:00+00:00        -73.952222        40.787170   \n",
              "2 2010-10-23 23:45:50+00:00        -74.004992        40.741375   \n",
              "3 2013-09-15 15:03:59+00:00        -74.012050        40.715985   \n",
              "4 2014-03-27 17:59:00+00:00        -73.961375        40.760622   \n",
              "\n",
              "   dropoff_longitude  dropoff_latitude  passenger_count  Distance  year  \\\n",
              "0         -73.976322         40.744262                1  2.636956  2012   \n",
              "1         -73.963823         40.769275                1  2.216669  2009   \n",
              "2         -73.983108         40.670276                1  8.118205  2010   \n",
              "3         -74.012362         40.720336                2  0.484523  2013   \n",
              "4         -73.954577         40.765732                1  0.806630  2014   \n",
              "\n",
              "   month  date  hour  day_of_week  \n",
              "0     11    18    18            6  \n",
              "1      6     3    21            2  \n",
              "2     10    23    23            5  \n",
              "3      9    15    15            6  \n",
              "4      3    27    17            3  "
            ]
          },
          "metadata": {
            "tags": []
          },
          "execution_count": 124
        }
      ]
    },
    {
      "cell_type": "code",
      "metadata": {
        "id": "Cw1qc6V-wgNH",
        "colab_type": "code",
        "outputId": "ed175f01-4cae-447e-9d26-41c210b88fc4",
        "colab": {
          "base_uri": "https://localhost:8080/",
          "height": 307
        }
      },
      "source": [
        "dev_set.describe()"
      ],
      "execution_count": 0,
      "outputs": [
        {
          "output_type": "execute_result",
          "data": {
            "text/html": [
              "<div>\n",
              "<style scoped>\n",
              "    .dataframe tbody tr th:only-of-type {\n",
              "        vertical-align: middle;\n",
              "    }\n",
              "\n",
              "    .dataframe tbody tr th {\n",
              "        vertical-align: top;\n",
              "    }\n",
              "\n",
              "    .dataframe thead th {\n",
              "        text-align: right;\n",
              "    }\n",
              "</style>\n",
              "<table border=\"1\" class=\"dataframe\">\n",
              "  <thead>\n",
              "    <tr style=\"text-align: right;\">\n",
              "      <th></th>\n",
              "      <th>Unnamed: 0</th>\n",
              "      <th>fare_amount</th>\n",
              "      <th>pickup_longitude</th>\n",
              "      <th>pickup_latitude</th>\n",
              "      <th>dropoff_longitude</th>\n",
              "      <th>dropoff_latitude</th>\n",
              "      <th>passenger_count</th>\n",
              "      <th>Distance</th>\n",
              "      <th>year</th>\n",
              "      <th>month</th>\n",
              "      <th>date</th>\n",
              "      <th>hour</th>\n",
              "      <th>day_of_week</th>\n",
              "    </tr>\n",
              "  </thead>\n",
              "  <tbody>\n",
              "    <tr>\n",
              "      <th>count</th>\n",
              "      <td>1.000000e+04</td>\n",
              "      <td>10000.000000</td>\n",
              "      <td>10000.000000</td>\n",
              "      <td>10000.000000</td>\n",
              "      <td>10000.000000</td>\n",
              "      <td>10000.000000</td>\n",
              "      <td>10000.000000</td>\n",
              "      <td>10000.000000</td>\n",
              "      <td>10000.000000</td>\n",
              "      <td>10000.00000</td>\n",
              "      <td>10000.000000</td>\n",
              "      <td>10000.000000</td>\n",
              "      <td>10000.000000</td>\n",
              "    </tr>\n",
              "    <tr>\n",
              "      <th>mean</th>\n",
              "      <td>5.035986e+06</td>\n",
              "      <td>11.476045</td>\n",
              "      <td>-72.470719</td>\n",
              "      <td>39.891178</td>\n",
              "      <td>-72.486662</td>\n",
              "      <td>39.903932</td>\n",
              "      <td>1.688500</td>\n",
              "      <td>17.085071</td>\n",
              "      <td>2011.772200</td>\n",
              "      <td>6.22090</td>\n",
              "      <td>15.776700</td>\n",
              "      <td>13.384300</td>\n",
              "      <td>3.100700</td>\n",
              "    </tr>\n",
              "    <tr>\n",
              "      <th>std</th>\n",
              "      <td>2.884860e+06</td>\n",
              "      <td>10.124174</td>\n",
              "      <td>10.573926</td>\n",
              "      <td>6.275024</td>\n",
              "      <td>10.519467</td>\n",
              "      <td>6.237804</td>\n",
              "      <td>1.292453</td>\n",
              "      <td>339.691819</td>\n",
              "      <td>1.856732</td>\n",
              "      <td>3.44736</td>\n",
              "      <td>8.682521</td>\n",
              "      <td>6.589109</td>\n",
              "      <td>1.943486</td>\n",
              "    </tr>\n",
              "    <tr>\n",
              "      <th>min</th>\n",
              "      <td>2.840000e+02</td>\n",
              "      <td>0.010000</td>\n",
              "      <td>-75.338380</td>\n",
              "      <td>-74.010755</td>\n",
              "      <td>-78.562860</td>\n",
              "      <td>-74.002347</td>\n",
              "      <td>0.000000</td>\n",
              "      <td>0.000000</td>\n",
              "      <td>2009.000000</td>\n",
              "      <td>1.00000</td>\n",
              "      <td>1.000000</td>\n",
              "      <td>0.000000</td>\n",
              "      <td>0.000000</td>\n",
              "    </tr>\n",
              "    <tr>\n",
              "      <th>25%</th>\n",
              "      <td>2.536053e+06</td>\n",
              "      <td>6.000000</td>\n",
              "      <td>-73.991816</td>\n",
              "      <td>40.734031</td>\n",
              "      <td>-73.991257</td>\n",
              "      <td>40.734249</td>\n",
              "      <td>1.000000</td>\n",
              "      <td>1.193600</td>\n",
              "      <td>2010.000000</td>\n",
              "      <td>3.00000</td>\n",
              "      <td>8.000000</td>\n",
              "      <td>9.000000</td>\n",
              "      <td>1.000000</td>\n",
              "    </tr>\n",
              "    <tr>\n",
              "      <th>50%</th>\n",
              "      <td>5.044119e+06</td>\n",
              "      <td>8.500000</td>\n",
              "      <td>-73.981706</td>\n",
              "      <td>40.752599</td>\n",
              "      <td>-73.979504</td>\n",
              "      <td>40.753197</td>\n",
              "      <td>1.000000</td>\n",
              "      <td>2.119014</td>\n",
              "      <td>2012.000000</td>\n",
              "      <td>6.00000</td>\n",
              "      <td>16.000000</td>\n",
              "      <td>14.000000</td>\n",
              "      <td>3.000000</td>\n",
              "    </tr>\n",
              "    <tr>\n",
              "      <th>75%</th>\n",
              "      <td>7.540420e+06</td>\n",
              "      <td>12.500000</td>\n",
              "      <td>-73.966705</td>\n",
              "      <td>40.767076</td>\n",
              "      <td>-73.963210</td>\n",
              "      <td>40.768144</td>\n",
              "      <td>2.000000</td>\n",
              "      <td>3.932044</td>\n",
              "      <td>2013.000000</td>\n",
              "      <td>9.00000</td>\n",
              "      <td>23.000000</td>\n",
              "      <td>19.000000</td>\n",
              "      <td>5.000000</td>\n",
              "    </tr>\n",
              "    <tr>\n",
              "      <th>max</th>\n",
              "      <td>9.997197e+06</td>\n",
              "      <td>124.100000</td>\n",
              "      <td>40.770792</td>\n",
              "      <td>41.366138</td>\n",
              "      <td>40.778532</td>\n",
              "      <td>47.065774</td>\n",
              "      <td>6.000000</td>\n",
              "      <td>8667.819475</td>\n",
              "      <td>2015.000000</td>\n",
              "      <td>12.00000</td>\n",
              "      <td>31.000000</td>\n",
              "      <td>23.000000</td>\n",
              "      <td>6.000000</td>\n",
              "    </tr>\n",
              "  </tbody>\n",
              "</table>\n",
              "</div>"
            ],
            "text/plain": [
              "         Unnamed: 0   fare_amount  pickup_longitude  pickup_latitude  \\\n",
              "count  1.000000e+04  10000.000000      10000.000000     10000.000000   \n",
              "mean   5.035986e+06     11.476045        -72.470719        39.891178   \n",
              "std    2.884860e+06     10.124174         10.573926         6.275024   \n",
              "min    2.840000e+02      0.010000        -75.338380       -74.010755   \n",
              "25%    2.536053e+06      6.000000        -73.991816        40.734031   \n",
              "50%    5.044119e+06      8.500000        -73.981706        40.752599   \n",
              "75%    7.540420e+06     12.500000        -73.966705        40.767076   \n",
              "max    9.997197e+06    124.100000         40.770792        41.366138   \n",
              "\n",
              "       dropoff_longitude  dropoff_latitude  passenger_count      Distance  \\\n",
              "count       10000.000000      10000.000000     10000.000000  10000.000000   \n",
              "mean          -72.486662         39.903932         1.688500     17.085071   \n",
              "std            10.519467          6.237804         1.292453    339.691819   \n",
              "min           -78.562860        -74.002347         0.000000      0.000000   \n",
              "25%           -73.991257         40.734249         1.000000      1.193600   \n",
              "50%           -73.979504         40.753197         1.000000      2.119014   \n",
              "75%           -73.963210         40.768144         2.000000      3.932044   \n",
              "max            40.778532         47.065774         6.000000   8667.819475   \n",
              "\n",
              "               year        month          date          hour   day_of_week  \n",
              "count  10000.000000  10000.00000  10000.000000  10000.000000  10000.000000  \n",
              "mean    2011.772200      6.22090     15.776700     13.384300      3.100700  \n",
              "std        1.856732      3.44736      8.682521      6.589109      1.943486  \n",
              "min     2009.000000      1.00000      1.000000      0.000000      0.000000  \n",
              "25%     2010.000000      3.00000      8.000000      9.000000      1.000000  \n",
              "50%     2012.000000      6.00000     16.000000     14.000000      3.000000  \n",
              "75%     2013.000000      9.00000     23.000000     19.000000      5.000000  \n",
              "max     2015.000000     12.00000     31.000000     23.000000      6.000000  "
            ]
          },
          "metadata": {
            "tags": []
          },
          "execution_count": 125
        }
      ]
    },
    {
      "cell_type": "markdown",
      "metadata": {
        "id": "EEyzMJ4q8dtH",
        "colab_type": "text"
      },
      "source": [
        "### Support Vector Regression\n",
        "#### Taking all feature of training_set into considertion  "
      ]
    },
    {
      "cell_type": "code",
      "metadata": {
        "id": "3PLNoG0o8Z6s",
        "colab_type": "code",
        "outputId": "7ed51017-4d47-4e34-e126-a59cfb026f64",
        "colab": {
          "base_uri": "https://localhost:8080/",
          "height": 105
        }
      },
      "source": [
        "training_set.columns"
      ],
      "execution_count": 0,
      "outputs": [
        {
          "output_type": "execute_result",
          "data": {
            "text/plain": [
              "Index(['Unnamed: 0', 'key', 'fare_amount', 'pickup_datetime',\n",
              "       'pickup_longitude', 'pickup_latitude', 'dropoff_longitude',\n",
              "       'dropoff_latitude', 'passenger_count', 'Distance', 'year', 'month',\n",
              "       'date', 'hour', 'day_of_week'],\n",
              "      dtype='object')"
            ]
          },
          "metadata": {
            "tags": []
          },
          "execution_count": 126
        }
      ]
    },
    {
      "cell_type": "code",
      "metadata": {
        "id": "2d64gRT180cC",
        "colab_type": "code",
        "outputId": "e52e5075-f3ff-4b18-a705-e8aeb9f26bf4",
        "colab": {
          "base_uri": "https://localhost:8080/",
          "height": 105
        }
      },
      "source": [
        "dev_set.columns"
      ],
      "execution_count": 0,
      "outputs": [
        {
          "output_type": "execute_result",
          "data": {
            "text/plain": [
              "Index(['Unnamed: 0', 'key', 'fare_amount', 'pickup_datetime',\n",
              "       'pickup_longitude', 'pickup_latitude', 'dropoff_longitude',\n",
              "       'dropoff_latitude', 'passenger_count', 'Distance', 'year', 'month',\n",
              "       'date', 'hour', 'day_of_week'],\n",
              "      dtype='object')"
            ]
          },
          "metadata": {
            "tags": []
          },
          "execution_count": 127
        }
      ]
    },
    {
      "cell_type": "markdown",
      "metadata": {
        "id": "yQccm7Vo9Gqb",
        "colab_type": "text"
      },
      "source": [
        "### Exclude the pickup_datetime columns as datetime columns cannot be directly used while modeling. \n"
      ]
    },
    {
      "cell_type": "code",
      "metadata": {
        "colab_type": "code",
        "id": "nqTa6zEDuoPE",
        "colab": {}
      },
      "source": [
        "Data_training_set = training_set.drop(['key','pickup_datetime'], axis = 1)\n",
        "Data_dev_set = dev_set.drop(['key','pickup_datetime'], axis = 1)"
      ],
      "execution_count": 0,
      "outputs": []
    },
    {
      "cell_type": "code",
      "metadata": {
        "id": "lHyHfLp59ZdU",
        "colab_type": "code",
        "outputId": "381dec51-b541-4202-fb7f-e578966f6a5e",
        "colab": {
          "base_uri": "https://localhost:8080/",
          "height": 87
        }
      },
      "source": [
        "Data_training_set.columns"
      ],
      "execution_count": 0,
      "outputs": [
        {
          "output_type": "execute_result",
          "data": {
            "text/plain": [
              "Index(['Unnamed: 0', 'fare_amount', 'pickup_longitude', 'pickup_latitude',\n",
              "       'dropoff_longitude', 'dropoff_latitude', 'passenger_count', 'Distance',\n",
              "       'year', 'month', 'date', 'hour', 'day_of_week'],\n",
              "      dtype='object')"
            ]
          },
          "metadata": {
            "tags": []
          },
          "execution_count": 129
        }
      ]
    },
    {
      "cell_type": "code",
      "metadata": {
        "id": "kEUyKpBs9cuQ",
        "colab_type": "code",
        "outputId": "c533a1c5-5a17-455e-f89d-d510a50fc86b",
        "colab": {
          "base_uri": "https://localhost:8080/",
          "height": 87
        }
      },
      "source": [
        "Data_dev_set.columns"
      ],
      "execution_count": 0,
      "outputs": [
        {
          "output_type": "execute_result",
          "data": {
            "text/plain": [
              "Index(['Unnamed: 0', 'fare_amount', 'pickup_longitude', 'pickup_latitude',\n",
              "       'dropoff_longitude', 'dropoff_latitude', 'passenger_count', 'Distance',\n",
              "       'year', 'month', 'date', 'hour', 'day_of_week'],\n",
              "      dtype='object')"
            ]
          },
          "metadata": {
            "tags": []
          },
          "execution_count": 130
        }
      ]
    },
    {
      "cell_type": "code",
      "metadata": {
        "id": "5wbK8deE0qVm",
        "colab_type": "code",
        "colab": {}
      },
      "source": [
        "training_data = Data_training_set.sample(n=10000 , replace = False)\n",
        "x_train = np.array(training_data[[ 'Distance']])\n",
        "y_train = np.array(training_data['fare_amount'])\n",
        "\n",
        "dev_data = Data_dev_set.sample(n=1000 , replace = False)\n",
        "x_val = np.array(dev_data[['Distance']])\n",
        "y_val = np.array(dev_data['fare_amount'])"
      ],
      "execution_count": 0,
      "outputs": []
    },
    {
      "cell_type": "code",
      "metadata": {
        "id": "gmVWcjoX-KpU",
        "colab_type": "code",
        "outputId": "f97aa3fd-f9bc-41a3-b6c9-c636ddc50966",
        "colab": {
          "base_uri": "https://localhost:8080/",
          "height": 34
        }
      },
      "source": [
        "x_train.shape"
      ],
      "execution_count": 0,
      "outputs": [
        {
          "output_type": "execute_result",
          "data": {
            "text/plain": [
              "(10000, 1)"
            ]
          },
          "metadata": {
            "tags": []
          },
          "execution_count": 132
        }
      ]
    },
    {
      "cell_type": "code",
      "metadata": {
        "id": "pagiPsGx-QnV",
        "colab_type": "code",
        "outputId": "22cae76b-0deb-4e6b-8d2f-35392ae91ad7",
        "colab": {
          "base_uri": "https://localhost:8080/",
          "height": 34
        }
      },
      "source": [
        "y_train.shape"
      ],
      "execution_count": 0,
      "outputs": [
        {
          "output_type": "execute_result",
          "data": {
            "text/plain": [
              "(10000,)"
            ]
          },
          "metadata": {
            "tags": []
          },
          "execution_count": 133
        }
      ]
    },
    {
      "cell_type": "code",
      "metadata": {
        "id": "1MJTWYtL-hZv",
        "colab_type": "code",
        "outputId": "f21bf043-d6c2-4a30-ce78-92ef06411c4d",
        "colab": {
          "base_uri": "https://localhost:8080/",
          "height": 34
        }
      },
      "source": [
        "x_val.shape"
      ],
      "execution_count": 0,
      "outputs": [
        {
          "output_type": "execute_result",
          "data": {
            "text/plain": [
              "(1000, 1)"
            ]
          },
          "metadata": {
            "tags": []
          },
          "execution_count": 134
        }
      ]
    },
    {
      "cell_type": "code",
      "metadata": {
        "id": "CIfSMxwjczWl",
        "colab_type": "code",
        "outputId": "36900988-802c-4751-99ce-01bc50f69eb7",
        "colab": {
          "base_uri": "https://localhost:8080/",
          "height": 34
        }
      },
      "source": [
        "y_val.shape"
      ],
      "execution_count": 0,
      "outputs": [
        {
          "output_type": "execute_result",
          "data": {
            "text/plain": [
              "(1000,)"
            ]
          },
          "metadata": {
            "tags": []
          },
          "execution_count": 135
        }
      ]
    },
    {
      "cell_type": "code",
      "metadata": {
        "colab_type": "code",
        "id": "YEf9ked5yCCU",
        "colab": {}
      },
      "source": [
        "pool = ThreadPool(processes=1)\n",
        "\n",
        "t3 = pool.apply_async(svr_RBF, (x_train,y_train)) \n",
        "t4 = pool.apply_async(svr_linear, (x_train,y_train)) \n",
        "\n",
        "svr_rbf, rbf_start_time = t3.get()\n",
        "svr_lin, lin_start_time = t4.get()"
      ],
      "execution_count": 0,
      "outputs": []
    },
    {
      "cell_type": "code",
      "metadata": {
        "colab_type": "code",
        "id": "_gQJ1F96yCBU",
        "colab": {}
      },
      "source": [
        "SVR_RBF_predict = svr_rbf.predict(x_val)\n",
        "SVR_Lin_predict = svr_lin.predict(x_val)\n",
        "\n",
        "SVR_RBF_mse = mean_squared_error(y_val, SVR_RBF_predict)\n",
        "SVR_Lin_mse = mean_squared_error(y_val, SVR_Lin_predict)\n",
        "\n",
        "SVR_RBF_rmse = np.sqrt(SVR_RBF_mse)\n",
        "SVR_Lin_rmse = np.sqrt(SVR_Lin_mse)\n",
        "\n",
        "print(\"RMSE of Linear support vector regressor = \" , SVR_Lin_rmse)\n",
        "print(\"Run time of Linear support vector regressor = \" , time.time() - lin_start_time , \"seconds\")\n",
        "print(\"\\nRMSE of RBF support vector regressor = \" , SVR_RBF_rmse)\n",
        "print(\"Run time of RBF support vector regressor = \" , time.time() - rbf_start_time , \"seconds\")"
      ],
      "execution_count": 0,
      "outputs": []
    },
    {
      "cell_type": "code",
      "metadata": {
        "id": "xdN1yeneBcmZ",
        "colab_type": "code",
        "colab": {}
      },
      "source": [
        ""
      ],
      "execution_count": 0,
      "outputs": []
    }
  ]
}