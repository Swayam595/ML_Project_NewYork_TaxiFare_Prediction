{
 "cells": [
  {
   "cell_type": "code",
   "execution_count": null,
   "metadata": {
    "colab": {},
    "colab_type": "code",
    "id": "c05kz5iWG-NH",
    "scrolled": false
   },
   "outputs": [],
   "source": [
    "import numpy as np\n",
    "import pandas as pd\n",
    "import matplotlib.pyplot as plt\n",
    "import seaborn as sns\n",
    "from sklearn.svm import SVR\n",
    "from multiprocessing.pool import ThreadPool\n",
    "from sklearn.metrics import mean_squared_error\n",
    "import time\n",
    "from collections import Counter\n",
    "\n",
    "\n",
    "pool = ThreadPool(processes=1)\n",
    "\n",
    "sns.set()\n",
    "\n",
    "data = pd.read_csv('train.csv',nrows = 10000000)       # Contains the first 10 million data from                                                                       \n",
    "    \n",
    "training_set = data.sample(n = 1000000 , replace = False)    # 1 million random data from same distribution\n",
    "dev_set = data.sample(n = 10000 , replace = False)           # 10000 random data from same distribution\n",
    "test_set = pd.read_csv('test.csv')"
   ]
  },
  {
   "cell_type": "markdown",
   "metadata": {
    "colab_type": "text",
    "id": "CDlG5wpsG-Nh"
   },
   "source": [
    "# Shape, data type, data sample and descriptive statistics of Training Set"
   ]
  },
  {
   "cell_type": "markdown",
   "metadata": {
    "colab_type": "text",
    "id": "AN-oW9GQG-Nl"
   },
   "source": [
    "### Shape"
   ]
  },
  {
   "cell_type": "code",
   "execution_count": null,
   "metadata": {
    "colab": {
     "base_uri": "https://localhost:8080/",
     "height": 34
    },
    "colab_type": "code",
    "id": "6Jku-iKGG-No",
    "outputId": "0563fa33-019c-492a-97a6-a07574cd5afd"
   },
   "outputs": [],
   "source": [
    "training_set.shape"
   ]
  },
  {
   "cell_type": "markdown",
   "metadata": {
    "colab_type": "text",
    "id": "qrn8LvvzG-OQ"
   },
   "source": [
    "### Data Type"
   ]
  },
  {
   "cell_type": "code",
   "execution_count": null,
   "metadata": {
    "colab": {
     "base_uri": "https://localhost:8080/",
     "height": 194
    },
    "colab_type": "code",
    "id": "aKZNOVQOG-OV",
    "outputId": "1bbb6ec4-382d-4ada-f00e-45e15d5fc805"
   },
   "outputs": [],
   "source": [
    "training_set.dtypes"
   ]
  },
  {
   "cell_type": "markdown",
   "metadata": {
    "colab_type": "text",
    "id": "CjgCw2kZG-Om"
   },
   "source": [
    "### Data Sample"
   ]
  },
  {
   "cell_type": "code",
   "execution_count": null,
   "metadata": {
    "colab": {
     "base_uri": "https://localhost:8080/",
     "height": 197
    },
    "colab_type": "code",
    "id": "vQnGtWqCG-Oq",
    "outputId": "a6ee564c-8e92-4613-e99b-f4b4d06f46da"
   },
   "outputs": [],
   "source": [
    "training_set.head()"
   ]
  },
  {
   "cell_type": "markdown",
   "metadata": {
    "colab_type": "text",
    "id": "lNd8dCk8G-O_"
   },
   "source": [
    "### Descriptive statistics "
   ]
  },
  {
   "cell_type": "code",
   "execution_count": null,
   "metadata": {
    "colab": {
     "base_uri": "https://localhost:8080/",
     "height": 287
    },
    "colab_type": "code",
    "id": "SJttRNKkG-PG",
    "outputId": "8a0273f5-7214-4f50-f366-725049dace39"
   },
   "outputs": [],
   "source": [
    "training_set.describe()"
   ]
  },
  {
   "cell_type": "markdown",
   "metadata": {
    "colab_type": "text",
    "id": "ZhqbwzPaG-Pi"
   },
   "source": [
    "# Shape, data type, data sample and descriptive statistics of Development Set"
   ]
  },
  {
   "cell_type": "markdown",
   "metadata": {
    "colab_type": "text",
    "id": "kF_W4mlVG-Pq"
   },
   "source": [
    "### Shape"
   ]
  },
  {
   "cell_type": "code",
   "execution_count": null,
   "metadata": {
    "colab": {
     "base_uri": "https://localhost:8080/",
     "height": 34
    },
    "colab_type": "code",
    "id": "-3Cuz2_cG-Pw",
    "outputId": "21399293-e2e4-44ff-b6e3-32bfa93529e1"
   },
   "outputs": [],
   "source": [
    "dev_set.shape"
   ]
  },
  {
   "cell_type": "markdown",
   "metadata": {
    "colab_type": "text",
    "id": "aZ5_UpLVG-QY"
   },
   "source": [
    "### Data Type"
   ]
  },
  {
   "cell_type": "code",
   "execution_count": null,
   "metadata": {
    "colab": {
     "base_uri": "https://localhost:8080/"
    },
    "colab_type": "code",
    "id": "ZGzGPKi_G-Qd",
    "outputId": "570d5502-4eae-44cc-9cd8-cb824791aa64"
   },
   "outputs": [],
   "source": [
    "dev_set.dtypes"
   ]
  },
  {
   "cell_type": "markdown",
   "metadata": {
    "colab_type": "text",
    "id": "9JCPbjVrG-Q5"
   },
   "source": [
    "### Data Sample"
   ]
  },
  {
   "cell_type": "code",
   "execution_count": null,
   "metadata": {
    "colab": {
     "base_uri": "https://localhost:8080/"
    },
    "colab_type": "code",
    "id": "TacXvjBcG-Q9",
    "outputId": "3c3b2129-3ab5-40fc-ac26-33c877dd11e9"
   },
   "outputs": [],
   "source": [
    "dev_set.head()"
   ]
  },
  {
   "cell_type": "markdown",
   "metadata": {
    "colab_type": "text",
    "id": "gSKtvR_AG-RM"
   },
   "source": [
    "### Descriptive statistics "
   ]
  },
  {
   "cell_type": "code",
   "execution_count": null,
   "metadata": {
    "colab": {
     "base_uri": "https://localhost:8080/"
    },
    "colab_type": "code",
    "id": "tmYY-Sy2G-RP",
    "outputId": "b0cbe8ee-926b-451a-a589-e4270490bf77"
   },
   "outputs": [],
   "source": [
    "dev_set.describe()"
   ]
  },
  {
   "cell_type": "markdown",
   "metadata": {
    "colab_type": "text",
    "id": "5p5tXsY5G-Rf"
   },
   "source": [
    "# Shape, data type, data sample and descriptive statistics of Test Set\n",
    "\n"
   ]
  },
  {
   "cell_type": "markdown",
   "metadata": {
    "colab_type": "text",
    "id": "_YqhU5ofG-Rj"
   },
   "source": [
    "### Shape"
   ]
  },
  {
   "cell_type": "code",
   "execution_count": null,
   "metadata": {
    "colab": {
     "base_uri": "https://localhost:8080/"
    },
    "colab_type": "code",
    "id": "-CMkxxPwG-Rm",
    "outputId": "10b8e0bc-892a-4c6b-89fc-5ddaebd80b21"
   },
   "outputs": [],
   "source": [
    "test_set.shape"
   ]
  },
  {
   "cell_type": "markdown",
   "metadata": {
    "colab_type": "text",
    "id": "T0L-DdWfG-R_"
   },
   "source": [
    "### Data Type"
   ]
  },
  {
   "cell_type": "code",
   "execution_count": null,
   "metadata": {
    "colab": {
     "base_uri": "https://localhost:8080/"
    },
    "colab_type": "code",
    "id": "Dxyfa-AKG-SH",
    "outputId": "933a55ff-42a5-4d57-ca57-7e0affb238e6"
   },
   "outputs": [],
   "source": [
    "test_set.dtypes"
   ]
  },
  {
   "cell_type": "markdown",
   "metadata": {
    "colab_type": "text",
    "id": "DVUYX7VuG-SX"
   },
   "source": [
    "### Data Sample"
   ]
  },
  {
   "cell_type": "code",
   "execution_count": null,
   "metadata": {
    "colab": {
     "base_uri": "https://localhost:8080/"
    },
    "colab_type": "code",
    "id": "BDvFkXIKG-Sd",
    "outputId": "959d3487-8045-4d40-e4de-1e688160f81e"
   },
   "outputs": [],
   "source": [
    "test_set.head()"
   ]
  },
  {
   "cell_type": "markdown",
   "metadata": {
    "colab_type": "text",
    "id": "vC0sjijrG-Su"
   },
   "source": [
    "### Descriptive statistics "
   ]
  },
  {
   "cell_type": "code",
   "execution_count": null,
   "metadata": {
    "colab": {
     "base_uri": "https://localhost:8080/"
    },
    "colab_type": "code",
    "id": "YHVYDSB_G-S2",
    "outputId": "ffa7f236-cea2-4825-b69f-69857ac07696"
   },
   "outputs": [],
   "source": [
    "test_set.describe()"
   ]
  },
  {
   "cell_type": "markdown",
   "metadata": {
    "colab_type": "text",
    "id": "7VpkrbulG-TG"
   },
   "source": [
    "# Data Cleansing"
   ]
  },
  {
   "cell_type": "markdown",
   "metadata": {
    "colab_type": "text",
    "id": "WSUiVlyXG-TJ"
   },
   "source": [
    "## Removing Null values from the datasets"
   ]
  },
  {
   "cell_type": "code",
   "execution_count": null,
   "metadata": {
    "colab": {
     "base_uri": "https://localhost:8080/",
     "height": 194
    },
    "colab_type": "code",
    "id": "LsxI9LukG-TM",
    "outputId": "f893cfb4-e5c8-4d4c-b9d8-a1e4ee0460e3"
   },
   "outputs": [],
   "source": [
    "training_set.isnull().sum().sort_values(ascending = False)"
   ]
  },
  {
   "cell_type": "code",
   "execution_count": null,
   "metadata": {
    "colab": {
     "base_uri": "https://localhost:8080/",
     "height": 194
    },
    "colab_type": "code",
    "id": "GpXyU1o4G-Ta",
    "outputId": "a745112c-8c1b-4668-95e6-ba82ccc972ce"
   },
   "outputs": [],
   "source": [
    "dev_set.isnull().sum().sort_values(ascending = False)"
   ]
  },
  {
   "cell_type": "code",
   "execution_count": null,
   "metadata": {
    "colab": {
     "base_uri": "https://localhost:8080/",
     "height": 158
    },
    "colab_type": "code",
    "id": "brrwhRJFG-Tt",
    "outputId": "8af50d33-b527-4ccf-d85c-40d5b680c8c3"
   },
   "outputs": [],
   "source": [
    "test_set.isnull().sum().sort_values(ascending = False)"
   ]
  },
  {
   "cell_type": "code",
   "execution_count": null,
   "metadata": {
    "colab": {
     "base_uri": "https://localhost:8080/",
     "height": 34
    },
    "colab_type": "code",
    "id": "ggyw-io1G-T-",
    "outputId": "955cb5d4-fb94-4e76-cb7b-66269fb0c2ca"
   },
   "outputs": [],
   "source": [
    "training_set = training_set.drop(training_set[training_set.isnull().any(1)].index , axis = 0)\n",
    "training_set.shape"
   ]
  },
  {
   "cell_type": "code",
   "execution_count": null,
   "metadata": {
    "colab": {
     "base_uri": "https://localhost:8080/",
     "height": 34
    },
    "colab_type": "code",
    "id": "fMDbTuoXG-UM",
    "outputId": "c452689b-6215-48bf-b01c-7e0a1c310e03"
   },
   "outputs": [],
   "source": [
    "dev_set = dev_set.drop(dev_set[dev_set.isnull().any(1)].index , axis = 0)\n",
    "dev_set.shape"
   ]
  },
  {
   "cell_type": "code",
   "execution_count": null,
   "metadata": {
    "colab": {
     "base_uri": "https://localhost:8080/",
     "height": 34
    },
    "colab_type": "code",
    "id": "tI5TDUJbG-Uc",
    "outputId": "6022a0d5-6c71-4f3d-fa2f-f91d5429de03"
   },
   "outputs": [],
   "source": [
    "test_set = test_set.drop(test_set[test_set.isnull().any(1)].index , axis = 0)\n",
    "test_set.shape"
   ]
  },
  {
   "cell_type": "markdown",
   "metadata": {
    "colab_type": "text",
    "id": "EQQGCokGG-Uu"
   },
   "source": [
    "## Removing rows from the dataset having invalid data "
   ]
  },
  {
   "cell_type": "code",
   "execution_count": null,
   "metadata": {
    "colab": {
     "base_uri": "https://localhost:8080/",
     "height": 287
    },
    "colab_type": "code",
    "id": "65ap2m2GG-Ux",
    "outputId": "52f405a3-a3f4-4fea-832a-288ecef610cd"
   },
   "outputs": [],
   "source": [
    "training_set.describe()"
   ]
  },
  {
   "cell_type": "code",
   "execution_count": null,
   "metadata": {
    "colab": {
     "base_uri": "https://localhost:8080/",
     "height": 176
    },
    "colab_type": "code",
    "id": "FuBd7O9cG-VS",
    "outputId": "d4dbde2b-660e-4caf-8a0c-376ded74da15"
   },
   "outputs": [],
   "source": [
    "training_set['fare_amount'].describe()"
   ]
  },
  {
   "cell_type": "markdown",
   "metadata": {
    "colab_type": "text",
    "id": "lhTN8-KkG-Vj"
   },
   "source": [
    "### Training_set is having negative value fare so we will remove those rows"
   ]
  },
  {
   "cell_type": "code",
   "execution_count": null,
   "metadata": {
    "colab": {
     "base_uri": "https://localhost:8080/"
    },
    "colab_type": "code",
    "id": "K2ofXPzVG-Vq",
    "outputId": "390d8023-2dda-4cfd-cec2-d3fc8a8bde1e"
   },
   "outputs": [],
   "source": [
    "Counter(training_set['fare_amount']<=0)"
   ]
  },
  {
   "cell_type": "code",
   "execution_count": null,
   "metadata": {
    "colab": {
     "base_uri": "https://localhost:8080/"
    },
    "colab_type": "code",
    "id": "yWNgCJy1G-V3",
    "outputId": "79c6aa58-ea18-44ea-da48-220a492001cf"
   },
   "outputs": [],
   "source": [
    "training_set = training_set.drop(training_set[training_set['fare_amount']<=0].index, axis=0)\n",
    "training_set.shape"
   ]
  },
  {
   "cell_type": "code",
   "execution_count": null,
   "metadata": {
    "colab": {
     "base_uri": "https://localhost:8080/"
    },
    "colab_type": "code",
    "id": "ZjqOCUlDG-WC",
    "outputId": "9806f534-6cc3-4e9e-e336-d37cc0eca315"
   },
   "outputs": [],
   "source": [
    "training_set['fare_amount'].describe()"
   ]
  },
  {
   "cell_type": "markdown",
   "metadata": {
    "colab_type": "text",
    "id": "uNazvKKWG-WR"
   },
   "source": [
    "### Passenger count is greater than  7"
   ]
  },
  {
   "cell_type": "code",
   "execution_count": null,
   "metadata": {
    "colab": {
     "base_uri": "https://localhost:8080/"
    },
    "colab_type": "code",
    "id": "LJxHcxJoG-WW",
    "outputId": "4b7c61ee-0ee3-48c1-bf0e-9255f0926814"
   },
   "outputs": [],
   "source": [
    "training_set['passenger_count'].describe()"
   ]
  },
  {
   "cell_type": "code",
   "execution_count": null,
   "metadata": {
    "colab": {},
    "colab_type": "code",
    "id": "n0leXpu2G-Wx"
   },
   "outputs": [],
   "source": [
    "#len(training_set[training_set['passenger_count']>7])"
   ]
  },
  {
   "cell_type": "code",
   "execution_count": null,
   "metadata": {
    "colab": {
     "base_uri": "https://localhost:8080/"
    },
    "colab_type": "code",
    "id": "m6LZUeCaG-W5",
    "outputId": "ebcf03ff-62e5-4544-8c25-a96c2e50f2f5"
   },
   "outputs": [],
   "source": [
    "#### Since we are restricting to yellow cabs or medallion taxi. So we are considering \n",
    "#### a maximum of 7 passengers can operate in a taxi at a time.\n",
    "Counter(training_set['passenger_count']>8)"
   ]
  },
  {
   "cell_type": "code",
   "execution_count": null,
   "metadata": {
    "colab": {
     "base_uri": "https://localhost:8080/"
    },
    "colab_type": "code",
    "id": "ti0d3FW3G-XE",
    "outputId": "b1557f00-9309-410c-f7de-6b2f44d2dc8d"
   },
   "outputs": [],
   "source": [
    "training_set = training_set.drop(training_set[training_set['passenger_count']>8].index, axis = 0)\n",
    "training_set.describe()"
   ]
  },
  {
   "cell_type": "markdown",
   "metadata": {
    "colab_type": "text",
    "id": "HBUJn5o1VkSJ"
   },
   "source": [
    "## Removing fare amount less than $2.5 and greater than $$500"
   ]
  },
  {
   "cell_type": "code",
   "execution_count": null,
   "metadata": {
    "colab": {
     "base_uri": "https://localhost:8080/",
     "height": 52
    },
    "colab_type": "code",
    "id": "OQFxpHeMTd1o",
    "outputId": "00e1b156-4045-4b99-a890-4f86d151bed0"
   },
   "outputs": [],
   "source": [
    "print('\\033[1m'+\"Fare amount < 2.5: \\n\",training_set['fare_amount'][(training_set.fare_amount<2.5)].count())"
   ]
  },
  {
   "cell_type": "code",
   "execution_count": null,
   "metadata": {
    "colab": {
     "base_uri": "https://localhost:8080/",
     "height": 52
    },
    "colab_type": "code",
    "id": "ThZnQUDrTp5T",
    "outputId": "1781c75a-7eb2-4264-ed44-6ca8c245dae1"
   },
   "outputs": [],
   "source": [
    "print('\\033[1m'+\"Fare amount > 500: \\n\",training_set['fare_amount'][(training_set.fare_amount>500)].count())"
   ]
  },
  {
   "cell_type": "code",
   "execution_count": null,
   "metadata": {
    "colab": {
     "base_uri": "https://localhost:8080/",
     "height": 34
    },
    "colab_type": "code",
    "id": "75T-PaoWUjDv",
    "outputId": "61d43dbf-71c0-4258-ba01-f0d4d0097fe0"
   },
   "outputs": [],
   "source": [
    "training_set = training_set.drop(training_set[training_set['fare_amount'] < 2.5].index, axis = 0)\n",
    "training_set = training_set.drop(training_set[training_set['fare_amount'] > 500].index, axis = 0)\n",
    "training_set.shape"
   ]
  },
  {
   "cell_type": "code",
   "execution_count": null,
   "metadata": {
    "colab": {
     "base_uri": "https://localhost:8080/",
     "height": 362
    },
    "colab_type": "code",
    "id": "pDxsIzVUWD80",
    "outputId": "72c50e96-2105-47dd-b674-51b306368302"
   },
   "outputs": [],
   "source": [
    "plt.figure(figsize=(5,5))\n",
    "plt.hist(training_set['passenger_count'], bins=15)\n",
    "plt.xlabel('No. of Passengers')\n",
    "plt.ylabel('Frequency')"
   ]
  },
  {
   "cell_type": "code",
   "execution_count": null,
   "metadata": {
    "colab": {
     "base_uri": "https://localhost:8080/",
     "height": 308
    },
    "colab_type": "code",
    "id": "J-UtHLZ3WcxT",
    "outputId": "7428bee2-8e7e-4b26-d025-ee46c15de7f8"
   },
   "outputs": [],
   "source": [
    "plt.scatter(x=training_set['passenger_count'], y=training_set['fare_amount'], c ='r' , marker = 'x')\n",
    "plt.xlabel('No. of Passengers')\n",
    "plt.ylabel('Fare')"
   ]
  },
  {
   "cell_type": "markdown",
   "metadata": {
    "colab_type": "text",
    "id": "O5CyqvvBTmzm"
   },
   "source": [
    "### Removing invalid Longitude and Latitude "
   ]
  },
  {
   "cell_type": "code",
   "execution_count": null,
   "metadata": {
    "colab": {
     "base_uri": "https://localhost:8080/",
     "height": 287
    },
    "colab_type": "code",
    "id": "jwGgwxhbG-XU",
    "outputId": "3349e127-3c1a-4e7e-ec4e-189a3ffecccc"
   },
   "outputs": [],
   "source": [
    "training_set[['pickup_longitude','pickup_latitude']].describe()"
   ]
  },
  {
   "cell_type": "code",
   "execution_count": null,
   "metadata": {
    "colab": {
     "base_uri": "https://localhost:8080/",
     "height": 287
    },
    "colab_type": "code",
    "id": "KlvkQoRlG-Xi",
    "outputId": "eb505b53-beab-4bae-9e15-cf9771fe1388"
   },
   "outputs": [],
   "source": [
    "training_set[['dropoff_longitude','dropoff_latitude']].describe()"
   ]
  },
  {
   "cell_type": "markdown",
   "metadata": {
    "colab_type": "text",
    "id": "vdgn1fslG-Xu"
   },
   "source": [
    "#### Valid Longitude value = -180 to 180\n",
    "#### Valid Latitude value = -90 to 90\n",
    "#### Remove pickup cordinates and drop off cordinates which dont fall in this range "
   ]
  },
  {
   "cell_type": "markdown",
   "metadata": {
    "colab_type": "text",
    "id": "s8ufvnUDG-Xx"
   },
   "source": [
    "##### Remove invalid pickup cordinates "
   ]
  },
  {
   "cell_type": "code",
   "execution_count": null,
   "metadata": {
    "colab": {},
    "colab_type": "code",
    "id": "giQv_iiXG-Xz"
   },
   "outputs": [],
   "source": [
    "print(\"Number of invalid pickup cordinates = \",len((training_set[training_set['pickup_latitude']<-90])|(training_set[training_set['pickup_latitude']>90])|(training_set[training_set['pickup_longitude']<-180])|(training_set[training_set['pickup_longitude']>180])))"
   ]
  },
  {
   "cell_type": "code",
   "execution_count": null,
   "metadata": {
    "colab": {
     "base_uri": "https://localhost:8080/"
    },
    "colab_type": "code",
    "id": "uqXfGKvoG-YV",
    "outputId": "1d6664fc-3af4-4963-c286-7e8a7f6050cd",
    "scrolled": true
   },
   "outputs": [],
   "source": [
    "training_set = training_set.drop(training_set[training_set['pickup_latitude']<-90].index,axis = 0)\n",
    "training_set = training_set.drop(training_set[training_set['pickup_latitude']>90].index,axis = 0)\n",
    "training_set = training_set.drop(training_set[training_set['pickup_longitude']<-180].index,axis = 0)\n",
    "training_set = training_set.drop(training_set[training_set['pickup_longitude']>180].index, axis=0)\n",
    "training_set.shape"
   ]
  },
  {
   "cell_type": "markdown",
   "metadata": {
    "colab_type": "text",
    "id": "0J_6JsE6G-Yl"
   },
   "source": [
    "#### Remove invalid drop off cordinates  "
   ]
  },
  {
   "cell_type": "code",
   "execution_count": null,
   "metadata": {
    "colab": {},
    "colab_type": "code",
    "id": "3nRVo5jbG-Yo"
   },
   "outputs": [],
   "source": [
    "print(\"Number of invalid drop off cordinates = \",len((training_set[training_set['dropoff_latitude']<-90])|(training_set[training_set['dropoff_latitude']>90])|(training_set[training_set['dropoff_longitude']<-180])|(training_set[training_set['dropoff_longitude']>180])))"
   ]
  },
  {
   "cell_type": "code",
   "execution_count": null,
   "metadata": {
    "colab": {
     "base_uri": "https://localhost:8080/"
    },
    "colab_type": "code",
    "id": "CNH1XDQpG-Y-",
    "outputId": "1660882c-2ed7-4af8-f4d2-18146969ff39"
   },
   "outputs": [],
   "source": [
    "training_set = training_set.drop(training_set[training_set['dropoff_latitude']<-90].index,axis = 0)\n",
    "training_set = training_set.drop(training_set[training_set['dropoff_latitude']>90].index,axis = 0)\n",
    "training_set = training_set.drop(training_set[training_set['dropoff_longitude']<-180].index,axis = 0)\n",
    "training_set = training_set.drop(training_set[training_set['dropoff_longitude']>180].index, axis=0)\n",
    "training_set.shape"
   ]
  },
  {
   "cell_type": "code",
   "execution_count": null,
   "metadata": {
    "colab": {
     "base_uri": "https://localhost:8080/"
    },
    "colab_type": "code",
    "id": "TEtken1lG-ZZ",
    "outputId": "d179f1e1-5862-429b-ab93-dca1c65b2029"
   },
   "outputs": [],
   "source": [
    "training_set.describe()"
   ]
  },
  {
   "cell_type": "markdown",
   "metadata": {
    "colab_type": "text",
    "id": "NqEDOhlLG-Z0"
   },
   "source": [
    "## Distance between pick up location and drop off location\n",
    "#### The distance in a sphere can be calculated when latitudes and longitudes are given by Haversine formula\n",
    "#### haversine(θ) = sin²(θ/2)\n",
    "\n",
    "#### φ is latitude, λ is longitude, R is earth’s radius (mean radius = 6,371km) to include latitude and longitude coordinates (A and B in this case).\n",
    "\n",
    "#### a = sin²((φB - φA)/2) + cos φA . cos φB . sin²((λB - λA)/2)\n",
    "\n",
    "#### c = 2 * atan2( √a, √(1−a) )\n",
    "\n",
    "#### d = R ⋅ c\n",
    "\n",
    "#### d = Haversine distance"
   ]
  },
  {
   "cell_type": "code",
   "execution_count": null,
   "metadata": {
    "colab": {},
    "colab_type": "code",
    "id": "PuDnSpMGG-Z3"
   },
   "outputs": [],
   "source": [
    "def haversine_distance(data):\n",
    "    R = 6371        # Radius of earth in Kilo Meter\n",
    "    \n",
    "    pickup_data = data[['pickup_longitude','pickup_latitude']]\n",
    "    dropoff_data = data[['dropoff_longitude','dropoff_latitude']]\n",
    "    \n",
    "    phi1 = np.radians(pickup_data['pickup_latitude'])\n",
    "    phi2 = np.radians(dropoff_data['dropoff_latitude'])\n",
    "    \n",
    "    delta_phi = np.radians(dropoff_data['dropoff_latitude'] - pickup_data['pickup_latitude'])\n",
    "    delta_lambda = np.radians(dropoff_data['dropoff_longitude'] - pickup_data['pickup_longitude'])\n",
    "    \n",
    "    #a = sin²((φB - φA)/2) + cos φA . cos φB . sin²((λB - λA)/2)\n",
    "    a = np.sin((delta_phi)/2)**2 + np.cos(phi1)*np.cos(phi2)*np.sin(delta_lambda/2)**2\n",
    "    \n",
    "    #c = 2 * atan2( √a, √(1−a) )\n",
    "    c = 2 * np.arctan2(np.sqrt(a),np.sqrt(1-a))\n",
    "    d = R * c\n",
    "    \n",
    "    return d\n",
    "    "
   ]
  },
  {
   "cell_type": "markdown",
   "metadata": {
    "colab_type": "text",
    "id": "4v0_hPtVfGxM"
   },
   "source": [
    "### Finding Training set distance"
   ]
  },
  {
   "cell_type": "code",
   "execution_count": null,
   "metadata": {
    "colab": {},
    "colab_type": "code",
    "id": "JZXzQDK_WbM9",
    "scrolled": false
   },
   "outputs": [],
   "source": [
    "training_set_distance = pd.DataFrame(haversine_distance(training_set) , columns=['Distance'])\n",
    "training_set = pd.concat([training_set , training_set_distance] , axis = 1)"
   ]
  },
  {
   "cell_type": "code",
   "execution_count": null,
   "metadata": {
    "colab": {
     "base_uri": "https://localhost:8080/",
     "height": 197
    },
    "colab_type": "code",
    "id": "jbB_lsAYWbNB",
    "outputId": "c792fef4-458d-440e-fa88-fef794483a9e",
    "scrolled": true
   },
   "outputs": [],
   "source": [
    "training_set.head()"
   ]
  },
  {
   "cell_type": "code",
   "execution_count": null,
   "metadata": {
    "colab": {
     "base_uri": "https://localhost:8080/",
     "height": 417
    },
    "colab_type": "code",
    "id": "_w5HN3v1POQa",
    "outputId": "e306e703-1d9c-40d3-ce16-2eceeebe6ddd"
   },
   "outputs": [],
   "source": [
    "plt.figure(figsize=(14,6))\n",
    "plt.hist(training_set['Distance'], bins=40)\n",
    "plt.xlabel('Distance')\n",
    "plt.ylabel('Frequency')"
   ]
  },
  {
   "cell_type": "code",
   "execution_count": null,
   "metadata": {
    "colab": {
     "base_uri": "https://localhost:8080/",
     "height": 287
    },
    "colab_type": "code",
    "id": "XMfGs1k2WbNN",
    "outputId": "51361859-b384-41f3-e628-0cafcb8272ed"
   },
   "outputs": [],
   "source": [
    "training_set.describe()"
   ]
  },
  {
   "cell_type": "code",
   "execution_count": null,
   "metadata": {
    "colab": {
     "base_uri": "https://localhost:8080/",
     "height": 305
    },
    "colab_type": "code",
    "id": "8LHsclYqWbNX",
    "outputId": "134adf58-0a19-4ffd-e851-440d49b69acc"
   },
   "outputs": [],
   "source": [
    "plt.scatter(training_set['Distance'] , training_set['fare_amount'] , c = 'r' , marker = 'x')\n",
    "plt.title('Training_set Distance Vs Fare Amount',size = 18)\n",
    "plt.xlabel('Distance (meters)',size = 14)\n",
    "plt.ylabel('Fare Amount ($)',size = 14)\n",
    "plt.show()"
   ]
  },
  {
   "cell_type": "markdown",
   "metadata": {
    "colab_type": "text",
    "id": "zBTlOuS8fyli"
   },
   "source": [
    "### Finding Dev set distance "
   ]
  },
  {
   "cell_type": "code",
   "execution_count": null,
   "metadata": {
    "colab": {},
    "colab_type": "code",
    "id": "W_xIcfoseM04",
    "scrolled": false
   },
   "outputs": [],
   "source": [
    "dev_set_distance = pd.DataFrame(haversine_distance(dev_set) , columns=['Distance'])\n",
    "dev_set = pd.concat([dev_set , dev_set_distance] , axis = 1)"
   ]
  },
  {
   "cell_type": "code",
   "execution_count": null,
   "metadata": {
    "colab": {
     "base_uri": "https://localhost:8080/",
     "height": 297
    },
    "colab_type": "code",
    "id": "YAr-HfN7gEWP",
    "outputId": "13b39a77-bced-4c5d-d3b0-47fa9b953ede",
    "scrolled": true
   },
   "outputs": [],
   "source": [
    "dev_set.head()"
   ]
  },
  {
   "cell_type": "code",
   "execution_count": null,
   "metadata": {
    "colab": {
     "base_uri": "https://localhost:8080/",
     "height": 287
    },
    "colab_type": "code",
    "id": "ltgYdRv7gGBt",
    "outputId": "0b327160-5b6f-4044-a809-f492659c938b"
   },
   "outputs": [],
   "source": [
    "dev_set.describe()"
   ]
  },
  {
   "cell_type": "code",
   "execution_count": null,
   "metadata": {
    "colab": {
     "base_uri": "https://localhost:8080/",
     "height": 305
    },
    "colab_type": "code",
    "id": "lm8D4FALgH_I",
    "outputId": "d4e2b137-96ee-442d-f690-6be1b557238e"
   },
   "outputs": [],
   "source": [
    "plt.scatter(dev_set['Distance'] , dev_set['fare_amount'] , c = 'r' , marker = 'x')\n",
    "plt.title('Dev_set Distance Vs Fare Amount',size = 18)\n",
    "plt.xlabel('Distance (meters)',size = 14)\n",
    "plt.ylabel('Fare Amount ($)',size = 14)\n",
    "plt.show()"
   ]
  },
  {
   "cell_type": "markdown",
   "metadata": {
    "colab_type": "text",
    "id": "_wv5ctwqG-bE"
   },
   "source": [
    "## Support Vector Regression on Feature Distance "
   ]
  },
  {
   "cell_type": "code",
   "execution_count": null,
   "metadata": {
    "colab": {},
    "colab_type": "code",
    "id": "AD4_b1FrG-bU"
   },
   "outputs": [],
   "source": [
    "def svr_linear(X,y):\n",
    "    start_time = time.time()\n",
    "    svr_lin = SVR(kernel='linear', C=7, gamma='auto')\n",
    "    y_lin = svr_lin.fit(X, y)\n",
    "    \n",
    "    return svr_lin, start_time\n",
    "\n",
    "def svr_RBF(X,y):\n",
    "    start_time = time.time()\n",
    "    svr_rbf = SVR(kernel='rbf', C=15, gamma=0.1, epsilon=.1)\n",
    "    y_rbf = svr_rbf.fit(X, y)\n",
    "    \n",
    "    return svr_rbf, start_time"
   ]
  },
  {
   "cell_type": "code",
   "execution_count": null,
   "metadata": {
    "colab": {},
    "colab_type": "code",
    "id": "im9Zk5eGSI-8"
   },
   "outputs": [],
   "source": [
    "train_data = training_set.sample(n = 10000 , replace = False)\n",
    "X = np.array(train_data['Distance']).reshape(len(train_data),1)\n",
    "y = np.array(train_data['fare_amount'])\n",
    "\n",
    "dev_data = dev_set.sample(n = 4256 , replace = False)\n",
    "X_predict = np.array(dev_data['Distance']).reshape(len(dev_data),1)\n",
    "y_predict = np.array(dev_data['fare_amount'])"
   ]
  },
  {
   "cell_type": "code",
   "execution_count": null,
   "metadata": {
    "colab": {},
    "colab_type": "code",
    "id": "bAZcjk1K3JTt"
   },
   "outputs": [],
   "source": [
    "t1 = pool.apply_async(svr_RBF, (X,y)) \n",
    "t2 = pool.apply_async(svr_linear, (X,y)) \n",
    "\n",
    "svr_rbf, rbf_start_time = t1.get()\n",
    "svr_lin, lin_start_time = t2.get()"
   ]
  },
  {
   "cell_type": "code",
   "execution_count": null,
   "metadata": {
    "colab": {
     "base_uri": "https://localhost:8080/",
     "height": 123
    },
    "colab_type": "code",
    "id": "xvlDpno2G-by",
    "outputId": "fb8300f0-fdd6-4d6d-8fab-5adfa2f04d6c"
   },
   "outputs": [],
   "source": [
    "SVR_RBF_predict = svr_rbf.predict(X_predict)\n",
    "SVR_Lin_predict = svr_lin.predict(X_predict)\n",
    "\n",
    "SVR_RBF_mse = mean_squared_error(y_predict, SVR_RBF_predict)\n",
    "SVR_Lin_mse = mean_squared_error(y_predict, SVR_Lin_predict)\n",
    "\n",
    "SVR_RBF_rmse = np.sqrt(SVR_RBF_mse)\n",
    "SVR_Lin_rmse = np.sqrt(SVR_Lin_mse)\n",
    "\n",
    "print(\"Size of training data Set = \", len(train_data) ,\"and size of validation data set = \", len(dev_data))\n",
    "print(\"RMSE of Linear support vector regressor = \" , SVR_Lin_rmse)\n",
    "print(\"Run time of Linear support vector regressor = \" , time.time() - lin_start_time  , \"seconds\")\n",
    "print(\"\\nRMSE of RBF support vector regressor = \" , SVR_RBF_rmse)\n",
    "print(\"Run time of RBF support vector regressor = \" , time.time() - rbf_start_time , \"seconds\")"
   ]
  },
  {
   "cell_type": "markdown",
   "metadata": {
    "colab_type": "text",
    "id": "EwPRjzjWh9gg"
   },
   "source": [
    "## From the above experiment we observed that the taxi fare doesn't depend only on distance. So, we need to add other features. "
   ]
  },
  {
   "cell_type": "markdown",
   "metadata": {
    "colab_type": "text",
    "id": "Oh9ZoBbLiXyP"
   },
   "source": [
    "### Checking data types of each column"
   ]
  },
  {
   "cell_type": "code",
   "execution_count": null,
   "metadata": {
    "colab": {
     "base_uri": "https://localhost:8080/"
    },
    "colab_type": "code",
    "id": "ZNktz71_h7Ag",
    "outputId": "7d9cdbc0-38e7-4a67-e097-19dfdbdea909"
   },
   "outputs": [],
   "source": [
    "training_set.dtypes"
   ]
  },
  {
   "cell_type": "markdown",
   "metadata": {
    "colab_type": "text",
    "id": "nxBmoe66iY1V"
   },
   "source": [
    "### Considering traffic role in calculating fare amount i.e. at what time/day the taxi was hired will say us about that"
   ]
  },
  {
   "cell_type": "markdown",
   "metadata": {
    "colab_type": "text",
    "id": "5QBpnu31jMrS"
   },
   "source": [
    "### Key and pickup_datetime are datetime columns which are in object format. Convert them to datetime format"
   ]
  },
  {
   "cell_type": "markdown",
   "metadata": {
    "colab_type": "text",
    "id": "6vjp1d7fkMYG"
   },
   "source": [
    "#### Converting Training set key and pickup_datetime to datetime"
   ]
  },
  {
   "cell_type": "code",
   "execution_count": null,
   "metadata": {
    "colab": {},
    "colab_type": "code",
    "id": "5rlTujVBlVK2"
   },
   "outputs": [],
   "source": [
    "#training_set['key'] = pd.to_datetime(training_set['key'])\n",
    "training_set['pickup_datetime']  = pd.to_datetime(training_set['pickup_datetime'])"
   ]
  },
  {
   "cell_type": "code",
   "execution_count": null,
   "metadata": {
    "colab": {
     "base_uri": "https://localhost:8080/",
     "height": 212
    },
    "colab_type": "code",
    "id": "qkAyeeJ6lW50",
    "outputId": "6f08c2ff-ec95-45d7-cdd6-d8b676e09748"
   },
   "outputs": [],
   "source": [
    "training_set.dtypes"
   ]
  },
  {
   "cell_type": "code",
   "execution_count": null,
   "metadata": {
    "colab": {
     "base_uri": "https://localhost:8080/",
     "height": 297
    },
    "colab_type": "code",
    "id": "PHxD0L9QljKF",
    "outputId": "cf56b3f7-c922-4f71-a01b-b5c7f85cd805"
   },
   "outputs": [],
   "source": [
    "training_set.head()"
   ]
  },
  {
   "cell_type": "markdown",
   "metadata": {
    "colab_type": "text",
    "id": "dl2ayw8oknHy"
   },
   "source": [
    "#### Converting Dev set key and pickup_datetime to datetime"
   ]
  },
  {
   "cell_type": "code",
   "execution_count": null,
   "metadata": {
    "colab": {},
    "colab_type": "code",
    "id": "AJF_PvIVlOkK"
   },
   "outputs": [],
   "source": [
    "#dev_set['key'] = pd.to_datetime(dev_set['key'])\n",
    "dev_set['pickup_datetime']  = pd.to_datetime(dev_set['pickup_datetime'])"
   ]
  },
  {
   "cell_type": "code",
   "execution_count": null,
   "metadata": {
    "colab": {
     "base_uri": "https://localhost:8080/",
     "height": 212
    },
    "colab_type": "code",
    "id": "MmBov-M1lQ2i",
    "outputId": "d054e19d-fb09-4831-a87f-7bb579513bae"
   },
   "outputs": [],
   "source": [
    "dev_set.dtypes"
   ]
  },
  {
   "cell_type": "code",
   "execution_count": null,
   "metadata": {
    "colab": {
     "base_uri": "https://localhost:8080/",
     "height": 297
    },
    "colab_type": "code",
    "id": "GyqTkriWlwbe",
    "outputId": "008a34b3-45d7-4232-d3ae-5e09345472a5"
   },
   "outputs": [],
   "source": [
    "dev_set.head()"
   ]
  },
  {
   "cell_type": "markdown",
   "metadata": {
    "colab_type": "text",
    "id": "spBgLiYwmvH-"
   },
   "source": [
    "## Spliting the datetime field 'pickup_datetime' to the following -\n",
    "\n",
    "\n",
    "*   year\n",
    "*   month\n",
    "*   date\n",
    "*   hour\n",
    "*   day of week\n",
    "\n",
    "## Using these we shall calculate the day of the week"
   ]
  },
  {
   "cell_type": "code",
   "execution_count": null,
   "metadata": {
    "colab": {},
    "colab_type": "code",
    "id": "bzoDaV5XleOH"
   },
   "outputs": [],
   "source": [
    "def date_time_conversion(data):\n",
    "    time_data = data['pickup_datetime']\n",
    "  \n",
    "    year = time_data.dt.year\n",
    "    month = time_data.dt.month\n",
    "    date = time_data.dt.day\n",
    "    hour = time_data.dt.hour\n",
    "    day_of_week = time_data.dt.dayofweek\n",
    "  \n",
    "    values = {'year' : year , 'month' : month , 'date' : date , 'hour' : hour , 'day_of_week' : day_of_week} \n",
    "  \n",
    "    return pd.DataFrame(data=values)"
   ]
  },
  {
   "cell_type": "markdown",
   "metadata": {
    "colab_type": "text",
    "id": "bTig0iRAvLUP"
   },
   "source": [
    "### Finding datetime for training set"
   ]
  },
  {
   "cell_type": "code",
   "execution_count": null,
   "metadata": {
    "colab": {},
    "colab_type": "code",
    "id": "sH3Y29V4p_sJ"
   },
   "outputs": [],
   "source": [
    "training_set_time_value = date_time_conversion(training_set)\n",
    "training_set = pd.concat([training_set , training_set_time_value] , axis = 1)"
   ]
  },
  {
   "cell_type": "code",
   "execution_count": null,
   "metadata": {
    "colab": {
     "base_uri": "https://localhost:8080/",
     "height": 317
    },
    "colab_type": "code",
    "id": "QmQrozzNutZf",
    "outputId": "9439953d-8728-4125-8779-f6d23160b21d"
   },
   "outputs": [],
   "source": [
    "training_set.head()"
   ]
  },
  {
   "cell_type": "code",
   "execution_count": null,
   "metadata": {
    "colab": {
     "base_uri": "https://localhost:8080/",
     "height": 307
    },
    "colab_type": "code",
    "id": "R8XCPdkIrt76",
    "outputId": "27b7e128-c5b0-4168-9635-173db7ffb4ef"
   },
   "outputs": [],
   "source": [
    "training_set.describe()"
   ]
  },
  {
   "cell_type": "markdown",
   "metadata": {
    "colab_type": "text",
    "id": "fv7B-36pvRVs"
   },
   "source": [
    "### Finding datetime of dev set"
   ]
  },
  {
   "cell_type": "code",
   "execution_count": null,
   "metadata": {
    "colab": {},
    "colab_type": "code",
    "id": "xI32QnVIwRQ5"
   },
   "outputs": [],
   "source": [
    "dev_set_time_value = date_time_conversion(dev_set)\n",
    "dev_set = pd.concat([dev_set , dev_set_time_value] , axis = 1)"
   ]
  },
  {
   "cell_type": "code",
   "execution_count": null,
   "metadata": {
    "colab": {
     "base_uri": "https://localhost:8080/",
     "height": 317
    },
    "colab_type": "code",
    "id": "VTXlFBDtwc9u",
    "outputId": "b84930a5-f9f7-4865-87c3-764822da96de"
   },
   "outputs": [],
   "source": [
    "dev_set.head()"
   ]
  },
  {
   "cell_type": "code",
   "execution_count": null,
   "metadata": {
    "colab": {
     "base_uri": "https://localhost:8080/",
     "height": 307
    },
    "colab_type": "code",
    "id": "Cw1qc6V-wgNH",
    "outputId": "ed175f01-4cae-447e-9d26-41c210b88fc4"
   },
   "outputs": [],
   "source": [
    "dev_set.describe()"
   ]
  },
  {
   "cell_type": "markdown",
   "metadata": {
    "colab_type": "text",
    "id": "EEyzMJ4q8dtH"
   },
   "source": [
    "### Support Vector Regression\n",
    "#### Taking all feature of training_set into considertion  "
   ]
  },
  {
   "cell_type": "code",
   "execution_count": null,
   "metadata": {
    "colab": {
     "base_uri": "https://localhost:8080/",
     "height": 105
    },
    "colab_type": "code",
    "id": "3PLNoG0o8Z6s",
    "outputId": "7ed51017-4d47-4e34-e126-a59cfb026f64"
   },
   "outputs": [],
   "source": [
    "training_set.columns"
   ]
  },
  {
   "cell_type": "code",
   "execution_count": null,
   "metadata": {
    "colab": {
     "base_uri": "https://localhost:8080/",
     "height": 105
    },
    "colab_type": "code",
    "id": "2d64gRT180cC",
    "outputId": "e52e5075-f3ff-4b18-a705-e8aeb9f26bf4"
   },
   "outputs": [],
   "source": [
    "dev_set.columns"
   ]
  },
  {
   "cell_type": "markdown",
   "metadata": {
    "colab_type": "text",
    "id": "yQccm7Vo9Gqb"
   },
   "source": [
    "### Exclude the pickup_datetime columns as datetime columns cannot be directly used while modeling. \n"
   ]
  },
  {
   "cell_type": "code",
   "execution_count": null,
   "metadata": {
    "colab": {},
    "colab_type": "code",
    "id": "nqTa6zEDuoPE"
   },
   "outputs": [],
   "source": [
    "Data_training_set = training_set.drop(['key','pickup_datetime'], axis = 1)\n",
    "Data_dev_set = dev_set.drop(['key','pickup_datetime'], axis = 1)"
   ]
  },
  {
   "cell_type": "code",
   "execution_count": null,
   "metadata": {
    "colab": {
     "base_uri": "https://localhost:8080/",
     "height": 87
    },
    "colab_type": "code",
    "id": "lHyHfLp59ZdU",
    "outputId": "381dec51-b541-4202-fb7f-e578966f6a5e"
   },
   "outputs": [],
   "source": [
    "Data_training_set.columns"
   ]
  },
  {
   "cell_type": "code",
   "execution_count": null,
   "metadata": {
    "colab": {
     "base_uri": "https://localhost:8080/",
     "height": 87
    },
    "colab_type": "code",
    "id": "kEUyKpBs9cuQ",
    "outputId": "c533a1c5-5a17-455e-f89d-d510a50fc86b"
   },
   "outputs": [],
   "source": [
    "Data_dev_set.columns"
   ]
  },
  {
   "cell_type": "code",
   "execution_count": null,
   "metadata": {
    "colab": {},
    "colab_type": "code",
    "id": "5wbK8deE0qVm"
   },
   "outputs": [],
   "source": [
    "training_data = Data_training_set.sample(n=10000 , replace = False)\n",
    "x_train = np.array(training_data[[ 'Distance']])\n",
    "y_train = np.array(training_data['fare_amount'])\n",
    "\n",
    "dev_data = Data_dev_set.sample(n=1000 , replace = False)\n",
    "x_val = np.array(dev_data[['Distance']])\n",
    "y_val = np.array(dev_data['fare_amount'])"
   ]
  },
  {
   "cell_type": "code",
   "execution_count": null,
   "metadata": {
    "colab": {
     "base_uri": "https://localhost:8080/",
     "height": 34
    },
    "colab_type": "code",
    "id": "gmVWcjoX-KpU",
    "outputId": "f97aa3fd-f9bc-41a3-b6c9-c636ddc50966"
   },
   "outputs": [],
   "source": [
    "x_train.shape"
   ]
  },
  {
   "cell_type": "code",
   "execution_count": null,
   "metadata": {
    "colab": {
     "base_uri": "https://localhost:8080/",
     "height": 34
    },
    "colab_type": "code",
    "id": "pagiPsGx-QnV",
    "outputId": "22cae76b-0deb-4e6b-8d2f-35392ae91ad7"
   },
   "outputs": [],
   "source": [
    "y_train.shape"
   ]
  },
  {
   "cell_type": "code",
   "execution_count": null,
   "metadata": {
    "colab": {
     "base_uri": "https://localhost:8080/",
     "height": 34
    },
    "colab_type": "code",
    "id": "1MJTWYtL-hZv",
    "outputId": "f21bf043-d6c2-4a30-ce78-92ef06411c4d"
   },
   "outputs": [],
   "source": [
    "x_val.shape"
   ]
  },
  {
   "cell_type": "code",
   "execution_count": null,
   "metadata": {
    "colab": {
     "base_uri": "https://localhost:8080/",
     "height": 34
    },
    "colab_type": "code",
    "id": "CIfSMxwjczWl",
    "outputId": "36900988-802c-4751-99ce-01bc50f69eb7"
   },
   "outputs": [],
   "source": [
    "y_val.shape"
   ]
  },
  {
   "cell_type": "code",
   "execution_count": null,
   "metadata": {
    "colab": {},
    "colab_type": "code",
    "id": "YEf9ked5yCCU"
   },
   "outputs": [],
   "source": [
    "pool = ThreadPool(processes=1)\n",
    "\n",
    "t3 = pool.apply_async(svr_RBF, (x_train,y_train)) \n",
    "t4 = pool.apply_async(svr_linear, (x_train,y_train)) \n",
    "\n",
    "svr_rbf, rbf_start_time = t3.get()\n",
    "svr_lin, lin_start_time = t4.get()"
   ]
  },
  {
   "cell_type": "code",
   "execution_count": null,
   "metadata": {
    "colab": {},
    "colab_type": "code",
    "id": "_gQJ1F96yCBU"
   },
   "outputs": [],
   "source": [
    "SVR_RBF_predict = svr_rbf.predict(x_val)\n",
    "SVR_Lin_predict = svr_lin.predict(x_val)\n",
    "\n",
    "SVR_RBF_mse = mean_squared_error(y_val, SVR_RBF_predict)\n",
    "SVR_Lin_mse = mean_squared_error(y_val, SVR_Lin_predict)\n",
    "\n",
    "SVR_RBF_rmse = np.sqrt(SVR_RBF_mse)\n",
    "SVR_Lin_rmse = np.sqrt(SVR_Lin_mse)\n",
    "\n",
    "print(\"RMSE of Linear support vector regressor = \" , SVR_Lin_rmse)\n",
    "print(\"Run time of Linear support vector regressor = \" , time.time() - lin_start_time , \"seconds\")\n",
    "print(\"\\nRMSE of RBF support vector regressor = \" , SVR_RBF_rmse)\n",
    "print(\"Run time of RBF support vector regressor = \" , time.time() - rbf_start_time , \"seconds\")"
   ]
  },
  {
   "cell_type": "code",
   "execution_count": null,
   "metadata": {},
   "outputs": [],
   "source": []
  }
 ],
 "metadata": {
  "accelerator": "GPU",
  "colab": {
   "collapsed_sections": [
    "aZ5_UpLVG-QY",
    "9JCPbjVrG-Q5",
    "gSKtvR_AG-RM",
    "_YqhU5ofG-Rj",
    "T0L-DdWfG-R_",
    "DVUYX7VuG-SX",
    "vC0sjijrG-Su",
    "lhTN8-KkG-Vj",
    "uNazvKKWG-WR",
    "KIlhc7LgG-XS",
    "vdgn1fslG-Xu",
    "0J_6JsE6G-Yl",
    "4v0_hPtVfGxM",
    "zBTlOuS8fyli",
    "Oh9ZoBbLiXyP",
    "nxBmoe66iY1V",
    "5QBpnu31jMrS",
    "6vjp1d7fkMYG",
    "dl2ayw8oknHy",
    "bTig0iRAvLUP",
    "fv7B-36pvRVs",
    "EEyzMJ4q8dtH",
    "yQccm7Vo9Gqb"
   ],
   "name": "CMPE_257_Project (1).ipynb",
   "provenance": [],
   "version": "0.3.2"
  },
  "kernelspec": {
   "display_name": "Python 3",
   "language": "python",
   "name": "python3"
  },
  "language_info": {
   "codemirror_mode": {
    "name": "ipython",
    "version": 3
   },
   "file_extension": ".py",
   "mimetype": "text/x-python",
   "name": "python",
   "nbconvert_exporter": "python",
   "pygments_lexer": "ipython3",
   "version": "3.7.1"
  }
 },
 "nbformat": 4,
 "nbformat_minor": 1
}
