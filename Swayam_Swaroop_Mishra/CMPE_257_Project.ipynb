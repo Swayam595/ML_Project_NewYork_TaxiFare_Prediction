{
 "cells": [
  {
   "cell_type": "code",
   "execution_count": 68,
   "metadata": {
    "scrolled": false
   },
   "outputs": [],
   "source": [
    "import csv\n",
    "import random\n",
    "import numpy as np\n",
    "import pandas as pd\n",
    "import dask.dataframe as dd\n",
    "import os\n",
    "from tqdm import tqdm\n",
    "\n",
    "data = pd.read_csv('D:\\\\Projects\\Data\\\\train.csv',nrows = 10000000)       # Contains the first 10 million data from \n",
    "                                                    # where we are going to select 1 million ramdom data for training and\n",
    "                                                    # ten thousand data for deveopment \n"
   ]
  },
  {
   "cell_type": "code",
   "execution_count": 69,
   "metadata": {},
   "outputs": [],
   "source": [
    "# Creation of training set , development set and test set \n",
    "training_set = data.sample(n = 1000000)    # 1 million random data from same distribution\n",
    "dev_set = data.sample(n = 10000)           # 10000 random data from same distribution\n",
    "test_set =  pd.read_csv('D:\\\\Projects\\\\Data\\\\test.csv')      # Actual test data must be used to check only after getting \n",
    "                                                             # a good final hypothesis"
   ]
  },
  {
   "cell_type": "markdown",
   "metadata": {},
   "source": [
    "# Shape, data type, data sample and descriptive statistics of Training Set"
   ]
  },
  {
   "cell_type": "markdown",
   "metadata": {},
   "source": [
    "### Shape"
   ]
  },
  {
   "cell_type": "code",
   "execution_count": 70,
   "metadata": {},
   "outputs": [
    {
     "data": {
      "text/plain": [
       "(1000000, 8)"
      ]
     },
     "execution_count": 70,
     "metadata": {},
     "output_type": "execute_result"
    }
   ],
   "source": [
    "training_set.shape"
   ]
  },
  {
   "cell_type": "markdown",
   "metadata": {},
   "source": [
    "### Data Type"
   ]
  },
  {
   "cell_type": "code",
   "execution_count": 71,
   "metadata": {},
   "outputs": [
    {
     "data": {
      "text/plain": [
       "key                   object\n",
       "fare_amount          float64\n",
       "pickup_datetime       object\n",
       "pickup_longitude     float64\n",
       "pickup_latitude      float64\n",
       "dropoff_longitude    float64\n",
       "dropoff_latitude     float64\n",
       "passenger_count        int64\n",
       "dtype: object"
      ]
     },
     "execution_count": 71,
     "metadata": {},
     "output_type": "execute_result"
    }
   ],
   "source": [
    "training_set.dtypes"
   ]
  },
  {
   "cell_type": "markdown",
   "metadata": {},
   "source": [
    "### Data Sample"
   ]
  },
  {
   "cell_type": "code",
   "execution_count": 72,
   "metadata": {},
   "outputs": [
    {
     "data": {
      "text/html": [
       "<div>\n",
       "<style scoped>\n",
       "    .dataframe tbody tr th:only-of-type {\n",
       "        vertical-align: middle;\n",
       "    }\n",
       "\n",
       "    .dataframe tbody tr th {\n",
       "        vertical-align: top;\n",
       "    }\n",
       "\n",
       "    .dataframe thead th {\n",
       "        text-align: right;\n",
       "    }\n",
       "</style>\n",
       "<table border=\"1\" class=\"dataframe\">\n",
       "  <thead>\n",
       "    <tr style=\"text-align: right;\">\n",
       "      <th></th>\n",
       "      <th>key</th>\n",
       "      <th>fare_amount</th>\n",
       "      <th>pickup_datetime</th>\n",
       "      <th>pickup_longitude</th>\n",
       "      <th>pickup_latitude</th>\n",
       "      <th>dropoff_longitude</th>\n",
       "      <th>dropoff_latitude</th>\n",
       "      <th>passenger_count</th>\n",
       "    </tr>\n",
       "  </thead>\n",
       "  <tbody>\n",
       "    <tr>\n",
       "      <th>5637465</th>\n",
       "      <td>2012-11-10 15:14:00.00000058</td>\n",
       "      <td>10.50</td>\n",
       "      <td>2012-11-10 15:14:00 UTC</td>\n",
       "      <td>-73.961972</td>\n",
       "      <td>40.770672</td>\n",
       "      <td>-73.961072</td>\n",
       "      <td>40.761670</td>\n",
       "      <td>1</td>\n",
       "    </tr>\n",
       "    <tr>\n",
       "      <th>8152448</th>\n",
       "      <td>2014-11-02 19:02:00.000000160</td>\n",
       "      <td>30.83</td>\n",
       "      <td>2014-11-02 19:02:00 UTC</td>\n",
       "      <td>-73.873010</td>\n",
       "      <td>40.774160</td>\n",
       "      <td>-73.952800</td>\n",
       "      <td>40.773980</td>\n",
       "      <td>1</td>\n",
       "    </tr>\n",
       "    <tr>\n",
       "      <th>5810380</th>\n",
       "      <td>2014-01-23 12:31:29.0000004</td>\n",
       "      <td>4.50</td>\n",
       "      <td>2014-01-23 12:31:29 UTC</td>\n",
       "      <td>-74.013073</td>\n",
       "      <td>40.716552</td>\n",
       "      <td>-74.008597</td>\n",
       "      <td>40.716010</td>\n",
       "      <td>1</td>\n",
       "    </tr>\n",
       "    <tr>\n",
       "      <th>5585785</th>\n",
       "      <td>2014-03-14 00:03:00.000000116</td>\n",
       "      <td>28.83</td>\n",
       "      <td>2014-03-14 00:03:00 UTC</td>\n",
       "      <td>-73.873200</td>\n",
       "      <td>40.774155</td>\n",
       "      <td>-73.952982</td>\n",
       "      <td>40.768987</td>\n",
       "      <td>1</td>\n",
       "    </tr>\n",
       "    <tr>\n",
       "      <th>4154405</th>\n",
       "      <td>2009-06-13 06:28:00.0000009</td>\n",
       "      <td>7.30</td>\n",
       "      <td>2009-06-13 06:28:00 UTC</td>\n",
       "      <td>-73.948008</td>\n",
       "      <td>40.778548</td>\n",
       "      <td>-73.968808</td>\n",
       "      <td>40.791138</td>\n",
       "      <td>1</td>\n",
       "    </tr>\n",
       "  </tbody>\n",
       "</table>\n",
       "</div>"
      ],
      "text/plain": [
       "                                   key  fare_amount          pickup_datetime  \\\n",
       "5637465   2012-11-10 15:14:00.00000058        10.50  2012-11-10 15:14:00 UTC   \n",
       "8152448  2014-11-02 19:02:00.000000160        30.83  2014-11-02 19:02:00 UTC   \n",
       "5810380    2014-01-23 12:31:29.0000004         4.50  2014-01-23 12:31:29 UTC   \n",
       "5585785  2014-03-14 00:03:00.000000116        28.83  2014-03-14 00:03:00 UTC   \n",
       "4154405    2009-06-13 06:28:00.0000009         7.30  2009-06-13 06:28:00 UTC   \n",
       "\n",
       "         pickup_longitude  pickup_latitude  dropoff_longitude  \\\n",
       "5637465        -73.961972        40.770672         -73.961072   \n",
       "8152448        -73.873010        40.774160         -73.952800   \n",
       "5810380        -74.013073        40.716552         -74.008597   \n",
       "5585785        -73.873200        40.774155         -73.952982   \n",
       "4154405        -73.948008        40.778548         -73.968808   \n",
       "\n",
       "         dropoff_latitude  passenger_count  \n",
       "5637465         40.761670                1  \n",
       "8152448         40.773980                1  \n",
       "5810380         40.716010                1  \n",
       "5585785         40.768987                1  \n",
       "4154405         40.791138                1  "
      ]
     },
     "execution_count": 72,
     "metadata": {},
     "output_type": "execute_result"
    }
   ],
   "source": [
    "training_set.head()"
   ]
  },
  {
   "cell_type": "markdown",
   "metadata": {},
   "source": [
    "### Descriptive statistics "
   ]
  },
  {
   "cell_type": "code",
   "execution_count": 73,
   "metadata": {},
   "outputs": [
    {
     "data": {
      "text/html": [
       "<div>\n",
       "<style scoped>\n",
       "    .dataframe tbody tr th:only-of-type {\n",
       "        vertical-align: middle;\n",
       "    }\n",
       "\n",
       "    .dataframe tbody tr th {\n",
       "        vertical-align: top;\n",
       "    }\n",
       "\n",
       "    .dataframe thead th {\n",
       "        text-align: right;\n",
       "    }\n",
       "</style>\n",
       "<table border=\"1\" class=\"dataframe\">\n",
       "  <thead>\n",
       "    <tr style=\"text-align: right;\">\n",
       "      <th></th>\n",
       "      <th>fare_amount</th>\n",
       "      <th>pickup_longitude</th>\n",
       "      <th>pickup_latitude</th>\n",
       "      <th>dropoff_longitude</th>\n",
       "      <th>dropoff_latitude</th>\n",
       "      <th>passenger_count</th>\n",
       "    </tr>\n",
       "  </thead>\n",
       "  <tbody>\n",
       "    <tr>\n",
       "      <th>count</th>\n",
       "      <td>1000000.000000</td>\n",
       "      <td>1000000.000000</td>\n",
       "      <td>1000000.000000</td>\n",
       "      <td>999996.000000</td>\n",
       "      <td>999996.000000</td>\n",
       "      <td>1000000.000000</td>\n",
       "    </tr>\n",
       "    <tr>\n",
       "      <th>mean</th>\n",
       "      <td>11.341818</td>\n",
       "      <td>-72.512398</td>\n",
       "      <td>39.907714</td>\n",
       "      <td>-72.505052</td>\n",
       "      <td>39.915016</td>\n",
       "      <td>1.686525</td>\n",
       "    </tr>\n",
       "    <tr>\n",
       "      <th>std</th>\n",
       "      <td>9.797023</td>\n",
       "      <td>12.850012</td>\n",
       "      <td>9.245128</td>\n",
       "      <td>12.954164</td>\n",
       "      <td>9.776248</td>\n",
       "      <td>1.316056</td>\n",
       "    </tr>\n",
       "    <tr>\n",
       "      <th>min</th>\n",
       "      <td>-107.750000</td>\n",
       "      <td>-3313.387292</td>\n",
       "      <td>-3458.664702</td>\n",
       "      <td>-3426.600617</td>\n",
       "      <td>-2545.761383</td>\n",
       "      <td>0.000000</td>\n",
       "    </tr>\n",
       "    <tr>\n",
       "      <th>25%</th>\n",
       "      <td>6.000000</td>\n",
       "      <td>-73.992111</td>\n",
       "      <td>40.734860</td>\n",
       "      <td>-73.991405</td>\n",
       "      <td>40.733978</td>\n",
       "      <td>1.000000</td>\n",
       "    </tr>\n",
       "    <tr>\n",
       "      <th>50%</th>\n",
       "      <td>8.500000</td>\n",
       "      <td>-73.981835</td>\n",
       "      <td>40.752607</td>\n",
       "      <td>-73.980164</td>\n",
       "      <td>40.753120</td>\n",
       "      <td>1.000000</td>\n",
       "    </tr>\n",
       "    <tr>\n",
       "      <th>75%</th>\n",
       "      <td>12.500000</td>\n",
       "      <td>-73.967138</td>\n",
       "      <td>40.767048</td>\n",
       "      <td>-73.963680</td>\n",
       "      <td>40.768105</td>\n",
       "      <td>2.000000</td>\n",
       "    </tr>\n",
       "    <tr>\n",
       "      <th>max</th>\n",
       "      <td>477.920000</td>\n",
       "      <td>3061.872988</td>\n",
       "      <td>2925.069102</td>\n",
       "      <td>3061.872988</td>\n",
       "      <td>3351.403027</td>\n",
       "      <td>129.000000</td>\n",
       "    </tr>\n",
       "  </tbody>\n",
       "</table>\n",
       "</div>"
      ],
      "text/plain": [
       "          fare_amount  pickup_longitude  pickup_latitude  dropoff_longitude  \\\n",
       "count  1000000.000000    1000000.000000   1000000.000000      999996.000000   \n",
       "mean        11.341818        -72.512398        39.907714         -72.505052   \n",
       "std          9.797023         12.850012         9.245128          12.954164   \n",
       "min       -107.750000      -3313.387292     -3458.664702       -3426.600617   \n",
       "25%          6.000000        -73.992111        40.734860         -73.991405   \n",
       "50%          8.500000        -73.981835        40.752607         -73.980164   \n",
       "75%         12.500000        -73.967138        40.767048         -73.963680   \n",
       "max        477.920000       3061.872988      2925.069102        3061.872988   \n",
       "\n",
       "       dropoff_latitude  passenger_count  \n",
       "count     999996.000000   1000000.000000  \n",
       "mean          39.915016         1.686525  \n",
       "std            9.776248         1.316056  \n",
       "min        -2545.761383         0.000000  \n",
       "25%           40.733978         1.000000  \n",
       "50%           40.753120         1.000000  \n",
       "75%           40.768105         2.000000  \n",
       "max         3351.403027       129.000000  "
      ]
     },
     "execution_count": 73,
     "metadata": {},
     "output_type": "execute_result"
    }
   ],
   "source": [
    "training_set.describe()"
   ]
  },
  {
   "cell_type": "markdown",
   "metadata": {},
   "source": [
    "# Shape, data type, data sample and descriptive statistics of Development Set"
   ]
  },
  {
   "cell_type": "markdown",
   "metadata": {},
   "source": [
    "### Shape"
   ]
  },
  {
   "cell_type": "code",
   "execution_count": 74,
   "metadata": {},
   "outputs": [
    {
     "data": {
      "text/plain": [
       "(10000, 8)"
      ]
     },
     "execution_count": 74,
     "metadata": {},
     "output_type": "execute_result"
    }
   ],
   "source": [
    "dev_set.shape"
   ]
  },
  {
   "cell_type": "markdown",
   "metadata": {},
   "source": [
    "### Data Type"
   ]
  },
  {
   "cell_type": "code",
   "execution_count": 75,
   "metadata": {},
   "outputs": [
    {
     "data": {
      "text/plain": [
       "key                   object\n",
       "fare_amount          float64\n",
       "pickup_datetime       object\n",
       "pickup_longitude     float64\n",
       "pickup_latitude      float64\n",
       "dropoff_longitude    float64\n",
       "dropoff_latitude     float64\n",
       "passenger_count        int64\n",
       "dtype: object"
      ]
     },
     "execution_count": 75,
     "metadata": {},
     "output_type": "execute_result"
    }
   ],
   "source": [
    "dev_set.dtypes"
   ]
  },
  {
   "cell_type": "markdown",
   "metadata": {},
   "source": [
    "### Data Sample"
   ]
  },
  {
   "cell_type": "code",
   "execution_count": 76,
   "metadata": {},
   "outputs": [
    {
     "data": {
      "text/html": [
       "<div>\n",
       "<style scoped>\n",
       "    .dataframe tbody tr th:only-of-type {\n",
       "        vertical-align: middle;\n",
       "    }\n",
       "\n",
       "    .dataframe tbody tr th {\n",
       "        vertical-align: top;\n",
       "    }\n",
       "\n",
       "    .dataframe thead th {\n",
       "        text-align: right;\n",
       "    }\n",
       "</style>\n",
       "<table border=\"1\" class=\"dataframe\">\n",
       "  <thead>\n",
       "    <tr style=\"text-align: right;\">\n",
       "      <th></th>\n",
       "      <th>key</th>\n",
       "      <th>fare_amount</th>\n",
       "      <th>pickup_datetime</th>\n",
       "      <th>pickup_longitude</th>\n",
       "      <th>pickup_latitude</th>\n",
       "      <th>dropoff_longitude</th>\n",
       "      <th>dropoff_latitude</th>\n",
       "      <th>passenger_count</th>\n",
       "    </tr>\n",
       "  </thead>\n",
       "  <tbody>\n",
       "    <tr>\n",
       "      <th>2634480</th>\n",
       "      <td>2014-07-22 13:22:48.0000001</td>\n",
       "      <td>7.0</td>\n",
       "      <td>2014-07-22 13:22:48 UTC</td>\n",
       "      <td>-73.983290</td>\n",
       "      <td>40.693928</td>\n",
       "      <td>-73.995587</td>\n",
       "      <td>40.716787</td>\n",
       "      <td>1</td>\n",
       "    </tr>\n",
       "    <tr>\n",
       "      <th>940510</th>\n",
       "      <td>2013-11-09 18:06:37.0000001</td>\n",
       "      <td>6.5</td>\n",
       "      <td>2013-11-09 18:06:37 UTC</td>\n",
       "      <td>-74.002454</td>\n",
       "      <td>40.745166</td>\n",
       "      <td>-74.004638</td>\n",
       "      <td>40.730722</td>\n",
       "      <td>1</td>\n",
       "    </tr>\n",
       "    <tr>\n",
       "      <th>7985928</th>\n",
       "      <td>2012-02-25 18:06:26.0000002</td>\n",
       "      <td>7.3</td>\n",
       "      <td>2012-02-25 18:06:26 UTC</td>\n",
       "      <td>-73.985640</td>\n",
       "      <td>40.722129</td>\n",
       "      <td>-74.005338</td>\n",
       "      <td>40.724472</td>\n",
       "      <td>1</td>\n",
       "    </tr>\n",
       "    <tr>\n",
       "      <th>5252800</th>\n",
       "      <td>2013-01-01 19:49:00.00000059</td>\n",
       "      <td>4.5</td>\n",
       "      <td>2013-01-01 19:49:00 UTC</td>\n",
       "      <td>-73.992917</td>\n",
       "      <td>40.730870</td>\n",
       "      <td>-73.987465</td>\n",
       "      <td>40.732972</td>\n",
       "      <td>1</td>\n",
       "    </tr>\n",
       "    <tr>\n",
       "      <th>6581147</th>\n",
       "      <td>2011-12-02 00:29:58.0000004</td>\n",
       "      <td>5.7</td>\n",
       "      <td>2011-12-02 00:29:58 UTC</td>\n",
       "      <td>-73.986625</td>\n",
       "      <td>40.733178</td>\n",
       "      <td>-73.975940</td>\n",
       "      <td>40.751380</td>\n",
       "      <td>1</td>\n",
       "    </tr>\n",
       "  </tbody>\n",
       "</table>\n",
       "</div>"
      ],
      "text/plain": [
       "                                  key  fare_amount          pickup_datetime  \\\n",
       "2634480   2014-07-22 13:22:48.0000001          7.0  2014-07-22 13:22:48 UTC   \n",
       "940510    2013-11-09 18:06:37.0000001          6.5  2013-11-09 18:06:37 UTC   \n",
       "7985928   2012-02-25 18:06:26.0000002          7.3  2012-02-25 18:06:26 UTC   \n",
       "5252800  2013-01-01 19:49:00.00000059          4.5  2013-01-01 19:49:00 UTC   \n",
       "6581147   2011-12-02 00:29:58.0000004          5.7  2011-12-02 00:29:58 UTC   \n",
       "\n",
       "         pickup_longitude  pickup_latitude  dropoff_longitude  \\\n",
       "2634480        -73.983290        40.693928         -73.995587   \n",
       "940510         -74.002454        40.745166         -74.004638   \n",
       "7985928        -73.985640        40.722129         -74.005338   \n",
       "5252800        -73.992917        40.730870         -73.987465   \n",
       "6581147        -73.986625        40.733178         -73.975940   \n",
       "\n",
       "         dropoff_latitude  passenger_count  \n",
       "2634480         40.716787                1  \n",
       "940510          40.730722                1  \n",
       "7985928         40.724472                1  \n",
       "5252800         40.732972                1  \n",
       "6581147         40.751380                1  "
      ]
     },
     "execution_count": 76,
     "metadata": {},
     "output_type": "execute_result"
    }
   ],
   "source": [
    "dev_set.head()"
   ]
  },
  {
   "cell_type": "markdown",
   "metadata": {},
   "source": [
    "### Descriptive statistics "
   ]
  },
  {
   "cell_type": "code",
   "execution_count": 77,
   "metadata": {},
   "outputs": [
    {
     "data": {
      "text/html": [
       "<div>\n",
       "<style scoped>\n",
       "    .dataframe tbody tr th:only-of-type {\n",
       "        vertical-align: middle;\n",
       "    }\n",
       "\n",
       "    .dataframe tbody tr th {\n",
       "        vertical-align: top;\n",
       "    }\n",
       "\n",
       "    .dataframe thead th {\n",
       "        text-align: right;\n",
       "    }\n",
       "</style>\n",
       "<table border=\"1\" class=\"dataframe\">\n",
       "  <thead>\n",
       "    <tr style=\"text-align: right;\">\n",
       "      <th></th>\n",
       "      <th>fare_amount</th>\n",
       "      <th>pickup_longitude</th>\n",
       "      <th>pickup_latitude</th>\n",
       "      <th>dropoff_longitude</th>\n",
       "      <th>dropoff_latitude</th>\n",
       "      <th>passenger_count</th>\n",
       "    </tr>\n",
       "  </thead>\n",
       "  <tbody>\n",
       "    <tr>\n",
       "      <th>count</th>\n",
       "      <td>10000.000000</td>\n",
       "      <td>10000.000000</td>\n",
       "      <td>10000.000000</td>\n",
       "      <td>10000.000000</td>\n",
       "      <td>10000.000000</td>\n",
       "      <td>10000.000000</td>\n",
       "    </tr>\n",
       "    <tr>\n",
       "      <th>mean</th>\n",
       "      <td>11.343942</td>\n",
       "      <td>-72.358182</td>\n",
       "      <td>39.885921</td>\n",
       "      <td>-72.349693</td>\n",
       "      <td>39.845777</td>\n",
       "      <td>1.695900</td>\n",
       "    </tr>\n",
       "    <tr>\n",
       "      <th>std</th>\n",
       "      <td>9.579253</td>\n",
       "      <td>10.878636</td>\n",
       "      <td>7.225359</td>\n",
       "      <td>10.907602</td>\n",
       "      <td>6.219125</td>\n",
       "      <td>1.331766</td>\n",
       "    </tr>\n",
       "    <tr>\n",
       "      <th>min</th>\n",
       "      <td>2.500000</td>\n",
       "      <td>-74.232109</td>\n",
       "      <td>-74.000797</td>\n",
       "      <td>-74.616665</td>\n",
       "      <td>-74.009980</td>\n",
       "      <td>0.000000</td>\n",
       "    </tr>\n",
       "    <tr>\n",
       "      <th>25%</th>\n",
       "      <td>6.000000</td>\n",
       "      <td>-73.991821</td>\n",
       "      <td>40.735254</td>\n",
       "      <td>-73.991432</td>\n",
       "      <td>40.733406</td>\n",
       "      <td>1.000000</td>\n",
       "    </tr>\n",
       "    <tr>\n",
       "      <th>50%</th>\n",
       "      <td>8.500000</td>\n",
       "      <td>-73.981695</td>\n",
       "      <td>40.752282</td>\n",
       "      <td>-73.980418</td>\n",
       "      <td>40.753393</td>\n",
       "      <td>1.000000</td>\n",
       "    </tr>\n",
       "    <tr>\n",
       "      <th>75%</th>\n",
       "      <td>12.900000</td>\n",
       "      <td>-73.966674</td>\n",
       "      <td>40.766868</td>\n",
       "      <td>-73.963774</td>\n",
       "      <td>40.768084</td>\n",
       "      <td>2.000000</td>\n",
       "    </tr>\n",
       "    <tr>\n",
       "      <th>max</th>\n",
       "      <td>140.000000</td>\n",
       "      <td>40.762522</td>\n",
       "      <td>410.333332</td>\n",
       "      <td>40.774315</td>\n",
       "      <td>48.866667</td>\n",
       "      <td>6.000000</td>\n",
       "    </tr>\n",
       "  </tbody>\n",
       "</table>\n",
       "</div>"
      ],
      "text/plain": [
       "        fare_amount  pickup_longitude  pickup_latitude  dropoff_longitude  \\\n",
       "count  10000.000000      10000.000000     10000.000000       10000.000000   \n",
       "mean      11.343942        -72.358182        39.885921         -72.349693   \n",
       "std        9.579253         10.878636         7.225359          10.907602   \n",
       "min        2.500000        -74.232109       -74.000797         -74.616665   \n",
       "25%        6.000000        -73.991821        40.735254         -73.991432   \n",
       "50%        8.500000        -73.981695        40.752282         -73.980418   \n",
       "75%       12.900000        -73.966674        40.766868         -73.963774   \n",
       "max      140.000000         40.762522       410.333332          40.774315   \n",
       "\n",
       "       dropoff_latitude  passenger_count  \n",
       "count      10000.000000     10000.000000  \n",
       "mean          39.845777         1.695900  \n",
       "std            6.219125         1.331766  \n",
       "min          -74.009980         0.000000  \n",
       "25%           40.733406         1.000000  \n",
       "50%           40.753393         1.000000  \n",
       "75%           40.768084         2.000000  \n",
       "max           48.866667         6.000000  "
      ]
     },
     "execution_count": 77,
     "metadata": {},
     "output_type": "execute_result"
    }
   ],
   "source": [
    "dev_set.describe()"
   ]
  },
  {
   "cell_type": "markdown",
   "metadata": {},
   "source": [
    "# Shape, data type, data sample and descriptive statistics of Test Set\n",
    "\n"
   ]
  },
  {
   "cell_type": "markdown",
   "metadata": {},
   "source": [
    "### Shape"
   ]
  },
  {
   "cell_type": "code",
   "execution_count": 78,
   "metadata": {},
   "outputs": [
    {
     "data": {
      "text/plain": [
       "(9914, 7)"
      ]
     },
     "execution_count": 78,
     "metadata": {},
     "output_type": "execute_result"
    }
   ],
   "source": [
    "test_set.shape"
   ]
  },
  {
   "cell_type": "markdown",
   "metadata": {},
   "source": [
    "### Data Type"
   ]
  },
  {
   "cell_type": "code",
   "execution_count": 79,
   "metadata": {},
   "outputs": [
    {
     "data": {
      "text/plain": [
       "key                   object\n",
       "pickup_datetime       object\n",
       "pickup_longitude     float64\n",
       "pickup_latitude      float64\n",
       "dropoff_longitude    float64\n",
       "dropoff_latitude     float64\n",
       "passenger_count        int64\n",
       "dtype: object"
      ]
     },
     "execution_count": 79,
     "metadata": {},
     "output_type": "execute_result"
    }
   ],
   "source": [
    "test_set.dtypes"
   ]
  },
  {
   "cell_type": "markdown",
   "metadata": {},
   "source": [
    "### Data Sample"
   ]
  },
  {
   "cell_type": "code",
   "execution_count": 80,
   "metadata": {},
   "outputs": [
    {
     "data": {
      "text/html": [
       "<div>\n",
       "<style scoped>\n",
       "    .dataframe tbody tr th:only-of-type {\n",
       "        vertical-align: middle;\n",
       "    }\n",
       "\n",
       "    .dataframe tbody tr th {\n",
       "        vertical-align: top;\n",
       "    }\n",
       "\n",
       "    .dataframe thead th {\n",
       "        text-align: right;\n",
       "    }\n",
       "</style>\n",
       "<table border=\"1\" class=\"dataframe\">\n",
       "  <thead>\n",
       "    <tr style=\"text-align: right;\">\n",
       "      <th></th>\n",
       "      <th>key</th>\n",
       "      <th>pickup_datetime</th>\n",
       "      <th>pickup_longitude</th>\n",
       "      <th>pickup_latitude</th>\n",
       "      <th>dropoff_longitude</th>\n",
       "      <th>dropoff_latitude</th>\n",
       "      <th>passenger_count</th>\n",
       "    </tr>\n",
       "  </thead>\n",
       "  <tbody>\n",
       "    <tr>\n",
       "      <th>0</th>\n",
       "      <td>2015-01-27 13:08:24.0000002</td>\n",
       "      <td>2015-01-27 13:08:24 UTC</td>\n",
       "      <td>-73.973320</td>\n",
       "      <td>40.763805</td>\n",
       "      <td>-73.981430</td>\n",
       "      <td>40.743835</td>\n",
       "      <td>1</td>\n",
       "    </tr>\n",
       "    <tr>\n",
       "      <th>1</th>\n",
       "      <td>2015-01-27 13:08:24.0000003</td>\n",
       "      <td>2015-01-27 13:08:24 UTC</td>\n",
       "      <td>-73.986862</td>\n",
       "      <td>40.719383</td>\n",
       "      <td>-73.998886</td>\n",
       "      <td>40.739201</td>\n",
       "      <td>1</td>\n",
       "    </tr>\n",
       "    <tr>\n",
       "      <th>2</th>\n",
       "      <td>2011-10-08 11:53:44.0000002</td>\n",
       "      <td>2011-10-08 11:53:44 UTC</td>\n",
       "      <td>-73.982524</td>\n",
       "      <td>40.751260</td>\n",
       "      <td>-73.979654</td>\n",
       "      <td>40.746139</td>\n",
       "      <td>1</td>\n",
       "    </tr>\n",
       "    <tr>\n",
       "      <th>3</th>\n",
       "      <td>2012-12-01 21:12:12.0000002</td>\n",
       "      <td>2012-12-01 21:12:12 UTC</td>\n",
       "      <td>-73.981160</td>\n",
       "      <td>40.767807</td>\n",
       "      <td>-73.990448</td>\n",
       "      <td>40.751635</td>\n",
       "      <td>1</td>\n",
       "    </tr>\n",
       "    <tr>\n",
       "      <th>4</th>\n",
       "      <td>2012-12-01 21:12:12.0000003</td>\n",
       "      <td>2012-12-01 21:12:12 UTC</td>\n",
       "      <td>-73.966046</td>\n",
       "      <td>40.789775</td>\n",
       "      <td>-73.988565</td>\n",
       "      <td>40.744427</td>\n",
       "      <td>1</td>\n",
       "    </tr>\n",
       "  </tbody>\n",
       "</table>\n",
       "</div>"
      ],
      "text/plain": [
       "                           key          pickup_datetime  pickup_longitude  \\\n",
       "0  2015-01-27 13:08:24.0000002  2015-01-27 13:08:24 UTC        -73.973320   \n",
       "1  2015-01-27 13:08:24.0000003  2015-01-27 13:08:24 UTC        -73.986862   \n",
       "2  2011-10-08 11:53:44.0000002  2011-10-08 11:53:44 UTC        -73.982524   \n",
       "3  2012-12-01 21:12:12.0000002  2012-12-01 21:12:12 UTC        -73.981160   \n",
       "4  2012-12-01 21:12:12.0000003  2012-12-01 21:12:12 UTC        -73.966046   \n",
       "\n",
       "   pickup_latitude  dropoff_longitude  dropoff_latitude  passenger_count  \n",
       "0        40.763805         -73.981430         40.743835                1  \n",
       "1        40.719383         -73.998886         40.739201                1  \n",
       "2        40.751260         -73.979654         40.746139                1  \n",
       "3        40.767807         -73.990448         40.751635                1  \n",
       "4        40.789775         -73.988565         40.744427                1  "
      ]
     },
     "execution_count": 80,
     "metadata": {},
     "output_type": "execute_result"
    }
   ],
   "source": [
    "test_set.head()"
   ]
  },
  {
   "cell_type": "markdown",
   "metadata": {},
   "source": [
    "### Descriptive statistics "
   ]
  },
  {
   "cell_type": "code",
   "execution_count": 81,
   "metadata": {},
   "outputs": [
    {
     "data": {
      "text/html": [
       "<div>\n",
       "<style scoped>\n",
       "    .dataframe tbody tr th:only-of-type {\n",
       "        vertical-align: middle;\n",
       "    }\n",
       "\n",
       "    .dataframe tbody tr th {\n",
       "        vertical-align: top;\n",
       "    }\n",
       "\n",
       "    .dataframe thead th {\n",
       "        text-align: right;\n",
       "    }\n",
       "</style>\n",
       "<table border=\"1\" class=\"dataframe\">\n",
       "  <thead>\n",
       "    <tr style=\"text-align: right;\">\n",
       "      <th></th>\n",
       "      <th>pickup_longitude</th>\n",
       "      <th>pickup_latitude</th>\n",
       "      <th>dropoff_longitude</th>\n",
       "      <th>dropoff_latitude</th>\n",
       "      <th>passenger_count</th>\n",
       "    </tr>\n",
       "  </thead>\n",
       "  <tbody>\n",
       "    <tr>\n",
       "      <th>count</th>\n",
       "      <td>9914.000000</td>\n",
       "      <td>9914.000000</td>\n",
       "      <td>9914.000000</td>\n",
       "      <td>9914.000000</td>\n",
       "      <td>9914.000000</td>\n",
       "    </tr>\n",
       "    <tr>\n",
       "      <th>mean</th>\n",
       "      <td>-73.974722</td>\n",
       "      <td>40.751041</td>\n",
       "      <td>-73.973657</td>\n",
       "      <td>40.751743</td>\n",
       "      <td>1.671273</td>\n",
       "    </tr>\n",
       "    <tr>\n",
       "      <th>std</th>\n",
       "      <td>0.042774</td>\n",
       "      <td>0.033541</td>\n",
       "      <td>0.039072</td>\n",
       "      <td>0.035435</td>\n",
       "      <td>1.278747</td>\n",
       "    </tr>\n",
       "    <tr>\n",
       "      <th>min</th>\n",
       "      <td>-74.252193</td>\n",
       "      <td>40.573143</td>\n",
       "      <td>-74.263242</td>\n",
       "      <td>40.568973</td>\n",
       "      <td>1.000000</td>\n",
       "    </tr>\n",
       "    <tr>\n",
       "      <th>25%</th>\n",
       "      <td>-73.992501</td>\n",
       "      <td>40.736125</td>\n",
       "      <td>-73.991247</td>\n",
       "      <td>40.735254</td>\n",
       "      <td>1.000000</td>\n",
       "    </tr>\n",
       "    <tr>\n",
       "      <th>50%</th>\n",
       "      <td>-73.982326</td>\n",
       "      <td>40.753051</td>\n",
       "      <td>-73.980015</td>\n",
       "      <td>40.754065</td>\n",
       "      <td>1.000000</td>\n",
       "    </tr>\n",
       "    <tr>\n",
       "      <th>75%</th>\n",
       "      <td>-73.968013</td>\n",
       "      <td>40.767113</td>\n",
       "      <td>-73.964059</td>\n",
       "      <td>40.768757</td>\n",
       "      <td>2.000000</td>\n",
       "    </tr>\n",
       "    <tr>\n",
       "      <th>max</th>\n",
       "      <td>-72.986532</td>\n",
       "      <td>41.709555</td>\n",
       "      <td>-72.990963</td>\n",
       "      <td>41.696683</td>\n",
       "      <td>6.000000</td>\n",
       "    </tr>\n",
       "  </tbody>\n",
       "</table>\n",
       "</div>"
      ],
      "text/plain": [
       "       pickup_longitude  pickup_latitude  dropoff_longitude  dropoff_latitude  \\\n",
       "count       9914.000000      9914.000000        9914.000000       9914.000000   \n",
       "mean         -73.974722        40.751041         -73.973657         40.751743   \n",
       "std            0.042774         0.033541           0.039072          0.035435   \n",
       "min          -74.252193        40.573143         -74.263242         40.568973   \n",
       "25%          -73.992501        40.736125         -73.991247         40.735254   \n",
       "50%          -73.982326        40.753051         -73.980015         40.754065   \n",
       "75%          -73.968013        40.767113         -73.964059         40.768757   \n",
       "max          -72.986532        41.709555         -72.990963         41.696683   \n",
       "\n",
       "       passenger_count  \n",
       "count      9914.000000  \n",
       "mean          1.671273  \n",
       "std           1.278747  \n",
       "min           1.000000  \n",
       "25%           1.000000  \n",
       "50%           1.000000  \n",
       "75%           2.000000  \n",
       "max           6.000000  "
      ]
     },
     "execution_count": 81,
     "metadata": {},
     "output_type": "execute_result"
    }
   ],
   "source": [
    "test_set.describe()"
   ]
  },
  {
   "cell_type": "markdown",
   "metadata": {},
   "source": [
    "# Data Cleansing"
   ]
  },
  {
   "cell_type": "markdown",
   "metadata": {},
   "source": [
    "## Removing Null values from the datasets"
   ]
  },
  {
   "cell_type": "code",
   "execution_count": 82,
   "metadata": {},
   "outputs": [
    {
     "data": {
      "text/plain": [
       "dropoff_latitude     4\n",
       "dropoff_longitude    4\n",
       "passenger_count      0\n",
       "pickup_latitude      0\n",
       "pickup_longitude     0\n",
       "pickup_datetime      0\n",
       "fare_amount          0\n",
       "key                  0\n",
       "dtype: int64"
      ]
     },
     "execution_count": 82,
     "metadata": {},
     "output_type": "execute_result"
    }
   ],
   "source": [
    "training_set.isnull().sum().sort_values(ascending = False)"
   ]
  },
  {
   "cell_type": "code",
   "execution_count": 83,
   "metadata": {},
   "outputs": [
    {
     "data": {
      "text/plain": [
       "passenger_count      0\n",
       "dropoff_latitude     0\n",
       "dropoff_longitude    0\n",
       "pickup_latitude      0\n",
       "pickup_longitude     0\n",
       "pickup_datetime      0\n",
       "fare_amount          0\n",
       "key                  0\n",
       "dtype: int64"
      ]
     },
     "execution_count": 83,
     "metadata": {},
     "output_type": "execute_result"
    }
   ],
   "source": [
    "dev_set.isnull().sum().sort_values(ascending = False)"
   ]
  },
  {
   "cell_type": "code",
   "execution_count": 84,
   "metadata": {},
   "outputs": [
    {
     "data": {
      "text/plain": [
       "passenger_count      0\n",
       "dropoff_latitude     0\n",
       "dropoff_longitude    0\n",
       "pickup_latitude      0\n",
       "pickup_longitude     0\n",
       "pickup_datetime      0\n",
       "key                  0\n",
       "dtype: int64"
      ]
     },
     "execution_count": 84,
     "metadata": {},
     "output_type": "execute_result"
    }
   ],
   "source": [
    "test_set.isnull().sum().sort_values(ascending = False)"
   ]
  },
  {
   "cell_type": "code",
   "execution_count": 85,
   "metadata": {},
   "outputs": [
    {
     "data": {
      "text/plain": [
       "(999996, 8)"
      ]
     },
     "execution_count": 85,
     "metadata": {},
     "output_type": "execute_result"
    }
   ],
   "source": [
    "training_set = training_set.drop(training_set[training_set.isnull().any(1)].index , axis = 0)\n",
    "training_set.shape"
   ]
  },
  {
   "cell_type": "code",
   "execution_count": 86,
   "metadata": {},
   "outputs": [
    {
     "data": {
      "text/plain": [
       "(10000, 8)"
      ]
     },
     "execution_count": 86,
     "metadata": {},
     "output_type": "execute_result"
    }
   ],
   "source": [
    "dev_set = dev_set.drop(dev_set[dev_set.isnull().any(1)].index , axis = 0)\n",
    "dev_set.shape"
   ]
  },
  {
   "cell_type": "code",
   "execution_count": 87,
   "metadata": {},
   "outputs": [
    {
     "data": {
      "text/plain": [
       "(9914, 7)"
      ]
     },
     "execution_count": 87,
     "metadata": {},
     "output_type": "execute_result"
    }
   ],
   "source": [
    "test_set = test_set.drop(test_set[test_set.isnull().any(1)].index , axis = 0)\n",
    "test_set.shape"
   ]
  },
  {
   "cell_type": "markdown",
   "metadata": {},
   "source": [
    "## Removing rows from the dataset having invalid data "
   ]
  },
  {
   "cell_type": "code",
   "execution_count": 88,
   "metadata": {},
   "outputs": [
    {
     "data": {
      "text/html": [
       "<div>\n",
       "<style scoped>\n",
       "    .dataframe tbody tr th:only-of-type {\n",
       "        vertical-align: middle;\n",
       "    }\n",
       "\n",
       "    .dataframe tbody tr th {\n",
       "        vertical-align: top;\n",
       "    }\n",
       "\n",
       "    .dataframe thead th {\n",
       "        text-align: right;\n",
       "    }\n",
       "</style>\n",
       "<table border=\"1\" class=\"dataframe\">\n",
       "  <thead>\n",
       "    <tr style=\"text-align: right;\">\n",
       "      <th></th>\n",
       "      <th>fare_amount</th>\n",
       "      <th>pickup_longitude</th>\n",
       "      <th>pickup_latitude</th>\n",
       "      <th>dropoff_longitude</th>\n",
       "      <th>dropoff_latitude</th>\n",
       "      <th>passenger_count</th>\n",
       "    </tr>\n",
       "  </thead>\n",
       "  <tbody>\n",
       "    <tr>\n",
       "      <th>count</th>\n",
       "      <td>999996.000000</td>\n",
       "      <td>999996.000000</td>\n",
       "      <td>999996.000000</td>\n",
       "      <td>999996.000000</td>\n",
       "      <td>999996.000000</td>\n",
       "      <td>999996.000000</td>\n",
       "    </tr>\n",
       "    <tr>\n",
       "      <th>mean</th>\n",
       "      <td>11.341794</td>\n",
       "      <td>-72.512392</td>\n",
       "      <td>39.907710</td>\n",
       "      <td>-72.505052</td>\n",
       "      <td>39.915016</td>\n",
       "      <td>1.686532</td>\n",
       "    </tr>\n",
       "    <tr>\n",
       "      <th>std</th>\n",
       "      <td>9.797028</td>\n",
       "      <td>12.850038</td>\n",
       "      <td>9.245146</td>\n",
       "      <td>12.954164</td>\n",
       "      <td>9.776248</td>\n",
       "      <td>1.316055</td>\n",
       "    </tr>\n",
       "    <tr>\n",
       "      <th>min</th>\n",
       "      <td>-107.750000</td>\n",
       "      <td>-3313.387292</td>\n",
       "      <td>-3458.664702</td>\n",
       "      <td>-3426.600617</td>\n",
       "      <td>-2545.761383</td>\n",
       "      <td>0.000000</td>\n",
       "    </tr>\n",
       "    <tr>\n",
       "      <th>25%</th>\n",
       "      <td>6.000000</td>\n",
       "      <td>-73.992111</td>\n",
       "      <td>40.734860</td>\n",
       "      <td>-73.991405</td>\n",
       "      <td>40.733978</td>\n",
       "      <td>1.000000</td>\n",
       "    </tr>\n",
       "    <tr>\n",
       "      <th>50%</th>\n",
       "      <td>8.500000</td>\n",
       "      <td>-73.981835</td>\n",
       "      <td>40.752607</td>\n",
       "      <td>-73.980164</td>\n",
       "      <td>40.753120</td>\n",
       "      <td>1.000000</td>\n",
       "    </tr>\n",
       "    <tr>\n",
       "      <th>75%</th>\n",
       "      <td>12.500000</td>\n",
       "      <td>-73.967138</td>\n",
       "      <td>40.767048</td>\n",
       "      <td>-73.963680</td>\n",
       "      <td>40.768105</td>\n",
       "      <td>2.000000</td>\n",
       "    </tr>\n",
       "    <tr>\n",
       "      <th>max</th>\n",
       "      <td>477.920000</td>\n",
       "      <td>3061.872988</td>\n",
       "      <td>2925.069102</td>\n",
       "      <td>3061.872988</td>\n",
       "      <td>3351.403027</td>\n",
       "      <td>129.000000</td>\n",
       "    </tr>\n",
       "  </tbody>\n",
       "</table>\n",
       "</div>"
      ],
      "text/plain": [
       "         fare_amount  pickup_longitude  pickup_latitude  dropoff_longitude  \\\n",
       "count  999996.000000     999996.000000    999996.000000      999996.000000   \n",
       "mean       11.341794        -72.512392        39.907710         -72.505052   \n",
       "std         9.797028         12.850038         9.245146          12.954164   \n",
       "min      -107.750000      -3313.387292     -3458.664702       -3426.600617   \n",
       "25%         6.000000        -73.992111        40.734860         -73.991405   \n",
       "50%         8.500000        -73.981835        40.752607         -73.980164   \n",
       "75%        12.500000        -73.967138        40.767048         -73.963680   \n",
       "max       477.920000       3061.872988      2925.069102        3061.872988   \n",
       "\n",
       "       dropoff_latitude  passenger_count  \n",
       "count     999996.000000    999996.000000  \n",
       "mean          39.915016         1.686532  \n",
       "std            9.776248         1.316055  \n",
       "min        -2545.761383         0.000000  \n",
       "25%           40.733978         1.000000  \n",
       "50%           40.753120         1.000000  \n",
       "75%           40.768105         2.000000  \n",
       "max         3351.403027       129.000000  "
      ]
     },
     "execution_count": 88,
     "metadata": {},
     "output_type": "execute_result"
    }
   ],
   "source": [
    "training_set.describe()"
   ]
  },
  {
   "cell_type": "code",
   "execution_count": 89,
   "metadata": {},
   "outputs": [
    {
     "data": {
      "text/plain": [
       "count    999996.000000\n",
       "mean         11.341794\n",
       "std           9.797028\n",
       "min        -107.750000\n",
       "25%           6.000000\n",
       "50%           8.500000\n",
       "75%          12.500000\n",
       "max         477.920000\n",
       "Name: fare_amount, dtype: float64"
      ]
     },
     "execution_count": 89,
     "metadata": {},
     "output_type": "execute_result"
    }
   ],
   "source": [
    "training_set['fare_amount'].describe()"
   ]
  },
  {
   "cell_type": "markdown",
   "metadata": {},
   "source": [
    "### Training_set is having negative value fare so we will remove those rows"
   ]
  },
  {
   "cell_type": "code",
   "execution_count": 90,
   "metadata": {},
   "outputs": [
    {
     "data": {
      "text/plain": [
       "Counter({False: 999946, True: 50})"
      ]
     },
     "execution_count": 90,
     "metadata": {},
     "output_type": "execute_result"
    }
   ],
   "source": [
    "from collections import Counter\n",
    "Counter(training_set['fare_amount']<0)"
   ]
  },
  {
   "cell_type": "code",
   "execution_count": 91,
   "metadata": {},
   "outputs": [
    {
     "data": {
      "text/plain": [
       "(999946, 8)"
      ]
     },
     "execution_count": 91,
     "metadata": {},
     "output_type": "execute_result"
    }
   ],
   "source": [
    "training_set = training_set.drop(training_set[training_set['fare_amount']<0].index, axis=0)\n",
    "training_set.shape"
   ]
  },
  {
   "cell_type": "code",
   "execution_count": 92,
   "metadata": {},
   "outputs": [
    {
     "data": {
      "text/plain": [
       "count    999946.000000\n",
       "mean         11.342850\n",
       "std           9.795259\n",
       "min           0.000000\n",
       "25%           6.000000\n",
       "50%           8.500000\n",
       "75%          12.500000\n",
       "max         477.920000\n",
       "Name: fare_amount, dtype: float64"
      ]
     },
     "execution_count": 92,
     "metadata": {},
     "output_type": "execute_result"
    }
   ],
   "source": [
    "training_set['fare_amount'].describe()"
   ]
  },
  {
   "cell_type": "markdown",
   "metadata": {},
   "source": [
    "### Passenger count is greater than  7"
   ]
  },
  {
   "cell_type": "code",
   "execution_count": 93,
   "metadata": {},
   "outputs": [
    {
     "data": {
      "text/plain": [
       "count    999946.000000\n",
       "mean          1.686520\n",
       "std           1.316036\n",
       "min           0.000000\n",
       "25%           1.000000\n",
       "50%           1.000000\n",
       "75%           2.000000\n",
       "max         129.000000\n",
       "Name: passenger_count, dtype: float64"
      ]
     },
     "execution_count": 93,
     "metadata": {},
     "output_type": "execute_result"
    }
   ],
   "source": [
    "training_set['passenger_count'].describe()"
   ]
  },
  {
   "cell_type": "code",
   "execution_count": 94,
   "metadata": {},
   "outputs": [],
   "source": [
    "#len(training_set[training_set['passenger_count']>7])"
   ]
  },
  {
   "cell_type": "code",
   "execution_count": 95,
   "metadata": {},
   "outputs": [
    {
     "data": {
      "text/plain": [
       "Counter({False: 999945, True: 1})"
      ]
     },
     "execution_count": 95,
     "metadata": {},
     "output_type": "execute_result"
    }
   ],
   "source": [
    "#### Since we are restricting to yellow cabs or medallion taxi. So we are considering \n",
    "#### a maximum of 7 passengers can operate in a taxi at a time.\n",
    "Counter(training_set['passenger_count']>8)"
   ]
  },
  {
   "cell_type": "code",
   "execution_count": 96,
   "metadata": {},
   "outputs": [
    {
     "data": {
      "text/html": [
       "<div>\n",
       "<style scoped>\n",
       "    .dataframe tbody tr th:only-of-type {\n",
       "        vertical-align: middle;\n",
       "    }\n",
       "\n",
       "    .dataframe tbody tr th {\n",
       "        vertical-align: top;\n",
       "    }\n",
       "\n",
       "    .dataframe thead th {\n",
       "        text-align: right;\n",
       "    }\n",
       "</style>\n",
       "<table border=\"1\" class=\"dataframe\">\n",
       "  <thead>\n",
       "    <tr style=\"text-align: right;\">\n",
       "      <th></th>\n",
       "      <th>fare_amount</th>\n",
       "      <th>pickup_longitude</th>\n",
       "      <th>pickup_latitude</th>\n",
       "      <th>dropoff_longitude</th>\n",
       "      <th>dropoff_latitude</th>\n",
       "      <th>passenger_count</th>\n",
       "    </tr>\n",
       "  </thead>\n",
       "  <tbody>\n",
       "    <tr>\n",
       "      <th>count</th>\n",
       "      <td>999945.000000</td>\n",
       "      <td>999945.000000</td>\n",
       "      <td>999945.000000</td>\n",
       "      <td>999945.000000</td>\n",
       "      <td>999945.000000</td>\n",
       "      <td>999945.000000</td>\n",
       "    </tr>\n",
       "    <tr>\n",
       "      <th>mean</th>\n",
       "      <td>11.342852</td>\n",
       "      <td>-72.512688</td>\n",
       "      <td>39.907871</td>\n",
       "      <td>-72.505421</td>\n",
       "      <td>39.915218</td>\n",
       "      <td>1.686393</td>\n",
       "    </tr>\n",
       "    <tr>\n",
       "      <th>std</th>\n",
       "      <td>9.795263</td>\n",
       "      <td>12.849339</td>\n",
       "      <td>9.244949</td>\n",
       "      <td>12.953273</td>\n",
       "      <td>9.776007</td>\n",
       "      <td>1.309864</td>\n",
       "    </tr>\n",
       "    <tr>\n",
       "      <th>min</th>\n",
       "      <td>0.000000</td>\n",
       "      <td>-3313.387292</td>\n",
       "      <td>-3458.664702</td>\n",
       "      <td>-3426.600617</td>\n",
       "      <td>-2545.761383</td>\n",
       "      <td>0.000000</td>\n",
       "    </tr>\n",
       "    <tr>\n",
       "      <th>25%</th>\n",
       "      <td>6.000000</td>\n",
       "      <td>-73.992111</td>\n",
       "      <td>40.734860</td>\n",
       "      <td>-73.991405</td>\n",
       "      <td>40.733979</td>\n",
       "      <td>1.000000</td>\n",
       "    </tr>\n",
       "    <tr>\n",
       "      <th>50%</th>\n",
       "      <td>8.500000</td>\n",
       "      <td>-73.981836</td>\n",
       "      <td>40.752607</td>\n",
       "      <td>-73.980164</td>\n",
       "      <td>40.753120</td>\n",
       "      <td>1.000000</td>\n",
       "    </tr>\n",
       "    <tr>\n",
       "      <th>75%</th>\n",
       "      <td>12.500000</td>\n",
       "      <td>-73.967139</td>\n",
       "      <td>40.767048</td>\n",
       "      <td>-73.963682</td>\n",
       "      <td>40.768105</td>\n",
       "      <td>2.000000</td>\n",
       "    </tr>\n",
       "    <tr>\n",
       "      <th>max</th>\n",
       "      <td>477.920000</td>\n",
       "      <td>3061.872988</td>\n",
       "      <td>2925.069102</td>\n",
       "      <td>3061.872988</td>\n",
       "      <td>3351.403027</td>\n",
       "      <td>7.000000</td>\n",
       "    </tr>\n",
       "  </tbody>\n",
       "</table>\n",
       "</div>"
      ],
      "text/plain": [
       "         fare_amount  pickup_longitude  pickup_latitude  dropoff_longitude  \\\n",
       "count  999945.000000     999945.000000    999945.000000      999945.000000   \n",
       "mean       11.342852        -72.512688        39.907871         -72.505421   \n",
       "std         9.795263         12.849339         9.244949          12.953273   \n",
       "min         0.000000      -3313.387292     -3458.664702       -3426.600617   \n",
       "25%         6.000000        -73.992111        40.734860         -73.991405   \n",
       "50%         8.500000        -73.981836        40.752607         -73.980164   \n",
       "75%        12.500000        -73.967139        40.767048         -73.963682   \n",
       "max       477.920000       3061.872988      2925.069102        3061.872988   \n",
       "\n",
       "       dropoff_latitude  passenger_count  \n",
       "count     999945.000000    999945.000000  \n",
       "mean          39.915218         1.686393  \n",
       "std            9.776007         1.309864  \n",
       "min        -2545.761383         0.000000  \n",
       "25%           40.733979         1.000000  \n",
       "50%           40.753120         1.000000  \n",
       "75%           40.768105         2.000000  \n",
       "max         3351.403027         7.000000  "
      ]
     },
     "execution_count": 96,
     "metadata": {},
     "output_type": "execute_result"
    }
   ],
   "source": [
    "training_set = training_set.drop(training_set[training_set['passenger_count']>8].index, axis = 0)\n",
    "training_set.describe()"
   ]
  },
  {
   "cell_type": "markdown",
   "metadata": {},
   "source": [
    "### Removing invalid Longitude and Latitude "
   ]
  },
  {
   "cell_type": "code",
   "execution_count": 97,
   "metadata": {},
   "outputs": [
    {
     "data": {
      "text/html": [
       "<div>\n",
       "<style scoped>\n",
       "    .dataframe tbody tr th:only-of-type {\n",
       "        vertical-align: middle;\n",
       "    }\n",
       "\n",
       "    .dataframe tbody tr th {\n",
       "        vertical-align: top;\n",
       "    }\n",
       "\n",
       "    .dataframe thead th {\n",
       "        text-align: right;\n",
       "    }\n",
       "</style>\n",
       "<table border=\"1\" class=\"dataframe\">\n",
       "  <thead>\n",
       "    <tr style=\"text-align: right;\">\n",
       "      <th></th>\n",
       "      <th>pickup_longitude</th>\n",
       "      <th>pickup_latitude</th>\n",
       "    </tr>\n",
       "  </thead>\n",
       "  <tbody>\n",
       "    <tr>\n",
       "      <th>count</th>\n",
       "      <td>999945.000000</td>\n",
       "      <td>999945.000000</td>\n",
       "    </tr>\n",
       "    <tr>\n",
       "      <th>mean</th>\n",
       "      <td>-72.512688</td>\n",
       "      <td>39.907871</td>\n",
       "    </tr>\n",
       "    <tr>\n",
       "      <th>std</th>\n",
       "      <td>12.849339</td>\n",
       "      <td>9.244949</td>\n",
       "    </tr>\n",
       "    <tr>\n",
       "      <th>min</th>\n",
       "      <td>-3313.387292</td>\n",
       "      <td>-3458.664702</td>\n",
       "    </tr>\n",
       "    <tr>\n",
       "      <th>25%</th>\n",
       "      <td>-73.992111</td>\n",
       "      <td>40.734860</td>\n",
       "    </tr>\n",
       "    <tr>\n",
       "      <th>50%</th>\n",
       "      <td>-73.981836</td>\n",
       "      <td>40.752607</td>\n",
       "    </tr>\n",
       "    <tr>\n",
       "      <th>75%</th>\n",
       "      <td>-73.967139</td>\n",
       "      <td>40.767048</td>\n",
       "    </tr>\n",
       "    <tr>\n",
       "      <th>max</th>\n",
       "      <td>3061.872988</td>\n",
       "      <td>2925.069102</td>\n",
       "    </tr>\n",
       "  </tbody>\n",
       "</table>\n",
       "</div>"
      ],
      "text/plain": [
       "       pickup_longitude  pickup_latitude\n",
       "count     999945.000000    999945.000000\n",
       "mean         -72.512688        39.907871\n",
       "std           12.849339         9.244949\n",
       "min        -3313.387292     -3458.664702\n",
       "25%          -73.992111        40.734860\n",
       "50%          -73.981836        40.752607\n",
       "75%          -73.967139        40.767048\n",
       "max         3061.872988      2925.069102"
      ]
     },
     "execution_count": 97,
     "metadata": {},
     "output_type": "execute_result"
    }
   ],
   "source": [
    "training_set[['pickup_longitude','pickup_latitude']].describe()"
   ]
  },
  {
   "cell_type": "code",
   "execution_count": 98,
   "metadata": {},
   "outputs": [
    {
     "data": {
      "text/html": [
       "<div>\n",
       "<style scoped>\n",
       "    .dataframe tbody tr th:only-of-type {\n",
       "        vertical-align: middle;\n",
       "    }\n",
       "\n",
       "    .dataframe tbody tr th {\n",
       "        vertical-align: top;\n",
       "    }\n",
       "\n",
       "    .dataframe thead th {\n",
       "        text-align: right;\n",
       "    }\n",
       "</style>\n",
       "<table border=\"1\" class=\"dataframe\">\n",
       "  <thead>\n",
       "    <tr style=\"text-align: right;\">\n",
       "      <th></th>\n",
       "      <th>dropoff_longitude</th>\n",
       "      <th>dropoff_latitude</th>\n",
       "    </tr>\n",
       "  </thead>\n",
       "  <tbody>\n",
       "    <tr>\n",
       "      <th>count</th>\n",
       "      <td>999945.000000</td>\n",
       "      <td>999945.000000</td>\n",
       "    </tr>\n",
       "    <tr>\n",
       "      <th>mean</th>\n",
       "      <td>-72.505421</td>\n",
       "      <td>39.915218</td>\n",
       "    </tr>\n",
       "    <tr>\n",
       "      <th>std</th>\n",
       "      <td>12.953273</td>\n",
       "      <td>9.776007</td>\n",
       "    </tr>\n",
       "    <tr>\n",
       "      <th>min</th>\n",
       "      <td>-3426.600617</td>\n",
       "      <td>-2545.761383</td>\n",
       "    </tr>\n",
       "    <tr>\n",
       "      <th>25%</th>\n",
       "      <td>-73.991405</td>\n",
       "      <td>40.733979</td>\n",
       "    </tr>\n",
       "    <tr>\n",
       "      <th>50%</th>\n",
       "      <td>-73.980164</td>\n",
       "      <td>40.753120</td>\n",
       "    </tr>\n",
       "    <tr>\n",
       "      <th>75%</th>\n",
       "      <td>-73.963682</td>\n",
       "      <td>40.768105</td>\n",
       "    </tr>\n",
       "    <tr>\n",
       "      <th>max</th>\n",
       "      <td>3061.872988</td>\n",
       "      <td>3351.403027</td>\n",
       "    </tr>\n",
       "  </tbody>\n",
       "</table>\n",
       "</div>"
      ],
      "text/plain": [
       "       dropoff_longitude  dropoff_latitude\n",
       "count      999945.000000     999945.000000\n",
       "mean          -72.505421         39.915218\n",
       "std            12.953273          9.776007\n",
       "min         -3426.600617      -2545.761383\n",
       "25%           -73.991405         40.733979\n",
       "50%           -73.980164         40.753120\n",
       "75%           -73.963682         40.768105\n",
       "max          3061.872988       3351.403027"
      ]
     },
     "execution_count": 98,
     "metadata": {},
     "output_type": "execute_result"
    }
   ],
   "source": [
    "training_set[['dropoff_longitude','dropoff_latitude']].describe()"
   ]
  },
  {
   "cell_type": "markdown",
   "metadata": {},
   "source": [
    "#### Valid Longitude value = -180 to 180\n",
    "#### Valid Latitude value = -90 to 90\n",
    "#### Remove pickup cordinates and drop off cordinates which dont fall in this range "
   ]
  },
  {
   "cell_type": "markdown",
   "metadata": {},
   "source": [
    "##### Remove invalid pickup cordinates "
   ]
  },
  {
   "cell_type": "code",
   "execution_count": 99,
   "metadata": {},
   "outputs": [
    {
     "name": "stdout",
     "output_type": "stream",
     "text": [
      "Number of invalid pickup cordinates =  30\n"
     ]
    }
   ],
   "source": [
    "print(\"Number of invalid pickup cordinates = \",len((training_set[training_set['pickup_latitude']<-90])|(training_set[training_set['pickup_latitude']>90])|(training_set[training_set['pickup_longitude']<-180])|(training_set[training_set['pickup_longitude']>180])))"
   ]
  },
  {
   "cell_type": "code",
   "execution_count": 100,
   "metadata": {
    "scrolled": true
   },
   "outputs": [
    {
     "data": {
      "text/plain": [
       "(999915, 8)"
      ]
     },
     "execution_count": 100,
     "metadata": {},
     "output_type": "execute_result"
    }
   ],
   "source": [
    "training_set = training_set.drop(((training_set[training_set['pickup_latitude']<-90])|(training_set[training_set['pickup_latitude']>90])|(training_set[training_set['pickup_longitude']<-180])|(training_set[training_set['pickup_longitude']>180])).index, axis=0)\n",
    "training_set.shape"
   ]
  },
  {
   "cell_type": "markdown",
   "metadata": {},
   "source": [
    "##### Remove invalid drop off cordinates  "
   ]
  },
  {
   "cell_type": "code",
   "execution_count": 101,
   "metadata": {},
   "outputs": [
    {
     "name": "stdout",
     "output_type": "stream",
     "text": [
      "Number of invalid drop off cordinates =  21\n"
     ]
    }
   ],
   "source": [
    "print(\"Number of invalid drop off cordinates = \",len((training_set[training_set['dropoff_latitude']<-90])|(training_set[training_set['dropoff_latitude']>90])|(training_set[training_set['dropoff_longitude']<-180])|(training_set[training_set['dropoff_longitude']>180])))"
   ]
  },
  {
   "cell_type": "code",
   "execution_count": 102,
   "metadata": {},
   "outputs": [
    {
     "data": {
      "text/plain": [
       "(999894, 8)"
      ]
     },
     "execution_count": 102,
     "metadata": {},
     "output_type": "execute_result"
    }
   ],
   "source": [
    "training_set = training_set.drop(((training_set[training_set['dropoff_latitude']<-90])|(training_set[training_set['dropoff_latitude']>90])|(training_set[training_set['dropoff_longitude']<-180])|(training_set[training_set['dropoff_longitude']>180])).index, axis=0)\n",
    "training_set.shape"
   ]
  },
  {
   "cell_type": "markdown",
   "metadata": {},
   "source": [
    "## Distance between pick up location and drop off location\n",
    "#### The distance in a sphere can be calculated when latitudes and longitudes are given by Haversine formula\n",
    "#### haversine(θ) = sin²(θ/2)\n",
    "\n",
    "#### φ is latitude, λ is longitude, R is earth’s radius (mean radius = 6,371km) to include latitude and longitude coordinates (A and B in this case).\n",
    "\n",
    "#### a = sin²((φB - φA)/2) + cos φA . cos φB . sin²((λB - λA)/2)\n",
    "\n",
    "#### c = 2 * atan2( √a, √(1−a) )\n",
    "\n",
    "#### d = R ⋅ c\n",
    "\n",
    "#### d = Haversine distance"
   ]
  },
  {
   "cell_type": "code",
   "execution_count": 103,
   "metadata": {},
   "outputs": [],
   "source": [
    "def haversine_distance(data):\n",
    "    R = 6371        # Radius of earth in Kilo Meter\n",
    "    \n",
    "    pickup_data = data[['pickup_longitude','pickup_latitude']]\n",
    "    dropoff_data = data[['dropoff_longitude','dropoff_latitude']]\n",
    "    \n",
    "    phi1 = np.radians(pickup_data['pickup_latitude'])\n",
    "    phi2 = np.radians(dropoff_data['dropoff_latitude'])\n",
    "    \n",
    "    delta_phi = np.radians(dropoff_data['dropoff_latitude'] - pickup_data['pickup_latitude'])\n",
    "    delta_lambda = np.radians(dropoff_data['dropoff_longitude'] - pickup_data['pickup_longitude'])\n",
    "    \n",
    "    #a = sin²((φB - φA)/2) + cos φA . cos φB . sin²((λB - λA)/2)\n",
    "    a = np.sin((delta_phi)/2)**2 + np.cos(phi1)*np.cos(phi2)*np.sin(delta_lambda/2)**2\n",
    "    \n",
    "    #c = 2 * atan2( √a, √(1−a) )\n",
    "    c = 2 * np.arctan2(np.sqrt(a),np.sqrt(1-a))\n",
    "    d = R * c\n",
    "    \n",
    "    return d\n",
    "    "
   ]
  },
  {
   "cell_type": "code",
   "execution_count": 108,
   "metadata": {
    "scrolled": false
   },
   "outputs": [],
   "source": [
    "training_set_distance = pd.DataFrame(haversine_distance(training_set) , columns=['Distance'])\n",
    "training_set = pd.concat([training_set , training_set_distance] , axis = 1)"
   ]
  },
  {
   "cell_type": "code",
   "execution_count": 106,
   "metadata": {
    "scrolled": true
   },
   "outputs": [
    {
     "data": {
      "text/html": [
       "<div>\n",
       "<style scoped>\n",
       "    .dataframe tbody tr th:only-of-type {\n",
       "        vertical-align: middle;\n",
       "    }\n",
       "\n",
       "    .dataframe tbody tr th {\n",
       "        vertical-align: top;\n",
       "    }\n",
       "\n",
       "    .dataframe thead th {\n",
       "        text-align: right;\n",
       "    }\n",
       "</style>\n",
       "<table border=\"1\" class=\"dataframe\">\n",
       "  <thead>\n",
       "    <tr style=\"text-align: right;\">\n",
       "      <th></th>\n",
       "      <th>key</th>\n",
       "      <th>fare_amount</th>\n",
       "      <th>pickup_datetime</th>\n",
       "      <th>pickup_longitude</th>\n",
       "      <th>pickup_latitude</th>\n",
       "      <th>dropoff_longitude</th>\n",
       "      <th>dropoff_latitude</th>\n",
       "      <th>passenger_count</th>\n",
       "      <th>Distance</th>\n",
       "    </tr>\n",
       "  </thead>\n",
       "  <tbody>\n",
       "    <tr>\n",
       "      <th>5637465</th>\n",
       "      <td>2012-11-10 15:14:00.00000058</td>\n",
       "      <td>10.50</td>\n",
       "      <td>2012-11-10 15:14:00 UTC</td>\n",
       "      <td>-73.961972</td>\n",
       "      <td>40.770672</td>\n",
       "      <td>-73.961072</td>\n",
       "      <td>40.761670</td>\n",
       "      <td>1</td>\n",
       "      <td>1.003842</td>\n",
       "    </tr>\n",
       "    <tr>\n",
       "      <th>8152448</th>\n",
       "      <td>2014-11-02 19:02:00.000000160</td>\n",
       "      <td>30.83</td>\n",
       "      <td>2014-11-02 19:02:00 UTC</td>\n",
       "      <td>-73.873010</td>\n",
       "      <td>40.774160</td>\n",
       "      <td>-73.952800</td>\n",
       "      <td>40.773980</td>\n",
       "      <td>1</td>\n",
       "      <td>6.718897</td>\n",
       "    </tr>\n",
       "    <tr>\n",
       "      <th>5810380</th>\n",
       "      <td>2014-01-23 12:31:29.0000004</td>\n",
       "      <td>4.50</td>\n",
       "      <td>2014-01-23 12:31:29 UTC</td>\n",
       "      <td>-74.013073</td>\n",
       "      <td>40.716552</td>\n",
       "      <td>-74.008597</td>\n",
       "      <td>40.716010</td>\n",
       "      <td>1</td>\n",
       "      <td>0.382022</td>\n",
       "    </tr>\n",
       "    <tr>\n",
       "      <th>5585785</th>\n",
       "      <td>2014-03-14 00:03:00.000000116</td>\n",
       "      <td>28.83</td>\n",
       "      <td>2014-03-14 00:03:00 UTC</td>\n",
       "      <td>-73.873200</td>\n",
       "      <td>40.774155</td>\n",
       "      <td>-73.952982</td>\n",
       "      <td>40.768987</td>\n",
       "      <td>1</td>\n",
       "      <td>6.742977</td>\n",
       "    </tr>\n",
       "    <tr>\n",
       "      <th>4154405</th>\n",
       "      <td>2009-06-13 06:28:00.0000009</td>\n",
       "      <td>7.30</td>\n",
       "      <td>2009-06-13 06:28:00 UTC</td>\n",
       "      <td>-73.948008</td>\n",
       "      <td>40.778548</td>\n",
       "      <td>-73.968808</td>\n",
       "      <td>40.791138</td>\n",
       "      <td>1</td>\n",
       "      <td>2.242011</td>\n",
       "    </tr>\n",
       "  </tbody>\n",
       "</table>\n",
       "</div>"
      ],
      "text/plain": [
       "                                   key  fare_amount          pickup_datetime  \\\n",
       "5637465   2012-11-10 15:14:00.00000058        10.50  2012-11-10 15:14:00 UTC   \n",
       "8152448  2014-11-02 19:02:00.000000160        30.83  2014-11-02 19:02:00 UTC   \n",
       "5810380    2014-01-23 12:31:29.0000004         4.50  2014-01-23 12:31:29 UTC   \n",
       "5585785  2014-03-14 00:03:00.000000116        28.83  2014-03-14 00:03:00 UTC   \n",
       "4154405    2009-06-13 06:28:00.0000009         7.30  2009-06-13 06:28:00 UTC   \n",
       "\n",
       "         pickup_longitude  pickup_latitude  dropoff_longitude  \\\n",
       "5637465        -73.961972        40.770672         -73.961072   \n",
       "8152448        -73.873010        40.774160         -73.952800   \n",
       "5810380        -74.013073        40.716552         -74.008597   \n",
       "5585785        -73.873200        40.774155         -73.952982   \n",
       "4154405        -73.948008        40.778548         -73.968808   \n",
       "\n",
       "         dropoff_latitude  passenger_count  Distance  \n",
       "5637465         40.761670                1  1.003842  \n",
       "8152448         40.773980                1  6.718897  \n",
       "5810380         40.716010                1  0.382022  \n",
       "5585785         40.768987                1  6.742977  \n",
       "4154405         40.791138                1  2.242011  "
      ]
     },
     "execution_count": 106,
     "metadata": {},
     "output_type": "execute_result"
    }
   ],
   "source": [
    "training_set.head()"
   ]
  },
  {
   "cell_type": "code",
   "execution_count": 107,
   "metadata": {},
   "outputs": [
    {
     "data": {
      "text/html": [
       "<div>\n",
       "<style scoped>\n",
       "    .dataframe tbody tr th:only-of-type {\n",
       "        vertical-align: middle;\n",
       "    }\n",
       "\n",
       "    .dataframe tbody tr th {\n",
       "        vertical-align: top;\n",
       "    }\n",
       "\n",
       "    .dataframe thead th {\n",
       "        text-align: right;\n",
       "    }\n",
       "</style>\n",
       "<table border=\"1\" class=\"dataframe\">\n",
       "  <thead>\n",
       "    <tr style=\"text-align: right;\">\n",
       "      <th></th>\n",
       "      <th>fare_amount</th>\n",
       "      <th>pickup_longitude</th>\n",
       "      <th>pickup_latitude</th>\n",
       "      <th>dropoff_longitude</th>\n",
       "      <th>dropoff_latitude</th>\n",
       "      <th>passenger_count</th>\n",
       "      <th>Distance</th>\n",
       "    </tr>\n",
       "  </thead>\n",
       "  <tbody>\n",
       "    <tr>\n",
       "      <th>count</th>\n",
       "      <td>999894.000000</td>\n",
       "      <td>999894.000000</td>\n",
       "      <td>999894.000000</td>\n",
       "      <td>999894.000000</td>\n",
       "      <td>999894.000000</td>\n",
       "      <td>999894.000000</td>\n",
       "      <td>999894.000000</td>\n",
       "    </tr>\n",
       "    <tr>\n",
       "      <th>mean</th>\n",
       "      <td>11.342862</td>\n",
       "      <td>-72.498237</td>\n",
       "      <td>39.915428</td>\n",
       "      <td>-72.494991</td>\n",
       "      <td>39.914504</td>\n",
       "      <td>1.686376</td>\n",
       "      <td>19.585111</td>\n",
       "    </tr>\n",
       "    <tr>\n",
       "      <th>std</th>\n",
       "      <td>9.795322</td>\n",
       "      <td>10.460383</td>\n",
       "      <td>6.133137</td>\n",
       "      <td>10.469362</td>\n",
       "      <td>6.136496</td>\n",
       "      <td>1.309844</td>\n",
       "      <td>368.481933</td>\n",
       "    </tr>\n",
       "    <tr>\n",
       "      <th>min</th>\n",
       "      <td>0.000000</td>\n",
       "      <td>-121.914810</td>\n",
       "      <td>-74.016942</td>\n",
       "      <td>-173.342034</td>\n",
       "      <td>-74.031022</td>\n",
       "      <td>0.000000</td>\n",
       "      <td>0.000000</td>\n",
       "    </tr>\n",
       "    <tr>\n",
       "      <th>25%</th>\n",
       "      <td>6.000000</td>\n",
       "      <td>-73.992111</td>\n",
       "      <td>40.734861</td>\n",
       "      <td>-73.991405</td>\n",
       "      <td>40.733980</td>\n",
       "      <td>1.000000</td>\n",
       "      <td>1.214607</td>\n",
       "    </tr>\n",
       "    <tr>\n",
       "      <th>50%</th>\n",
       "      <td>8.500000</td>\n",
       "      <td>-73.981835</td>\n",
       "      <td>40.752607</td>\n",
       "      <td>-73.980164</td>\n",
       "      <td>40.753120</td>\n",
       "      <td>1.000000</td>\n",
       "      <td>2.114807</td>\n",
       "    </tr>\n",
       "    <tr>\n",
       "      <th>75%</th>\n",
       "      <td>12.500000</td>\n",
       "      <td>-73.967139</td>\n",
       "      <td>40.767048</td>\n",
       "      <td>-73.963681</td>\n",
       "      <td>40.768105</td>\n",
       "      <td>2.000000</td>\n",
       "      <td>3.875985</td>\n",
       "    </tr>\n",
       "    <tr>\n",
       "      <th>max</th>\n",
       "      <td>477.920000</td>\n",
       "      <td>40.850357</td>\n",
       "      <td>81.545448</td>\n",
       "      <td>45.581619</td>\n",
       "      <td>81.545448</td>\n",
       "      <td>7.000000</td>\n",
       "      <td>12594.704725</td>\n",
       "    </tr>\n",
       "  </tbody>\n",
       "</table>\n",
       "</div>"
      ],
      "text/plain": [
       "         fare_amount  pickup_longitude  pickup_latitude  dropoff_longitude  \\\n",
       "count  999894.000000     999894.000000    999894.000000      999894.000000   \n",
       "mean       11.342862        -72.498237        39.915428         -72.494991   \n",
       "std         9.795322         10.460383         6.133137          10.469362   \n",
       "min         0.000000       -121.914810       -74.016942        -173.342034   \n",
       "25%         6.000000        -73.992111        40.734861         -73.991405   \n",
       "50%         8.500000        -73.981835        40.752607         -73.980164   \n",
       "75%        12.500000        -73.967139        40.767048         -73.963681   \n",
       "max       477.920000         40.850357        81.545448          45.581619   \n",
       "\n",
       "       dropoff_latitude  passenger_count       Distance  \n",
       "count     999894.000000    999894.000000  999894.000000  \n",
       "mean          39.914504         1.686376      19.585111  \n",
       "std            6.136496         1.309844     368.481933  \n",
       "min          -74.031022         0.000000       0.000000  \n",
       "25%           40.733980         1.000000       1.214607  \n",
       "50%           40.753120         1.000000       2.114807  \n",
       "75%           40.768105         2.000000       3.875985  \n",
       "max           81.545448         7.000000   12594.704725  "
      ]
     },
     "execution_count": 107,
     "metadata": {},
     "output_type": "execute_result"
    }
   ],
   "source": [
    "training_set.describe()"
   ]
  },
  {
   "cell_type": "code",
   "execution_count": null,
   "metadata": {},
   "outputs": [],
   "source": []
  }
 ],
 "metadata": {
  "kernelspec": {
   "display_name": "Python 3",
   "language": "python",
   "name": "python3"
  },
  "language_info": {
   "codemirror_mode": {
    "name": "ipython",
    "version": 3
   },
   "file_extension": ".py",
   "mimetype": "text/x-python",
   "name": "python",
   "nbconvert_exporter": "python",
   "pygments_lexer": "ipython3",
   "version": "3.7.1"
  }
 },
 "nbformat": 4,
 "nbformat_minor": 2
}
