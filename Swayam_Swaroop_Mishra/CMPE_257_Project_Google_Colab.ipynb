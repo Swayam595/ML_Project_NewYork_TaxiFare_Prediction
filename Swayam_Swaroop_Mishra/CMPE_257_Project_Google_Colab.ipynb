{
  "nbformat": 4,
  "nbformat_minor": 0,
  "metadata": {
    "colab": {
      "name": "CMPE_257_Project.ipynb",
      "version": "0.3.2",
      "provenance": [],
      "collapsed_sections": []
    },
    "language_info": {
      "codemirror_mode": {
        "name": "ipython",
        "version": 3
      },
      "file_extension": ".py",
      "mimetype": "text/x-python",
      "name": "python",
      "nbconvert_exporter": "python",
      "pygments_lexer": "ipython3",
      "version": "3.7.1"
    },
    "kernelspec": {
      "name": "python3",
      "display_name": "Python 3"
    },
    "accelerator": "GPU"
  },
  "cells": [
    {
      "metadata": {
        "id": "lnvsn5PGXSuy",
        "colab_type": "code",
        "colab": {}
      },
      "cell_type": "code",
      "source": [
        "!pip install -U -q PyDrive\n",
        "from pydrive.auth import GoogleAuth\n",
        "from pydrive.drive import GoogleDrive\n",
        "from google.colab import auth\n",
        "from oauth2client.client import GoogleCredentials\n",
        "# Authenticate and create the PyDrive client.\n",
        "auth.authenticate_user()\n",
        "gauth = GoogleAuth()\n",
        "gauth.credentials = GoogleCredentials.get_application_default()\n",
        "drive = GoogleDrive(gauth)"
      ],
      "execution_count": 0,
      "outputs": []
    },
    {
      "metadata": {
        "scrolled": false,
        "id": "72Spe1k8WbG9",
        "colab_type": "code",
        "colab": {}
      },
      "cell_type": "code",
      "source": [
        "import numpy as np\n",
        "import pandas as pd\n",
        "import matplotlib.pyplot as plt\n",
        "from sklearn.svm import SVR\n",
        "import seaborn as sns\n",
        "\n",
        "sns.set()\n",
        "\n",
        "#data = pd.read_csv('D:\\\\Projects\\Data\\\\train.csv',nrows = 10000000)       # Contains the first 10 million data from \n",
        "                                                    # where we are going to select 1 million ramdom data for training and\n",
        "                                                    # ten thousand data for deveopment \n"
      ],
      "execution_count": 0,
      "outputs": []
    },
    {
      "metadata": {
        "id": "4MF6RNzzWbHM",
        "colab_type": "code",
        "colab": {}
      },
      "cell_type": "code",
      "source": [
        "link = 'https://drive.google.com/open?id=1cMhdQPbXvaMpOuwtxFFQTifAWXe_ce6y'\n",
        "fluff, id = link.split('=')\n",
        "\n",
        "downloaded = drive.CreateFile({'id':id}) \n",
        "downloaded.GetContentFile('Filename.csv')  \n",
        "#df3 = pd.read_csv()\n",
        "\n",
        "# Creation of training set , development set and test set \n",
        "#training_set = data.sample(n = 1000000 , replace = False)    # 1 million random data from same distribution\n",
        "#dev_set = data.sample(n = 10000 , replace = False)           # 10000 random data from same distribution\n",
        "\n",
        "training_set = pd.read_csv('Filename.csv')\n",
        "#dev_set = pd.read_csv('D:\\\\Projects\\\\Data\\\\dev_set.csv')\n",
        "#test_set =  pd.read_csv('D:\\\\Projects\\\\Data\\\\test.csv')      # Actual test data must be used to check only after getting \n",
        "                                                             # a good final hypothesis"
      ],
      "execution_count": 0,
      "outputs": []
    },
    {
      "metadata": {
        "id": "eq4adXG2WbHS",
        "colab_type": "text"
      },
      "cell_type": "markdown",
      "source": [
        "# Shape, data type, data sample and descriptive statistics of Training Set"
      ]
    },
    {
      "metadata": {
        "id": "TlKA_AAOWbHT",
        "colab_type": "text"
      },
      "cell_type": "markdown",
      "source": [
        "### Shape"
      ]
    },
    {
      "metadata": {
        "id": "u5O1H6QDWbHV",
        "colab_type": "code",
        "colab": {
          "base_uri": "https://localhost:8080/",
          "height": 34
        },
        "outputId": "9231ffef-976d-4064-c5cb-dba18e2d0cce"
      },
      "cell_type": "code",
      "source": [
        "training_set.shape"
      ],
      "execution_count": 80,
      "outputs": [
        {
          "output_type": "execute_result",
          "data": {
            "text/plain": [
              "(1000000, 9)"
            ]
          },
          "metadata": {
            "tags": []
          },
          "execution_count": 80
        }
      ]
    },
    {
      "metadata": {
        "id": "OzZ-DOxZWbHg",
        "colab_type": "text"
      },
      "cell_type": "markdown",
      "source": [
        "### Data Type"
      ]
    },
    {
      "metadata": {
        "id": "idYai3hPWbHo",
        "colab_type": "code",
        "colab": {
          "base_uri": "https://localhost:8080/",
          "height": 187
        },
        "outputId": "9ff2bb2d-19a7-40d3-ccb8-a0748375b1cb"
      },
      "cell_type": "code",
      "source": [
        "training_set.dtypes"
      ],
      "execution_count": 81,
      "outputs": [
        {
          "output_type": "execute_result",
          "data": {
            "text/plain": [
              "Unnamed: 0             int64\n",
              "key                   object\n",
              "fare_amount          float64\n",
              "pickup_datetime       object\n",
              "pickup_longitude     float64\n",
              "pickup_latitude      float64\n",
              "dropoff_longitude    float64\n",
              "dropoff_latitude     float64\n",
              "passenger_count        int64\n",
              "dtype: object"
            ]
          },
          "metadata": {
            "tags": []
          },
          "execution_count": 81
        }
      ]
    },
    {
      "metadata": {
        "id": "xnNf-ex4WbHw",
        "colab_type": "text"
      },
      "cell_type": "markdown",
      "source": [
        "### Data Sample"
      ]
    },
    {
      "metadata": {
        "id": "sftgAILLWbHy",
        "colab_type": "code",
        "colab": {
          "base_uri": "https://localhost:8080/",
          "height": 306
        },
        "outputId": "4f38f9e0-031c-4451-acfa-cb198eafc7fe"
      },
      "cell_type": "code",
      "source": [
        "training_set.head()"
      ],
      "execution_count": 82,
      "outputs": [
        {
          "output_type": "execute_result",
          "data": {
            "text/html": [
              "<div>\n",
              "<style scoped>\n",
              "    .dataframe tbody tr th:only-of-type {\n",
              "        vertical-align: middle;\n",
              "    }\n",
              "\n",
              "    .dataframe tbody tr th {\n",
              "        vertical-align: top;\n",
              "    }\n",
              "\n",
              "    .dataframe thead th {\n",
              "        text-align: right;\n",
              "    }\n",
              "</style>\n",
              "<table border=\"1\" class=\"dataframe\">\n",
              "  <thead>\n",
              "    <tr style=\"text-align: right;\">\n",
              "      <th></th>\n",
              "      <th>Unnamed: 0</th>\n",
              "      <th>key</th>\n",
              "      <th>fare_amount</th>\n",
              "      <th>pickup_datetime</th>\n",
              "      <th>pickup_longitude</th>\n",
              "      <th>pickup_latitude</th>\n",
              "      <th>dropoff_longitude</th>\n",
              "      <th>dropoff_latitude</th>\n",
              "      <th>passenger_count</th>\n",
              "    </tr>\n",
              "  </thead>\n",
              "  <tbody>\n",
              "    <tr>\n",
              "      <th>0</th>\n",
              "      <td>6846288</td>\n",
              "      <td>2014-08-14 01:36:34.0000001</td>\n",
              "      <td>6.5</td>\n",
              "      <td>2014-08-14 01:36:34 UTC</td>\n",
              "      <td>-73.975764</td>\n",
              "      <td>40.753898</td>\n",
              "      <td>-73.961381</td>\n",
              "      <td>40.769729</td>\n",
              "      <td>1</td>\n",
              "    </tr>\n",
              "    <tr>\n",
              "      <th>1</th>\n",
              "      <td>6026469</td>\n",
              "      <td>2015-02-24 09:56:15.0000005</td>\n",
              "      <td>6.0</td>\n",
              "      <td>2015-02-24 09:56:15 UTC</td>\n",
              "      <td>-73.974663</td>\n",
              "      <td>40.756310</td>\n",
              "      <td>-73.980339</td>\n",
              "      <td>40.760742</td>\n",
              "      <td>1</td>\n",
              "    </tr>\n",
              "    <tr>\n",
              "      <th>2</th>\n",
              "      <td>6472844</td>\n",
              "      <td>2014-01-14 20:12:06.0000001</td>\n",
              "      <td>5.5</td>\n",
              "      <td>2014-01-14 20:12:06 UTC</td>\n",
              "      <td>-73.970602</td>\n",
              "      <td>40.785972</td>\n",
              "      <td>-73.955813</td>\n",
              "      <td>40.783007</td>\n",
              "      <td>1</td>\n",
              "    </tr>\n",
              "    <tr>\n",
              "      <th>3</th>\n",
              "      <td>7672835</td>\n",
              "      <td>2012-04-06 07:02:34.0000001</td>\n",
              "      <td>8.1</td>\n",
              "      <td>2012-04-06 07:02:34 UTC</td>\n",
              "      <td>-74.007823</td>\n",
              "      <td>40.732122</td>\n",
              "      <td>-73.983278</td>\n",
              "      <td>40.761789</td>\n",
              "      <td>1</td>\n",
              "    </tr>\n",
              "    <tr>\n",
              "      <th>4</th>\n",
              "      <td>5340043</td>\n",
              "      <td>2009-03-29 20:33:54.0000002</td>\n",
              "      <td>7.4</td>\n",
              "      <td>2009-03-29 20:33:54 UTC</td>\n",
              "      <td>-73.996974</td>\n",
              "      <td>40.737093</td>\n",
              "      <td>-73.977298</td>\n",
              "      <td>40.729153</td>\n",
              "      <td>1</td>\n",
              "    </tr>\n",
              "  </tbody>\n",
              "</table>\n",
              "</div>"
            ],
            "text/plain": [
              "   Unnamed: 0                          key  fare_amount  \\\n",
              "0     6846288  2014-08-14 01:36:34.0000001          6.5   \n",
              "1     6026469  2015-02-24 09:56:15.0000005          6.0   \n",
              "2     6472844  2014-01-14 20:12:06.0000001          5.5   \n",
              "3     7672835  2012-04-06 07:02:34.0000001          8.1   \n",
              "4     5340043  2009-03-29 20:33:54.0000002          7.4   \n",
              "\n",
              "           pickup_datetime  pickup_longitude  pickup_latitude  \\\n",
              "0  2014-08-14 01:36:34 UTC        -73.975764        40.753898   \n",
              "1  2015-02-24 09:56:15 UTC        -73.974663        40.756310   \n",
              "2  2014-01-14 20:12:06 UTC        -73.970602        40.785972   \n",
              "3  2012-04-06 07:02:34 UTC        -74.007823        40.732122   \n",
              "4  2009-03-29 20:33:54 UTC        -73.996974        40.737093   \n",
              "\n",
              "   dropoff_longitude  dropoff_latitude  passenger_count  \n",
              "0         -73.961381         40.769729                1  \n",
              "1         -73.980339         40.760742                1  \n",
              "2         -73.955813         40.783007                1  \n",
              "3         -73.983278         40.761789                1  \n",
              "4         -73.977298         40.729153                1  "
            ]
          },
          "metadata": {
            "tags": []
          },
          "execution_count": 82
        }
      ]
    },
    {
      "metadata": {
        "id": "lnJCMNTaWbH6",
        "colab_type": "text"
      },
      "cell_type": "markdown",
      "source": [
        "### Descriptive statistics "
      ]
    },
    {
      "metadata": {
        "id": "l2-X6g2qWbH7",
        "colab_type": "code",
        "colab": {
          "base_uri": "https://localhost:8080/",
          "height": 297
        },
        "outputId": "9ecd5939-1397-4d92-b9e1-76aad09aad56"
      },
      "cell_type": "code",
      "source": [
        "training_set.describe()"
      ],
      "execution_count": 83,
      "outputs": [
        {
          "output_type": "execute_result",
          "data": {
            "text/html": [
              "<div>\n",
              "<style scoped>\n",
              "    .dataframe tbody tr th:only-of-type {\n",
              "        vertical-align: middle;\n",
              "    }\n",
              "\n",
              "    .dataframe tbody tr th {\n",
              "        vertical-align: top;\n",
              "    }\n",
              "\n",
              "    .dataframe thead th {\n",
              "        text-align: right;\n",
              "    }\n",
              "</style>\n",
              "<table border=\"1\" class=\"dataframe\">\n",
              "  <thead>\n",
              "    <tr style=\"text-align: right;\">\n",
              "      <th></th>\n",
              "      <th>Unnamed: 0</th>\n",
              "      <th>fare_amount</th>\n",
              "      <th>pickup_longitude</th>\n",
              "      <th>pickup_latitude</th>\n",
              "      <th>dropoff_longitude</th>\n",
              "      <th>dropoff_latitude</th>\n",
              "      <th>passenger_count</th>\n",
              "    </tr>\n",
              "  </thead>\n",
              "  <tbody>\n",
              "    <tr>\n",
              "      <th>count</th>\n",
              "      <td>1.000000e+06</td>\n",
              "      <td>1000000.000000</td>\n",
              "      <td>1000000.000000</td>\n",
              "      <td>1000000.000000</td>\n",
              "      <td>999992.000000</td>\n",
              "      <td>999992.000000</td>\n",
              "      <td>1000000.000000</td>\n",
              "    </tr>\n",
              "    <tr>\n",
              "      <th>mean</th>\n",
              "      <td>4.998324e+06</td>\n",
              "      <td>11.361415</td>\n",
              "      <td>-72.495018</td>\n",
              "      <td>39.922878</td>\n",
              "      <td>-72.504531</td>\n",
              "      <td>39.911158</td>\n",
              "      <td>1.685234</td>\n",
              "    </tr>\n",
              "    <tr>\n",
              "      <th>std</th>\n",
              "      <td>2.885680e+06</td>\n",
              "      <td>9.893425</td>\n",
              "      <td>12.260718</td>\n",
              "      <td>9.391801</td>\n",
              "      <td>12.781010</td>\n",
              "      <td>9.858497</td>\n",
              "      <td>1.346792</td>\n",
              "    </tr>\n",
              "    <tr>\n",
              "      <th>min</th>\n",
              "      <td>5.000000e+00</td>\n",
              "      <td>-107.750000</td>\n",
              "      <td>-2404.643242</td>\n",
              "      <td>-2875.860745</td>\n",
              "      <td>-3004.395947</td>\n",
              "      <td>-3271.296725</td>\n",
              "      <td>0.000000</td>\n",
              "    </tr>\n",
              "    <tr>\n",
              "      <th>25%</th>\n",
              "      <td>2.500745e+06</td>\n",
              "      <td>6.000000</td>\n",
              "      <td>-73.992062</td>\n",
              "      <td>40.734936</td>\n",
              "      <td>-73.991390</td>\n",
              "      <td>40.734032</td>\n",
              "      <td>1.000000</td>\n",
              "    </tr>\n",
              "    <tr>\n",
              "      <th>50%</th>\n",
              "      <td>4.997443e+06</td>\n",
              "      <td>8.500000</td>\n",
              "      <td>-73.981785</td>\n",
              "      <td>40.752627</td>\n",
              "      <td>-73.980137</td>\n",
              "      <td>40.753186</td>\n",
              "      <td>1.000000</td>\n",
              "    </tr>\n",
              "    <tr>\n",
              "      <th>75%</th>\n",
              "      <td>7.498032e+06</td>\n",
              "      <td>12.500000</td>\n",
              "      <td>-73.967091</td>\n",
              "      <td>40.767121</td>\n",
              "      <td>-73.963633</td>\n",
              "      <td>40.768122</td>\n",
              "      <td>2.000000</td>\n",
              "    </tr>\n",
              "    <tr>\n",
              "      <th>max</th>\n",
              "      <td>9.999971e+06</td>\n",
              "      <td>952.000000</td>\n",
              "      <td>2417.411523</td>\n",
              "      <td>2977.030610</td>\n",
              "      <td>2889.997293</td>\n",
              "      <td>3305.291182</td>\n",
              "      <td>208.000000</td>\n",
              "    </tr>\n",
              "  </tbody>\n",
              "</table>\n",
              "</div>"
            ],
            "text/plain": [
              "         Unnamed: 0     fare_amount  pickup_longitude  pickup_latitude  \\\n",
              "count  1.000000e+06  1000000.000000    1000000.000000   1000000.000000   \n",
              "mean   4.998324e+06       11.361415        -72.495018        39.922878   \n",
              "std    2.885680e+06        9.893425         12.260718         9.391801   \n",
              "min    5.000000e+00     -107.750000      -2404.643242     -2875.860745   \n",
              "25%    2.500745e+06        6.000000        -73.992062        40.734936   \n",
              "50%    4.997443e+06        8.500000        -73.981785        40.752627   \n",
              "75%    7.498032e+06       12.500000        -73.967091        40.767121   \n",
              "max    9.999971e+06      952.000000       2417.411523      2977.030610   \n",
              "\n",
              "       dropoff_longitude  dropoff_latitude  passenger_count  \n",
              "count      999992.000000     999992.000000   1000000.000000  \n",
              "mean          -72.504531         39.911158         1.685234  \n",
              "std            12.781010          9.858497         1.346792  \n",
              "min         -3004.395947      -3271.296725         0.000000  \n",
              "25%           -73.991390         40.734032         1.000000  \n",
              "50%           -73.980137         40.753186         1.000000  \n",
              "75%           -73.963633         40.768122         2.000000  \n",
              "max          2889.997293       3305.291182       208.000000  "
            ]
          },
          "metadata": {
            "tags": []
          },
          "execution_count": 83
        }
      ]
    },
    {
      "metadata": {
        "id": "sq6PMU26WbIE",
        "colab_type": "text"
      },
      "cell_type": "markdown",
      "source": [
        "# Shape, data type, data sample and descriptive statistics of Development Set"
      ]
    },
    {
      "metadata": {
        "id": "oOoBL3pZWbIF",
        "colab_type": "text"
      },
      "cell_type": "markdown",
      "source": [
        "### Shape"
      ]
    },
    {
      "metadata": {
        "id": "x-lxtJxxWbIH",
        "colab_type": "code",
        "colab": {}
      },
      "cell_type": "code",
      "source": [
        "#dev_set.shape"
      ],
      "execution_count": 0,
      "outputs": []
    },
    {
      "metadata": {
        "id": "e0PmT5KeWbIQ",
        "colab_type": "text"
      },
      "cell_type": "markdown",
      "source": [
        "### Data Type"
      ]
    },
    {
      "metadata": {
        "id": "bw5Pub5pWbIS",
        "colab_type": "code",
        "colab": {}
      },
      "cell_type": "code",
      "source": [
        "#dev_set.dtypes"
      ],
      "execution_count": 0,
      "outputs": []
    },
    {
      "metadata": {
        "id": "1HrOgmj7WbIY",
        "colab_type": "text"
      },
      "cell_type": "markdown",
      "source": [
        "### Data Sample"
      ]
    },
    {
      "metadata": {
        "id": "pl7j5Qv_WbIa",
        "colab_type": "code",
        "colab": {}
      },
      "cell_type": "code",
      "source": [
        "#dev_set.head()"
      ],
      "execution_count": 0,
      "outputs": []
    },
    {
      "metadata": {
        "id": "SFs5BiEtWbIi",
        "colab_type": "text"
      },
      "cell_type": "markdown",
      "source": [
        "### Descriptive statistics "
      ]
    },
    {
      "metadata": {
        "id": "xD6Gwx4aWbIj",
        "colab_type": "code",
        "colab": {}
      },
      "cell_type": "code",
      "source": [
        "#dev_set.describe()"
      ],
      "execution_count": 0,
      "outputs": []
    },
    {
      "metadata": {
        "id": "WYO_b_auWbIq",
        "colab_type": "text"
      },
      "cell_type": "markdown",
      "source": [
        "# Shape, data type, data sample and descriptive statistics of Test Set\n",
        "\n"
      ]
    },
    {
      "metadata": {
        "id": "LVFxNWrmWbIr",
        "colab_type": "text"
      },
      "cell_type": "markdown",
      "source": [
        "### Shape"
      ]
    },
    {
      "metadata": {
        "id": "5bP_iq4YWbIt",
        "colab_type": "code",
        "colab": {}
      },
      "cell_type": "code",
      "source": [
        "#test_set.shape"
      ],
      "execution_count": 0,
      "outputs": []
    },
    {
      "metadata": {
        "id": "lh5ni-5fWbI3",
        "colab_type": "text"
      },
      "cell_type": "markdown",
      "source": [
        "### Data Type"
      ]
    },
    {
      "metadata": {
        "id": "UcTQ4OxQWbI6",
        "colab_type": "code",
        "colab": {}
      },
      "cell_type": "code",
      "source": [
        "#test_set.dtypes"
      ],
      "execution_count": 0,
      "outputs": []
    },
    {
      "metadata": {
        "id": "JrwpG1aYWbJD",
        "colab_type": "text"
      },
      "cell_type": "markdown",
      "source": [
        "### Data Sample"
      ]
    },
    {
      "metadata": {
        "id": "GQJ-W3gqWbJO",
        "colab_type": "code",
        "colab": {}
      },
      "cell_type": "code",
      "source": [
        "#test_set.head()"
      ],
      "execution_count": 0,
      "outputs": []
    },
    {
      "metadata": {
        "id": "70K_xoIeWbJb",
        "colab_type": "text"
      },
      "cell_type": "markdown",
      "source": [
        "### Descriptive statistics "
      ]
    },
    {
      "metadata": {
        "id": "DCNv19-LWbJg",
        "colab_type": "code",
        "colab": {}
      },
      "cell_type": "code",
      "source": [
        "#test_set.describe()"
      ],
      "execution_count": 0,
      "outputs": []
    },
    {
      "metadata": {
        "id": "u5IaYJfrWbJr",
        "colab_type": "text"
      },
      "cell_type": "markdown",
      "source": [
        "# Data Cleansing"
      ]
    },
    {
      "metadata": {
        "id": "IWCbOpgbWbJs",
        "colab_type": "text"
      },
      "cell_type": "markdown",
      "source": [
        "## Removing Null values from the datasets"
      ]
    },
    {
      "metadata": {
        "id": "NQciKIMKWbJu",
        "colab_type": "code",
        "colab": {
          "base_uri": "https://localhost:8080/",
          "height": 187
        },
        "outputId": "816701e8-552a-4698-d504-f597f354e2f6"
      },
      "cell_type": "code",
      "source": [
        "training_set.isnull().sum().sort_values(ascending = False)"
      ],
      "execution_count": 92,
      "outputs": [
        {
          "output_type": "execute_result",
          "data": {
            "text/plain": [
              "dropoff_latitude     8\n",
              "dropoff_longitude    8\n",
              "passenger_count      0\n",
              "pickup_latitude      0\n",
              "pickup_longitude     0\n",
              "pickup_datetime      0\n",
              "fare_amount          0\n",
              "key                  0\n",
              "Unnamed: 0           0\n",
              "dtype: int64"
            ]
          },
          "metadata": {
            "tags": []
          },
          "execution_count": 92
        }
      ]
    },
    {
      "metadata": {
        "id": "L9GSP4S4WbJ0",
        "colab_type": "code",
        "colab": {}
      },
      "cell_type": "code",
      "source": [
        "#dev_set.isnull().sum().sort_values(ascending = False)"
      ],
      "execution_count": 0,
      "outputs": []
    },
    {
      "metadata": {
        "id": "o-EK06SeWbJ6",
        "colab_type": "code",
        "colab": {}
      },
      "cell_type": "code",
      "source": [
        "#test_set.isnull().sum().sort_values(ascending = False)"
      ],
      "execution_count": 0,
      "outputs": []
    },
    {
      "metadata": {
        "id": "MLcaz35gWbKC",
        "colab_type": "code",
        "colab": {
          "base_uri": "https://localhost:8080/",
          "height": 34
        },
        "outputId": "cf5af4d5-668b-4161-a73f-7d936188a1ac"
      },
      "cell_type": "code",
      "source": [
        "training_set = training_set.drop(training_set[training_set.isnull().any(1)].index , axis = 0)\n",
        "training_set.shape"
      ],
      "execution_count": 95,
      "outputs": [
        {
          "output_type": "execute_result",
          "data": {
            "text/plain": [
              "(999992, 9)"
            ]
          },
          "metadata": {
            "tags": []
          },
          "execution_count": 95
        }
      ]
    },
    {
      "metadata": {
        "id": "5CnZekmOWbKJ",
        "colab_type": "code",
        "colab": {}
      },
      "cell_type": "code",
      "source": [
        "#dev_set = dev_set.drop(dev_set[dev_set.isnull().any(1)].index , axis = 0)\n",
        "#dev_set.shape"
      ],
      "execution_count": 0,
      "outputs": []
    },
    {
      "metadata": {
        "id": "t4QImQEGWbKO",
        "colab_type": "code",
        "colab": {}
      },
      "cell_type": "code",
      "source": [
        "#test_set = test_set.drop(test_set[test_set.isnull().any(1)].index , axis = 0)\n",
        "#test_set.shape"
      ],
      "execution_count": 0,
      "outputs": []
    },
    {
      "metadata": {
        "id": "8um7tmyoWbKW",
        "colab_type": "text"
      },
      "cell_type": "markdown",
      "source": [
        "## Removing rows from the dataset having invalid data "
      ]
    },
    {
      "metadata": {
        "id": "_lHOF7CuWbKX",
        "colab_type": "code",
        "colab": {
          "base_uri": "https://localhost:8080/",
          "height": 297
        },
        "outputId": "25abac32-c946-46a7-93f4-6d0889bc7fb7"
      },
      "cell_type": "code",
      "source": [
        "training_set.describe()"
      ],
      "execution_count": 98,
      "outputs": [
        {
          "output_type": "execute_result",
          "data": {
            "text/html": [
              "<div>\n",
              "<style scoped>\n",
              "    .dataframe tbody tr th:only-of-type {\n",
              "        vertical-align: middle;\n",
              "    }\n",
              "\n",
              "    .dataframe tbody tr th {\n",
              "        vertical-align: top;\n",
              "    }\n",
              "\n",
              "    .dataframe thead th {\n",
              "        text-align: right;\n",
              "    }\n",
              "</style>\n",
              "<table border=\"1\" class=\"dataframe\">\n",
              "  <thead>\n",
              "    <tr style=\"text-align: right;\">\n",
              "      <th></th>\n",
              "      <th>Unnamed: 0</th>\n",
              "      <th>fare_amount</th>\n",
              "      <th>pickup_longitude</th>\n",
              "      <th>pickup_latitude</th>\n",
              "      <th>dropoff_longitude</th>\n",
              "      <th>dropoff_latitude</th>\n",
              "      <th>passenger_count</th>\n",
              "    </tr>\n",
              "  </thead>\n",
              "  <tbody>\n",
              "    <tr>\n",
              "      <th>count</th>\n",
              "      <td>9.999920e+05</td>\n",
              "      <td>999992.000000</td>\n",
              "      <td>999992.000000</td>\n",
              "      <td>999992.000000</td>\n",
              "      <td>999992.000000</td>\n",
              "      <td>999992.000000</td>\n",
              "      <td>999992.000000</td>\n",
              "    </tr>\n",
              "    <tr>\n",
              "      <th>mean</th>\n",
              "      <td>4.998340e+06</td>\n",
              "      <td>11.361356</td>\n",
              "      <td>-72.495006</td>\n",
              "      <td>39.922871</td>\n",
              "      <td>-72.504531</td>\n",
              "      <td>39.911158</td>\n",
              "      <td>1.685247</td>\n",
              "    </tr>\n",
              "    <tr>\n",
              "      <th>std</th>\n",
              "      <td>2.885675e+06</td>\n",
              "      <td>9.893396</td>\n",
              "      <td>12.260767</td>\n",
              "      <td>9.391838</td>\n",
              "      <td>12.781010</td>\n",
              "      <td>9.858497</td>\n",
              "      <td>1.346789</td>\n",
              "    </tr>\n",
              "    <tr>\n",
              "      <th>min</th>\n",
              "      <td>5.000000e+00</td>\n",
              "      <td>-107.750000</td>\n",
              "      <td>-2404.643242</td>\n",
              "      <td>-2875.860745</td>\n",
              "      <td>-3004.395947</td>\n",
              "      <td>-3271.296725</td>\n",
              "      <td>0.000000</td>\n",
              "    </tr>\n",
              "    <tr>\n",
              "      <th>25%</th>\n",
              "      <td>2.500768e+06</td>\n",
              "      <td>6.000000</td>\n",
              "      <td>-73.992062</td>\n",
              "      <td>40.734936</td>\n",
              "      <td>-73.991390</td>\n",
              "      <td>40.734032</td>\n",
              "      <td>1.000000</td>\n",
              "    </tr>\n",
              "    <tr>\n",
              "      <th>50%</th>\n",
              "      <td>4.997454e+06</td>\n",
              "      <td>8.500000</td>\n",
              "      <td>-73.981785</td>\n",
              "      <td>40.752627</td>\n",
              "      <td>-73.980137</td>\n",
              "      <td>40.753186</td>\n",
              "      <td>1.000000</td>\n",
              "    </tr>\n",
              "    <tr>\n",
              "      <th>75%</th>\n",
              "      <td>7.498037e+06</td>\n",
              "      <td>12.500000</td>\n",
              "      <td>-73.967091</td>\n",
              "      <td>40.767121</td>\n",
              "      <td>-73.963633</td>\n",
              "      <td>40.768122</td>\n",
              "      <td>2.000000</td>\n",
              "    </tr>\n",
              "    <tr>\n",
              "      <th>max</th>\n",
              "      <td>9.999971e+06</td>\n",
              "      <td>952.000000</td>\n",
              "      <td>2417.411523</td>\n",
              "      <td>2977.030610</td>\n",
              "      <td>2889.997293</td>\n",
              "      <td>3305.291182</td>\n",
              "      <td>208.000000</td>\n",
              "    </tr>\n",
              "  </tbody>\n",
              "</table>\n",
              "</div>"
            ],
            "text/plain": [
              "         Unnamed: 0    fare_amount  pickup_longitude  pickup_latitude  \\\n",
              "count  9.999920e+05  999992.000000     999992.000000    999992.000000   \n",
              "mean   4.998340e+06      11.361356        -72.495006        39.922871   \n",
              "std    2.885675e+06       9.893396         12.260767         9.391838   \n",
              "min    5.000000e+00    -107.750000      -2404.643242     -2875.860745   \n",
              "25%    2.500768e+06       6.000000        -73.992062        40.734936   \n",
              "50%    4.997454e+06       8.500000        -73.981785        40.752627   \n",
              "75%    7.498037e+06      12.500000        -73.967091        40.767121   \n",
              "max    9.999971e+06     952.000000       2417.411523      2977.030610   \n",
              "\n",
              "       dropoff_longitude  dropoff_latitude  passenger_count  \n",
              "count      999992.000000     999992.000000    999992.000000  \n",
              "mean          -72.504531         39.911158         1.685247  \n",
              "std            12.781010          9.858497         1.346789  \n",
              "min         -3004.395947      -3271.296725         0.000000  \n",
              "25%           -73.991390         40.734032         1.000000  \n",
              "50%           -73.980137         40.753186         1.000000  \n",
              "75%           -73.963633         40.768122         2.000000  \n",
              "max          2889.997293       3305.291182       208.000000  "
            ]
          },
          "metadata": {
            "tags": []
          },
          "execution_count": 98
        }
      ]
    },
    {
      "metadata": {
        "id": "muqo_QUBWbKh",
        "colab_type": "code",
        "colab": {
          "base_uri": "https://localhost:8080/",
          "height": 170
        },
        "outputId": "7061c4dc-e824-4deb-cbc0-c19abd45151c"
      },
      "cell_type": "code",
      "source": [
        "training_set['fare_amount'].describe()"
      ],
      "execution_count": 99,
      "outputs": [
        {
          "output_type": "execute_result",
          "data": {
            "text/plain": [
              "count    999992.000000\n",
              "mean         11.361356\n",
              "std           9.893396\n",
              "min        -107.750000\n",
              "25%           6.000000\n",
              "50%           8.500000\n",
              "75%          12.500000\n",
              "max         952.000000\n",
              "Name: fare_amount, dtype: float64"
            ]
          },
          "metadata": {
            "tags": []
          },
          "execution_count": 99
        }
      ]
    },
    {
      "metadata": {
        "id": "kKWes8uIWbKn",
        "colab_type": "text"
      },
      "cell_type": "markdown",
      "source": [
        "### Training_set is having negative value fare so we will remove those rows"
      ]
    },
    {
      "metadata": {
        "id": "TZFQmk1QWbKo",
        "colab_type": "code",
        "colab": {
          "base_uri": "https://localhost:8080/",
          "height": 34
        },
        "outputId": "29629f76-5a73-44c1-8ee1-6e37490676f8"
      },
      "cell_type": "code",
      "source": [
        "from collections import Counter\n",
        "Counter(training_set['fare_amount']<0)"
      ],
      "execution_count": 100,
      "outputs": [
        {
          "output_type": "execute_result",
          "data": {
            "text/plain": [
              "Counter({False: 999953, True: 39})"
            ]
          },
          "metadata": {
            "tags": []
          },
          "execution_count": 100
        }
      ]
    },
    {
      "metadata": {
        "id": "HZVaWZFXWbKw",
        "colab_type": "code",
        "colab": {
          "base_uri": "https://localhost:8080/",
          "height": 34
        },
        "outputId": "89ff271d-6d6b-4dec-fe63-ea07a4859ff4"
      },
      "cell_type": "code",
      "source": [
        "training_set = training_set.drop(training_set[training_set['fare_amount']<0].index, axis=0)\n",
        "training_set.shape"
      ],
      "execution_count": 101,
      "outputs": [
        {
          "output_type": "execute_result",
          "data": {
            "text/plain": [
              "(999953, 9)"
            ]
          },
          "metadata": {
            "tags": []
          },
          "execution_count": 101
        }
      ]
    },
    {
      "metadata": {
        "id": "ZtB5Oqh-WbK1",
        "colab_type": "code",
        "colab": {
          "base_uri": "https://localhost:8080/",
          "height": 170
        },
        "outputId": "27471654-4245-4369-9f45-1567359e4c79"
      },
      "cell_type": "code",
      "source": [
        "training_set['fare_amount'].describe()"
      ],
      "execution_count": 102,
      "outputs": [
        {
          "output_type": "execute_result",
          "data": {
            "text/plain": [
              "count    999953.000000\n",
              "mean         11.362299\n",
              "std           9.891592\n",
              "min           0.000000\n",
              "25%           6.000000\n",
              "50%           8.500000\n",
              "75%          12.500000\n",
              "max         952.000000\n",
              "Name: fare_amount, dtype: float64"
            ]
          },
          "metadata": {
            "tags": []
          },
          "execution_count": 102
        }
      ]
    },
    {
      "metadata": {
        "id": "WdsDjia1WbK_",
        "colab_type": "text"
      },
      "cell_type": "markdown",
      "source": [
        "### Passenger count is greater than  7"
      ]
    },
    {
      "metadata": {
        "id": "aQ-9UsGIWbLB",
        "colab_type": "code",
        "colab": {
          "base_uri": "https://localhost:8080/",
          "height": 170
        },
        "outputId": "b68d30d2-f2ab-4567-86d5-d5875935883d"
      },
      "cell_type": "code",
      "source": [
        "training_set['passenger_count'].describe()"
      ],
      "execution_count": 103,
      "outputs": [
        {
          "output_type": "execute_result",
          "data": {
            "text/plain": [
              "count    999953.000000\n",
              "mean          1.685259\n",
              "std           1.346807\n",
              "min           0.000000\n",
              "25%           1.000000\n",
              "50%           1.000000\n",
              "75%           2.000000\n",
              "max         208.000000\n",
              "Name: passenger_count, dtype: float64"
            ]
          },
          "metadata": {
            "tags": []
          },
          "execution_count": 103
        }
      ]
    },
    {
      "metadata": {
        "id": "9pEUDDgbWbLO",
        "colab_type": "code",
        "colab": {}
      },
      "cell_type": "code",
      "source": [
        "#len(training_set[training_set['passenger_count']>7])"
      ],
      "execution_count": 0,
      "outputs": []
    },
    {
      "metadata": {
        "id": "7A6m7niuWbLS",
        "colab_type": "code",
        "colab": {
          "base_uri": "https://localhost:8080/",
          "height": 34
        },
        "outputId": "69dc95a4-6d39-4a0c-faeb-f6c88ebaee87"
      },
      "cell_type": "code",
      "source": [
        "#### Since we are restricting to yellow cabs or medallion taxi. So we are considering \n",
        "#### a maximum of 7 passengers can operate in a taxi at a time.\n",
        "Counter(training_set['passenger_count']>8)"
      ],
      "execution_count": 105,
      "outputs": [
        {
          "output_type": "execute_result",
          "data": {
            "text/plain": [
              "Counter({False: 999950, True: 3})"
            ]
          },
          "metadata": {
            "tags": []
          },
          "execution_count": 105
        }
      ]
    },
    {
      "metadata": {
        "id": "Cj9B16O2WbLa",
        "colab_type": "code",
        "colab": {
          "base_uri": "https://localhost:8080/",
          "height": 297
        },
        "outputId": "75b3dcc3-1767-48e0-b235-161e2ad66b91"
      },
      "cell_type": "code",
      "source": [
        "training_set = training_set.drop(training_set[training_set['passenger_count']>8].index, axis = 0)\n",
        "training_set.describe()"
      ],
      "execution_count": 106,
      "outputs": [
        {
          "output_type": "execute_result",
          "data": {
            "text/html": [
              "<div>\n",
              "<style scoped>\n",
              "    .dataframe tbody tr th:only-of-type {\n",
              "        vertical-align: middle;\n",
              "    }\n",
              "\n",
              "    .dataframe tbody tr th {\n",
              "        vertical-align: top;\n",
              "    }\n",
              "\n",
              "    .dataframe thead th {\n",
              "        text-align: right;\n",
              "    }\n",
              "</style>\n",
              "<table border=\"1\" class=\"dataframe\">\n",
              "  <thead>\n",
              "    <tr style=\"text-align: right;\">\n",
              "      <th></th>\n",
              "      <th>Unnamed: 0</th>\n",
              "      <th>fare_amount</th>\n",
              "      <th>pickup_longitude</th>\n",
              "      <th>pickup_latitude</th>\n",
              "      <th>dropoff_longitude</th>\n",
              "      <th>dropoff_latitude</th>\n",
              "      <th>passenger_count</th>\n",
              "    </tr>\n",
              "  </thead>\n",
              "  <tbody>\n",
              "    <tr>\n",
              "      <th>count</th>\n",
              "      <td>9.999500e+05</td>\n",
              "      <td>999950.000000</td>\n",
              "      <td>999950.000000</td>\n",
              "      <td>999950.000000</td>\n",
              "      <td>999950.000000</td>\n",
              "      <td>999950.000000</td>\n",
              "      <td>999950.000000</td>\n",
              "    </tr>\n",
              "    <tr>\n",
              "      <th>mean</th>\n",
              "      <td>4.998332e+06</td>\n",
              "      <td>11.362317</td>\n",
              "      <td>-72.495314</td>\n",
              "      <td>39.923041</td>\n",
              "      <td>-72.504914</td>\n",
              "      <td>39.911368</td>\n",
              "      <td>1.684719</td>\n",
              "    </tr>\n",
              "    <tr>\n",
              "      <th>std</th>\n",
              "      <td>2.885689e+06</td>\n",
              "      <td>9.891601</td>\n",
              "      <td>12.259949</td>\n",
              "      <td>9.391610</td>\n",
              "      <td>12.780041</td>\n",
              "      <td>9.858218</td>\n",
              "      <td>1.308644</td>\n",
              "    </tr>\n",
              "    <tr>\n",
              "      <th>min</th>\n",
              "      <td>5.000000e+00</td>\n",
              "      <td>0.000000</td>\n",
              "      <td>-2404.643242</td>\n",
              "      <td>-2875.860745</td>\n",
              "      <td>-3004.395947</td>\n",
              "      <td>-3271.296725</td>\n",
              "      <td>0.000000</td>\n",
              "    </tr>\n",
              "    <tr>\n",
              "      <th>25%</th>\n",
              "      <td>2.500713e+06</td>\n",
              "      <td>6.000000</td>\n",
              "      <td>-73.992062</td>\n",
              "      <td>40.734936</td>\n",
              "      <td>-73.991390</td>\n",
              "      <td>40.734033</td>\n",
              "      <td>1.000000</td>\n",
              "    </tr>\n",
              "    <tr>\n",
              "      <th>50%</th>\n",
              "      <td>4.997449e+06</td>\n",
              "      <td>8.500000</td>\n",
              "      <td>-73.981785</td>\n",
              "      <td>40.752627</td>\n",
              "      <td>-73.980137</td>\n",
              "      <td>40.753187</td>\n",
              "      <td>1.000000</td>\n",
              "    </tr>\n",
              "    <tr>\n",
              "      <th>75%</th>\n",
              "      <td>7.498048e+06</td>\n",
              "      <td>12.500000</td>\n",
              "      <td>-73.967092</td>\n",
              "      <td>40.767122</td>\n",
              "      <td>-73.963634</td>\n",
              "      <td>40.768122</td>\n",
              "      <td>2.000000</td>\n",
              "    </tr>\n",
              "    <tr>\n",
              "      <th>max</th>\n",
              "      <td>9.999971e+06</td>\n",
              "      <td>952.000000</td>\n",
              "      <td>2417.411523</td>\n",
              "      <td>2977.030610</td>\n",
              "      <td>2889.997293</td>\n",
              "      <td>3305.291182</td>\n",
              "      <td>6.000000</td>\n",
              "    </tr>\n",
              "  </tbody>\n",
              "</table>\n",
              "</div>"
            ],
            "text/plain": [
              "         Unnamed: 0    fare_amount  pickup_longitude  pickup_latitude  \\\n",
              "count  9.999500e+05  999950.000000     999950.000000    999950.000000   \n",
              "mean   4.998332e+06      11.362317        -72.495314        39.923041   \n",
              "std    2.885689e+06       9.891601         12.259949         9.391610   \n",
              "min    5.000000e+00       0.000000      -2404.643242     -2875.860745   \n",
              "25%    2.500713e+06       6.000000        -73.992062        40.734936   \n",
              "50%    4.997449e+06       8.500000        -73.981785        40.752627   \n",
              "75%    7.498048e+06      12.500000        -73.967092        40.767122   \n",
              "max    9.999971e+06     952.000000       2417.411523      2977.030610   \n",
              "\n",
              "       dropoff_longitude  dropoff_latitude  passenger_count  \n",
              "count      999950.000000     999950.000000    999950.000000  \n",
              "mean          -72.504914         39.911368         1.684719  \n",
              "std            12.780041          9.858218         1.308644  \n",
              "min         -3004.395947      -3271.296725         0.000000  \n",
              "25%           -73.991390         40.734033         1.000000  \n",
              "50%           -73.980137         40.753187         1.000000  \n",
              "75%           -73.963634         40.768122         2.000000  \n",
              "max          2889.997293       3305.291182         6.000000  "
            ]
          },
          "metadata": {
            "tags": []
          },
          "execution_count": 106
        }
      ]
    },
    {
      "metadata": {
        "id": "XVJZl_F9WbLj",
        "colab_type": "text"
      },
      "cell_type": "markdown",
      "source": [
        "### Removing invalid Longitude and Latitude "
      ]
    },
    {
      "metadata": {
        "id": "lpUy6fjDWbLk",
        "colab_type": "code",
        "colab": {
          "base_uri": "https://localhost:8080/",
          "height": 297
        },
        "outputId": "b9dafe58-a46f-4c6f-c16b-22a75b59af96"
      },
      "cell_type": "code",
      "source": [
        "training_set[['pickup_longitude','pickup_latitude']].describe()"
      ],
      "execution_count": 107,
      "outputs": [
        {
          "output_type": "execute_result",
          "data": {
            "text/html": [
              "<div>\n",
              "<style scoped>\n",
              "    .dataframe tbody tr th:only-of-type {\n",
              "        vertical-align: middle;\n",
              "    }\n",
              "\n",
              "    .dataframe tbody tr th {\n",
              "        vertical-align: top;\n",
              "    }\n",
              "\n",
              "    .dataframe thead th {\n",
              "        text-align: right;\n",
              "    }\n",
              "</style>\n",
              "<table border=\"1\" class=\"dataframe\">\n",
              "  <thead>\n",
              "    <tr style=\"text-align: right;\">\n",
              "      <th></th>\n",
              "      <th>pickup_longitude</th>\n",
              "      <th>pickup_latitude</th>\n",
              "    </tr>\n",
              "  </thead>\n",
              "  <tbody>\n",
              "    <tr>\n",
              "      <th>count</th>\n",
              "      <td>999950.000000</td>\n",
              "      <td>999950.000000</td>\n",
              "    </tr>\n",
              "    <tr>\n",
              "      <th>mean</th>\n",
              "      <td>-72.495314</td>\n",
              "      <td>39.923041</td>\n",
              "    </tr>\n",
              "    <tr>\n",
              "      <th>std</th>\n",
              "      <td>12.259949</td>\n",
              "      <td>9.391610</td>\n",
              "    </tr>\n",
              "    <tr>\n",
              "      <th>min</th>\n",
              "      <td>-2404.643242</td>\n",
              "      <td>-2875.860745</td>\n",
              "    </tr>\n",
              "    <tr>\n",
              "      <th>25%</th>\n",
              "      <td>-73.992062</td>\n",
              "      <td>40.734936</td>\n",
              "    </tr>\n",
              "    <tr>\n",
              "      <th>50%</th>\n",
              "      <td>-73.981785</td>\n",
              "      <td>40.752627</td>\n",
              "    </tr>\n",
              "    <tr>\n",
              "      <th>75%</th>\n",
              "      <td>-73.967092</td>\n",
              "      <td>40.767122</td>\n",
              "    </tr>\n",
              "    <tr>\n",
              "      <th>max</th>\n",
              "      <td>2417.411523</td>\n",
              "      <td>2977.030610</td>\n",
              "    </tr>\n",
              "  </tbody>\n",
              "</table>\n",
              "</div>"
            ],
            "text/plain": [
              "       pickup_longitude  pickup_latitude\n",
              "count     999950.000000    999950.000000\n",
              "mean         -72.495314        39.923041\n",
              "std           12.259949         9.391610\n",
              "min        -2404.643242     -2875.860745\n",
              "25%          -73.992062        40.734936\n",
              "50%          -73.981785        40.752627\n",
              "75%          -73.967092        40.767122\n",
              "max         2417.411523      2977.030610"
            ]
          },
          "metadata": {
            "tags": []
          },
          "execution_count": 107
        }
      ]
    },
    {
      "metadata": {
        "id": "LrcUG6FLWbLs",
        "colab_type": "code",
        "colab": {
          "base_uri": "https://localhost:8080/",
          "height": 297
        },
        "outputId": "3d6c7657-e2f9-42e2-d187-0a521510ba0c"
      },
      "cell_type": "code",
      "source": [
        "training_set[['dropoff_longitude','dropoff_latitude']].describe()"
      ],
      "execution_count": 108,
      "outputs": [
        {
          "output_type": "execute_result",
          "data": {
            "text/html": [
              "<div>\n",
              "<style scoped>\n",
              "    .dataframe tbody tr th:only-of-type {\n",
              "        vertical-align: middle;\n",
              "    }\n",
              "\n",
              "    .dataframe tbody tr th {\n",
              "        vertical-align: top;\n",
              "    }\n",
              "\n",
              "    .dataframe thead th {\n",
              "        text-align: right;\n",
              "    }\n",
              "</style>\n",
              "<table border=\"1\" class=\"dataframe\">\n",
              "  <thead>\n",
              "    <tr style=\"text-align: right;\">\n",
              "      <th></th>\n",
              "      <th>dropoff_longitude</th>\n",
              "      <th>dropoff_latitude</th>\n",
              "    </tr>\n",
              "  </thead>\n",
              "  <tbody>\n",
              "    <tr>\n",
              "      <th>count</th>\n",
              "      <td>999950.000000</td>\n",
              "      <td>999950.000000</td>\n",
              "    </tr>\n",
              "    <tr>\n",
              "      <th>mean</th>\n",
              "      <td>-72.504914</td>\n",
              "      <td>39.911368</td>\n",
              "    </tr>\n",
              "    <tr>\n",
              "      <th>std</th>\n",
              "      <td>12.780041</td>\n",
              "      <td>9.858218</td>\n",
              "    </tr>\n",
              "    <tr>\n",
              "      <th>min</th>\n",
              "      <td>-3004.395947</td>\n",
              "      <td>-3271.296725</td>\n",
              "    </tr>\n",
              "    <tr>\n",
              "      <th>25%</th>\n",
              "      <td>-73.991390</td>\n",
              "      <td>40.734033</td>\n",
              "    </tr>\n",
              "    <tr>\n",
              "      <th>50%</th>\n",
              "      <td>-73.980137</td>\n",
              "      <td>40.753187</td>\n",
              "    </tr>\n",
              "    <tr>\n",
              "      <th>75%</th>\n",
              "      <td>-73.963634</td>\n",
              "      <td>40.768122</td>\n",
              "    </tr>\n",
              "    <tr>\n",
              "      <th>max</th>\n",
              "      <td>2889.997293</td>\n",
              "      <td>3305.291182</td>\n",
              "    </tr>\n",
              "  </tbody>\n",
              "</table>\n",
              "</div>"
            ],
            "text/plain": [
              "       dropoff_longitude  dropoff_latitude\n",
              "count      999950.000000     999950.000000\n",
              "mean          -72.504914         39.911368\n",
              "std            12.780041          9.858218\n",
              "min         -3004.395947      -3271.296725\n",
              "25%           -73.991390         40.734033\n",
              "50%           -73.980137         40.753187\n",
              "75%           -73.963634         40.768122\n",
              "max          2889.997293       3305.291182"
            ]
          },
          "metadata": {
            "tags": []
          },
          "execution_count": 108
        }
      ]
    },
    {
      "metadata": {
        "id": "RrXf2dznWbLz",
        "colab_type": "text"
      },
      "cell_type": "markdown",
      "source": [
        "#### Valid Longitude value = -180 to 180\n",
        "#### Valid Latitude value = -90 to 90\n",
        "#### Remove pickup cordinates and drop off cordinates which dont fall in this range "
      ]
    },
    {
      "metadata": {
        "id": "XvRTdzRSWbL0",
        "colab_type": "text"
      },
      "cell_type": "markdown",
      "source": [
        "##### Remove invalid pickup cordinates "
      ]
    },
    {
      "metadata": {
        "id": "9ZUI6EDUWbL4",
        "colab_type": "code",
        "colab": {}
      },
      "cell_type": "code",
      "source": [
        "#print(\"Number of invalid pickup cordinates = \",len((training_set[training_set['pickup_latitude']<-90])or(training_set[training_set['pickup_latitude']>90])or(training_set[training_set['pickup_longitude']<-180])or(training_set[training_set['pickup_longitude']>180])))"
      ],
      "execution_count": 0,
      "outputs": []
    },
    {
      "metadata": {
        "scrolled": true,
        "id": "8JELg8tZWbMH",
        "colab_type": "code",
        "colab": {
          "base_uri": "https://localhost:8080/",
          "height": 34
        },
        "outputId": "c7b4dbce-eea7-4266-b7d8-4aa5e12eec2b"
      },
      "cell_type": "code",
      "source": [
        "training_set = training_set.drop(training_set[training_set['pickup_latitude']<-90].index,axis = 0)\n",
        "training_set = training_set.drop(training_set[training_set['pickup_latitude']>90].index,axis = 0)\n",
        "training_set = training_set.drop(training_set[training_set['pickup_longitude']<-180].index,axis = 0)\n",
        "training_set = training_set.drop(training_set[training_set['pickup_longitude']>180].index, axis=0)\n",
        "training_set.shape"
      ],
      "execution_count": 110,
      "outputs": [
        {
          "output_type": "execute_result",
          "data": {
            "text/plain": [
              "(999922, 9)"
            ]
          },
          "metadata": {
            "tags": []
          },
          "execution_count": 110
        }
      ]
    },
    {
      "metadata": {
        "id": "arjcQttRWbMP",
        "colab_type": "text"
      },
      "cell_type": "markdown",
      "source": [
        "##### Remove invalid drop off cordinates  "
      ]
    },
    {
      "metadata": {
        "id": "zd1WXPpiWbMT",
        "colab_type": "code",
        "colab": {}
      },
      "cell_type": "code",
      "source": [
        "#print(\"Number of invalid drop off cordinates = \",len((training_set[training_set['dropoff_latitude']<-90])|(training_set[training_set['dropoff_latitude']>90])|(training_set[training_set['dropoff_longitude']<-180])|(training_set[training_set['dropoff_longitude']>180])))"
      ],
      "execution_count": 0,
      "outputs": []
    },
    {
      "metadata": {
        "id": "Tkr9mSKOWbMf",
        "colab_type": "code",
        "colab": {
          "base_uri": "https://localhost:8080/",
          "height": 34
        },
        "outputId": "acc2ab58-69e5-4bee-c34c-e63ee3790f3b"
      },
      "cell_type": "code",
      "source": [
        "training_set = training_set.drop(training_set[training_set['dropoff_latitude']<-90].index,axis = 0)\n",
        "training_set = training_set.drop(training_set[training_set['dropoff_latitude']>90].index,axis = 0)\n",
        "training_set = training_set.drop(training_set[training_set['dropoff_longitude']<-180].index,axis = 0)\n",
        "training_set = training_set.drop(training_set[training_set['dropoff_longitude']>180].index, axis=0)\n",
        "training_set.shape"
      ],
      "execution_count": 113,
      "outputs": [
        {
          "output_type": "execute_result",
          "data": {
            "text/plain": [
              "(999904, 9)"
            ]
          },
          "metadata": {
            "tags": []
          },
          "execution_count": 113
        }
      ]
    },
    {
      "metadata": {
        "id": "GxeU60i-WbMr",
        "colab_type": "code",
        "colab": {
          "base_uri": "https://localhost:8080/",
          "height": 297
        },
        "outputId": "a58f97ea-a06e-443b-ecc3-e31bb09a7282"
      },
      "cell_type": "code",
      "source": [
        "training_set.describe()"
      ],
      "execution_count": 114,
      "outputs": [
        {
          "output_type": "execute_result",
          "data": {
            "text/html": [
              "<div>\n",
              "<style scoped>\n",
              "    .dataframe tbody tr th:only-of-type {\n",
              "        vertical-align: middle;\n",
              "    }\n",
              "\n",
              "    .dataframe tbody tr th {\n",
              "        vertical-align: top;\n",
              "    }\n",
              "\n",
              "    .dataframe thead th {\n",
              "        text-align: right;\n",
              "    }\n",
              "</style>\n",
              "<table border=\"1\" class=\"dataframe\">\n",
              "  <thead>\n",
              "    <tr style=\"text-align: right;\">\n",
              "      <th></th>\n",
              "      <th>Unnamed: 0</th>\n",
              "      <th>fare_amount</th>\n",
              "      <th>pickup_longitude</th>\n",
              "      <th>pickup_latitude</th>\n",
              "      <th>dropoff_longitude</th>\n",
              "      <th>dropoff_latitude</th>\n",
              "      <th>passenger_count</th>\n",
              "    </tr>\n",
              "  </thead>\n",
              "  <tbody>\n",
              "    <tr>\n",
              "      <th>count</th>\n",
              "      <td>9.999040e+05</td>\n",
              "      <td>999904.000000</td>\n",
              "      <td>999904.000000</td>\n",
              "      <td>999904.000000</td>\n",
              "      <td>999904.000000</td>\n",
              "      <td>999904.000000</td>\n",
              "      <td>999904.000000</td>\n",
              "    </tr>\n",
              "    <tr>\n",
              "      <th>mean</th>\n",
              "      <td>4.998324e+06</td>\n",
              "      <td>11.362291</td>\n",
              "      <td>-72.490523</td>\n",
              "      <td>39.913228</td>\n",
              "      <td>-72.499445</td>\n",
              "      <td>39.917707</td>\n",
              "      <td>1.684741</td>\n",
              "    </tr>\n",
              "    <tr>\n",
              "      <th>std</th>\n",
              "      <td>2.885687e+06</td>\n",
              "      <td>9.891560</td>\n",
              "      <td>10.481499</td>\n",
              "      <td>6.126925</td>\n",
              "      <td>10.448725</td>\n",
              "      <td>6.113915</td>\n",
              "      <td>1.308666</td>\n",
              "    </tr>\n",
              "    <tr>\n",
              "      <th>min</th>\n",
              "      <td>5.000000e+00</td>\n",
              "      <td>0.000000</td>\n",
              "      <td>-121.285595</td>\n",
              "      <td>-74.824164</td>\n",
              "      <td>-121.285388</td>\n",
              "      <td>-74.178840</td>\n",
              "      <td>0.000000</td>\n",
              "    </tr>\n",
              "    <tr>\n",
              "      <th>25%</th>\n",
              "      <td>2.500705e+06</td>\n",
              "      <td>6.000000</td>\n",
              "      <td>-73.992061</td>\n",
              "      <td>40.734936</td>\n",
              "      <td>-73.991390</td>\n",
              "      <td>40.734033</td>\n",
              "      <td>1.000000</td>\n",
              "    </tr>\n",
              "    <tr>\n",
              "      <th>50%</th>\n",
              "      <td>4.997437e+06</td>\n",
              "      <td>8.500000</td>\n",
              "      <td>-73.981785</td>\n",
              "      <td>40.752627</td>\n",
              "      <td>-73.980137</td>\n",
              "      <td>40.753187</td>\n",
              "      <td>1.000000</td>\n",
              "    </tr>\n",
              "    <tr>\n",
              "      <th>75%</th>\n",
              "      <td>7.498032e+06</td>\n",
              "      <td>12.500000</td>\n",
              "      <td>-73.967093</td>\n",
              "      <td>40.767120</td>\n",
              "      <td>-73.963635</td>\n",
              "      <td>40.768122</td>\n",
              "      <td>2.000000</td>\n",
              "    </tr>\n",
              "    <tr>\n",
              "      <th>max</th>\n",
              "      <td>9.999971e+06</td>\n",
              "      <td>952.000000</td>\n",
              "      <td>40.826712</td>\n",
              "      <td>73.979307</td>\n",
              "      <td>40.855685</td>\n",
              "      <td>73.992735</td>\n",
              "      <td>6.000000</td>\n",
              "    </tr>\n",
              "  </tbody>\n",
              "</table>\n",
              "</div>"
            ],
            "text/plain": [
              "         Unnamed: 0    fare_amount  pickup_longitude  pickup_latitude  \\\n",
              "count  9.999040e+05  999904.000000     999904.000000    999904.000000   \n",
              "mean   4.998324e+06      11.362291        -72.490523        39.913228   \n",
              "std    2.885687e+06       9.891560         10.481499         6.126925   \n",
              "min    5.000000e+00       0.000000       -121.285595       -74.824164   \n",
              "25%    2.500705e+06       6.000000        -73.992061        40.734936   \n",
              "50%    4.997437e+06       8.500000        -73.981785        40.752627   \n",
              "75%    7.498032e+06      12.500000        -73.967093        40.767120   \n",
              "max    9.999971e+06     952.000000         40.826712        73.979307   \n",
              "\n",
              "       dropoff_longitude  dropoff_latitude  passenger_count  \n",
              "count      999904.000000     999904.000000    999904.000000  \n",
              "mean          -72.499445         39.917707         1.684741  \n",
              "std            10.448725          6.113915         1.308666  \n",
              "min          -121.285388        -74.178840         0.000000  \n",
              "25%           -73.991390         40.734033         1.000000  \n",
              "50%           -73.980137         40.753187         1.000000  \n",
              "75%           -73.963635         40.768122         2.000000  \n",
              "max            40.855685         73.992735         6.000000  "
            ]
          },
          "metadata": {
            "tags": []
          },
          "execution_count": 114
        }
      ]
    },
    {
      "metadata": {
        "id": "Fkd4duEzWbM4",
        "colab_type": "text"
      },
      "cell_type": "markdown",
      "source": [
        "## Distance between pick up location and drop off location\n",
        "#### The distance in a sphere can be calculated when latitudes and longitudes are given by Haversine formula\n",
        "#### haversine(θ) = sin²(θ/2)\n",
        "\n",
        "#### φ is latitude, λ is longitude, R is earth’s radius (mean radius = 6,371km) to include latitude and longitude coordinates (A and B in this case).\n",
        "\n",
        "#### a = sin²((φB - φA)/2) + cos φA . cos φB . sin²((λB - λA)/2)\n",
        "\n",
        "#### c = 2 * atan2( √a, √(1−a) )\n",
        "\n",
        "#### d = R ⋅ c\n",
        "\n",
        "#### d = Haversine distance"
      ]
    },
    {
      "metadata": {
        "id": "wtTOa_nlWbM5",
        "colab_type": "code",
        "colab": {}
      },
      "cell_type": "code",
      "source": [
        "def haversine_distance(data):\n",
        "    R = 6371        # Radius of earth in Kilo Meter\n",
        "    \n",
        "    pickup_data = data[['pickup_longitude','pickup_latitude']]\n",
        "    dropoff_data = data[['dropoff_longitude','dropoff_latitude']]\n",
        "    \n",
        "    phi1 = np.radians(pickup_data['pickup_latitude'])\n",
        "    phi2 = np.radians(dropoff_data['dropoff_latitude'])\n",
        "    \n",
        "    delta_phi = np.radians(dropoff_data['dropoff_latitude'] - pickup_data['pickup_latitude'])\n",
        "    delta_lambda = np.radians(dropoff_data['dropoff_longitude'] - pickup_data['pickup_longitude'])\n",
        "    \n",
        "    #a = sin²((φB - φA)/2) + cos φA . cos φB . sin²((λB - λA)/2)\n",
        "    a = np.sin((delta_phi)/2)**2 + np.cos(phi1)*np.cos(phi2)*np.sin(delta_lambda/2)**2\n",
        "    \n",
        "    #c = 2 * atan2( √a, √(1−a) )\n",
        "    c = 2 * np.arctan2(np.sqrt(a),np.sqrt(1-a))\n",
        "    d = R * c\n",
        "    \n",
        "    return d\n",
        "    "
      ],
      "execution_count": 0,
      "outputs": []
    },
    {
      "metadata": {
        "scrolled": false,
        "id": "JZXzQDK_WbM9",
        "colab_type": "code",
        "colab": {}
      },
      "cell_type": "code",
      "source": [
        "training_set_distance = pd.DataFrame(haversine_distance(training_set) , columns=['Distance'])\n",
        "training_set = pd.concat([training_set , training_set_distance] , axis = 1)"
      ],
      "execution_count": 0,
      "outputs": []
    },
    {
      "metadata": {
        "scrolled": true,
        "id": "jbB_lsAYWbNB",
        "colab_type": "code",
        "colab": {
          "base_uri": "https://localhost:8080/",
          "height": 306
        },
        "outputId": "2b69ea37-7d9e-4de6-cb68-76064d13b814"
      },
      "cell_type": "code",
      "source": [
        "training_set.head()"
      ],
      "execution_count": 117,
      "outputs": [
        {
          "output_type": "execute_result",
          "data": {
            "text/html": [
              "<div>\n",
              "<style scoped>\n",
              "    .dataframe tbody tr th:only-of-type {\n",
              "        vertical-align: middle;\n",
              "    }\n",
              "\n",
              "    .dataframe tbody tr th {\n",
              "        vertical-align: top;\n",
              "    }\n",
              "\n",
              "    .dataframe thead th {\n",
              "        text-align: right;\n",
              "    }\n",
              "</style>\n",
              "<table border=\"1\" class=\"dataframe\">\n",
              "  <thead>\n",
              "    <tr style=\"text-align: right;\">\n",
              "      <th></th>\n",
              "      <th>Unnamed: 0</th>\n",
              "      <th>key</th>\n",
              "      <th>fare_amount</th>\n",
              "      <th>pickup_datetime</th>\n",
              "      <th>pickup_longitude</th>\n",
              "      <th>pickup_latitude</th>\n",
              "      <th>dropoff_longitude</th>\n",
              "      <th>dropoff_latitude</th>\n",
              "      <th>passenger_count</th>\n",
              "      <th>Distance</th>\n",
              "    </tr>\n",
              "  </thead>\n",
              "  <tbody>\n",
              "    <tr>\n",
              "      <th>0</th>\n",
              "      <td>6846288</td>\n",
              "      <td>2014-08-14 01:36:34.0000001</td>\n",
              "      <td>6.5</td>\n",
              "      <td>2014-08-14 01:36:34 UTC</td>\n",
              "      <td>-73.975764</td>\n",
              "      <td>40.753898</td>\n",
              "      <td>-73.961381</td>\n",
              "      <td>40.769729</td>\n",
              "      <td>1</td>\n",
              "      <td>2.136860</td>\n",
              "    </tr>\n",
              "    <tr>\n",
              "      <th>1</th>\n",
              "      <td>6026469</td>\n",
              "      <td>2015-02-24 09:56:15.0000005</td>\n",
              "      <td>6.0</td>\n",
              "      <td>2015-02-24 09:56:15 UTC</td>\n",
              "      <td>-73.974663</td>\n",
              "      <td>40.756310</td>\n",
              "      <td>-73.980339</td>\n",
              "      <td>40.760742</td>\n",
              "      <td>1</td>\n",
              "      <td>0.686669</td>\n",
              "    </tr>\n",
              "    <tr>\n",
              "      <th>2</th>\n",
              "      <td>6472844</td>\n",
              "      <td>2014-01-14 20:12:06.0000001</td>\n",
              "      <td>5.5</td>\n",
              "      <td>2014-01-14 20:12:06 UTC</td>\n",
              "      <td>-73.970602</td>\n",
              "      <td>40.785972</td>\n",
              "      <td>-73.955813</td>\n",
              "      <td>40.783007</td>\n",
              "      <td>1</td>\n",
              "      <td>1.288050</td>\n",
              "    </tr>\n",
              "    <tr>\n",
              "      <th>3</th>\n",
              "      <td>7672835</td>\n",
              "      <td>2012-04-06 07:02:34.0000001</td>\n",
              "      <td>8.1</td>\n",
              "      <td>2012-04-06 07:02:34 UTC</td>\n",
              "      <td>-74.007823</td>\n",
              "      <td>40.732122</td>\n",
              "      <td>-73.983278</td>\n",
              "      <td>40.761789</td>\n",
              "      <td>1</td>\n",
              "      <td>3.893276</td>\n",
              "    </tr>\n",
              "    <tr>\n",
              "      <th>4</th>\n",
              "      <td>5340043</td>\n",
              "      <td>2009-03-29 20:33:54.0000002</td>\n",
              "      <td>7.4</td>\n",
              "      <td>2009-03-29 20:33:54 UTC</td>\n",
              "      <td>-73.996974</td>\n",
              "      <td>40.737093</td>\n",
              "      <td>-73.977298</td>\n",
              "      <td>40.729153</td>\n",
              "      <td>1</td>\n",
              "      <td>1.878308</td>\n",
              "    </tr>\n",
              "  </tbody>\n",
              "</table>\n",
              "</div>"
            ],
            "text/plain": [
              "   Unnamed: 0                          key  fare_amount  \\\n",
              "0     6846288  2014-08-14 01:36:34.0000001          6.5   \n",
              "1     6026469  2015-02-24 09:56:15.0000005          6.0   \n",
              "2     6472844  2014-01-14 20:12:06.0000001          5.5   \n",
              "3     7672835  2012-04-06 07:02:34.0000001          8.1   \n",
              "4     5340043  2009-03-29 20:33:54.0000002          7.4   \n",
              "\n",
              "           pickup_datetime  pickup_longitude  pickup_latitude  \\\n",
              "0  2014-08-14 01:36:34 UTC        -73.975764        40.753898   \n",
              "1  2015-02-24 09:56:15 UTC        -73.974663        40.756310   \n",
              "2  2014-01-14 20:12:06 UTC        -73.970602        40.785972   \n",
              "3  2012-04-06 07:02:34 UTC        -74.007823        40.732122   \n",
              "4  2009-03-29 20:33:54 UTC        -73.996974        40.737093   \n",
              "\n",
              "   dropoff_longitude  dropoff_latitude  passenger_count  Distance  \n",
              "0         -73.961381         40.769729                1  2.136860  \n",
              "1         -73.980339         40.760742                1  0.686669  \n",
              "2         -73.955813         40.783007                1  1.288050  \n",
              "3         -73.983278         40.761789                1  3.893276  \n",
              "4         -73.977298         40.729153                1  1.878308  "
            ]
          },
          "metadata": {
            "tags": []
          },
          "execution_count": 117
        }
      ]
    },
    {
      "metadata": {
        "id": "XMfGs1k2WbNN",
        "colab_type": "code",
        "colab": {
          "base_uri": "https://localhost:8080/",
          "height": 297
        },
        "outputId": "aa86f28d-bc1c-4f58-bfcf-ed12fdb297da"
      },
      "cell_type": "code",
      "source": [
        "training_set.describe()"
      ],
      "execution_count": 118,
      "outputs": [
        {
          "output_type": "execute_result",
          "data": {
            "text/html": [
              "<div>\n",
              "<style scoped>\n",
              "    .dataframe tbody tr th:only-of-type {\n",
              "        vertical-align: middle;\n",
              "    }\n",
              "\n",
              "    .dataframe tbody tr th {\n",
              "        vertical-align: top;\n",
              "    }\n",
              "\n",
              "    .dataframe thead th {\n",
              "        text-align: right;\n",
              "    }\n",
              "</style>\n",
              "<table border=\"1\" class=\"dataframe\">\n",
              "  <thead>\n",
              "    <tr style=\"text-align: right;\">\n",
              "      <th></th>\n",
              "      <th>Unnamed: 0</th>\n",
              "      <th>fare_amount</th>\n",
              "      <th>pickup_longitude</th>\n",
              "      <th>pickup_latitude</th>\n",
              "      <th>dropoff_longitude</th>\n",
              "      <th>dropoff_latitude</th>\n",
              "      <th>passenger_count</th>\n",
              "      <th>Distance</th>\n",
              "    </tr>\n",
              "  </thead>\n",
              "  <tbody>\n",
              "    <tr>\n",
              "      <th>count</th>\n",
              "      <td>9.999040e+05</td>\n",
              "      <td>999904.000000</td>\n",
              "      <td>999904.000000</td>\n",
              "      <td>999904.000000</td>\n",
              "      <td>999904.000000</td>\n",
              "      <td>999904.000000</td>\n",
              "      <td>999904.000000</td>\n",
              "      <td>999904.000000</td>\n",
              "    </tr>\n",
              "    <tr>\n",
              "      <th>mean</th>\n",
              "      <td>4.998324e+06</td>\n",
              "      <td>11.362291</td>\n",
              "      <td>-72.490523</td>\n",
              "      <td>39.913228</td>\n",
              "      <td>-72.499445</td>\n",
              "      <td>39.917707</td>\n",
              "      <td>1.684741</td>\n",
              "      <td>20.080816</td>\n",
              "    </tr>\n",
              "    <tr>\n",
              "      <th>std</th>\n",
              "      <td>2.885687e+06</td>\n",
              "      <td>9.891560</td>\n",
              "      <td>10.481499</td>\n",
              "      <td>6.126925</td>\n",
              "      <td>10.448725</td>\n",
              "      <td>6.113915</td>\n",
              "      <td>1.308666</td>\n",
              "      <td>373.674759</td>\n",
              "    </tr>\n",
              "    <tr>\n",
              "      <th>min</th>\n",
              "      <td>5.000000e+00</td>\n",
              "      <td>0.000000</td>\n",
              "      <td>-121.285595</td>\n",
              "      <td>-74.824164</td>\n",
              "      <td>-121.285388</td>\n",
              "      <td>-74.178840</td>\n",
              "      <td>0.000000</td>\n",
              "      <td>0.000000</td>\n",
              "    </tr>\n",
              "    <tr>\n",
              "      <th>25%</th>\n",
              "      <td>2.500705e+06</td>\n",
              "      <td>6.000000</td>\n",
              "      <td>-73.992061</td>\n",
              "      <td>40.734936</td>\n",
              "      <td>-73.991390</td>\n",
              "      <td>40.734033</td>\n",
              "      <td>1.000000</td>\n",
              "      <td>1.214177</td>\n",
              "    </tr>\n",
              "    <tr>\n",
              "      <th>50%</th>\n",
              "      <td>4.997437e+06</td>\n",
              "      <td>8.500000</td>\n",
              "      <td>-73.981785</td>\n",
              "      <td>40.752627</td>\n",
              "      <td>-73.980137</td>\n",
              "      <td>40.753187</td>\n",
              "      <td>1.000000</td>\n",
              "      <td>2.118771</td>\n",
              "    </tr>\n",
              "    <tr>\n",
              "      <th>75%</th>\n",
              "      <td>7.498032e+06</td>\n",
              "      <td>12.500000</td>\n",
              "      <td>-73.967093</td>\n",
              "      <td>40.767120</td>\n",
              "      <td>-73.963635</td>\n",
              "      <td>40.768122</td>\n",
              "      <td>2.000000</td>\n",
              "      <td>3.874873</td>\n",
              "    </tr>\n",
              "    <tr>\n",
              "      <th>max</th>\n",
              "      <td>9.999971e+06</td>\n",
              "      <td>952.000000</td>\n",
              "      <td>40.826712</td>\n",
              "      <td>73.979307</td>\n",
              "      <td>40.855685</td>\n",
              "      <td>73.992735</td>\n",
              "      <td>6.000000</td>\n",
              "      <td>12851.756269</td>\n",
              "    </tr>\n",
              "  </tbody>\n",
              "</table>\n",
              "</div>"
            ],
            "text/plain": [
              "         Unnamed: 0    fare_amount  pickup_longitude  pickup_latitude  \\\n",
              "count  9.999040e+05  999904.000000     999904.000000    999904.000000   \n",
              "mean   4.998324e+06      11.362291        -72.490523        39.913228   \n",
              "std    2.885687e+06       9.891560         10.481499         6.126925   \n",
              "min    5.000000e+00       0.000000       -121.285595       -74.824164   \n",
              "25%    2.500705e+06       6.000000        -73.992061        40.734936   \n",
              "50%    4.997437e+06       8.500000        -73.981785        40.752627   \n",
              "75%    7.498032e+06      12.500000        -73.967093        40.767120   \n",
              "max    9.999971e+06     952.000000         40.826712        73.979307   \n",
              "\n",
              "       dropoff_longitude  dropoff_latitude  passenger_count       Distance  \n",
              "count      999904.000000     999904.000000    999904.000000  999904.000000  \n",
              "mean          -72.499445         39.917707         1.684741      20.080816  \n",
              "std            10.448725          6.113915         1.308666     373.674759  \n",
              "min          -121.285388        -74.178840         0.000000       0.000000  \n",
              "25%           -73.991390         40.734033         1.000000       1.214177  \n",
              "50%           -73.980137         40.753187         1.000000       2.118771  \n",
              "75%           -73.963635         40.768122         2.000000       3.874873  \n",
              "max            40.855685         73.992735         6.000000   12851.756269  "
            ]
          },
          "metadata": {
            "tags": []
          },
          "execution_count": 118
        }
      ]
    },
    {
      "metadata": {
        "id": "8LHsclYqWbNX",
        "colab_type": "code",
        "colab": {
          "base_uri": "https://localhost:8080/",
          "height": 307
        },
        "outputId": "7da58d49-45f6-4d47-a669-e7a05765f455"
      },
      "cell_type": "code",
      "source": [
        "plt.scatter(training_set['Distance'] , training_set['fare_amount'] , c = 'r' , marker = 'x')\n",
        "plt.title('Distance Vs Fare Amount',size = 20)\n",
        "plt.xlabel('Distance (meters)',size = 14)\n",
        "plt.ylabel('Fare Amount ($)',size = 14)\n",
        "plt.show()"
      ],
      "execution_count": 119,
      "outputs": [
        {
          "output_type": "display_data",
          "data": {
            "image/png": "[encoded data removed]",
            "text/plain": [
              "<Figure size 432x288 with 1 Axes>"
            ]
          },
          "metadata": {
            "tags": []
          }
        }
      ]
    },
    {
      "metadata": {
        "id": "dxNvs9G4WbNh",
        "colab_type": "text"
      },
      "cell_type": "markdown",
      "source": [
        "## Support Vector Regression on Feature Distance "
      ]
    },
    {
      "metadata": {
        "id": "DmYDQohxWbNi",
        "colab_type": "code",
        "colab": {}
      },
      "cell_type": "code",
      "source": [
        "data = training_set.sample(n = 1000 , replace = False)\n",
        "X = np.array(training_set['Distance']).reshape(len(training_set),1)\n",
        "y = np.array(training_set['fare_amount'])\n"
      ],
      "execution_count": 0,
      "outputs": []
    },
    {
      "metadata": {
        "id": "TnEgfSw3WbNo",
        "colab_type": "code",
        "colab": {}
      },
      "cell_type": "code",
      "source": [
        "def svr_SGD_epsilion_insensitive(X,y):\n",
        "  svr_SGD = SGDRegressor(loss = 'epsilon_insensitive' , max_iter = 100 , tol = 1e-3 , shuffle = True , epsilon = .1 , learning_rate = 'adaptive')\n",
        "  y_SGD = svr_SGD.fit(X,y)\n",
        "  \n",
        "  return svr_SGD\n",
        "\n",
        "def svr_SGD_squared_epsilon_insensitive(X,y):\n",
        "  svr_SGD_squared = SGDRegressor(loss = 'squared_epsilon_insensitive' , max_iter = 100 , tol = 1e-3 , shuffle = True , epsilon = .1 , learning_rate = 'adaptive')\n",
        "  y_SGD = svr_SGD_squared.fit(X,y)\n",
        "  \n",
        "  return svr_SGD_squared\n",
        "  \n",
        "  \n",
        "  "
      ],
      "execution_count": 0,
      "outputs": []
    },
    {
      "metadata": {
        "id": "9q_q3wwGWbNs",
        "colab_type": "code",
        "colab": {}
      },
      "cell_type": "code",
      "source": [
        "from multiprocessing.pool import ThreadPool\n",
        "from sklearn.linear_model import SGDRegressor\n",
        "\n",
        "pool = ThreadPool(processes=1)\n",
        "\n",
        "#t1 = pool.apply_async(svr_polynomial,(X,y,)) \n",
        "#t2 = pool.apply_async(svr_RBF, (X,y,)) \n",
        "#t3 = pool.apply_async(svr_linear, (X,y,)) \n",
        "t4 = pool.apply_async(svr_SGD_epsilion_insensitive, (X,y))\n",
        "t5 = pool.apply_async(svr_SGD_squared_epsilon_insensitive, (X,y))\n",
        "\n",
        "#svr_poly = t1.get()\n",
        "#svr_rbf = t2.get()\n",
        "#svr_lin = t3.get()\n",
        "svr_SGD = t4.get()\n",
        "svr_SGD_squared = t5.get()"
      ],
      "execution_count": 0,
      "outputs": []
    },
    {
      "metadata": {
        "id": "iShSakf9WbNw",
        "colab_type": "code",
        "colab": {}
      },
      "cell_type": "code",
      "source": [
        "SGD_predict = np.concatenate((svr_SGD.predict(X).reshape(len(training_set),1),y.reshape(len(training_set),1)) , axis = 1)\n",
        "SGD_squared_predict = np.concatenate((svr_SGD_squared.predict(X).reshape(len(training_set),1),y.reshape(len(training_set),1)) , axis = 1)"
      ],
      "execution_count": 0,
      "outputs": []
    },
    {
      "metadata": {
        "id": "sQJMofn1yrsm",
        "colab_type": "code",
        "colab": {
          "base_uri": "https://localhost:8080/",
          "height": 34
        },
        "outputId": "36985f02-2ad1-4bb1-e2e5-ee5200bc7857"
      },
      "cell_type": "code",
      "source": [
        "from sklearn.metrics import mean_squared_error\n",
        "\n",
        "SGD_predict = svr_SGD.predict(X)\n",
        "SGD_squared_predict = svr_SGD_squared.predict(X)\n",
        "\n",
        "SGD_error = mean_squared_error(y, SGD_predict)\n",
        "\n",
        "SGD_squared_error = mean_squared_error(y, SGD_squared_predict)\n",
        "\n",
        "print(SGD_error,SGD_squared_error)"
      ],
      "execution_count": 206,
      "outputs": [
        {
          "output_type": "stream",
          "text": [
            "106.62941594302481 1.8799762244203455e+23\n"
          ],
          "name": "stdout"
        }
      ]
    }
  ]
}