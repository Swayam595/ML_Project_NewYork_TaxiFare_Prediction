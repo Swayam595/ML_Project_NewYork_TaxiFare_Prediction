{
 "cells": [
  {
   "cell_type": "code",
   "execution_count": 350,
   "metadata": {
    "scrolled": false
   },
   "outputs": [],
   "source": [
    "import csv\n",
    "import random\n",
    "import numpy as np\n",
    "import pandas as pd\n",
    "import dask.dataframe as dd\n",
    "import os\n",
    "from pathlib import Path\n",
    "from tqdm import tqdm\n",
    "import matplotlib.pyplot as plt   #Data visualisation libraries \n",
    "%matplotlib inline\n",
    "\n",
    "data_folder = Path(\"Desktop/257_Proj\")\n",
    "data = pd.read_csv(data_folder / \"train.csv\", nrows = 10000000)\n",
    "\n",
    "#print(data.read_text())\n",
    "#data = pd.read_csv('⁨train.csv',nrows = 10000000)       # Contains the first 10 million data from \n",
    "                                                    # where we are going to select 1 million ramdom data for training and\n",
    "                                                 # ten thousand data for deveopment"
   ]
  },
  {
   "cell_type": "code",
   "execution_count": 49,
   "metadata": {},
   "outputs": [],
   "source": [
    "# Creation of training set , development set and test set \n",
    "training_set = data.sample(n = 1000000)    # 1 million random data from same distribution\n",
    "dev_set = data.sample(n = 10000)           # 10000 random data from same distribution\n",
    "test_set = pd.read_csv(data_folder / \"test.csv\")\n",
    "#test_set =  pd.read_csv('D:\\\\Projects\\\\Data\\\\test.csv')      # Actual test data must be used to check only after getting \n",
    "                                                             # a good final hypothesis"
   ]
  },
  {
   "cell_type": "markdown",
   "metadata": {},
   "source": [
    "# Shape, data type, data sample and descriptive statistics of Training Set"
   ]
  },
  {
   "cell_type": "markdown",
   "metadata": {},
   "source": [
    "### Shape"
   ]
  },
  {
   "cell_type": "code",
   "execution_count": 277,
   "metadata": {},
   "outputs": [
    {
     "data": {
      "text/plain": [
       "(999903, 9)"
      ]
     },
     "execution_count": 277,
     "metadata": {},
     "output_type": "execute_result"
    }
   ],
   "source": [
    "training_set.shape"
   ]
  },
  {
   "cell_type": "markdown",
   "metadata": {},
   "source": [
    "### Data Type"
   ]
  },
  {
   "cell_type": "code",
   "execution_count": 51,
   "metadata": {},
   "outputs": [
    {
     "data": {
      "text/plain": [
       "key                   object\n",
       "fare_amount          float64\n",
       "pickup_datetime       object\n",
       "pickup_longitude     float64\n",
       "pickup_latitude      float64\n",
       "dropoff_longitude    float64\n",
       "dropoff_latitude     float64\n",
       "passenger_count        int64\n",
       "dtype: object"
      ]
     },
     "execution_count": 51,
     "metadata": {},
     "output_type": "execute_result"
    }
   ],
   "source": [
    "training_set.dtypes"
   ]
  },
  {
   "cell_type": "markdown",
   "metadata": {},
   "source": [
    "### Data Sample"
   ]
  },
  {
   "cell_type": "code",
   "execution_count": 278,
   "metadata": {},
   "outputs": [
    {
     "data": {
      "text/html": [
       "<div>\n",
       "<style scoped>\n",
       "    .dataframe tbody tr th:only-of-type {\n",
       "        vertical-align: middle;\n",
       "    }\n",
       "\n",
       "    .dataframe tbody tr th {\n",
       "        vertical-align: top;\n",
       "    }\n",
       "\n",
       "    .dataframe thead th {\n",
       "        text-align: right;\n",
       "    }\n",
       "</style>\n",
       "<table border=\"1\" class=\"dataframe\">\n",
       "  <thead>\n",
       "    <tr style=\"text-align: right;\">\n",
       "      <th></th>\n",
       "      <th>key</th>\n",
       "      <th>fare_amount</th>\n",
       "      <th>pickup_datetime</th>\n",
       "      <th>pickup_longitude</th>\n",
       "      <th>pickup_latitude</th>\n",
       "      <th>dropoff_longitude</th>\n",
       "      <th>dropoff_latitude</th>\n",
       "      <th>passenger_count</th>\n",
       "    </tr>\n",
       "  </thead>\n",
       "  <tbody>\n",
       "    <tr>\n",
       "      <th>7643707</th>\n",
       "      <td>2012-09-29 13:42:42.0000006</td>\n",
       "      <td>9.50</td>\n",
       "      <td>2012-09-29 13:42:42 UTC</td>\n",
       "      <td>-73.972029</td>\n",
       "      <td>40.765682</td>\n",
       "      <td>-73.992124</td>\n",
       "      <td>40.759216</td>\n",
       "      <td>1</td>\n",
       "    </tr>\n",
       "    <tr>\n",
       "      <th>3267441</th>\n",
       "      <td>2009-08-28 20:47:00.000000107</td>\n",
       "      <td>5.30</td>\n",
       "      <td>2009-08-28 20:47:00 UTC</td>\n",
       "      <td>-73.985183</td>\n",
       "      <td>40.755835</td>\n",
       "      <td>-74.000965</td>\n",
       "      <td>40.762010</td>\n",
       "      <td>1</td>\n",
       "    </tr>\n",
       "    <tr>\n",
       "      <th>5661889</th>\n",
       "      <td>2010-04-05 14:04:00.00000019</td>\n",
       "      <td>4.50</td>\n",
       "      <td>2010-04-05 14:04:00 UTC</td>\n",
       "      <td>-73.978722</td>\n",
       "      <td>40.724193</td>\n",
       "      <td>-73.986525</td>\n",
       "      <td>40.719412</td>\n",
       "      <td>5</td>\n",
       "    </tr>\n",
       "    <tr>\n",
       "      <th>5276512</th>\n",
       "      <td>2015-04-04 14:27:19.0000004</td>\n",
       "      <td>10.00</td>\n",
       "      <td>2015-04-04 14:27:19 UTC</td>\n",
       "      <td>-73.987663</td>\n",
       "      <td>40.743610</td>\n",
       "      <td>-74.005692</td>\n",
       "      <td>40.741241</td>\n",
       "      <td>6</td>\n",
       "    </tr>\n",
       "    <tr>\n",
       "      <th>3294883</th>\n",
       "      <td>2010-05-24 11:28:00.00000028</td>\n",
       "      <td>32.67</td>\n",
       "      <td>2010-05-24 11:28:00 UTC</td>\n",
       "      <td>0.000000</td>\n",
       "      <td>0.000000</td>\n",
       "      <td>0.000000</td>\n",
       "      <td>0.000000</td>\n",
       "      <td>2</td>\n",
       "    </tr>\n",
       "  </tbody>\n",
       "</table>\n",
       "</div>"
      ],
      "text/plain": [
       "                                   key  fare_amount          pickup_datetime  \\\n",
       "7643707    2012-09-29 13:42:42.0000006         9.50  2012-09-29 13:42:42 UTC   \n",
       "3267441  2009-08-28 20:47:00.000000107         5.30  2009-08-28 20:47:00 UTC   \n",
       "5661889   2010-04-05 14:04:00.00000019         4.50  2010-04-05 14:04:00 UTC   \n",
       "5276512    2015-04-04 14:27:19.0000004        10.00  2015-04-04 14:27:19 UTC   \n",
       "3294883   2010-05-24 11:28:00.00000028        32.67  2010-05-24 11:28:00 UTC   \n",
       "\n",
       "         pickup_longitude  pickup_latitude  dropoff_longitude  \\\n",
       "7643707        -73.972029        40.765682         -73.992124   \n",
       "3267441        -73.985183        40.755835         -74.000965   \n",
       "5661889        -73.978722        40.724193         -73.986525   \n",
       "5276512        -73.987663        40.743610         -74.005692   \n",
       "3294883          0.000000         0.000000           0.000000   \n",
       "\n",
       "         dropoff_latitude  passenger_count  \n",
       "7643707         40.759216                1  \n",
       "3267441         40.762010                1  \n",
       "5661889         40.719412                5  \n",
       "5276512         40.741241                6  \n",
       "3294883          0.000000                2  "
      ]
     },
     "execution_count": 278,
     "metadata": {},
     "output_type": "execute_result"
    }
   ],
   "source": [
    "training_set.head()"
   ]
  },
  {
   "cell_type": "markdown",
   "metadata": {},
   "source": [
    "### Descriptive statistics "
   ]
  },
  {
   "cell_type": "code",
   "execution_count": 53,
   "metadata": {},
   "outputs": [
    {
     "data": {
      "text/html": [
       "<div>\n",
       "<style scoped>\n",
       "    .dataframe tbody tr th:only-of-type {\n",
       "        vertical-align: middle;\n",
       "    }\n",
       "\n",
       "    .dataframe tbody tr th {\n",
       "        vertical-align: top;\n",
       "    }\n",
       "\n",
       "    .dataframe thead th {\n",
       "        text-align: right;\n",
       "    }\n",
       "</style>\n",
       "<table border=\"1\" class=\"dataframe\">\n",
       "  <thead>\n",
       "    <tr style=\"text-align: right;\">\n",
       "      <th></th>\n",
       "      <th>fare_amount</th>\n",
       "      <th>pickup_longitude</th>\n",
       "      <th>pickup_latitude</th>\n",
       "      <th>dropoff_longitude</th>\n",
       "      <th>dropoff_latitude</th>\n",
       "      <th>passenger_count</th>\n",
       "    </tr>\n",
       "  </thead>\n",
       "  <tbody>\n",
       "    <tr>\n",
       "      <th>count</th>\n",
       "      <td>1000000.000000</td>\n",
       "      <td>1000000.000000</td>\n",
       "      <td>1000000.000000</td>\n",
       "      <td>999997.000000</td>\n",
       "      <td>999997.000000</td>\n",
       "      <td>1000000.000000</td>\n",
       "    </tr>\n",
       "    <tr>\n",
       "      <th>mean</th>\n",
       "      <td>11.334144</td>\n",
       "      <td>-72.480727</td>\n",
       "      <td>39.924971</td>\n",
       "      <td>-72.486971</td>\n",
       "      <td>39.913230</td>\n",
       "      <td>1.684922</td>\n",
       "    </tr>\n",
       "    <tr>\n",
       "      <th>std</th>\n",
       "      <td>9.875863</td>\n",
       "      <td>13.963051</td>\n",
       "      <td>9.878318</td>\n",
       "      <td>13.846063</td>\n",
       "      <td>10.678428</td>\n",
       "      <td>1.340486</td>\n",
       "    </tr>\n",
       "    <tr>\n",
       "      <th>min</th>\n",
       "      <td>-100.000000</td>\n",
       "      <td>-3384.693027</td>\n",
       "      <td>-3432.139393</td>\n",
       "      <td>-3366.536242</td>\n",
       "      <td>-3092.393485</td>\n",
       "      <td>0.000000</td>\n",
       "    </tr>\n",
       "    <tr>\n",
       "      <th>25%</th>\n",
       "      <td>6.000000</td>\n",
       "      <td>-73.992087</td>\n",
       "      <td>40.734833</td>\n",
       "      <td>-73.991410</td>\n",
       "      <td>40.733952</td>\n",
       "      <td>1.000000</td>\n",
       "    </tr>\n",
       "    <tr>\n",
       "      <th>50%</th>\n",
       "      <td>8.500000</td>\n",
       "      <td>-73.981837</td>\n",
       "      <td>40.752585</td>\n",
       "      <td>-73.980164</td>\n",
       "      <td>40.753128</td>\n",
       "      <td>1.000000</td>\n",
       "    </tr>\n",
       "    <tr>\n",
       "      <th>75%</th>\n",
       "      <td>12.500000</td>\n",
       "      <td>-73.967115</td>\n",
       "      <td>40.767094</td>\n",
       "      <td>-73.963676</td>\n",
       "      <td>40.768067</td>\n",
       "      <td>2.000000</td>\n",
       "    </tr>\n",
       "    <tr>\n",
       "      <th>max</th>\n",
       "      <td>850.000000</td>\n",
       "      <td>3442.185068</td>\n",
       "      <td>3310.364462</td>\n",
       "      <td>3442.185068</td>\n",
       "      <td>3305.291182</td>\n",
       "      <td>208.000000</td>\n",
       "    </tr>\n",
       "  </tbody>\n",
       "</table>\n",
       "</div>"
      ],
      "text/plain": [
       "          fare_amount  pickup_longitude  pickup_latitude  dropoff_longitude  \\\n",
       "count  1000000.000000    1000000.000000   1000000.000000      999997.000000   \n",
       "mean        11.334144        -72.480727        39.924971         -72.486971   \n",
       "std          9.875863         13.963051         9.878318          13.846063   \n",
       "min       -100.000000      -3384.693027     -3432.139393       -3366.536242   \n",
       "25%          6.000000        -73.992087        40.734833         -73.991410   \n",
       "50%          8.500000        -73.981837        40.752585         -73.980164   \n",
       "75%         12.500000        -73.967115        40.767094         -73.963676   \n",
       "max        850.000000       3442.185068      3310.364462        3442.185068   \n",
       "\n",
       "       dropoff_latitude  passenger_count  \n",
       "count     999997.000000   1000000.000000  \n",
       "mean          39.913230         1.684922  \n",
       "std           10.678428         1.340486  \n",
       "min        -3092.393485         0.000000  \n",
       "25%           40.733952         1.000000  \n",
       "50%           40.753128         1.000000  \n",
       "75%           40.768067         2.000000  \n",
       "max         3305.291182       208.000000  "
      ]
     },
     "execution_count": 53,
     "metadata": {},
     "output_type": "execute_result"
    }
   ],
   "source": [
    "training_set.describe()"
   ]
  },
  {
   "cell_type": "markdown",
   "metadata": {},
   "source": [
    "# Shape, data type, data sample and descriptive statistics of Development Set"
   ]
  },
  {
   "cell_type": "markdown",
   "metadata": {},
   "source": [
    "### Shape"
   ]
  },
  {
   "cell_type": "code",
   "execution_count": 54,
   "metadata": {},
   "outputs": [
    {
     "data": {
      "text/plain": [
       "(10000, 8)"
      ]
     },
     "execution_count": 54,
     "metadata": {},
     "output_type": "execute_result"
    }
   ],
   "source": [
    "dev_set.shape"
   ]
  },
  {
   "cell_type": "markdown",
   "metadata": {},
   "source": [
    "### Data Type"
   ]
  },
  {
   "cell_type": "code",
   "execution_count": 55,
   "metadata": {},
   "outputs": [
    {
     "data": {
      "text/plain": [
       "key                   object\n",
       "fare_amount          float64\n",
       "pickup_datetime       object\n",
       "pickup_longitude     float64\n",
       "pickup_latitude      float64\n",
       "dropoff_longitude    float64\n",
       "dropoff_latitude     float64\n",
       "passenger_count        int64\n",
       "dtype: object"
      ]
     },
     "execution_count": 55,
     "metadata": {},
     "output_type": "execute_result"
    }
   ],
   "source": [
    "dev_set.dtypes"
   ]
  },
  {
   "cell_type": "markdown",
   "metadata": {},
   "source": [
    "### Data Sample"
   ]
  },
  {
   "cell_type": "code",
   "execution_count": 58,
   "metadata": {},
   "outputs": [
    {
     "data": {
      "text/html": [
       "<div>\n",
       "<style scoped>\n",
       "    .dataframe tbody tr th:only-of-type {\n",
       "        vertical-align: middle;\n",
       "    }\n",
       "\n",
       "    .dataframe tbody tr th {\n",
       "        vertical-align: top;\n",
       "    }\n",
       "\n",
       "    .dataframe thead th {\n",
       "        text-align: right;\n",
       "    }\n",
       "</style>\n",
       "<table border=\"1\" class=\"dataframe\">\n",
       "  <thead>\n",
       "    <tr style=\"text-align: right;\">\n",
       "      <th></th>\n",
       "      <th>key</th>\n",
       "      <th>fare_amount</th>\n",
       "      <th>pickup_datetime</th>\n",
       "      <th>pickup_longitude</th>\n",
       "      <th>pickup_latitude</th>\n",
       "      <th>dropoff_longitude</th>\n",
       "      <th>dropoff_latitude</th>\n",
       "      <th>passenger_count</th>\n",
       "    </tr>\n",
       "  </thead>\n",
       "  <tbody>\n",
       "    <tr>\n",
       "      <th>7643707</th>\n",
       "      <td>2012-09-29 13:42:42.0000006</td>\n",
       "      <td>9.50</td>\n",
       "      <td>2012-09-29 13:42:42 UTC</td>\n",
       "      <td>-73.972029</td>\n",
       "      <td>40.765682</td>\n",
       "      <td>-73.992124</td>\n",
       "      <td>40.759216</td>\n",
       "      <td>1</td>\n",
       "    </tr>\n",
       "    <tr>\n",
       "      <th>3267441</th>\n",
       "      <td>2009-08-28 20:47:00.000000107</td>\n",
       "      <td>5.30</td>\n",
       "      <td>2009-08-28 20:47:00 UTC</td>\n",
       "      <td>-73.985183</td>\n",
       "      <td>40.755835</td>\n",
       "      <td>-74.000965</td>\n",
       "      <td>40.762010</td>\n",
       "      <td>1</td>\n",
       "    </tr>\n",
       "    <tr>\n",
       "      <th>5661889</th>\n",
       "      <td>2010-04-05 14:04:00.00000019</td>\n",
       "      <td>4.50</td>\n",
       "      <td>2010-04-05 14:04:00 UTC</td>\n",
       "      <td>-73.978722</td>\n",
       "      <td>40.724193</td>\n",
       "      <td>-73.986525</td>\n",
       "      <td>40.719412</td>\n",
       "      <td>5</td>\n",
       "    </tr>\n",
       "    <tr>\n",
       "      <th>5276512</th>\n",
       "      <td>2015-04-04 14:27:19.0000004</td>\n",
       "      <td>10.00</td>\n",
       "      <td>2015-04-04 14:27:19 UTC</td>\n",
       "      <td>-73.987663</td>\n",
       "      <td>40.743610</td>\n",
       "      <td>-74.005692</td>\n",
       "      <td>40.741241</td>\n",
       "      <td>6</td>\n",
       "    </tr>\n",
       "    <tr>\n",
       "      <th>3294883</th>\n",
       "      <td>2010-05-24 11:28:00.00000028</td>\n",
       "      <td>32.67</td>\n",
       "      <td>2010-05-24 11:28:00 UTC</td>\n",
       "      <td>0.000000</td>\n",
       "      <td>0.000000</td>\n",
       "      <td>0.000000</td>\n",
       "      <td>0.000000</td>\n",
       "      <td>2</td>\n",
       "    </tr>\n",
       "  </tbody>\n",
       "</table>\n",
       "</div>"
      ],
      "text/plain": [
       "                                   key  fare_amount          pickup_datetime  \\\n",
       "7643707    2012-09-29 13:42:42.0000006         9.50  2012-09-29 13:42:42 UTC   \n",
       "3267441  2009-08-28 20:47:00.000000107         5.30  2009-08-28 20:47:00 UTC   \n",
       "5661889   2010-04-05 14:04:00.00000019         4.50  2010-04-05 14:04:00 UTC   \n",
       "5276512    2015-04-04 14:27:19.0000004        10.00  2015-04-04 14:27:19 UTC   \n",
       "3294883   2010-05-24 11:28:00.00000028        32.67  2010-05-24 11:28:00 UTC   \n",
       "\n",
       "         pickup_longitude  pickup_latitude  dropoff_longitude  \\\n",
       "7643707        -73.972029        40.765682         -73.992124   \n",
       "3267441        -73.985183        40.755835         -74.000965   \n",
       "5661889        -73.978722        40.724193         -73.986525   \n",
       "5276512        -73.987663        40.743610         -74.005692   \n",
       "3294883          0.000000         0.000000           0.000000   \n",
       "\n",
       "         dropoff_latitude  passenger_count  \n",
       "7643707         40.759216                1  \n",
       "3267441         40.762010                1  \n",
       "5661889         40.719412                5  \n",
       "5276512         40.741241                6  \n",
       "3294883          0.000000                2  "
      ]
     },
     "execution_count": 58,
     "metadata": {},
     "output_type": "execute_result"
    }
   ],
   "source": [
    "dev_set.head()"
   ]
  },
  {
   "cell_type": "markdown",
   "metadata": {},
   "source": [
    "### Descriptive statistics "
   ]
  },
  {
   "cell_type": "code",
   "execution_count": 59,
   "metadata": {},
   "outputs": [
    {
     "data": {
      "text/html": [
       "<div>\n",
       "<style scoped>\n",
       "    .dataframe tbody tr th:only-of-type {\n",
       "        vertical-align: middle;\n",
       "    }\n",
       "\n",
       "    .dataframe tbody tr th {\n",
       "        vertical-align: top;\n",
       "    }\n",
       "\n",
       "    .dataframe thead th {\n",
       "        text-align: right;\n",
       "    }\n",
       "</style>\n",
       "<table border=\"1\" class=\"dataframe\">\n",
       "  <thead>\n",
       "    <tr style=\"text-align: right;\">\n",
       "      <th></th>\n",
       "      <th>fare_amount</th>\n",
       "      <th>pickup_longitude</th>\n",
       "      <th>pickup_latitude</th>\n",
       "      <th>dropoff_longitude</th>\n",
       "      <th>dropoff_latitude</th>\n",
       "      <th>passenger_count</th>\n",
       "    </tr>\n",
       "  </thead>\n",
       "  <tbody>\n",
       "    <tr>\n",
       "      <th>count</th>\n",
       "      <td>10000.000000</td>\n",
       "      <td>10000.000000</td>\n",
       "      <td>10000.000000</td>\n",
       "      <td>10000.000000</td>\n",
       "      <td>10000.000000</td>\n",
       "      <td>10000.00000</td>\n",
       "    </tr>\n",
       "    <tr>\n",
       "      <th>mean</th>\n",
       "      <td>11.455454</td>\n",
       "      <td>-72.553292</td>\n",
       "      <td>39.940576</td>\n",
       "      <td>-72.479228</td>\n",
       "      <td>39.904650</td>\n",
       "      <td>1.67400</td>\n",
       "    </tr>\n",
       "    <tr>\n",
       "      <th>std</th>\n",
       "      <td>10.056831</td>\n",
       "      <td>10.296213</td>\n",
       "      <td>6.121308</td>\n",
       "      <td>10.539196</td>\n",
       "      <td>6.237432</td>\n",
       "      <td>1.29263</td>\n",
       "    </tr>\n",
       "    <tr>\n",
       "      <th>min</th>\n",
       "      <td>-3.500000</td>\n",
       "      <td>-75.418708</td>\n",
       "      <td>-73.999810</td>\n",
       "      <td>-74.703679</td>\n",
       "      <td>-74.006575</td>\n",
       "      <td>0.00000</td>\n",
       "    </tr>\n",
       "    <tr>\n",
       "      <th>25%</th>\n",
       "      <td>6.000000</td>\n",
       "      <td>-73.992270</td>\n",
       "      <td>40.735151</td>\n",
       "      <td>-73.991346</td>\n",
       "      <td>40.733986</td>\n",
       "      <td>1.00000</td>\n",
       "    </tr>\n",
       "    <tr>\n",
       "      <th>50%</th>\n",
       "      <td>8.500000</td>\n",
       "      <td>-73.981811</td>\n",
       "      <td>40.752455</td>\n",
       "      <td>-73.980185</td>\n",
       "      <td>40.753434</td>\n",
       "      <td>1.00000</td>\n",
       "    </tr>\n",
       "    <tr>\n",
       "      <th>75%</th>\n",
       "      <td>12.500000</td>\n",
       "      <td>-73.967517</td>\n",
       "      <td>40.766934</td>\n",
       "      <td>-73.963248</td>\n",
       "      <td>40.768201</td>\n",
       "      <td>2.00000</td>\n",
       "    </tr>\n",
       "    <tr>\n",
       "      <th>max</th>\n",
       "      <td>200.000000</td>\n",
       "      <td>40.766407</td>\n",
       "      <td>43.098708</td>\n",
       "      <td>40.773602</td>\n",
       "      <td>43.415190</td>\n",
       "      <td>6.00000</td>\n",
       "    </tr>\n",
       "  </tbody>\n",
       "</table>\n",
       "</div>"
      ],
      "text/plain": [
       "        fare_amount  pickup_longitude  pickup_latitude  dropoff_longitude  \\\n",
       "count  10000.000000      10000.000000     10000.000000       10000.000000   \n",
       "mean      11.455454        -72.553292        39.940576         -72.479228   \n",
       "std       10.056831         10.296213         6.121308          10.539196   \n",
       "min       -3.500000        -75.418708       -73.999810         -74.703679   \n",
       "25%        6.000000        -73.992270        40.735151         -73.991346   \n",
       "50%        8.500000        -73.981811        40.752455         -73.980185   \n",
       "75%       12.500000        -73.967517        40.766934         -73.963248   \n",
       "max      200.000000         40.766407        43.098708          40.773602   \n",
       "\n",
       "       dropoff_latitude  passenger_count  \n",
       "count      10000.000000      10000.00000  \n",
       "mean          39.904650          1.67400  \n",
       "std            6.237432          1.29263  \n",
       "min          -74.006575          0.00000  \n",
       "25%           40.733986          1.00000  \n",
       "50%           40.753434          1.00000  \n",
       "75%           40.768201          2.00000  \n",
       "max           43.415190          6.00000  "
      ]
     },
     "execution_count": 59,
     "metadata": {},
     "output_type": "execute_result"
    }
   ],
   "source": [
    "dev_set.describe()"
   ]
  },
  {
   "cell_type": "markdown",
   "metadata": {},
   "source": [
    "# Shape, data type, data sample and descriptive statistics of Test Set\n",
    "\n"
   ]
  },
  {
   "cell_type": "markdown",
   "metadata": {},
   "source": [
    "### Shape"
   ]
  },
  {
   "cell_type": "code",
   "execution_count": 61,
   "metadata": {},
   "outputs": [
    {
     "data": {
      "text/plain": [
       "(9914, 7)"
      ]
     },
     "execution_count": 61,
     "metadata": {},
     "output_type": "execute_result"
    }
   ],
   "source": [
    "test_set.shape"
   ]
  },
  {
   "cell_type": "markdown",
   "metadata": {},
   "source": [
    "### Data Type"
   ]
  },
  {
   "cell_type": "code",
   "execution_count": 62,
   "metadata": {},
   "outputs": [
    {
     "data": {
      "text/plain": [
       "key                   object\n",
       "pickup_datetime       object\n",
       "pickup_longitude     float64\n",
       "pickup_latitude      float64\n",
       "dropoff_longitude    float64\n",
       "dropoff_latitude     float64\n",
       "passenger_count        int64\n",
       "dtype: object"
      ]
     },
     "execution_count": 62,
     "metadata": {},
     "output_type": "execute_result"
    }
   ],
   "source": [
    "test_set.dtypes"
   ]
  },
  {
   "cell_type": "markdown",
   "metadata": {},
   "source": [
    "### Data Sample"
   ]
  },
  {
   "cell_type": "code",
   "execution_count": 63,
   "metadata": {},
   "outputs": [
    {
     "data": {
      "text/html": [
       "<div>\n",
       "<style scoped>\n",
       "    .dataframe tbody tr th:only-of-type {\n",
       "        vertical-align: middle;\n",
       "    }\n",
       "\n",
       "    .dataframe tbody tr th {\n",
       "        vertical-align: top;\n",
       "    }\n",
       "\n",
       "    .dataframe thead th {\n",
       "        text-align: right;\n",
       "    }\n",
       "</style>\n",
       "<table border=\"1\" class=\"dataframe\">\n",
       "  <thead>\n",
       "    <tr style=\"text-align: right;\">\n",
       "      <th></th>\n",
       "      <th>key</th>\n",
       "      <th>pickup_datetime</th>\n",
       "      <th>pickup_longitude</th>\n",
       "      <th>pickup_latitude</th>\n",
       "      <th>dropoff_longitude</th>\n",
       "      <th>dropoff_latitude</th>\n",
       "      <th>passenger_count</th>\n",
       "    </tr>\n",
       "  </thead>\n",
       "  <tbody>\n",
       "    <tr>\n",
       "      <th>0</th>\n",
       "      <td>2015-01-27 13:08:24.0000002</td>\n",
       "      <td>2015-01-27 13:08:24 UTC</td>\n",
       "      <td>-73.973320</td>\n",
       "      <td>40.763805</td>\n",
       "      <td>-73.981430</td>\n",
       "      <td>40.743835</td>\n",
       "      <td>1</td>\n",
       "    </tr>\n",
       "    <tr>\n",
       "      <th>1</th>\n",
       "      <td>2015-01-27 13:08:24.0000003</td>\n",
       "      <td>2015-01-27 13:08:24 UTC</td>\n",
       "      <td>-73.986862</td>\n",
       "      <td>40.719383</td>\n",
       "      <td>-73.998886</td>\n",
       "      <td>40.739201</td>\n",
       "      <td>1</td>\n",
       "    </tr>\n",
       "    <tr>\n",
       "      <th>2</th>\n",
       "      <td>2011-10-08 11:53:44.0000002</td>\n",
       "      <td>2011-10-08 11:53:44 UTC</td>\n",
       "      <td>-73.982524</td>\n",
       "      <td>40.751260</td>\n",
       "      <td>-73.979654</td>\n",
       "      <td>40.746139</td>\n",
       "      <td>1</td>\n",
       "    </tr>\n",
       "    <tr>\n",
       "      <th>3</th>\n",
       "      <td>2012-12-01 21:12:12.0000002</td>\n",
       "      <td>2012-12-01 21:12:12 UTC</td>\n",
       "      <td>-73.981160</td>\n",
       "      <td>40.767807</td>\n",
       "      <td>-73.990448</td>\n",
       "      <td>40.751635</td>\n",
       "      <td>1</td>\n",
       "    </tr>\n",
       "    <tr>\n",
       "      <th>4</th>\n",
       "      <td>2012-12-01 21:12:12.0000003</td>\n",
       "      <td>2012-12-01 21:12:12 UTC</td>\n",
       "      <td>-73.966046</td>\n",
       "      <td>40.789775</td>\n",
       "      <td>-73.988565</td>\n",
       "      <td>40.744427</td>\n",
       "      <td>1</td>\n",
       "    </tr>\n",
       "  </tbody>\n",
       "</table>\n",
       "</div>"
      ],
      "text/plain": [
       "                           key          pickup_datetime  pickup_longitude  \\\n",
       "0  2015-01-27 13:08:24.0000002  2015-01-27 13:08:24 UTC        -73.973320   \n",
       "1  2015-01-27 13:08:24.0000003  2015-01-27 13:08:24 UTC        -73.986862   \n",
       "2  2011-10-08 11:53:44.0000002  2011-10-08 11:53:44 UTC        -73.982524   \n",
       "3  2012-12-01 21:12:12.0000002  2012-12-01 21:12:12 UTC        -73.981160   \n",
       "4  2012-12-01 21:12:12.0000003  2012-12-01 21:12:12 UTC        -73.966046   \n",
       "\n",
       "   pickup_latitude  dropoff_longitude  dropoff_latitude  passenger_count  \n",
       "0        40.763805         -73.981430         40.743835                1  \n",
       "1        40.719383         -73.998886         40.739201                1  \n",
       "2        40.751260         -73.979654         40.746139                1  \n",
       "3        40.767807         -73.990448         40.751635                1  \n",
       "4        40.789775         -73.988565         40.744427                1  "
      ]
     },
     "execution_count": 63,
     "metadata": {},
     "output_type": "execute_result"
    }
   ],
   "source": [
    "test_set.head()"
   ]
  },
  {
   "cell_type": "markdown",
   "metadata": {},
   "source": [
    "### Descriptive statistics "
   ]
  },
  {
   "cell_type": "code",
   "execution_count": 64,
   "metadata": {},
   "outputs": [
    {
     "data": {
      "text/html": [
       "<div>\n",
       "<style scoped>\n",
       "    .dataframe tbody tr th:only-of-type {\n",
       "        vertical-align: middle;\n",
       "    }\n",
       "\n",
       "    .dataframe tbody tr th {\n",
       "        vertical-align: top;\n",
       "    }\n",
       "\n",
       "    .dataframe thead th {\n",
       "        text-align: right;\n",
       "    }\n",
       "</style>\n",
       "<table border=\"1\" class=\"dataframe\">\n",
       "  <thead>\n",
       "    <tr style=\"text-align: right;\">\n",
       "      <th></th>\n",
       "      <th>pickup_longitude</th>\n",
       "      <th>pickup_latitude</th>\n",
       "      <th>dropoff_longitude</th>\n",
       "      <th>dropoff_latitude</th>\n",
       "      <th>passenger_count</th>\n",
       "    </tr>\n",
       "  </thead>\n",
       "  <tbody>\n",
       "    <tr>\n",
       "      <th>count</th>\n",
       "      <td>9914.000000</td>\n",
       "      <td>9914.000000</td>\n",
       "      <td>9914.000000</td>\n",
       "      <td>9914.000000</td>\n",
       "      <td>9914.000000</td>\n",
       "    </tr>\n",
       "    <tr>\n",
       "      <th>mean</th>\n",
       "      <td>-73.974722</td>\n",
       "      <td>40.751041</td>\n",
       "      <td>-73.973657</td>\n",
       "      <td>40.751743</td>\n",
       "      <td>1.671273</td>\n",
       "    </tr>\n",
       "    <tr>\n",
       "      <th>std</th>\n",
       "      <td>0.042774</td>\n",
       "      <td>0.033541</td>\n",
       "      <td>0.039072</td>\n",
       "      <td>0.035435</td>\n",
       "      <td>1.278747</td>\n",
       "    </tr>\n",
       "    <tr>\n",
       "      <th>min</th>\n",
       "      <td>-74.252193</td>\n",
       "      <td>40.573143</td>\n",
       "      <td>-74.263242</td>\n",
       "      <td>40.568973</td>\n",
       "      <td>1.000000</td>\n",
       "    </tr>\n",
       "    <tr>\n",
       "      <th>25%</th>\n",
       "      <td>-73.992501</td>\n",
       "      <td>40.736125</td>\n",
       "      <td>-73.991247</td>\n",
       "      <td>40.735254</td>\n",
       "      <td>1.000000</td>\n",
       "    </tr>\n",
       "    <tr>\n",
       "      <th>50%</th>\n",
       "      <td>-73.982326</td>\n",
       "      <td>40.753051</td>\n",
       "      <td>-73.980015</td>\n",
       "      <td>40.754065</td>\n",
       "      <td>1.000000</td>\n",
       "    </tr>\n",
       "    <tr>\n",
       "      <th>75%</th>\n",
       "      <td>-73.968013</td>\n",
       "      <td>40.767113</td>\n",
       "      <td>-73.964059</td>\n",
       "      <td>40.768757</td>\n",
       "      <td>2.000000</td>\n",
       "    </tr>\n",
       "    <tr>\n",
       "      <th>max</th>\n",
       "      <td>-72.986532</td>\n",
       "      <td>41.709555</td>\n",
       "      <td>-72.990963</td>\n",
       "      <td>41.696683</td>\n",
       "      <td>6.000000</td>\n",
       "    </tr>\n",
       "  </tbody>\n",
       "</table>\n",
       "</div>"
      ],
      "text/plain": [
       "       pickup_longitude  pickup_latitude  dropoff_longitude  dropoff_latitude  \\\n",
       "count       9914.000000      9914.000000        9914.000000       9914.000000   \n",
       "mean         -73.974722        40.751041         -73.973657         40.751743   \n",
       "std            0.042774         0.033541           0.039072          0.035435   \n",
       "min          -74.252193        40.573143         -74.263242         40.568973   \n",
       "25%          -73.992501        40.736125         -73.991247         40.735254   \n",
       "50%          -73.982326        40.753051         -73.980015         40.754065   \n",
       "75%          -73.968013        40.767113         -73.964059         40.768757   \n",
       "max          -72.986532        41.709555         -72.990963         41.696683   \n",
       "\n",
       "       passenger_count  \n",
       "count      9914.000000  \n",
       "mean          1.671273  \n",
       "std           1.278747  \n",
       "min           1.000000  \n",
       "25%           1.000000  \n",
       "50%           1.000000  \n",
       "75%           2.000000  \n",
       "max           6.000000  "
      ]
     },
     "execution_count": 64,
     "metadata": {},
     "output_type": "execute_result"
    }
   ],
   "source": [
    "test_set.describe()"
   ]
  },
  {
   "cell_type": "markdown",
   "metadata": {},
   "source": [
    "# Data Cleansing"
   ]
  },
  {
   "cell_type": "markdown",
   "metadata": {},
   "source": [
    "## Removing Null values from the datasets"
   ]
  },
  {
   "cell_type": "code",
   "execution_count": 65,
   "metadata": {},
   "outputs": [
    {
     "data": {
      "text/plain": [
       "dropoff_latitude     3\n",
       "dropoff_longitude    3\n",
       "passenger_count      0\n",
       "pickup_latitude      0\n",
       "pickup_longitude     0\n",
       "pickup_datetime      0\n",
       "fare_amount          0\n",
       "key                  0\n",
       "dtype: int64"
      ]
     },
     "execution_count": 65,
     "metadata": {},
     "output_type": "execute_result"
    }
   ],
   "source": [
    "training_set.isnull().sum().sort_values(ascending = False)"
   ]
  },
  {
   "cell_type": "code",
   "execution_count": 66,
   "metadata": {},
   "outputs": [
    {
     "data": {
      "text/plain": [
       "passenger_count      0\n",
       "dropoff_latitude     0\n",
       "dropoff_longitude    0\n",
       "pickup_latitude      0\n",
       "pickup_longitude     0\n",
       "pickup_datetime      0\n",
       "fare_amount          0\n",
       "key                  0\n",
       "dtype: int64"
      ]
     },
     "execution_count": 66,
     "metadata": {},
     "output_type": "execute_result"
    }
   ],
   "source": [
    "dev_set.isnull().sum().sort_values(ascending = False)"
   ]
  },
  {
   "cell_type": "code",
   "execution_count": 67,
   "metadata": {},
   "outputs": [
    {
     "data": {
      "text/plain": [
       "passenger_count      0\n",
       "dropoff_latitude     0\n",
       "dropoff_longitude    0\n",
       "pickup_latitude      0\n",
       "pickup_longitude     0\n",
       "pickup_datetime      0\n",
       "key                  0\n",
       "dtype: int64"
      ]
     },
     "execution_count": 67,
     "metadata": {},
     "output_type": "execute_result"
    }
   ],
   "source": [
    "test_set.isnull().sum().sort_values(ascending = False)"
   ]
  },
  {
   "cell_type": "code",
   "execution_count": 68,
   "metadata": {},
   "outputs": [
    {
     "data": {
      "text/plain": [
       "(999997, 8)"
      ]
     },
     "execution_count": 68,
     "metadata": {},
     "output_type": "execute_result"
    }
   ],
   "source": [
    "training_set = training_set.drop(training_set[training_set.isnull().any(1)].index , axis = 0)\n",
    "training_set.shape"
   ]
  },
  {
   "cell_type": "code",
   "execution_count": 69,
   "metadata": {},
   "outputs": [
    {
     "data": {
      "text/plain": [
       "(10000, 8)"
      ]
     },
     "execution_count": 69,
     "metadata": {},
     "output_type": "execute_result"
    }
   ],
   "source": [
    "dev_set = dev_set.drop(dev_set[dev_set.isnull().any(1)].index , axis = 0)\n",
    "dev_set.shape"
   ]
  },
  {
   "cell_type": "code",
   "execution_count": 70,
   "metadata": {},
   "outputs": [
    {
     "data": {
      "text/plain": [
       "(9914, 7)"
      ]
     },
     "execution_count": 70,
     "metadata": {},
     "output_type": "execute_result"
    }
   ],
   "source": [
    "test_set = test_set.drop(test_set[test_set.isnull().any(1)].index , axis = 0)\n",
    "test_set.shape"
   ]
  },
  {
   "cell_type": "markdown",
   "metadata": {},
   "source": [
    "## Removing rows from the dataset having invalid data "
   ]
  },
  {
   "cell_type": "code",
   "execution_count": 71,
   "metadata": {},
   "outputs": [
    {
     "data": {
      "text/html": [
       "<div>\n",
       "<style scoped>\n",
       "    .dataframe tbody tr th:only-of-type {\n",
       "        vertical-align: middle;\n",
       "    }\n",
       "\n",
       "    .dataframe tbody tr th {\n",
       "        vertical-align: top;\n",
       "    }\n",
       "\n",
       "    .dataframe thead th {\n",
       "        text-align: right;\n",
       "    }\n",
       "</style>\n",
       "<table border=\"1\" class=\"dataframe\">\n",
       "  <thead>\n",
       "    <tr style=\"text-align: right;\">\n",
       "      <th></th>\n",
       "      <th>fare_amount</th>\n",
       "      <th>pickup_longitude</th>\n",
       "      <th>pickup_latitude</th>\n",
       "      <th>dropoff_longitude</th>\n",
       "      <th>dropoff_latitude</th>\n",
       "      <th>passenger_count</th>\n",
       "    </tr>\n",
       "  </thead>\n",
       "  <tbody>\n",
       "    <tr>\n",
       "      <th>count</th>\n",
       "      <td>999997.000000</td>\n",
       "      <td>999997.000000</td>\n",
       "      <td>999997.000000</td>\n",
       "      <td>999997.000000</td>\n",
       "      <td>999997.000000</td>\n",
       "      <td>999997.000000</td>\n",
       "    </tr>\n",
       "    <tr>\n",
       "      <th>mean</th>\n",
       "      <td>11.334147</td>\n",
       "      <td>-72.480723</td>\n",
       "      <td>39.924968</td>\n",
       "      <td>-72.486971</td>\n",
       "      <td>39.913230</td>\n",
       "      <td>1.684927</td>\n",
       "    </tr>\n",
       "    <tr>\n",
       "      <th>std</th>\n",
       "      <td>9.875871</td>\n",
       "      <td>13.963072</td>\n",
       "      <td>9.878332</td>\n",
       "      <td>13.846063</td>\n",
       "      <td>10.678428</td>\n",
       "      <td>1.340484</td>\n",
       "    </tr>\n",
       "    <tr>\n",
       "      <th>min</th>\n",
       "      <td>-100.000000</td>\n",
       "      <td>-3384.693027</td>\n",
       "      <td>-3432.139393</td>\n",
       "      <td>-3366.536242</td>\n",
       "      <td>-3092.393485</td>\n",
       "      <td>0.000000</td>\n",
       "    </tr>\n",
       "    <tr>\n",
       "      <th>25%</th>\n",
       "      <td>6.000000</td>\n",
       "      <td>-73.992087</td>\n",
       "      <td>40.734833</td>\n",
       "      <td>-73.991410</td>\n",
       "      <td>40.733952</td>\n",
       "      <td>1.000000</td>\n",
       "    </tr>\n",
       "    <tr>\n",
       "      <th>50%</th>\n",
       "      <td>8.500000</td>\n",
       "      <td>-73.981837</td>\n",
       "      <td>40.752585</td>\n",
       "      <td>-73.980164</td>\n",
       "      <td>40.753128</td>\n",
       "      <td>1.000000</td>\n",
       "    </tr>\n",
       "    <tr>\n",
       "      <th>75%</th>\n",
       "      <td>12.500000</td>\n",
       "      <td>-73.967115</td>\n",
       "      <td>40.767094</td>\n",
       "      <td>-73.963676</td>\n",
       "      <td>40.768067</td>\n",
       "      <td>2.000000</td>\n",
       "    </tr>\n",
       "    <tr>\n",
       "      <th>max</th>\n",
       "      <td>850.000000</td>\n",
       "      <td>3442.185068</td>\n",
       "      <td>3310.364462</td>\n",
       "      <td>3442.185068</td>\n",
       "      <td>3305.291182</td>\n",
       "      <td>208.000000</td>\n",
       "    </tr>\n",
       "  </tbody>\n",
       "</table>\n",
       "</div>"
      ],
      "text/plain": [
       "         fare_amount  pickup_longitude  pickup_latitude  dropoff_longitude  \\\n",
       "count  999997.000000     999997.000000    999997.000000      999997.000000   \n",
       "mean       11.334147        -72.480723        39.924968         -72.486971   \n",
       "std         9.875871         13.963072         9.878332          13.846063   \n",
       "min      -100.000000      -3384.693027     -3432.139393       -3366.536242   \n",
       "25%         6.000000        -73.992087        40.734833         -73.991410   \n",
       "50%         8.500000        -73.981837        40.752585         -73.980164   \n",
       "75%        12.500000        -73.967115        40.767094         -73.963676   \n",
       "max       850.000000       3442.185068      3310.364462        3442.185068   \n",
       "\n",
       "       dropoff_latitude  passenger_count  \n",
       "count     999997.000000    999997.000000  \n",
       "mean          39.913230         1.684927  \n",
       "std           10.678428         1.340484  \n",
       "min        -3092.393485         0.000000  \n",
       "25%           40.733952         1.000000  \n",
       "50%           40.753128         1.000000  \n",
       "75%           40.768067         2.000000  \n",
       "max         3305.291182       208.000000  "
      ]
     },
     "execution_count": 71,
     "metadata": {},
     "output_type": "execute_result"
    }
   ],
   "source": [
    "training_set.describe()"
   ]
  },
  {
   "cell_type": "code",
   "execution_count": 74,
   "metadata": {},
   "outputs": [
    {
     "data": {
      "text/plain": [
       "count    999997.000000\n",
       "mean         11.334147\n",
       "std           9.875871\n",
       "min        -100.000000\n",
       "25%           6.000000\n",
       "50%           8.500000\n",
       "75%          12.500000\n",
       "max         850.000000\n",
       "Name: fare_amount, dtype: float64"
      ]
     },
     "execution_count": 74,
     "metadata": {},
     "output_type": "execute_result"
    }
   ],
   "source": [
    "training_set['fare_amount'].describe()"
   ]
  },
  {
   "cell_type": "markdown",
   "metadata": {},
   "source": [
    "### Training_set is having negative value fare so we will remove those rows"
   ]
  },
  {
   "cell_type": "code",
   "execution_count": 75,
   "metadata": {},
   "outputs": [
    {
     "data": {
      "text/plain": [
       "Counter({False: 999955, True: 42})"
      ]
     },
     "execution_count": 75,
     "metadata": {},
     "output_type": "execute_result"
    }
   ],
   "source": [
    "from collections import Counter\n",
    "Counter(training_set['fare_amount']<0)"
   ]
  },
  {
   "cell_type": "code",
   "execution_count": 76,
   "metadata": {},
   "outputs": [
    {
     "data": {
      "text/plain": [
       "(999955, 8)"
      ]
     },
     "execution_count": 76,
     "metadata": {},
     "output_type": "execute_result"
    }
   ],
   "source": [
    "training_set = training_set.drop(training_set[training_set['fare_amount']<0].index, axis=0)\n",
    "training_set.shape"
   ]
  },
  {
   "cell_type": "code",
   "execution_count": 77,
   "metadata": {},
   "outputs": [
    {
     "data": {
      "text/plain": [
       "count    999955.000000\n",
       "mean         11.334941\n",
       "std           9.874724\n",
       "min           0.000000\n",
       "25%           6.000000\n",
       "50%           8.500000\n",
       "75%          12.500000\n",
       "max         850.000000\n",
       "Name: fare_amount, dtype: float64"
      ]
     },
     "execution_count": 77,
     "metadata": {},
     "output_type": "execute_result"
    }
   ],
   "source": [
    "training_set['fare_amount'].describe()"
   ]
  },
  {
   "cell_type": "markdown",
   "metadata": {},
   "source": [
    "### Passenger count is greater than  7"
   ]
  },
  {
   "cell_type": "code",
   "execution_count": 78,
   "metadata": {},
   "outputs": [
    {
     "data": {
      "text/plain": [
       "count    999955.000000\n",
       "mean          1.684916\n",
       "std           1.340479\n",
       "min           0.000000\n",
       "25%           1.000000\n",
       "50%           1.000000\n",
       "75%           2.000000\n",
       "max         208.000000\n",
       "Name: passenger_count, dtype: float64"
      ]
     },
     "execution_count": 78,
     "metadata": {},
     "output_type": "execute_result"
    }
   ],
   "source": [
    "training_set['passenger_count'].describe()"
   ]
  },
  {
   "cell_type": "code",
   "execution_count": 94,
   "metadata": {},
   "outputs": [],
   "source": [
    "#len(training_set[training_set['passenger_count']>7])"
   ]
  },
  {
   "cell_type": "code",
   "execution_count": 79,
   "metadata": {},
   "outputs": [
    {
     "data": {
      "text/plain": [
       "Counter({False: 999953, True: 2})"
      ]
     },
     "execution_count": 79,
     "metadata": {},
     "output_type": "execute_result"
    }
   ],
   "source": [
    "#### Since we are restricting to yellow cabs or medallion taxi. So we are considering \n",
    "#### a maximum of 7 passengers can operate in a taxi at a time.\n",
    "Counter(training_set['passenger_count']>8)"
   ]
  },
  {
   "cell_type": "code",
   "execution_count": 80,
   "metadata": {},
   "outputs": [
    {
     "data": {
      "text/html": [
       "<div>\n",
       "<style scoped>\n",
       "    .dataframe tbody tr th:only-of-type {\n",
       "        vertical-align: middle;\n",
       "    }\n",
       "\n",
       "    .dataframe tbody tr th {\n",
       "        vertical-align: top;\n",
       "    }\n",
       "\n",
       "    .dataframe thead th {\n",
       "        text-align: right;\n",
       "    }\n",
       "</style>\n",
       "<table border=\"1\" class=\"dataframe\">\n",
       "  <thead>\n",
       "    <tr style=\"text-align: right;\">\n",
       "      <th></th>\n",
       "      <th>fare_amount</th>\n",
       "      <th>pickup_longitude</th>\n",
       "      <th>pickup_latitude</th>\n",
       "      <th>dropoff_longitude</th>\n",
       "      <th>dropoff_latitude</th>\n",
       "      <th>passenger_count</th>\n",
       "    </tr>\n",
       "  </thead>\n",
       "  <tbody>\n",
       "    <tr>\n",
       "      <th>count</th>\n",
       "      <td>999953.000000</td>\n",
       "      <td>999953.000000</td>\n",
       "      <td>999953.000000</td>\n",
       "      <td>999953.000000</td>\n",
       "      <td>999953.000000</td>\n",
       "      <td>999953.000000</td>\n",
       "    </tr>\n",
       "    <tr>\n",
       "      <th>mean</th>\n",
       "      <td>11.334937</td>\n",
       "      <td>-72.481028</td>\n",
       "      <td>39.925136</td>\n",
       "      <td>-72.487202</td>\n",
       "      <td>39.913357</td>\n",
       "      <td>1.684503</td>\n",
       "    </tr>\n",
       "    <tr>\n",
       "      <th>std</th>\n",
       "      <td>9.874722</td>\n",
       "      <td>13.962435</td>\n",
       "      <td>9.878145</td>\n",
       "      <td>13.845605</td>\n",
       "      <td>10.678363</td>\n",
       "      <td>1.308340</td>\n",
       "    </tr>\n",
       "    <tr>\n",
       "      <th>min</th>\n",
       "      <td>0.000000</td>\n",
       "      <td>-3384.693027</td>\n",
       "      <td>-3432.139393</td>\n",
       "      <td>-3366.536242</td>\n",
       "      <td>-3092.393485</td>\n",
       "      <td>0.000000</td>\n",
       "    </tr>\n",
       "    <tr>\n",
       "      <th>25%</th>\n",
       "      <td>6.000000</td>\n",
       "      <td>-73.992087</td>\n",
       "      <td>40.734835</td>\n",
       "      <td>-73.991410</td>\n",
       "      <td>40.733953</td>\n",
       "      <td>1.000000</td>\n",
       "    </tr>\n",
       "    <tr>\n",
       "      <th>50%</th>\n",
       "      <td>8.500000</td>\n",
       "      <td>-73.981837</td>\n",
       "      <td>40.752586</td>\n",
       "      <td>-73.980164</td>\n",
       "      <td>40.753128</td>\n",
       "      <td>1.000000</td>\n",
       "    </tr>\n",
       "    <tr>\n",
       "      <th>75%</th>\n",
       "      <td>12.500000</td>\n",
       "      <td>-73.967115</td>\n",
       "      <td>40.767094</td>\n",
       "      <td>-73.963677</td>\n",
       "      <td>40.768067</td>\n",
       "      <td>2.000000</td>\n",
       "    </tr>\n",
       "    <tr>\n",
       "      <th>max</th>\n",
       "      <td>850.000000</td>\n",
       "      <td>3442.185068</td>\n",
       "      <td>3310.364462</td>\n",
       "      <td>3442.185068</td>\n",
       "      <td>3305.291182</td>\n",
       "      <td>6.000000</td>\n",
       "    </tr>\n",
       "  </tbody>\n",
       "</table>\n",
       "</div>"
      ],
      "text/plain": [
       "         fare_amount  pickup_longitude  pickup_latitude  dropoff_longitude  \\\n",
       "count  999953.000000     999953.000000    999953.000000      999953.000000   \n",
       "mean       11.334937        -72.481028        39.925136         -72.487202   \n",
       "std         9.874722         13.962435         9.878145          13.845605   \n",
       "min         0.000000      -3384.693027     -3432.139393       -3366.536242   \n",
       "25%         6.000000        -73.992087        40.734835         -73.991410   \n",
       "50%         8.500000        -73.981837        40.752586         -73.980164   \n",
       "75%        12.500000        -73.967115        40.767094         -73.963677   \n",
       "max       850.000000       3442.185068      3310.364462        3442.185068   \n",
       "\n",
       "       dropoff_latitude  passenger_count  \n",
       "count     999953.000000    999953.000000  \n",
       "mean          39.913357         1.684503  \n",
       "std           10.678363         1.308340  \n",
       "min        -3092.393485         0.000000  \n",
       "25%           40.733953         1.000000  \n",
       "50%           40.753128         1.000000  \n",
       "75%           40.768067         2.000000  \n",
       "max         3305.291182         6.000000  "
      ]
     },
     "execution_count": 80,
     "metadata": {},
     "output_type": "execute_result"
    }
   ],
   "source": [
    "training_set = training_set.drop(training_set[training_set['passenger_count']>8].index, axis = 0)\n",
    "training_set.describe()"
   ]
  },
  {
   "cell_type": "markdown",
   "metadata": {},
   "source": [
    "### Removing invalid Longitude and Latitude "
   ]
  },
  {
   "cell_type": "code",
   "execution_count": 81,
   "metadata": {},
   "outputs": [
    {
     "data": {
      "text/html": [
       "<div>\n",
       "<style scoped>\n",
       "    .dataframe tbody tr th:only-of-type {\n",
       "        vertical-align: middle;\n",
       "    }\n",
       "\n",
       "    .dataframe tbody tr th {\n",
       "        vertical-align: top;\n",
       "    }\n",
       "\n",
       "    .dataframe thead th {\n",
       "        text-align: right;\n",
       "    }\n",
       "</style>\n",
       "<table border=\"1\" class=\"dataframe\">\n",
       "  <thead>\n",
       "    <tr style=\"text-align: right;\">\n",
       "      <th></th>\n",
       "      <th>pickup_longitude</th>\n",
       "      <th>pickup_latitude</th>\n",
       "    </tr>\n",
       "  </thead>\n",
       "  <tbody>\n",
       "    <tr>\n",
       "      <th>count</th>\n",
       "      <td>999953.000000</td>\n",
       "      <td>999953.000000</td>\n",
       "    </tr>\n",
       "    <tr>\n",
       "      <th>mean</th>\n",
       "      <td>-72.481028</td>\n",
       "      <td>39.925136</td>\n",
       "    </tr>\n",
       "    <tr>\n",
       "      <th>std</th>\n",
       "      <td>13.962435</td>\n",
       "      <td>9.878145</td>\n",
       "    </tr>\n",
       "    <tr>\n",
       "      <th>min</th>\n",
       "      <td>-3384.693027</td>\n",
       "      <td>-3432.139393</td>\n",
       "    </tr>\n",
       "    <tr>\n",
       "      <th>25%</th>\n",
       "      <td>-73.992087</td>\n",
       "      <td>40.734835</td>\n",
       "    </tr>\n",
       "    <tr>\n",
       "      <th>50%</th>\n",
       "      <td>-73.981837</td>\n",
       "      <td>40.752586</td>\n",
       "    </tr>\n",
       "    <tr>\n",
       "      <th>75%</th>\n",
       "      <td>-73.967115</td>\n",
       "      <td>40.767094</td>\n",
       "    </tr>\n",
       "    <tr>\n",
       "      <th>max</th>\n",
       "      <td>3442.185068</td>\n",
       "      <td>3310.364462</td>\n",
       "    </tr>\n",
       "  </tbody>\n",
       "</table>\n",
       "</div>"
      ],
      "text/plain": [
       "       pickup_longitude  pickup_latitude\n",
       "count     999953.000000    999953.000000\n",
       "mean         -72.481028        39.925136\n",
       "std           13.962435         9.878145\n",
       "min        -3384.693027     -3432.139393\n",
       "25%          -73.992087        40.734835\n",
       "50%          -73.981837        40.752586\n",
       "75%          -73.967115        40.767094\n",
       "max         3442.185068      3310.364462"
      ]
     },
     "execution_count": 81,
     "metadata": {},
     "output_type": "execute_result"
    }
   ],
   "source": [
    "training_set[['pickup_longitude','pickup_latitude']].describe()"
   ]
  },
  {
   "cell_type": "code",
   "execution_count": 82,
   "metadata": {},
   "outputs": [
    {
     "data": {
      "text/html": [
       "<div>\n",
       "<style scoped>\n",
       "    .dataframe tbody tr th:only-of-type {\n",
       "        vertical-align: middle;\n",
       "    }\n",
       "\n",
       "    .dataframe tbody tr th {\n",
       "        vertical-align: top;\n",
       "    }\n",
       "\n",
       "    .dataframe thead th {\n",
       "        text-align: right;\n",
       "    }\n",
       "</style>\n",
       "<table border=\"1\" class=\"dataframe\">\n",
       "  <thead>\n",
       "    <tr style=\"text-align: right;\">\n",
       "      <th></th>\n",
       "      <th>dropoff_longitude</th>\n",
       "      <th>dropoff_latitude</th>\n",
       "    </tr>\n",
       "  </thead>\n",
       "  <tbody>\n",
       "    <tr>\n",
       "      <th>count</th>\n",
       "      <td>999953.000000</td>\n",
       "      <td>999953.000000</td>\n",
       "    </tr>\n",
       "    <tr>\n",
       "      <th>mean</th>\n",
       "      <td>-72.487202</td>\n",
       "      <td>39.913357</td>\n",
       "    </tr>\n",
       "    <tr>\n",
       "      <th>std</th>\n",
       "      <td>13.845605</td>\n",
       "      <td>10.678363</td>\n",
       "    </tr>\n",
       "    <tr>\n",
       "      <th>min</th>\n",
       "      <td>-3366.536242</td>\n",
       "      <td>-3092.393485</td>\n",
       "    </tr>\n",
       "    <tr>\n",
       "      <th>25%</th>\n",
       "      <td>-73.991410</td>\n",
       "      <td>40.733953</td>\n",
       "    </tr>\n",
       "    <tr>\n",
       "      <th>50%</th>\n",
       "      <td>-73.980164</td>\n",
       "      <td>40.753128</td>\n",
       "    </tr>\n",
       "    <tr>\n",
       "      <th>75%</th>\n",
       "      <td>-73.963677</td>\n",
       "      <td>40.768067</td>\n",
       "    </tr>\n",
       "    <tr>\n",
       "      <th>max</th>\n",
       "      <td>3442.185068</td>\n",
       "      <td>3305.291182</td>\n",
       "    </tr>\n",
       "  </tbody>\n",
       "</table>\n",
       "</div>"
      ],
      "text/plain": [
       "       dropoff_longitude  dropoff_latitude\n",
       "count      999953.000000     999953.000000\n",
       "mean          -72.487202         39.913357\n",
       "std            13.845605         10.678363\n",
       "min         -3366.536242      -3092.393485\n",
       "25%           -73.991410         40.733953\n",
       "50%           -73.980164         40.753128\n",
       "75%           -73.963677         40.768067\n",
       "max          3442.185068       3305.291182"
      ]
     },
     "execution_count": 82,
     "metadata": {},
     "output_type": "execute_result"
    }
   ],
   "source": [
    "training_set[['dropoff_longitude','dropoff_latitude']].describe()"
   ]
  },
  {
   "cell_type": "markdown",
   "metadata": {},
   "source": [
    "#### Valid Longitude value = -180 to 180\n",
    "#### Valid Latitude value = -90 to 90\n",
    "#### Remove pickup cordinates and drop off cordinates which dont fall in this range "
   ]
  },
  {
   "cell_type": "markdown",
   "metadata": {},
   "source": [
    "##### Remove invalid pickup cordinates "
   ]
  },
  {
   "cell_type": "code",
   "execution_count": 83,
   "metadata": {},
   "outputs": [
    {
     "name": "stdout",
     "output_type": "stream",
     "text": [
      "Number of invalid pickup cordinates =  31\n"
     ]
    }
   ],
   "source": [
    "print(\"Number of invalid pickup cordinates = \",len((training_set[training_set['pickup_latitude']<-90])|(training_set[training_set['pickup_latitude']>90])|(training_set[training_set['pickup_longitude']<-180])|(training_set[training_set['pickup_longitude']>180])))"
   ]
  },
  {
   "cell_type": "code",
   "execution_count": 84,
   "metadata": {
    "scrolled": true
   },
   "outputs": [
    {
     "data": {
      "text/plain": [
       "(999922, 8)"
      ]
     },
     "execution_count": 84,
     "metadata": {},
     "output_type": "execute_result"
    }
   ],
   "source": [
    "training_set = training_set.drop(((training_set[training_set['pickup_latitude']<-90])|(training_set[training_set['pickup_latitude']>90])|(training_set[training_set['pickup_longitude']<-180])|(training_set[training_set['pickup_longitude']>180])).index, axis=0)\n",
    "training_set.shape"
   ]
  },
  {
   "cell_type": "markdown",
   "metadata": {},
   "source": [
    "##### Remove invalid drop off cordinates  "
   ]
  },
  {
   "cell_type": "code",
   "execution_count": 85,
   "metadata": {},
   "outputs": [
    {
     "name": "stdout",
     "output_type": "stream",
     "text": [
      "Number of invalid drop off cordinates =  19\n"
     ]
    }
   ],
   "source": [
    "print(\"Number of invalid drop off cordinates = \",len((training_set[training_set['dropoff_latitude']<-90])|(training_set[training_set['dropoff_latitude']>90])|(training_set[training_set['dropoff_longitude']<-180])|(training_set[training_set['dropoff_longitude']>180])))"
   ]
  },
  {
   "cell_type": "code",
   "execution_count": 86,
   "metadata": {},
   "outputs": [
    {
     "data": {
      "text/plain": [
       "(999903, 8)"
      ]
     },
     "execution_count": 86,
     "metadata": {},
     "output_type": "execute_result"
    }
   ],
   "source": [
    "training_set = training_set.drop(((training_set[training_set['dropoff_latitude']<-90])|(training_set[training_set['dropoff_latitude']>90])|(training_set[training_set['dropoff_longitude']<-180])|(training_set[training_set['dropoff_longitude']>180])).index, axis=0)\n",
    "training_set.shape"
   ]
  },
  {
   "cell_type": "markdown",
   "metadata": {},
   "source": [
    "## Distance between pick up location and drop off location\n",
    "#### The distance in a sphere can be calculated when latitudes and longitudes are given by Haversine formula\n",
    "#### haversine(θ) = sin²(θ/2)\n",
    "\n",
    "#### φ is latitude, λ is longitude, R is earth’s radius (mean radius = 6,371km) to include latitude and longitude coordinates (A and B in this case).\n",
    "\n",
    "#### a = sin²((φB - φA)/2) + cos φA . cos φB . sin²((λB - λA)/2)\n",
    "\n",
    "#### c = 2 * atan2( √a, √(1−a) )\n",
    "\n",
    "#### d = R ⋅ c\n",
    "\n",
    "#### d = Haversine distance"
   ]
  },
  {
   "cell_type": "code",
   "execution_count": 323,
   "metadata": {},
   "outputs": [],
   "source": [
    "def haversine_distance(data):\n",
    "    R = 6371        # Radius of earth in Kilo Meter\n",
    "    \n",
    "    pickup_data = data[['pickup_longitude','pickup_latitude']]\n",
    "    dropoff_data = data[['dropoff_longitude','dropoff_latitude']]\n",
    "    \n",
    "    phi1 = np.radians(pickup_data['pickup_latitude'])\n",
    "    phi2 = np.radians(dropoff_data['dropoff_latitude'])\n",
    "    \n",
    "    delta_phi = np.radians(dropoff_data['dropoff_latitude'] - pickup_data['pickup_latitude'])\n",
    "    delta_lambda = np.radians(dropoff_data['dropoff_longitude'] - pickup_data['pickup_longitude'])\n",
    "    \n",
    "    #a = sin²((φB - φA)/2) + cos φA . cos φB . sin²((λB - λA)/2)\n",
    "    a = np.sin((delta_phi)/2)**2 + np.cos(phi1)*np.cos(phi2)*np.sin(delta_lambda/2)**2\n",
    "    \n",
    "    #c = 2 * atan2( √a, √(1−a) )\n",
    "    c = 2 * np.arctan2(np.sqrt(a),np.sqrt(1-a))\n",
    "    d = R * c\n",
    "    \n",
    "    return d\n",
    "    "
   ]
  },
  {
   "cell_type": "code",
   "execution_count": 89,
   "metadata": {
    "scrolled": false
   },
   "outputs": [],
   "source": [
    "training_set_distance = pd.DataFrame(haversine_distance(training_set) , columns=['Distance'])\n",
    "training_set = pd.concat([training_set , training_set_distance] , axis = 1)"
   ]
  },
  {
   "cell_type": "code",
   "execution_count": 324,
   "metadata": {},
   "outputs": [],
   "source": [
    "dev_set_distance = pd.DataFrame(haversine_distance(dev_set) , columns=['Distance'])\n",
    "dev_set = pd.concat([dev_set , dev_set_distance] , axis = 1)"
   ]
  },
  {
   "cell_type": "code",
   "execution_count": 325,
   "metadata": {},
   "outputs": [
    {
     "data": {
      "text/html": [
       "<div>\n",
       "<style scoped>\n",
       "    .dataframe tbody tr th:only-of-type {\n",
       "        vertical-align: middle;\n",
       "    }\n",
       "\n",
       "    .dataframe tbody tr th {\n",
       "        vertical-align: top;\n",
       "    }\n",
       "\n",
       "    .dataframe thead th {\n",
       "        text-align: right;\n",
       "    }\n",
       "</style>\n",
       "<table border=\"1\" class=\"dataframe\">\n",
       "  <thead>\n",
       "    <tr style=\"text-align: right;\">\n",
       "      <th></th>\n",
       "      <th>key</th>\n",
       "      <th>fare_amount</th>\n",
       "      <th>pickup_datetime</th>\n",
       "      <th>pickup_longitude</th>\n",
       "      <th>pickup_latitude</th>\n",
       "      <th>dropoff_longitude</th>\n",
       "      <th>dropoff_latitude</th>\n",
       "      <th>passenger_count</th>\n",
       "      <th>Distance</th>\n",
       "    </tr>\n",
       "  </thead>\n",
       "  <tbody>\n",
       "    <tr>\n",
       "      <th>7643707</th>\n",
       "      <td>2012-09-29 13:42:42.0000006</td>\n",
       "      <td>9.50</td>\n",
       "      <td>2012-09-29 13:42:42 UTC</td>\n",
       "      <td>-73.972029</td>\n",
       "      <td>40.765682</td>\n",
       "      <td>-73.992124</td>\n",
       "      <td>40.759216</td>\n",
       "      <td>1</td>\n",
       "      <td>1.838823</td>\n",
       "    </tr>\n",
       "    <tr>\n",
       "      <th>3267441</th>\n",
       "      <td>2009-08-28 20:47:00.000000107</td>\n",
       "      <td>5.30</td>\n",
       "      <td>2009-08-28 20:47:00 UTC</td>\n",
       "      <td>-73.985183</td>\n",
       "      <td>40.755835</td>\n",
       "      <td>-74.000965</td>\n",
       "      <td>40.762010</td>\n",
       "      <td>1</td>\n",
       "      <td>1.496122</td>\n",
       "    </tr>\n",
       "    <tr>\n",
       "      <th>5661889</th>\n",
       "      <td>2010-04-05 14:04:00.00000019</td>\n",
       "      <td>4.50</td>\n",
       "      <td>2010-04-05 14:04:00 UTC</td>\n",
       "      <td>-73.978722</td>\n",
       "      <td>40.724193</td>\n",
       "      <td>-73.986525</td>\n",
       "      <td>40.719412</td>\n",
       "      <td>5</td>\n",
       "      <td>0.845599</td>\n",
       "    </tr>\n",
       "    <tr>\n",
       "      <th>5276512</th>\n",
       "      <td>2015-04-04 14:27:19.0000004</td>\n",
       "      <td>10.00</td>\n",
       "      <td>2015-04-04 14:27:19 UTC</td>\n",
       "      <td>-73.987663</td>\n",
       "      <td>40.743610</td>\n",
       "      <td>-74.005692</td>\n",
       "      <td>40.741241</td>\n",
       "      <td>6</td>\n",
       "      <td>1.541499</td>\n",
       "    </tr>\n",
       "    <tr>\n",
       "      <th>3294883</th>\n",
       "      <td>2010-05-24 11:28:00.00000028</td>\n",
       "      <td>32.67</td>\n",
       "      <td>2010-05-24 11:28:00 UTC</td>\n",
       "      <td>0.000000</td>\n",
       "      <td>0.000000</td>\n",
       "      <td>0.000000</td>\n",
       "      <td>0.000000</td>\n",
       "      <td>2</td>\n",
       "      <td>0.000000</td>\n",
       "    </tr>\n",
       "  </tbody>\n",
       "</table>\n",
       "</div>"
      ],
      "text/plain": [
       "                                   key  fare_amount          pickup_datetime  \\\n",
       "7643707    2012-09-29 13:42:42.0000006         9.50  2012-09-29 13:42:42 UTC   \n",
       "3267441  2009-08-28 20:47:00.000000107         5.30  2009-08-28 20:47:00 UTC   \n",
       "5661889   2010-04-05 14:04:00.00000019         4.50  2010-04-05 14:04:00 UTC   \n",
       "5276512    2015-04-04 14:27:19.0000004        10.00  2015-04-04 14:27:19 UTC   \n",
       "3294883   2010-05-24 11:28:00.00000028        32.67  2010-05-24 11:28:00 UTC   \n",
       "\n",
       "         pickup_longitude  pickup_latitude  dropoff_longitude  \\\n",
       "7643707        -73.972029        40.765682         -73.992124   \n",
       "3267441        -73.985183        40.755835         -74.000965   \n",
       "5661889        -73.978722        40.724193         -73.986525   \n",
       "5276512        -73.987663        40.743610         -74.005692   \n",
       "3294883          0.000000         0.000000           0.000000   \n",
       "\n",
       "         dropoff_latitude  passenger_count  Distance  \n",
       "7643707         40.759216                1  1.838823  \n",
       "3267441         40.762010                1  1.496122  \n",
       "5661889         40.719412                5  0.845599  \n",
       "5276512         40.741241                6  1.541499  \n",
       "3294883          0.000000                2  0.000000  "
      ]
     },
     "execution_count": 325,
     "metadata": {},
     "output_type": "execute_result"
    }
   ],
   "source": [
    "dev_set.head()"
   ]
  },
  {
   "cell_type": "code",
   "execution_count": 221,
   "metadata": {
    "scrolled": true
   },
   "outputs": [
    {
     "data": {
      "text/html": [
       "<div>\n",
       "<style scoped>\n",
       "    .dataframe tbody tr th:only-of-type {\n",
       "        vertical-align: middle;\n",
       "    }\n",
       "\n",
       "    .dataframe tbody tr th {\n",
       "        vertical-align: top;\n",
       "    }\n",
       "\n",
       "    .dataframe thead th {\n",
       "        text-align: right;\n",
       "    }\n",
       "</style>\n",
       "<table border=\"1\" class=\"dataframe\">\n",
       "  <thead>\n",
       "    <tr style=\"text-align: right;\">\n",
       "      <th></th>\n",
       "      <th>key</th>\n",
       "      <th>fare_amount</th>\n",
       "      <th>pickup_datetime</th>\n",
       "      <th>pickup_longitude</th>\n",
       "      <th>pickup_latitude</th>\n",
       "      <th>dropoff_longitude</th>\n",
       "      <th>dropoff_latitude</th>\n",
       "      <th>passenger_count</th>\n",
       "      <th>Distance</th>\n",
       "    </tr>\n",
       "  </thead>\n",
       "  <tbody>\n",
       "    <tr>\n",
       "      <th>2169279</th>\n",
       "      <td>2013-09-23 20:32:00.000000202</td>\n",
       "      <td>35.83</td>\n",
       "      <td>2013-09-23 20:32:00 UTC</td>\n",
       "      <td>-73.892837</td>\n",
       "      <td>40.766115</td>\n",
       "      <td>-73.972112</td>\n",
       "      <td>40.759092</td>\n",
       "      <td>1</td>\n",
       "      <td>6.722167</td>\n",
       "    </tr>\n",
       "    <tr>\n",
       "      <th>6222936</th>\n",
       "      <td>2011-05-06 21:24:00.000000134</td>\n",
       "      <td>6.10</td>\n",
       "      <td>2011-05-06 21:24:00 UTC</td>\n",
       "      <td>-73.974817</td>\n",
       "      <td>40.756928</td>\n",
       "      <td>-73.974353</td>\n",
       "      <td>40.764198</td>\n",
       "      <td>2</td>\n",
       "      <td>0.809331</td>\n",
       "    </tr>\n",
       "    <tr>\n",
       "      <th>3554148</th>\n",
       "      <td>2011-11-26 12:59:51.0000002</td>\n",
       "      <td>5.70</td>\n",
       "      <td>2011-11-26 12:59:51 UTC</td>\n",
       "      <td>-73.957030</td>\n",
       "      <td>40.779109</td>\n",
       "      <td>-73.969032</td>\n",
       "      <td>40.790913</td>\n",
       "      <td>2</td>\n",
       "      <td>1.656458</td>\n",
       "    </tr>\n",
       "    <tr>\n",
       "      <th>3450966</th>\n",
       "      <td>2015-04-18 13:38:38.0000006</td>\n",
       "      <td>42.50</td>\n",
       "      <td>2015-04-18 13:38:38 UTC</td>\n",
       "      <td>-73.862823</td>\n",
       "      <td>40.769070</td>\n",
       "      <td>-73.796646</td>\n",
       "      <td>40.749111</td>\n",
       "      <td>1</td>\n",
       "      <td>5.999415</td>\n",
       "    </tr>\n",
       "    <tr>\n",
       "      <th>2744136</th>\n",
       "      <td>2010-01-28 12:05:00.000000123</td>\n",
       "      <td>6.90</td>\n",
       "      <td>2010-01-28 12:05:00 UTC</td>\n",
       "      <td>-73.977865</td>\n",
       "      <td>40.762637</td>\n",
       "      <td>-73.982895</td>\n",
       "      <td>40.755497</td>\n",
       "      <td>2</td>\n",
       "      <td>0.899896</td>\n",
       "    </tr>\n",
       "  </tbody>\n",
       "</table>\n",
       "</div>"
      ],
      "text/plain": [
       "                                   key  fare_amount          pickup_datetime  \\\n",
       "2169279  2013-09-23 20:32:00.000000202        35.83  2013-09-23 20:32:00 UTC   \n",
       "6222936  2011-05-06 21:24:00.000000134         6.10  2011-05-06 21:24:00 UTC   \n",
       "3554148    2011-11-26 12:59:51.0000002         5.70  2011-11-26 12:59:51 UTC   \n",
       "3450966    2015-04-18 13:38:38.0000006        42.50  2015-04-18 13:38:38 UTC   \n",
       "2744136  2010-01-28 12:05:00.000000123         6.90  2010-01-28 12:05:00 UTC   \n",
       "\n",
       "         pickup_longitude  pickup_latitude  dropoff_longitude  \\\n",
       "2169279        -73.892837        40.766115         -73.972112   \n",
       "6222936        -73.974817        40.756928         -73.974353   \n",
       "3554148        -73.957030        40.779109         -73.969032   \n",
       "3450966        -73.862823        40.769070         -73.796646   \n",
       "2744136        -73.977865        40.762637         -73.982895   \n",
       "\n",
       "         dropoff_latitude  passenger_count  Distance  \n",
       "2169279         40.759092                1  6.722167  \n",
       "6222936         40.764198                2  0.809331  \n",
       "3554148         40.790913                2  1.656458  \n",
       "3450966         40.749111                1  5.999415  \n",
       "2744136         40.755497                2  0.899896  "
      ]
     },
     "execution_count": 221,
     "metadata": {},
     "output_type": "execute_result"
    }
   ],
   "source": [
    "training_set.head()"
   ]
  },
  {
   "cell_type": "code",
   "execution_count": 91,
   "metadata": {},
   "outputs": [
    {
     "data": {
      "text/html": [
       "<div>\n",
       "<style scoped>\n",
       "    .dataframe tbody tr th:only-of-type {\n",
       "        vertical-align: middle;\n",
       "    }\n",
       "\n",
       "    .dataframe tbody tr th {\n",
       "        vertical-align: top;\n",
       "    }\n",
       "\n",
       "    .dataframe thead th {\n",
       "        text-align: right;\n",
       "    }\n",
       "</style>\n",
       "<table border=\"1\" class=\"dataframe\">\n",
       "  <thead>\n",
       "    <tr style=\"text-align: right;\">\n",
       "      <th></th>\n",
       "      <th>fare_amount</th>\n",
       "      <th>pickup_longitude</th>\n",
       "      <th>pickup_latitude</th>\n",
       "      <th>dropoff_longitude</th>\n",
       "      <th>dropoff_latitude</th>\n",
       "      <th>passenger_count</th>\n",
       "      <th>Distance</th>\n",
       "    </tr>\n",
       "  </thead>\n",
       "  <tbody>\n",
       "    <tr>\n",
       "      <th>count</th>\n",
       "      <td>999903.000000</td>\n",
       "      <td>999903.000000</td>\n",
       "      <td>999903.000000</td>\n",
       "      <td>999903.000000</td>\n",
       "      <td>999903.000000</td>\n",
       "      <td>999903.000000</td>\n",
       "      <td>999903.000000</td>\n",
       "    </tr>\n",
       "    <tr>\n",
       "      <th>mean</th>\n",
       "      <td>11.334957</td>\n",
       "      <td>-72.481450</td>\n",
       "      <td>39.907137</td>\n",
       "      <td>-72.483683</td>\n",
       "      <td>39.907337</td>\n",
       "      <td>1.684522</td>\n",
       "      <td>19.428630</td>\n",
       "    </tr>\n",
       "    <tr>\n",
       "      <th>std</th>\n",
       "      <td>9.874733</td>\n",
       "      <td>10.520039</td>\n",
       "      <td>6.167129</td>\n",
       "      <td>10.509698</td>\n",
       "      <td>6.167937</td>\n",
       "      <td>1.308356</td>\n",
       "      <td>366.245578</td>\n",
       "    </tr>\n",
       "    <tr>\n",
       "      <th>min</th>\n",
       "      <td>0.000000</td>\n",
       "      <td>-121.391298</td>\n",
       "      <td>-74.016317</td>\n",
       "      <td>-121.391302</td>\n",
       "      <td>-74.064435</td>\n",
       "      <td>0.000000</td>\n",
       "      <td>0.000000</td>\n",
       "    </tr>\n",
       "    <tr>\n",
       "      <th>25%</th>\n",
       "      <td>6.000000</td>\n",
       "      <td>-73.992087</td>\n",
       "      <td>40.734834</td>\n",
       "      <td>-73.991409</td>\n",
       "      <td>40.733953</td>\n",
       "      <td>1.000000</td>\n",
       "      <td>1.212293</td>\n",
       "    </tr>\n",
       "    <tr>\n",
       "      <th>50%</th>\n",
       "      <td>8.500000</td>\n",
       "      <td>-73.981837</td>\n",
       "      <td>40.752585</td>\n",
       "      <td>-73.980164</td>\n",
       "      <td>40.753128</td>\n",
       "      <td>1.000000</td>\n",
       "      <td>2.116155</td>\n",
       "    </tr>\n",
       "    <tr>\n",
       "      <th>75%</th>\n",
       "      <td>12.500000</td>\n",
       "      <td>-73.967116</td>\n",
       "      <td>40.767093</td>\n",
       "      <td>-73.963677</td>\n",
       "      <td>40.768067</td>\n",
       "      <td>2.000000</td>\n",
       "      <td>3.871821</td>\n",
       "    </tr>\n",
       "    <tr>\n",
       "      <th>max</th>\n",
       "      <td>850.000000</td>\n",
       "      <td>40.805142</td>\n",
       "      <td>73.984743</td>\n",
       "      <td>40.913530</td>\n",
       "      <td>81.554673</td>\n",
       "      <td>6.000000</td>\n",
       "      <td>9748.821923</td>\n",
       "    </tr>\n",
       "  </tbody>\n",
       "</table>\n",
       "</div>"
      ],
      "text/plain": [
       "         fare_amount  pickup_longitude  pickup_latitude  dropoff_longitude  \\\n",
       "count  999903.000000     999903.000000    999903.000000      999903.000000   \n",
       "mean       11.334957        -72.481450        39.907137         -72.483683   \n",
       "std         9.874733         10.520039         6.167129          10.509698   \n",
       "min         0.000000       -121.391298       -74.016317        -121.391302   \n",
       "25%         6.000000        -73.992087        40.734834         -73.991409   \n",
       "50%         8.500000        -73.981837        40.752585         -73.980164   \n",
       "75%        12.500000        -73.967116        40.767093         -73.963677   \n",
       "max       850.000000         40.805142        73.984743          40.913530   \n",
       "\n",
       "       dropoff_latitude  passenger_count       Distance  \n",
       "count     999903.000000    999903.000000  999903.000000  \n",
       "mean          39.907337         1.684522      19.428630  \n",
       "std            6.167937         1.308356     366.245578  \n",
       "min          -74.064435         0.000000       0.000000  \n",
       "25%           40.733953         1.000000       1.212293  \n",
       "50%           40.753128         1.000000       2.116155  \n",
       "75%           40.768067         2.000000       3.871821  \n",
       "max           81.554673         6.000000    9748.821923  "
      ]
     },
     "execution_count": 91,
     "metadata": {},
     "output_type": "execute_result"
    }
   ],
   "source": [
    "training_set.describe()"
   ]
  },
  {
   "cell_type": "markdown",
   "metadata": {},
   "source": [
    "# Linear Regression Model"
   ]
  },
  {
   "cell_type": "code",
   "execution_count": 333,
   "metadata": {},
   "outputs": [
    {
     "name": "stdout",
     "output_type": "stream",
     "text": [
      "         passenger_count  Distance\n",
      "7643707                1  1.838823\n",
      "3267441                1  1.496122\n",
      "5661889                5  0.845599\n",
      "5276512                6  1.541499\n",
      "3294883                2  0.000000\n"
     ]
    }
   ],
   "source": [
    "from sklearn.linear_model import LinearRegression\n",
    "reg = LinearRegression()\n",
    "\n",
    "#X_train = training_set[['pickup_longitude', 'pickup_latitude','dropoff_longitude', 'dropoff_latitude','passenger_count']]\n",
    "X_train = training_set[['passenger_count', 'Distance']]\n",
    "Y_train = training_set['fare_amount']\n",
    "reg.fit(X_train, Y_train)\n",
    "\n",
    "\n",
    "#X_test = dev_set[['pickup_longitude', 'pickup_latitude','dropoff_longitude', 'dropoff_latitude','passenger_count']]\n",
    "X_test = dev_set[['passenger_count', 'Distance']]\n",
    "Y_test = dev_set['fare_amount']\n",
    "print(X_test.head())\n"
   ]
  },
  {
   "cell_type": "markdown",
   "metadata": {},
   "source": [
    "## Coefficients of Multivariate Regression"
   ]
  },
  {
   "cell_type": "code",
   "execution_count": 334,
   "metadata": {},
   "outputs": [
    {
     "data": {
      "text/plain": [
       "array([0.1081975 , 0.00067116])"
      ]
     },
     "execution_count": 334,
     "metadata": {},
     "output_type": "execute_result"
    }
   ],
   "source": [
    "reg.coef_"
   ]
  },
  {
   "cell_type": "markdown",
   "metadata": {},
   "source": [
    "## Intercept"
   ]
  },
  {
   "cell_type": "code",
   "execution_count": 335,
   "metadata": {},
   "outputs": [
    {
     "data": {
      "text/plain": [
       "11.13965643383255"
      ]
     },
     "execution_count": 335,
     "metadata": {},
     "output_type": "execute_result"
    }
   ],
   "source": [
    "reg.intercept_"
   ]
  },
  {
   "cell_type": "markdown",
   "metadata": {},
   "source": [
    "## Predicted values of Fare amount"
   ]
  },
  {
   "cell_type": "code",
   "execution_count": 336,
   "metadata": {},
   "outputs": [
    {
     "name": "stdout",
     "output_type": "stream",
     "text": [
      "(10000,)\n",
      "(10000,)\n"
     ]
    }
   ],
   "source": [
    "Y_predictions = reg.predict(X_test)\n",
    "\n",
    "print(Y_predictions.shape)\n",
    "print(Y_test.shape)\n"
   ]
  },
  {
   "cell_type": "markdown",
   "metadata": {},
   "source": [
    "## Plot the values of Actual and Predicted Values"
   ]
  },
  {
   "cell_type": "code",
   "execution_count": 342,
   "metadata": {},
   "outputs": [
    {
     "data": {
      "text/plain": [
       "(1, 10000)"
      ]
     },
     "execution_count": 342,
     "metadata": {},
     "output_type": "execute_result"
    },
    {
     "data": {
      "image/png": "[encoded data removed]",
      "text/plain": [
       "<Figure size 432x288 with 1 Axes>"
      ]
     },
     "metadata": {
      "needs_background": "light"
     },
     "output_type": "display_data"
    }
   ],
   "source": [
    "training_set.head()\n",
    "#print(training_set.iloc[:,0:1].shape)\n",
    "#print(Y_predictions)\n",
    "Y_test=np.asarray(dev_set['fare_amount'])\n",
    "#print(Y_predictions.shape)\n",
    "#print(Y_test.shape)\n",
    "#plt.hold(True)\n",
    "plt.plot(Y_test, color = 'blue')\n",
    "plt.plot(Y_predictions, color = 'red')\n",
    "plt.xlim(1,10000)"
   ]
  },
  {
   "cell_type": "markdown",
   "metadata": {},
   "source": [
    "## RMSE"
   ]
  },
  {
   "cell_type": "code",
   "execution_count": 351,
   "metadata": {},
   "outputs": [
    {
     "name": "stdout",
     "output_type": "stream",
     "text": [
      "10.056597740789623\n"
     ]
    }
   ],
   "source": [
    "from sklearn.metrics import mean_squared_error\n",
    "from math import sqrt\n",
    "\n",
    "rms = sqrt(mean_squared_error(Y_test, Y_predictions))\n",
    "print(rms)\n"
   ]
  }
 ],
 "metadata": {
  "kernelspec": {
   "display_name": "Python 3",
   "language": "python",
   "name": "python3"
  },
  "language_info": {
   "codemirror_mode": {
    "name": "ipython",
    "version": 3
   },
   "file_extension": ".py",
   "mimetype": "text/x-python",
   "name": "python",
   "nbconvert_exporter": "python",
   "pygments_lexer": "ipython3",
   "version": "3.7.1"
  }
 },
 "nbformat": 4,
 "nbformat_minor": 2
}
